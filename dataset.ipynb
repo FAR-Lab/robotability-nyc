{
 "cells": [
  {
   "cell_type": "markdown",
   "metadata": {},
   "source": [
    "# FARLAB - Robotable Streets Project \n",
    "Developer: @mattwfranchi\n",
    "\n",
    "Project Members: Matt Franchi, Maria-Teresa Parreira, Frank Bu, Wendy Ju "
   ]
  },
  {
   "cell_type": "markdown",
   "metadata": {
    "vscode": {
     "languageId": "plaintext"
    }
   },
   "source": [
    "As robots deployments become more common, they will become yet another dancer in the sidewalk ballet. Within urban mapping, transit mobility and walkability scores have emerged as a way to measure the quality of a city's infrastructure for a specific medium of traffic. However, there is no such metric for robots! Here, we aim to envision what a 'robotability' score might look like, and how it might be used to inform urban planning and policy. "
   ]
  },
  {
   "cell_type": "markdown",
   "metadata": {},
   "source": [
    "We utilize the following data features in computing a *robotability score*: \n",
    "- Sidewalk width \n",
    "- Sidewalk quality proxied by 311 complaints \n",
    "- Pedestrian density, computed via aggregated dashcam data\n",
    "- Sidewalk material (concrete, asphalt, cobblestone, etc.) \n",
    "- Connectivity: cellular coverage, WiFi availbility, IoT network coverage, and GPS coverage \n",
    "- Elevation change from beginning to end of road segment \n",
    "- Solar radiation levels, for potential solar charging and for potential overheating. \n",
    "- Proximity to hypothetical charging stations \n",
    "- Grating on sidewalk (ie in NYC, the subway grates) that might be problematic for robots to navigate \n",
    "- Snow buildup \n",
    "- Local attitudes towards robots \n",
    "- Average illegal parking levels, ie cars parked on sidewalks \n",
    "- Shade / shadows \n",
    "- Overhead covering (scaffolding, awnings, etc., in the case of non-waterproof bots)\n",
    "- Zoning. My hypothesis: robots are more acceptable in commercial-zoned areas, and less acceptable in majority-residential zoned areas. \n",
    "\n",
    "### Other Things to Lock In (4/25/24): \n",
    "- Study period. Some of this data (311 complaints, pedestrian densities, etc., should be constrained within a time range. **Limitation: we don't have new, free dashcam data presently**)\n",
    "\n"
   ]
  },
  {
   "cell_type": "markdown",
   "metadata": {},
   "source": []
  },
  {
   "cell_type": "code",
   "execution_count": 64,
   "metadata": {},
   "outputs": [
    {
     "name": "stderr",
     "output_type": "stream",
     "text": [
      "\u001b[34m2024-08-20 18:16:53 - robotability-score - INFO - Modules initialized.\u001b[0m\n"
     ]
    }
   ],
   "source": [
    "# class RobotabilityGraph that inherits from Graph class \n",
    "import os\n",
    "import sys \n",
    "sys.path.append(\"/share/ju/urban-fingerprinting\")\n",
    "\n",
    "import osmnx as ox \n",
    "import geopandas as gpd \n",
    "import pandas as pd \n",
    "import numpy as np \n",
    "\n",
    "import matplotlib.pyplot as plt \n",
    "# enable latex plotting \n",
    "plt.rc('text', usetex=True)\n",
    "plt.rc('font', family='serif')\n",
    "\n",
    "from glob import glob \n",
    "from tqdm import tqdm \n",
    "\n",
    "from shapely import wkt, LineString \n",
    "\n",
    "import rasterio\n",
    "from rasterio.enums import Resampling\n",
    "from rasterio.plot import show \n",
    "\n",
    "\n",
    "from src.utils.logger import setup_logger \n",
    "\n",
    "logger = setup_logger('robotability-score')\n",
    "logger.setLevel(\"INFO\")\n",
    "logger.info(\"Modules initialized.\")\n",
    "\n",
    "WGS='EPSG:4326'\n",
    "PROJ='EPSG:2263'\n",
    "\n",
    "REGEN_SEGMENTIZATION=True\n",
    "REGEN_TOPOLOGY=True\n",
    "\n",
    "GEN_INSPECTION_PLOTS=True\n",
    "INSPECTION_PLOTS=\"figures/inspection_plots\"\n",
    "\n",
    "os.makedirs(INSPECTION_PLOTS, exist_ok=True)\n"
   ]
  },
  {
   "cell_type": "markdown",
   "metadata": {},
   "source": [
    "## Loading and Preprocessing Data Features "
   ]
  },
  {
   "cell_type": "markdown",
   "metadata": {},
   "source": [
    "### Neighborhood Tabulation Areas (NYC)"
   ]
  },
  {
   "cell_type": "code",
   "execution_count": 65,
   "metadata": {},
   "outputs": [
    {
     "name": "stderr",
     "output_type": "stream",
     "text": [
      "\u001b[32m2024-08-20 18:16:53 - robotability-score - SUCCESS - NTAs loaded.\u001b[0m\n"
     ]
    }
   ],
   "source": [
    "# Load the Neighborhood Tabulation Areas (NTAs) dataset \n",
    "ntas_nyc = pd.read_csv(\"data/ntas_nyc.csv\")\n",
    "ntas_nyc = gpd.GeoDataFrame(ntas_nyc, geometry=wkt.loads(ntas_nyc['the_geom']), crs=WGS).to_crs(PROJ)\n",
    "\n",
    "# Remove redundant columns \n",
    "TO_DROP = ['BoroCode','CountyFIPS','NTA2020','NTAAbbrev','CDTA2020','CDTAName']\n",
    "ntas_nyc = ntas_nyc.drop(columns=TO_DROP)\n",
    "\n",
    "logger.success(\"NTAs loaded.\")"
   ]
  },
  {
   "cell_type": "markdown",
   "metadata": {},
   "source": [
    "### Census Blocks (NYC)"
   ]
  },
  {
   "cell_type": "code",
   "execution_count": 66,
   "metadata": {},
   "outputs": [
    {
     "name": "stderr",
     "output_type": "stream",
     "text": [
      "\u001b[32m2024-08-20 18:16:58 - robotability-score - SUCCESS - Census Blocks loaded.\u001b[0m\n"
     ]
    }
   ],
   "source": [
    "cbs_nyc = gpd.read_file(\"data/nycb2020_24c/nycb2020.shp\")\n",
    "\n",
    "TO_DROP = ['BoroCode', 'CT2020', 'BCTCB2020']\n",
    "\n",
    "cbs_nyc = cbs_nyc.drop(columns=TO_DROP)\n",
    "cbs_nyc = cbs_nyc.to_crs(PROJ)\n",
    "\n",
    "logger.success(\"Census Blocks loaded.\")"
   ]
  },
  {
   "cell_type": "markdown",
   "metadata": {},
   "source": [
    "### Sidewalk Basemap (NYC)"
   ]
  },
  {
   "cell_type": "code",
   "execution_count": 67,
   "metadata": {},
   "outputs": [],
   "source": [
    "# Load the NYC sidewalk basemap \n",
    "sidewalk_nyc = pd.read_csv(\"data/sidewalks_nyc.csv\")\n",
    "sidewalk_nyc = gpd.GeoDataFrame(sidewalk_nyc, geometry=wkt.loads(sidewalk_nyc['the_geom']), crs=WGS).to_crs(PROJ)"
   ]
  },
  {
   "cell_type": "code",
   "execution_count": 68,
   "metadata": {},
   "outputs": [
    {
     "name": "stderr",
     "output_type": "stream",
     "text": [
      "\u001b[32m2024-08-20 18:18:28 - robotability-score - SUCCESS - Segmentized sidewalk basemap written to disk.\u001b[0m\n",
      "\u001b[32m2024-08-20 18:18:29 - robotability-score - SUCCESS - NYC sidewalk basemap loaded.\u001b[0m\n",
      "\u001b[34m2024-08-20 18:18:29 - robotability-score - INFO - Distribution of sidewalk widths [ft]: \n",
      "count    2.551240e+06\n",
      "mean     5.373545e+00\n",
      "std      1.480783e+00\n",
      "min      2.710948e-01\n",
      "25%      4.458703e+00\n",
      "50%      5.149090e+00\n",
      "75%      6.177234e+00\n",
      "max      4.021491e+01\n",
      "Name: SHAPE_Width, dtype: float64\u001b[0m\n"
     ]
    }
   ],
   "source": [
    "# Take out features we don't need, and add a width column \n",
    "TO_DROP = ['SUB_CODE', 'FEAT_CODE', 'STATUS', 'the_geom']\n",
    "sidewalk_nyc = sidewalk_nyc.drop(columns=TO_DROP)\n",
    "sidewalk_nyc['SHAPE_Width'] = sidewalk_nyc['SHAPE_Area'] / sidewalk_nyc['SHAPE_Leng']\n",
    "\n",
    "# Simplify \n",
    "sidewalk_nyc['geometry'] = sidewalk_nyc['geometry'].simplify(10)\n",
    "\n",
    "# write to disk \n",
    "if REGEN_SEGMENTIZATION:\n",
    "    # segmentize \n",
    "    segmentized = sidewalk_nyc.segmentize(50).extract_unique_points().explode(index_parts=True)\n",
    "\n",
    "    segmentized = gpd.GeoDataFrame(segmentized).reset_index() \n",
    "\n",
    "    segmentized = segmentized.merge(sidewalk_nyc,left_on='level_0',right_index=True).drop(columns=['level_0','level_1','geometry'])\n",
    "    segmentized['geometry'] = segmentized.iloc[:,0]\n",
    "    segmentized.drop(segmentized.columns[0],axis=1, inplace=True)\n",
    "    segmentized = gpd.GeoDataFrame(segmentized, crs=PROJ)\n",
    "\n",
    "    # random id for each point in 'point_index' column \n",
    "    segmentized['point_index'] = segmentized.index\n",
    "\n",
    "    segmentized.to_csv(\"data/sidewalks_nyc_segmentized.csv\")\n",
    "    logger.success(\"Segmentized sidewalk basemap written to disk.\")\n",
    "\n",
    "else: \n",
    "    segmentized = pd.read_csv(\"data/sidewalks_nyc_segmentized.csv\")\n",
    "    segmentized = gpd.GeoDataFrame(segmentized, geometry=wkt.loads(segmentized['geometry']), crs=PROJ)\n",
    "    logger.info(\"Segmentized sidewalk basemap loaded.\")\n",
    "\n",
    "\n",
    "sidewalk_nyc = segmentized\n",
    "\n",
    "logger.success(\"NYC sidewalk basemap loaded.\")\n",
    "logger.info(f\"Distribution of sidewalk widths [ft]: \\n{sidewalk_nyc['SHAPE_Width'].describe()}\")"
   ]
  },
  {
   "cell_type": "code",
   "execution_count": 69,
   "metadata": {},
   "outputs": [],
   "source": [
    "if GEN_INSPECTION_PLOTS:\n",
    "    fig, ax = plt.subplots(1,1,figsize=(10,10))\n",
    "\n",
    "    ntas_nyc.plot(ax=ax, color='lightgrey', edgecolor='black', alpha=0.5)\n",
    "    sidewalk_nyc.sample(frac=0.1).plot(ax=ax, color='black', alpha=0.5, markersize=0.5)\n",
    "\n",
    "    plt.title(\"NYC Sidewalk Basemap\")\n",
    "    plt.axis('off')\n",
    "    plt.tight_layout()\n",
    "    plt.savefig(f\"{INSPECTION_PLOTS}/nyc_sidewalk_basemap.png\")\n",
    "    plt.close()"
   ]
  },
  {
   "cell_type": "markdown",
   "metadata": {},
   "source": [
    "###  Topology "
   ]
  },
  {
   "cell_type": "code",
   "execution_count": 70,
   "metadata": {},
   "outputs": [],
   "source": [
    "TOPOGRAPHY_NYC = \"data/1ft_dem_nyc/DEM_LiDAR_1ft_2010_Improved_NYC_int.tif\"\n",
    "\n",
    "downsample_factor = 10\n",
    "\n",
    "# Open the raster\n",
    "with rasterio.open(TOPOGRAPHY_NYC) as src:\n",
    "    # Calculate new transform and dimensions\n",
    "    new_transform = src.transform * src.transform.scale(\n",
    "        downsample_factor,\n",
    "        downsample_factor\n",
    "    )\n",
    "    new_width = src.width // downsample_factor\n",
    "    new_height = src.height // downsample_factor\n",
    "    \n",
    "    # Resample the raster\n",
    "    topology = src.read(\n",
    "        out_shape=(src.count, new_height, new_width),\n",
    "        resampling=Resampling.bilinear\n",
    "    )\n",
    "\n",
    "    # Create a new rasterio-like object with updated metadata\n",
    "    new_meta = src.meta.copy()\n",
    "    new_meta.update({\n",
    "        \"driver\": \"GTiff\",\n",
    "        \"height\": new_height,\n",
    "        \"width\": new_width,\n",
    "        \"transform\": new_transform\n",
    "    })\n",
    "\n",
    "    # Write the new raster to disk\n",
    "    if REGEN_TOPOLOGY: \n",
    "        with rasterio.open(\"data/1ft_dem_nyc/downsampled_topography.tif\", \"w\", **new_meta) as dst:\n",
    "            dst.write(topology)\n",
    "\n"
   ]
  },
  {
   "cell_type": "code",
   "execution_count": 71,
   "metadata": {},
   "outputs": [],
   "source": [
    "# plot topology \n",
    "if GEN_INSPECTION_PLOTS:\n",
    "    fig, ax = plt.subplots(figsize=(10, 10))\n",
    "    fig.suptitle(r\"\\bf Elevation in New York City\", fontsize=20)\n",
    "\n",
    "    # elevation is a 2D array, so we can plot it directly\n",
    "    show(topology, ax=ax, cmap='terrain', transform=new_transform, )\n",
    "    #nyc_ct.plot(ax=ax, facecolor='white', edgecolor='black', linewidth=0.5, alpha=0.25)\n",
    "\n",
    "    ax.set_axis_off()\n",
    "    plt.savefig(f\"{INSPECTION_PLOTS}/topology_nyc.png\", dpi=300)\n",
    "    plt.close()"
   ]
  },
  {
   "cell_type": "code",
   "execution_count": 72,
   "metadata": {},
   "outputs": [
    {
     "name": "stderr",
     "output_type": "stream",
     "text": [
      "Processing Elevations: 100%|██████████| 2552/2552 [01:01<00:00, 41.23it/s]\n"
     ]
    }
   ],
   "source": [
    "import rasterio\n",
    "from itertools import islice\n",
    "from tqdm import tqdm\n",
    "\n",
    "def chunked_iterable(iterable, size):\n",
    "    \"\"\"Yield successive n-sized chunks from the iterable.\"\"\"\n",
    "    it = iter(iterable)\n",
    "    while chunk := list(islice(it, size)):\n",
    "        yield chunk\n",
    "\n",
    "# Get elevation at proj_x, proj_y\n",
    "sampled_elevations = []\n",
    "chunk_size = 1000\n",
    "\n",
    "with rasterio.open(\"data/1ft_dem_nyc/downsampled_topography.tif\") as src:\n",
    "    # Generate iterable of (x, y) tuples from proj_x and proj_y columns\n",
    "    xy = zip(sidewalk_nyc.geometry.x, sidewalk_nyc.geometry.y)\n",
    "    total_points = len(sidewalk_nyc)\n",
    "\n",
    "    # Process in chunks with progress bar\n",
    "    for chunk in tqdm(chunked_iterable(xy, chunk_size), total=(total_points // chunk_size) + 1, desc=\"Processing Elevations\"):\n",
    "        chunk_elevations = rasterio.sample.sample_gen(src, chunk)\n",
    "        sampled_elevations.extend(list(chunk_elevations))\n",
    "\n",
    "# Convert sampled elevations to a list and add to the DataFrame\n",
    "sidewalk_nyc['ft_above_sea'] = list(map(lambda x: x[0], sampled_elevations))"
   ]
  },
  {
   "cell_type": "code",
   "execution_count": 73,
   "metadata": {},
   "outputs": [
    {
     "data": {
      "text/plain": [
       "count    2.551240e+06\n",
       "mean     5.448644e+01\n",
       "std      4.528127e+01\n",
       "min      0.000000e+00\n",
       "25%      2.100000e+01\n",
       "50%      4.200000e+01\n",
       "75%      7.400000e+01\n",
       "max      3.920000e+02\n",
       "Name: ft_above_sea, dtype: float64"
      ]
     },
     "execution_count": 73,
     "metadata": {},
     "output_type": "execute_result"
    }
   ],
   "source": [
    "sidewalk_nyc['ft_above_sea'].describe() "
   ]
  },
  {
   "cell_type": "markdown",
   "metadata": {},
   "source": [
    "### Satellite Availability "
   ]
  },
  {
   "cell_type": "code",
   "execution_count": 74,
   "metadata": {},
   "outputs": [],
   "source": [
    "gso_satellite = pd.read_csv(\"data/bdc_36_GSOSatellite_fixed_broadband_D23_06aug2024.csv\", engine='pyarrow')\n",
    "\n",
    "gso_satellite['block_geoid'] = gso_satellite['block_geoid'].astype(str)"
   ]
  },
  {
   "cell_type": "code",
   "execution_count": 75,
   "metadata": {},
   "outputs": [
    {
     "name": "stderr",
     "output_type": "stream",
     "text": [
      "\u001b[34m2024-08-20 18:20:17 - robotability-score - INFO - GSOSatellite data merged with Census Blocks. \n",
      "None\u001b[0m\n"
     ]
    },
    {
     "name": "stdout",
     "output_type": "stream",
     "text": [
      "<class 'geopandas.geodataframe.GeoDataFrame'>\n",
      "RangeIndex: 2470523 entries, 0 to 2470522\n",
      "Data columns (total 18 columns):\n",
      " #   Column                         Dtype   \n",
      "---  ------                         -----   \n",
      " 0   CB2020                         object  \n",
      " 1   BoroName                       object  \n",
      " 2   GEOID                          object  \n",
      " 3   Shape_Leng                     float64 \n",
      " 4   Shape_Area                     float64 \n",
      " 5   geometry                       geometry\n",
      " 6   frn                            float64 \n",
      " 7   provider_id                    float64 \n",
      " 8   brand_name                     object  \n",
      " 9   location_id                    float64 \n",
      " 10  technology                     float64 \n",
      " 11  max_advertised_download_speed  float64 \n",
      " 12  max_advertised_upload_speed    float64 \n",
      " 13  low_latency                    float64 \n",
      " 14  business_residential_code      object  \n",
      " 15  state_usps                     object  \n",
      " 16  block_geoid                    object  \n",
      " 17  h3_res8_id                     object  \n",
      "dtypes: float64(9), geometry(1), object(8)\n",
      "memory usage: 339.3+ MB\n"
     ]
    }
   ],
   "source": [
    "# merge gso_satellite with cbs_nyc \n",
    "gso_satellite = cbs_nyc.merge(gso_satellite, right_on='block_geoid', left_on='GEOID', how='left')\n",
    "gso_satellite = gpd.GeoDataFrame(gso_satellite, crs=PROJ)\n",
    "logger.info(f\"GSOSatellite data merged with Census Blocks. \\n{gso_satellite.info()}\")"
   ]
  },
  {
   "cell_type": "code",
   "execution_count": 76,
   "metadata": {},
   "outputs": [
    {
     "name": "stderr",
     "output_type": "stream",
     "text": [
      "\u001b[34m2024-08-20 18:20:21 - robotability-score - INFO - NSGOSatellite data merged with Census Blocks. \n",
      "None\u001b[0m\n"
     ]
    },
    {
     "name": "stdout",
     "output_type": "stream",
     "text": [
      "<class 'geopandas.geodataframe.GeoDataFrame'>\n",
      "RangeIndex: 826917 entries, 0 to 826916\n",
      "Data columns (total 18 columns):\n",
      " #   Column                         Non-Null Count   Dtype   \n",
      "---  ------                         --------------   -----   \n",
      " 0   CB2020                         826917 non-null  object  \n",
      " 1   BoroName                       826917 non-null  object  \n",
      " 2   GEOID                          826917 non-null  object  \n",
      " 3   Shape_Leng                     826917 non-null  float64 \n",
      " 4   Shape_Area                     826917 non-null  float64 \n",
      " 5   geometry                       826917 non-null  geometry\n",
      " 6   frn                            821993 non-null  float64 \n",
      " 7   provider_id                    821993 non-null  float64 \n",
      " 8   brand_name                     821993 non-null  object  \n",
      " 9   location_id                    821993 non-null  float64 \n",
      " 10  technology                     821993 non-null  float64 \n",
      " 11  max_advertised_download_speed  821993 non-null  float64 \n",
      " 12  max_advertised_upload_speed    821993 non-null  float64 \n",
      " 13  low_latency                    821993 non-null  float64 \n",
      " 14  business_residential_code      821993 non-null  object  \n",
      " 15  state_usps                     821993 non-null  object  \n",
      " 16  block_geoid                    821993 non-null  object  \n",
      " 17  h3_res8_id                     821993 non-null  object  \n",
      "dtypes: float64(9), geometry(1), object(8)\n",
      "memory usage: 113.6+ MB\n"
     ]
    }
   ],
   "source": [
    "ngso_satellite = pd.read_csv(\"data/bdc_36_NGSOSatellite_fixed_broadband_D23_06aug2024.csv\", engine='pyarrow')\n",
    "ngso_satellite['block_geoid'] = ngso_satellite['block_geoid'].astype(str)\n",
    "\n",
    "# merge ngso_satellite with cbs_nyc\n",
    "ngso_satellite = cbs_nyc.merge(ngso_satellite, right_on='block_geoid', left_on='GEOID', how='left')\n",
    "ngso_satellite = gpd.GeoDataFrame(ngso_satellite, crs=PROJ)\n",
    "logger.info(f\"NSGOSatellite data merged with Census Blocks. \\n{ngso_satellite.info()}\")"
   ]
  },
  {
   "cell_type": "markdown",
   "metadata": {},
   "source": [
    "### Surveillance Cameras "
   ]
  },
  {
   "cell_type": "code",
   "execution_count": 77,
   "metadata": {},
   "outputs": [
    {
     "name": "stderr",
     "output_type": "stream",
     "text": [
      "/tmp/ipykernel_2100359/4147868696.py:1: DtypeWarning: Columns (9) have mixed types. Specify dtype option on import or set low_memory=False.\n",
      "  surveillance_cameras = pd.read_csv(\"data/surveillance_cameras/data/cameras_2015-2021.csv\")\n"
     ]
    },
    {
     "data": {
      "text/html": [
       "<div>\n",
       "<style scoped>\n",
       "    .dataframe tbody tr th:only-of-type {\n",
       "        vertical-align: middle;\n",
       "    }\n",
       "\n",
       "    .dataframe tbody tr th {\n",
       "        vertical-align: top;\n",
       "    }\n",
       "\n",
       "    .dataframe thead th {\n",
       "        text-align: right;\n",
       "    }\n",
       "</style>\n",
       "<table border=\"1\" class=\"dataframe\">\n",
       "  <thead>\n",
       "    <tr style=\"text-align: right;\">\n",
       "      <th></th>\n",
       "      <th>panoid</th>\n",
       "      <th>heading</th>\n",
       "      <th>lat</th>\n",
       "      <th>lon</th>\n",
       "      <th>city</th>\n",
       "      <th>year</th>\n",
       "      <th>month</th>\n",
       "      <th>distance</th>\n",
       "      <th>camera_count</th>\n",
       "      <th>zone_type</th>\n",
       "    </tr>\n",
       "  </thead>\n",
       "  <tbody>\n",
       "    <tr>\n",
       "      <th>4152</th>\n",
       "      <td>qbafD92lLAk_SRn2GErWkg</td>\n",
       "      <td>84</td>\n",
       "      <td>40.549514</td>\n",
       "      <td>-74.151841</td>\n",
       "      <td>New York</td>\n",
       "      <td>2018</td>\n",
       "      <td>7</td>\n",
       "      <td>4.905160</td>\n",
       "      <td>1</td>\n",
       "      <td>commercial</td>\n",
       "    </tr>\n",
       "    <tr>\n",
       "      <th>4298</th>\n",
       "      <td>YaZUN1_WQa2mt6ZHU8f0IA</td>\n",
       "      <td>145</td>\n",
       "      <td>40.550640</td>\n",
       "      <td>-74.197978</td>\n",
       "      <td>New York</td>\n",
       "      <td>2018</td>\n",
       "      <td>8</td>\n",
       "      <td>2.886381</td>\n",
       "      <td>1</td>\n",
       "      <td>residential</td>\n",
       "    </tr>\n",
       "    <tr>\n",
       "      <th>5835</th>\n",
       "      <td>2Rh9tnnR1KrW1Xjk20zRlg</td>\n",
       "      <td>215</td>\n",
       "      <td>40.562025</td>\n",
       "      <td>-74.101158</td>\n",
       "      <td>New York</td>\n",
       "      <td>2018</td>\n",
       "      <td>6</td>\n",
       "      <td>13.419243</td>\n",
       "      <td>1</td>\n",
       "      <td>residential</td>\n",
       "    </tr>\n",
       "    <tr>\n",
       "      <th>6481</th>\n",
       "      <td>0jNVCy-Er4yEhGr5oBwNkw</td>\n",
       "      <td>31</td>\n",
       "      <td>40.568562</td>\n",
       "      <td>-74.106132</td>\n",
       "      <td>New York</td>\n",
       "      <td>2017</td>\n",
       "      <td>7</td>\n",
       "      <td>4.582663</td>\n",
       "      <td>1</td>\n",
       "      <td>residential</td>\n",
       "    </tr>\n",
       "    <tr>\n",
       "      <th>7335</th>\n",
       "      <td>rt7iOq7usJr3YM3huiCY1g</td>\n",
       "      <td>212</td>\n",
       "      <td>40.575047</td>\n",
       "      <td>-74.165660</td>\n",
       "      <td>New York</td>\n",
       "      <td>2015</td>\n",
       "      <td>9</td>\n",
       "      <td>7.510337</td>\n",
       "      <td>1</td>\n",
       "      <td>commercial</td>\n",
       "    </tr>\n",
       "    <tr>\n",
       "      <th>...</th>\n",
       "      <td>...</td>\n",
       "      <td>...</td>\n",
       "      <td>...</td>\n",
       "      <td>...</td>\n",
       "      <td>...</td>\n",
       "      <td>...</td>\n",
       "      <td>...</td>\n",
       "      <td>...</td>\n",
       "      <td>...</td>\n",
       "      <td>...</td>\n",
       "    </tr>\n",
       "    <tr>\n",
       "      <th>98816</th>\n",
       "      <td>dspn02Xm1hsWuvUNi_JDoA</td>\n",
       "      <td>115</td>\n",
       "      <td>40.890967</td>\n",
       "      <td>-73.828891</td>\n",
       "      <td>New York</td>\n",
       "      <td>2018</td>\n",
       "      <td>8</td>\n",
       "      <td>3.015696</td>\n",
       "      <td>1</td>\n",
       "      <td>residential</td>\n",
       "    </tr>\n",
       "    <tr>\n",
       "      <th>99023</th>\n",
       "      <td>KDtTu6amyjs-VaMRwBnoDg</td>\n",
       "      <td>202</td>\n",
       "      <td>40.893688</td>\n",
       "      <td>-73.860541</td>\n",
       "      <td>New York</td>\n",
       "      <td>2016</td>\n",
       "      <td>7</td>\n",
       "      <td>4.943950</td>\n",
       "      <td>1</td>\n",
       "      <td>residential</td>\n",
       "    </tr>\n",
       "    <tr>\n",
       "      <th>99028</th>\n",
       "      <td>YUU9BMH1B_cinU2UWSlWXQ</td>\n",
       "      <td>203</td>\n",
       "      <td>40.893713</td>\n",
       "      <td>-73.858487</td>\n",
       "      <td>New York</td>\n",
       "      <td>2016</td>\n",
       "      <td>7</td>\n",
       "      <td>5.639436</td>\n",
       "      <td>1</td>\n",
       "      <td>residential</td>\n",
       "    </tr>\n",
       "    <tr>\n",
       "      <th>99364</th>\n",
       "      <td>ejcY-mgRFhaooy5h_4rzRw</td>\n",
       "      <td>352</td>\n",
       "      <td>40.898056</td>\n",
       "      <td>-73.862961</td>\n",
       "      <td>New York</td>\n",
       "      <td>2016</td>\n",
       "      <td>7</td>\n",
       "      <td>11.193857</td>\n",
       "      <td>1</td>\n",
       "      <td>residential</td>\n",
       "    </tr>\n",
       "    <tr>\n",
       "      <th>99420</th>\n",
       "      <td>IGL8LK8HLDjDeub7PYjjyQ</td>\n",
       "      <td>117</td>\n",
       "      <td>40.898963</td>\n",
       "      <td>-73.856363</td>\n",
       "      <td>New York</td>\n",
       "      <td>2016</td>\n",
       "      <td>6</td>\n",
       "      <td>1.487688</td>\n",
       "      <td>1</td>\n",
       "      <td>residential</td>\n",
       "    </tr>\n",
       "  </tbody>\n",
       "</table>\n",
       "<p>511 rows × 10 columns</p>\n",
       "</div>"
      ],
      "text/plain": [
       "                       panoid  heading        lat        lon      city  year  \\\n",
       "4152   qbafD92lLAk_SRn2GErWkg       84  40.549514 -74.151841  New York  2018   \n",
       "4298   YaZUN1_WQa2mt6ZHU8f0IA      145  40.550640 -74.197978  New York  2018   \n",
       "5835   2Rh9tnnR1KrW1Xjk20zRlg      215  40.562025 -74.101158  New York  2018   \n",
       "6481   0jNVCy-Er4yEhGr5oBwNkw       31  40.568562 -74.106132  New York  2017   \n",
       "7335   rt7iOq7usJr3YM3huiCY1g      212  40.575047 -74.165660  New York  2015   \n",
       "...                       ...      ...        ...        ...       ...   ...   \n",
       "98816  dspn02Xm1hsWuvUNi_JDoA      115  40.890967 -73.828891  New York  2018   \n",
       "99023  KDtTu6amyjs-VaMRwBnoDg      202  40.893688 -73.860541  New York  2016   \n",
       "99028  YUU9BMH1B_cinU2UWSlWXQ      203  40.893713 -73.858487  New York  2016   \n",
       "99364  ejcY-mgRFhaooy5h_4rzRw      352  40.898056 -73.862961  New York  2016   \n",
       "99420  IGL8LK8HLDjDeub7PYjjyQ      117  40.898963 -73.856363  New York  2016   \n",
       "\n",
       "       month   distance  camera_count    zone_type  \n",
       "4152       7   4.905160             1   commercial  \n",
       "4298       8   2.886381             1  residential  \n",
       "5835       6  13.419243             1  residential  \n",
       "6481       7   4.582663             1  residential  \n",
       "7335       9   7.510337             1   commercial  \n",
       "...      ...        ...           ...          ...  \n",
       "98816      8   3.015696             1  residential  \n",
       "99023      7   4.943950             1  residential  \n",
       "99028      7   5.639436             1  residential  \n",
       "99364      7  11.193857             1  residential  \n",
       "99420      6   1.487688             1  residential  \n",
       "\n",
       "[511 rows x 10 columns]"
      ]
     },
     "execution_count": 77,
     "metadata": {},
     "output_type": "execute_result"
    }
   ],
   "source": [
    "surveillance_cameras = pd.read_csv(\"data/surveillance_cameras/data/cameras_2015-2021.csv\")\n",
    "surveillance_cameras = surveillance_cameras[surveillance_cameras['city'] == 'New York']\n",
    "surveillance_cameras = surveillance_cameras[surveillance_cameras['camera_count'] > 0]\n",
    "surveillance_cameras "
   ]
  },
  {
   "cell_type": "markdown",
   "metadata": {
    "vscode": {
     "languageId": "bat"
    }
   },
   "source": [
    "### Street Furniture "
   ]
  },
  {
   "cell_type": "code",
   "execution_count": 78,
   "metadata": {},
   "outputs": [
    {
     "name": "stderr",
     "output_type": "stream",
     "text": [
      "\u001b[32m2024-08-20 18:20:39 - robotability-score - SUCCESS - Street furniture density data loaded.\u001b[0m\n"
     ]
    }
   ],
   "source": [
    "street_furniture_nyc = pd.read_csv(\"data/processed/street_furniture_density.csv\", engine='pyarrow')\n",
    "\n",
    "logger.success(\"Street furniture density data loaded.\")"
   ]
  },
  {
   "cell_type": "code",
   "execution_count": 79,
   "metadata": {},
   "outputs": [
    {
     "data": {
      "text/html": [
       "<div>\n",
       "<style scoped>\n",
       "    .dataframe tbody tr th:only-of-type {\n",
       "        vertical-align: middle;\n",
       "    }\n",
       "\n",
       "    .dataframe tbody tr th {\n",
       "        vertical-align: top;\n",
       "    }\n",
       "\n",
       "    .dataframe thead th {\n",
       "        text-align: right;\n",
       "    }\n",
       "</style>\n",
       "<table border=\"1\" class=\"dataframe\">\n",
       "  <thead>\n",
       "    <tr style=\"text-align: right;\">\n",
       "      <th></th>\n",
       "      <th>SOURCE_ID</th>\n",
       "      <th>SHAPE_Leng</th>\n",
       "      <th>SHAPE_Area</th>\n",
       "      <th>SHAPE_Width</th>\n",
       "      <th>geometry</th>\n",
       "      <th>point_index</th>\n",
       "      <th>ft_above_sea</th>\n",
       "    </tr>\n",
       "  </thead>\n",
       "  <tbody>\n",
       "    <tr>\n",
       "      <th>0</th>\n",
       "      <td>2380000336</td>\n",
       "      <td>3504.153579</td>\n",
       "      <td>19782.066985</td>\n",
       "      <td>5.645320</td>\n",
       "      <td>POINT (1000940.908 165223.488)</td>\n",
       "      <td>0</td>\n",
       "      <td>19</td>\n",
       "    </tr>\n",
       "    <tr>\n",
       "      <th>1</th>\n",
       "      <td>2380000336</td>\n",
       "      <td>3504.153579</td>\n",
       "      <td>19782.066985</td>\n",
       "      <td>5.645320</td>\n",
       "      <td>POINT (1000948.337 165175.884)</td>\n",
       "      <td>1</td>\n",
       "      <td>20</td>\n",
       "    </tr>\n",
       "    <tr>\n",
       "      <th>2</th>\n",
       "      <td>2380000336</td>\n",
       "      <td>3504.153579</td>\n",
       "      <td>19782.066985</td>\n",
       "      <td>5.645320</td>\n",
       "      <td>POINT (1000955.765 165128.280)</td>\n",
       "      <td>2</td>\n",
       "      <td>20</td>\n",
       "    </tr>\n",
       "    <tr>\n",
       "      <th>3</th>\n",
       "      <td>2380000336</td>\n",
       "      <td>3504.153579</td>\n",
       "      <td>19782.066985</td>\n",
       "      <td>5.645320</td>\n",
       "      <td>POINT (1000963.194 165080.677)</td>\n",
       "      <td>3</td>\n",
       "      <td>19</td>\n",
       "    </tr>\n",
       "    <tr>\n",
       "      <th>4</th>\n",
       "      <td>2380000336</td>\n",
       "      <td>3504.153579</td>\n",
       "      <td>19782.066985</td>\n",
       "      <td>5.645320</td>\n",
       "      <td>POINT (1000970.623 165033.073)</td>\n",
       "      <td>4</td>\n",
       "      <td>20</td>\n",
       "    </tr>\n",
       "    <tr>\n",
       "      <th>...</th>\n",
       "      <td>...</td>\n",
       "      <td>...</td>\n",
       "      <td>...</td>\n",
       "      <td>...</td>\n",
       "      <td>...</td>\n",
       "      <td>...</td>\n",
       "      <td>...</td>\n",
       "    </tr>\n",
       "    <tr>\n",
       "      <th>2551235</th>\n",
       "      <td>9380001047</td>\n",
       "      <td>1301.694419</td>\n",
       "      <td>6017.456186</td>\n",
       "      <td>4.622787</td>\n",
       "      <td>POINT (1014594.110 215122.926)</td>\n",
       "      <td>2551235</td>\n",
       "      <td>35</td>\n",
       "    </tr>\n",
       "    <tr>\n",
       "      <th>2551236</th>\n",
       "      <td>9380001047</td>\n",
       "      <td>1301.694419</td>\n",
       "      <td>6017.456186</td>\n",
       "      <td>4.622787</td>\n",
       "      <td>POINT (1014546.572 215118.217)</td>\n",
       "      <td>2551236</td>\n",
       "      <td>34</td>\n",
       "    </tr>\n",
       "    <tr>\n",
       "      <th>2551237</th>\n",
       "      <td>9380001047</td>\n",
       "      <td>1301.694419</td>\n",
       "      <td>6017.456186</td>\n",
       "      <td>4.622787</td>\n",
       "      <td>POINT (1014499.033 215113.507)</td>\n",
       "      <td>2551237</td>\n",
       "      <td>33</td>\n",
       "    </tr>\n",
       "    <tr>\n",
       "      <th>2551238</th>\n",
       "      <td>9380001047</td>\n",
       "      <td>1301.694419</td>\n",
       "      <td>6017.456186</td>\n",
       "      <td>4.622787</td>\n",
       "      <td>POINT (1014497.550 215124.242)</td>\n",
       "      <td>2551238</td>\n",
       "      <td>33</td>\n",
       "    </tr>\n",
       "    <tr>\n",
       "      <th>2551239</th>\n",
       "      <td>9380001047</td>\n",
       "      <td>1301.694419</td>\n",
       "      <td>6017.456186</td>\n",
       "      <td>4.622787</td>\n",
       "      <td>POINT (1014545.117 215130.809)</td>\n",
       "      <td>2551239</td>\n",
       "      <td>34</td>\n",
       "    </tr>\n",
       "  </tbody>\n",
       "</table>\n",
       "<p>2551240 rows × 7 columns</p>\n",
       "</div>"
      ],
      "text/plain": [
       "          SOURCE_ID   SHAPE_Leng    SHAPE_Area  SHAPE_Width  \\\n",
       "0        2380000336  3504.153579  19782.066985     5.645320   \n",
       "1        2380000336  3504.153579  19782.066985     5.645320   \n",
       "2        2380000336  3504.153579  19782.066985     5.645320   \n",
       "3        2380000336  3504.153579  19782.066985     5.645320   \n",
       "4        2380000336  3504.153579  19782.066985     5.645320   \n",
       "...             ...          ...           ...          ...   \n",
       "2551235  9380001047  1301.694419   6017.456186     4.622787   \n",
       "2551236  9380001047  1301.694419   6017.456186     4.622787   \n",
       "2551237  9380001047  1301.694419   6017.456186     4.622787   \n",
       "2551238  9380001047  1301.694419   6017.456186     4.622787   \n",
       "2551239  9380001047  1301.694419   6017.456186     4.622787   \n",
       "\n",
       "                               geometry  point_index  ft_above_sea  \n",
       "0        POINT (1000940.908 165223.488)            0            19  \n",
       "1        POINT (1000948.337 165175.884)            1            20  \n",
       "2        POINT (1000955.765 165128.280)            2            20  \n",
       "3        POINT (1000963.194 165080.677)            3            19  \n",
       "4        POINT (1000970.623 165033.073)            4            20  \n",
       "...                                 ...          ...           ...  \n",
       "2551235  POINT (1014594.110 215122.926)      2551235            35  \n",
       "2551236  POINT (1014546.572 215118.217)      2551236            34  \n",
       "2551237  POINT (1014499.033 215113.507)      2551237            33  \n",
       "2551238  POINT (1014497.550 215124.242)      2551238            33  \n",
       "2551239  POINT (1014545.117 215130.809)      2551239            34  \n",
       "\n",
       "[2551240 rows x 7 columns]"
      ]
     },
     "execution_count": 79,
     "metadata": {},
     "output_type": "execute_result"
    }
   ],
   "source": [
    "sidewalk_nyc "
   ]
  },
  {
   "cell_type": "code",
   "execution_count": 80,
   "metadata": {},
   "outputs": [
    {
     "data": {
      "text/html": [
       "<div>\n",
       "<style scoped>\n",
       "    .dataframe tbody tr th:only-of-type {\n",
       "        vertical-align: middle;\n",
       "    }\n",
       "\n",
       "    .dataframe tbody tr th {\n",
       "        vertical-align: top;\n",
       "    }\n",
       "\n",
       "    .dataframe thead th {\n",
       "        text-align: right;\n",
       "    }\n",
       "</style>\n",
       "<table border=\"1\" class=\"dataframe\">\n",
       "  <thead>\n",
       "    <tr style=\"text-align: right;\">\n",
       "      <th></th>\n",
       "      <th>SOURCE_ID_x</th>\n",
       "      <th>SHAPE_Leng_x</th>\n",
       "      <th>SHAPE_Area_x</th>\n",
       "      <th>SHAPE_Width_x</th>\n",
       "      <th>geometry_x</th>\n",
       "      <th>point_index</th>\n",
       "      <th>ft_above_sea</th>\n",
       "      <th>Unnamed: 0</th>\n",
       "      <th>SOURCE_ID_y</th>\n",
       "      <th>SHAPE_Leng_y</th>\n",
       "      <th>...</th>\n",
       "      <th>citybench_count</th>\n",
       "      <th>bicycle_parking_shelter_count</th>\n",
       "      <th>bicycle_rack_count</th>\n",
       "      <th>tree_count</th>\n",
       "      <th>newsstand_count</th>\n",
       "      <th>parking_meter_count</th>\n",
       "      <th>hydrant_count</th>\n",
       "      <th>street_sign_count</th>\n",
       "      <th>alarm_call_box_count</th>\n",
       "      <th>clutter</th>\n",
       "    </tr>\n",
       "  </thead>\n",
       "  <tbody>\n",
       "    <tr>\n",
       "      <th>0</th>\n",
       "      <td>2380000336</td>\n",
       "      <td>3504.153579</td>\n",
       "      <td>19782.066985</td>\n",
       "      <td>5.645320</td>\n",
       "      <td>POINT (1000940.908 165223.488)</td>\n",
       "      <td>0</td>\n",
       "      <td>19</td>\n",
       "      <td>0.0</td>\n",
       "      <td>2.380000e+09</td>\n",
       "      <td>3504.153579</td>\n",
       "      <td>...</td>\n",
       "      <td>0.0</td>\n",
       "      <td>0.0</td>\n",
       "      <td>0.0</td>\n",
       "      <td>1.0</td>\n",
       "      <td>0.0</td>\n",
       "      <td>0.0</td>\n",
       "      <td>0.0</td>\n",
       "      <td>0.0</td>\n",
       "      <td>0.0</td>\n",
       "      <td>0.026571</td>\n",
       "    </tr>\n",
       "    <tr>\n",
       "      <th>1</th>\n",
       "      <td>2380000336</td>\n",
       "      <td>3504.153579</td>\n",
       "      <td>19782.066985</td>\n",
       "      <td>5.645320</td>\n",
       "      <td>POINT (1000948.337 165175.884)</td>\n",
       "      <td>1</td>\n",
       "      <td>20</td>\n",
       "      <td>1.0</td>\n",
       "      <td>2.380000e+09</td>\n",
       "      <td>3504.153579</td>\n",
       "      <td>...</td>\n",
       "      <td>0.0</td>\n",
       "      <td>0.0</td>\n",
       "      <td>0.0</td>\n",
       "      <td>1.0</td>\n",
       "      <td>0.0</td>\n",
       "      <td>0.0</td>\n",
       "      <td>0.0</td>\n",
       "      <td>0.0</td>\n",
       "      <td>0.0</td>\n",
       "      <td>0.026571</td>\n",
       "    </tr>\n",
       "    <tr>\n",
       "      <th>2</th>\n",
       "      <td>2380000336</td>\n",
       "      <td>3504.153579</td>\n",
       "      <td>19782.066985</td>\n",
       "      <td>5.645320</td>\n",
       "      <td>POINT (1000955.765 165128.280)</td>\n",
       "      <td>2</td>\n",
       "      <td>20</td>\n",
       "      <td>2.0</td>\n",
       "      <td>2.380000e+09</td>\n",
       "      <td>3504.153579</td>\n",
       "      <td>...</td>\n",
       "      <td>0.0</td>\n",
       "      <td>0.0</td>\n",
       "      <td>0.0</td>\n",
       "      <td>0.0</td>\n",
       "      <td>0.0</td>\n",
       "      <td>0.0</td>\n",
       "      <td>0.0</td>\n",
       "      <td>0.0</td>\n",
       "      <td>0.0</td>\n",
       "      <td>0.000000</td>\n",
       "    </tr>\n",
       "    <tr>\n",
       "      <th>3</th>\n",
       "      <td>2380000336</td>\n",
       "      <td>3504.153579</td>\n",
       "      <td>19782.066985</td>\n",
       "      <td>5.645320</td>\n",
       "      <td>POINT (1000963.194 165080.677)</td>\n",
       "      <td>3</td>\n",
       "      <td>19</td>\n",
       "      <td>3.0</td>\n",
       "      <td>2.380000e+09</td>\n",
       "      <td>3504.153579</td>\n",
       "      <td>...</td>\n",
       "      <td>0.0</td>\n",
       "      <td>0.0</td>\n",
       "      <td>0.0</td>\n",
       "      <td>0.0</td>\n",
       "      <td>0.0</td>\n",
       "      <td>0.0</td>\n",
       "      <td>1.0</td>\n",
       "      <td>0.0</td>\n",
       "      <td>0.0</td>\n",
       "      <td>0.044284</td>\n",
       "    </tr>\n",
       "    <tr>\n",
       "      <th>4</th>\n",
       "      <td>2380000336</td>\n",
       "      <td>3504.153579</td>\n",
       "      <td>19782.066985</td>\n",
       "      <td>5.645320</td>\n",
       "      <td>POINT (1000970.623 165033.073)</td>\n",
       "      <td>4</td>\n",
       "      <td>20</td>\n",
       "      <td>4.0</td>\n",
       "      <td>2.380000e+09</td>\n",
       "      <td>3504.153579</td>\n",
       "      <td>...</td>\n",
       "      <td>0.0</td>\n",
       "      <td>0.0</td>\n",
       "      <td>0.0</td>\n",
       "      <td>0.0</td>\n",
       "      <td>0.0</td>\n",
       "      <td>0.0</td>\n",
       "      <td>0.0</td>\n",
       "      <td>0.0</td>\n",
       "      <td>0.0</td>\n",
       "      <td>0.000000</td>\n",
       "    </tr>\n",
       "    <tr>\n",
       "      <th>...</th>\n",
       "      <td>...</td>\n",
       "      <td>...</td>\n",
       "      <td>...</td>\n",
       "      <td>...</td>\n",
       "      <td>...</td>\n",
       "      <td>...</td>\n",
       "      <td>...</td>\n",
       "      <td>...</td>\n",
       "      <td>...</td>\n",
       "      <td>...</td>\n",
       "      <td>...</td>\n",
       "      <td>...</td>\n",
       "      <td>...</td>\n",
       "      <td>...</td>\n",
       "      <td>...</td>\n",
       "      <td>...</td>\n",
       "      <td>...</td>\n",
       "      <td>...</td>\n",
       "      <td>...</td>\n",
       "      <td>...</td>\n",
       "      <td>...</td>\n",
       "    </tr>\n",
       "    <tr>\n",
       "      <th>2551235</th>\n",
       "      <td>9380001047</td>\n",
       "      <td>1301.694419</td>\n",
       "      <td>6017.456186</td>\n",
       "      <td>4.622787</td>\n",
       "      <td>POINT (1014594.110 215122.926)</td>\n",
       "      <td>2551235</td>\n",
       "      <td>35</td>\n",
       "      <td>NaN</td>\n",
       "      <td>NaN</td>\n",
       "      <td>NaN</td>\n",
       "      <td>...</td>\n",
       "      <td>NaN</td>\n",
       "      <td>NaN</td>\n",
       "      <td>NaN</td>\n",
       "      <td>NaN</td>\n",
       "      <td>NaN</td>\n",
       "      <td>NaN</td>\n",
       "      <td>NaN</td>\n",
       "      <td>NaN</td>\n",
       "      <td>NaN</td>\n",
       "      <td>NaN</td>\n",
       "    </tr>\n",
       "    <tr>\n",
       "      <th>2551236</th>\n",
       "      <td>9380001047</td>\n",
       "      <td>1301.694419</td>\n",
       "      <td>6017.456186</td>\n",
       "      <td>4.622787</td>\n",
       "      <td>POINT (1014546.572 215118.217)</td>\n",
       "      <td>2551236</td>\n",
       "      <td>34</td>\n",
       "      <td>NaN</td>\n",
       "      <td>NaN</td>\n",
       "      <td>NaN</td>\n",
       "      <td>...</td>\n",
       "      <td>NaN</td>\n",
       "      <td>NaN</td>\n",
       "      <td>NaN</td>\n",
       "      <td>NaN</td>\n",
       "      <td>NaN</td>\n",
       "      <td>NaN</td>\n",
       "      <td>NaN</td>\n",
       "      <td>NaN</td>\n",
       "      <td>NaN</td>\n",
       "      <td>NaN</td>\n",
       "    </tr>\n",
       "    <tr>\n",
       "      <th>2551237</th>\n",
       "      <td>9380001047</td>\n",
       "      <td>1301.694419</td>\n",
       "      <td>6017.456186</td>\n",
       "      <td>4.622787</td>\n",
       "      <td>POINT (1014499.033 215113.507)</td>\n",
       "      <td>2551237</td>\n",
       "      <td>33</td>\n",
       "      <td>NaN</td>\n",
       "      <td>NaN</td>\n",
       "      <td>NaN</td>\n",
       "      <td>...</td>\n",
       "      <td>NaN</td>\n",
       "      <td>NaN</td>\n",
       "      <td>NaN</td>\n",
       "      <td>NaN</td>\n",
       "      <td>NaN</td>\n",
       "      <td>NaN</td>\n",
       "      <td>NaN</td>\n",
       "      <td>NaN</td>\n",
       "      <td>NaN</td>\n",
       "      <td>NaN</td>\n",
       "    </tr>\n",
       "    <tr>\n",
       "      <th>2551238</th>\n",
       "      <td>9380001047</td>\n",
       "      <td>1301.694419</td>\n",
       "      <td>6017.456186</td>\n",
       "      <td>4.622787</td>\n",
       "      <td>POINT (1014497.550 215124.242)</td>\n",
       "      <td>2551238</td>\n",
       "      <td>33</td>\n",
       "      <td>NaN</td>\n",
       "      <td>NaN</td>\n",
       "      <td>NaN</td>\n",
       "      <td>...</td>\n",
       "      <td>NaN</td>\n",
       "      <td>NaN</td>\n",
       "      <td>NaN</td>\n",
       "      <td>NaN</td>\n",
       "      <td>NaN</td>\n",
       "      <td>NaN</td>\n",
       "      <td>NaN</td>\n",
       "      <td>NaN</td>\n",
       "      <td>NaN</td>\n",
       "      <td>NaN</td>\n",
       "    </tr>\n",
       "    <tr>\n",
       "      <th>2551239</th>\n",
       "      <td>9380001047</td>\n",
       "      <td>1301.694419</td>\n",
       "      <td>6017.456186</td>\n",
       "      <td>4.622787</td>\n",
       "      <td>POINT (1014545.117 215130.809)</td>\n",
       "      <td>2551239</td>\n",
       "      <td>34</td>\n",
       "      <td>NaN</td>\n",
       "      <td>NaN</td>\n",
       "      <td>NaN</td>\n",
       "      <td>...</td>\n",
       "      <td>NaN</td>\n",
       "      <td>NaN</td>\n",
       "      <td>NaN</td>\n",
       "      <td>NaN</td>\n",
       "      <td>NaN</td>\n",
       "      <td>NaN</td>\n",
       "      <td>NaN</td>\n",
       "      <td>NaN</td>\n",
       "      <td>NaN</td>\n",
       "      <td>NaN</td>\n",
       "    </tr>\n",
       "  </tbody>\n",
       "</table>\n",
       "<p>2551240 rows × 26 columns</p>\n",
       "</div>"
      ],
      "text/plain": [
       "         SOURCE_ID_x  SHAPE_Leng_x  SHAPE_Area_x  SHAPE_Width_x  \\\n",
       "0         2380000336   3504.153579  19782.066985       5.645320   \n",
       "1         2380000336   3504.153579  19782.066985       5.645320   \n",
       "2         2380000336   3504.153579  19782.066985       5.645320   \n",
       "3         2380000336   3504.153579  19782.066985       5.645320   \n",
       "4         2380000336   3504.153579  19782.066985       5.645320   \n",
       "...              ...           ...           ...            ...   \n",
       "2551235   9380001047   1301.694419   6017.456186       4.622787   \n",
       "2551236   9380001047   1301.694419   6017.456186       4.622787   \n",
       "2551237   9380001047   1301.694419   6017.456186       4.622787   \n",
       "2551238   9380001047   1301.694419   6017.456186       4.622787   \n",
       "2551239   9380001047   1301.694419   6017.456186       4.622787   \n",
       "\n",
       "                             geometry_x  point_index  ft_above_sea  \\\n",
       "0        POINT (1000940.908 165223.488)            0            19   \n",
       "1        POINT (1000948.337 165175.884)            1            20   \n",
       "2        POINT (1000955.765 165128.280)            2            20   \n",
       "3        POINT (1000963.194 165080.677)            3            19   \n",
       "4        POINT (1000970.623 165033.073)            4            20   \n",
       "...                                 ...          ...           ...   \n",
       "2551235  POINT (1014594.110 215122.926)      2551235            35   \n",
       "2551236  POINT (1014546.572 215118.217)      2551236            34   \n",
       "2551237  POINT (1014499.033 215113.507)      2551237            33   \n",
       "2551238  POINT (1014497.550 215124.242)      2551238            33   \n",
       "2551239  POINT (1014545.117 215130.809)      2551239            34   \n",
       "\n",
       "         Unnamed: 0   SOURCE_ID_y  SHAPE_Leng_y  ...  citybench_count  \\\n",
       "0               0.0  2.380000e+09   3504.153579  ...              0.0   \n",
       "1               1.0  2.380000e+09   3504.153579  ...              0.0   \n",
       "2               2.0  2.380000e+09   3504.153579  ...              0.0   \n",
       "3               3.0  2.380000e+09   3504.153579  ...              0.0   \n",
       "4               4.0  2.380000e+09   3504.153579  ...              0.0   \n",
       "...             ...           ...           ...  ...              ...   \n",
       "2551235         NaN           NaN           NaN  ...              NaN   \n",
       "2551236         NaN           NaN           NaN  ...              NaN   \n",
       "2551237         NaN           NaN           NaN  ...              NaN   \n",
       "2551238         NaN           NaN           NaN  ...              NaN   \n",
       "2551239         NaN           NaN           NaN  ...              NaN   \n",
       "\n",
       "         bicycle_parking_shelter_count bicycle_rack_count  tree_count  \\\n",
       "0                                  0.0                0.0         1.0   \n",
       "1                                  0.0                0.0         1.0   \n",
       "2                                  0.0                0.0         0.0   \n",
       "3                                  0.0                0.0         0.0   \n",
       "4                                  0.0                0.0         0.0   \n",
       "...                                ...                ...         ...   \n",
       "2551235                            NaN                NaN         NaN   \n",
       "2551236                            NaN                NaN         NaN   \n",
       "2551237                            NaN                NaN         NaN   \n",
       "2551238                            NaN                NaN         NaN   \n",
       "2551239                            NaN                NaN         NaN   \n",
       "\n",
       "         newsstand_count  parking_meter_count  hydrant_count  \\\n",
       "0                    0.0                  0.0            0.0   \n",
       "1                    0.0                  0.0            0.0   \n",
       "2                    0.0                  0.0            0.0   \n",
       "3                    0.0                  0.0            1.0   \n",
       "4                    0.0                  0.0            0.0   \n",
       "...                  ...                  ...            ...   \n",
       "2551235              NaN                  NaN            NaN   \n",
       "2551236              NaN                  NaN            NaN   \n",
       "2551237              NaN                  NaN            NaN   \n",
       "2551238              NaN                  NaN            NaN   \n",
       "2551239              NaN                  NaN            NaN   \n",
       "\n",
       "         street_sign_count  alarm_call_box_count   clutter  \n",
       "0                      0.0                   0.0  0.026571  \n",
       "1                      0.0                   0.0  0.026571  \n",
       "2                      0.0                   0.0  0.000000  \n",
       "3                      0.0                   0.0  0.044284  \n",
       "4                      0.0                   0.0  0.000000  \n",
       "...                    ...                   ...       ...  \n",
       "2551235                NaN                   NaN       NaN  \n",
       "2551236                NaN                   NaN       NaN  \n",
       "2551237                NaN                   NaN       NaN  \n",
       "2551238                NaN                   NaN       NaN  \n",
       "2551239                NaN                   NaN       NaN  \n",
       "\n",
       "[2551240 rows x 26 columns]"
      ]
     },
     "execution_count": 80,
     "metadata": {},
     "output_type": "execute_result"
    }
   ],
   "source": [
    "sidewalk_nyc.merge(street_furniture_nyc, on='point_index', how='left')"
   ]
  },
  {
   "cell_type": "markdown",
   "metadata": {},
   "source": [
    "### NYC Zoning (ZOLA)"
   ]
  },
  {
   "cell_type": "code",
   "execution_count": 81,
   "metadata": {},
   "outputs": [
    {
     "name": "stderr",
     "output_type": "stream",
     "text": [
      "\u001b[32m2024-08-20 18:20:43 - robotability-score - SUCCESS - ZOLA data loaded.\u001b[0m\n"
     ]
    }
   ],
   "source": [
    "zoning_nyc = gpd.read_file(\"data/nyc_zoning/nyzd.shp\")\n",
    "\n",
    "logger.success(\"ZOLA data loaded.\")"
   ]
  },
  {
   "cell_type": "code",
   "execution_count": 82,
   "metadata": {},
   "outputs": [],
   "source": [
    "# get the zoning of each point in sidewalk_nyc\n",
    "sidewalk_nyc = gpd.sjoin(sidewalk_nyc, zoning_nyc, how='left', predicate='intersects').drop(columns=['index_right'])\n"
   ]
  },
  {
   "cell_type": "markdown",
   "metadata": {},
   "source": [
    "### CitiBike Stations \n",
    "We simulate charging stations in the environment with existing CitiBike charging stations. It is also possible to simulate this via random sampling of the NYC road network, but we think citibike stations might be a more accurate distribution to pull from , as they are influenced by population density and zoning patterns. "
   ]
  },
  {
   "cell_type": "code",
   "execution_count": 84,
   "metadata": {},
   "outputs": [
    {
     "name": "stderr",
     "output_type": "stream",
     "text": [
      "\u001b[32m2024-08-20 18:22:13 - robotability-score - SUCCESS - Citibike stations data loaded.\u001b[0m\n"
     ]
    }
   ],
   "source": [
    "citibike_stations_nyc = pd.read_json(\"data/citibike/station_information.json\")\n",
    "citibike_stations_nyc = pd.json_normalize(citibike_stations_nyc['data']).T \n",
    "citibike_stations_nyc = pd.json_normalize(citibike_stations_nyc[0])\n",
    "citibike_stations_nyc = gpd.GeoDataFrame(citibike_stations_nyc, geometry=gpd.points_from_xy(citibike_stations_nyc['lon'], citibike_stations_nyc['lat']), crs=WGS).to_crs(PROJ)\n",
    "\n",
    "# get nearest station to each point in sidewalk nyc \n",
    "sidewalk_nyc = gpd.sjoin_nearest(sidewalk_nyc, citibike_stations_nyc, how='left').drop(columns=['index_right'])\n",
    "\n",
    "\n",
    "logger.success(\"Citibike stations data loaded.\")"
   ]
  },
  {
   "cell_type": "markdown",
   "metadata": {},
   "source": [
    "### Street Lighting "
   ]
  },
  {
   "cell_type": "markdown",
   "metadata": {},
   "source": []
  },
  {
   "cell_type": "markdown",
   "metadata": {},
   "source": [
    "### Curb Ramps "
   ]
  },
  {
   "cell_type": "code",
   "execution_count": 91,
   "metadata": {},
   "outputs": [],
   "source": [
    "curb_ramps_nyc = pd.read_csv(\"data/pedestrian_curb_ramp_nyc.csv\")\n",
    "# prepend 'CURBRAMP' to each column name\n",
    "curb_ramps_nyc.columns = [f'CURBRAMP_{col}' for col in curb_ramps_nyc.columns]\n",
    "curb_ramps_nyc = gpd.GeoDataFrame(curb_ramps_nyc, geometry=wkt.loads(curb_ramps_nyc['CURBRAMP_the_geom']), crs=WGS).to_crs(PROJ)"
   ]
  },
  {
   "cell_type": "code",
   "execution_count": 92,
   "metadata": {},
   "outputs": [],
   "source": [
    "# buffer the curb ramps and merge with sidewalk_nyc \n",
    "curb_ramps_nyc['geometry'] = curb_ramps_nyc['geometry'].buffer(50)\n",
    "sidewalk_nyc = gpd.sjoin(sidewalk_nyc, curb_ramps_nyc, how='left', predicate='intersects').drop(columns=['index_right'])"
   ]
  },
  {
   "cell_type": "markdown",
   "metadata": {},
   "source": [
    "### Raised Crosswalks "
   ]
  },
  {
   "cell_type": "code",
   "execution_count": 93,
   "metadata": {},
   "outputs": [],
   "source": [
    "raised_crosswalks_nyc = pd.read_csv(\"data/raised_crosswalks_nyc.csv\")\n",
    "raised_crosswalks_nyc.columns = [f'RAISEDCROSSWALK_{col}' for col in raised_crosswalks_nyc.columns]"
   ]
  },
  {
   "cell_type": "code",
   "execution_count": 94,
   "metadata": {},
   "outputs": [],
   "source": [
    "raised_crosswalks_nyc = gpd.GeoDataFrame(raised_crosswalks_nyc, geometry=wkt.loads(raised_crosswalks_nyc['RAISEDCROSSWALK_WKT Geometry']), crs=PROJ)\n",
    "# prepend 'RAISEDCROSSWALK' to each column name\n",
    "# buffer the raised crosswalks and merge with sidewalk_nyc\n",
    "raised_crosswalks_nyc['geometry'] = raised_crosswalks_nyc['geometry'].buffer(50)\n",
    "sidewalk_nyc = gpd.sjoin(sidewalk_nyc, raised_crosswalks_nyc, how='left', predicate='intersects').drop(columns=['index_right'])"
   ]
  },
  {
   "cell_type": "markdown",
   "metadata": {},
   "source": [
    "### Sidewalk Scorecard \n"
   ]
  },
  {
   "cell_type": "code",
   "execution_count": null,
   "metadata": {},
   "outputs": [],
   "source": [
    "sidewalk_scorecard_nyc = pd.read_csv(\"data/Scorecard_Ratings_20240814.csv\") "
   ]
  },
  {
   "cell_type": "code",
   "execution_count": null,
   "metadata": {},
   "outputs": [],
   "source": [
    "# This one we need to load community districts for, merge, and then overlay onto the points \n"
   ]
  },
  {
   "cell_type": "markdown",
   "metadata": {},
   "source": [
    "### Points of Interest "
   ]
  },
  {
   "cell_type": "code",
   "execution_count": 95,
   "metadata": {},
   "outputs": [],
   "source": [
    "pois_nyc = pd.read_csv(\"data/pois_nyc.csv\") \n",
    "# prepend 'POI' to each column name\n",
    "pois_nyc.columns = [f'POI_{col}' for col in pois_nyc.columns]\n",
    "pois_nyc = gpd.GeoDataFrame(pois_nyc, geometry=wkt.loads(pois_nyc['POI_the_geom']), crs=WGS).to_crs(PROJ)"
   ]
  },
  {
   "cell_type": "code",
   "execution_count": 96,
   "metadata": {},
   "outputs": [],
   "source": [
    "# buffer the pois and merge with sidewalk_nyc\n",
    "pois_nyc['geometry'] = pois_nyc['geometry'].buffer(50)\n",
    "sidewalk_nyc = gpd.sjoin(sidewalk_nyc, pois_nyc, how='left', predicate='intersects').drop(columns=['index_right'])"
   ]
  },
  {
   "cell_type": "markdown",
   "metadata": {},
   "source": [
    "## Features that will not be modeled with empirical data "
   ]
  },
  {
   "cell_type": "markdown",
   "metadata": {},
   "source": [
    "### Weather Conditions \n",
    "We will assign weights to different types of weather. However, weather conditions may not be considered in use-cases where only the static built-environment is considered. "
   ]
  },
  {
   "cell_type": "markdown",
   "metadata": {},
   "source": [
    "### Existence of Detailed Digital Maps "
   ]
  },
  {
   "cell_type": "markdown",
   "metadata": {},
   "source": [
    "In the case of New York City, the entire city is covered by a DCM. As such, there is no need to bring this indicator in empirically, as the variance across the city is 0. "
   ]
  },
  {
   "cell_type": "markdown",
   "metadata": {},
   "source": [
    "## Features that cannot be modeled with empirical data "
   ]
  },
  {
   "cell_type": "markdown",
   "metadata": {},
   "source": [
    "### Sidewalk material \n",
    "There is no known dataset of sidewalk materials at the per-sidewalk level in NYC. Further, we deem that there is low variance; ie. the majority of sidewalks are all concrete. "
   ]
  },
  {
   "cell_type": "markdown",
   "metadata": {},
   "source": [
    "### Street lighting \n",
    "There is no known dataset of street lighting / lamp-posts in NYC. While a subset can be derived via the locations of relevant 311 complaints, we are unaware if this subset is representative of the overall distribution. "
   ]
  },
  {
   "cell_type": "markdown",
   "metadata": {},
   "source": [
    "## Features that are inferred via proxy datasets / other empirical data \n"
   ]
  },
  {
   "cell_type": "markdown",
   "metadata": {},
   "source": [
    "### Pedestrian flow "
   ]
  },
  {
   "cell_type": "markdown",
   "metadata": {},
   "source": [
    "### Sidewalk surface roughness \n",
    "We proxy this indicator via the sidewalk scorecard ratings dataset, which reports results at a granularity of the community district level."
   ]
  },
  {
   "cell_type": "markdown",
   "metadata": {},
   "source": [
    "### Shade \n",
    "We infer shade levels via the TreeFolio NYC dataset, which to-date only considers shade cast by street trees. There are other sources of shade in the city, namely tall buildings. "
   ]
  },
  {
   "cell_type": "markdown",
   "metadata": {},
   "source": [
    "## In-house indicators "
   ]
  },
  {
   "cell_type": "markdown",
   "metadata": {},
   "source": [
    "### Pedestrian density \n",
    "We compute the typical pedestrian densities at the per-sidewawlk level via YOLO (pretrained on COCO) inference on a large dataset of crowdsourced dashcam images. There are limitations. Namely, not every street segment in the city is covered: about 1/3 of our densely-sampled points along the sidewalk network lack data. Further, it is nontrivial & noisy to isolate which side of the street a pedestrian is walking on, and so there is noise in the map matching process. "
   ]
  },
  {
   "cell_type": "markdown",
   "metadata": {},
   "source": [
    "### Bike density\n",
    "We compute bicycle densities using the same process as pedestrian density; and so, the same limitations carry over.  "
   ]
  },
  {
   "cell_type": "markdown",
   "metadata": {},
   "source": [
    "### Vehicle density \n",
    "We compute vehicle densities using the same process as pedestrian density; and so, the same limitations carry over. "
   ]
  },
  {
   "cell_type": "markdown",
   "metadata": {},
   "source": []
  },
  {
   "cell_type": "code",
   "execution_count": 98,
   "metadata": {},
   "outputs": [],
   "source": [
    "sidewalk_nyc.to_csv(\"data/processed/score_dataset.csv\")"
   ]
  },
  {
   "cell_type": "code",
   "execution_count": null,
   "metadata": {},
   "outputs": [],
   "source": []
  }
 ],
 "metadata": {
  "kernelspec": {
   "display_name": "Python 3",
   "language": "python",
   "name": "python3"
  },
  "language_info": {
   "codemirror_mode": {
    "name": "ipython",
    "version": 3
   },
   "file_extension": ".py",
   "mimetype": "text/x-python",
   "name": "python",
   "nbconvert_exporter": "python",
   "pygments_lexer": "ipython3",
   "version": "3.11.9"
  }
 },
 "nbformat": 4,
 "nbformat_minor": 2
}
