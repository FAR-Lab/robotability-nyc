{
 "cells": [
  {
   "cell_type": "markdown",
   "metadata": {
    "vscode": {
     "languageId": "plaintext"
    }
   },
   "source": [
    "As robots deployments become more common, they will become yet another dancer in the sidewalk ballet. Within urban mapping, transit mobility and walkability scores have emerged as a way to measure the quality of a city's infrastructure for a specific medium of traffic. However, there is no such metric for robots! Here, we aim to envision what a 'robotability' score might look like, and how it might be used to inform urban planning and policy. "
   ]
  },
  {
   "cell_type": "markdown",
   "metadata": {},
   "source": [
    "We utilize the following data features in computing a *robotability score*: \n",
    "- Sidewalk width \n",
    "- Sidewalk quality proxied by 311 complaints \n",
    "- Pedestrian density, computed via aggregated dashcam data\n",
    "- Sidewalk material (concrete, asphalt, cobblestone, etc.) \n",
    "- Connectivity: cellular coverage, WiFi availbility, IoT network coverage, and GPS coverage \n",
    "- Elevation change from beginning to end of road segment \n",
    "- Solar radiation levels, for potential solar charging and for potential overheating. \n",
    "- Proximity to hypothetical charging stations \n",
    "- Grating on sidewalk (ie in NYC, the subway grates) that might be problematic for robots to navigate \n",
    "- Snow buildup \n",
    "- Local attitudes towards robots \n",
    "- Average illegal parking levels, ie cars parked on sidewalks \n",
    "- Shade / shadows \n",
    "- Overhead covering (scaffolding, awnings, etc., in the case of non-waterproof bots)\n",
    "- Zoning. My hypothesis: robots are more acceptable in commercial-zoned areas, and less acceptable in majority-residential zoned areas. \n",
    "\n",
    "### Other Things to Lock In (4/25/24): \n",
    "- Study period. Some of this data (311 complaints, pedestrian densities, etc., should be constrained within a time range. **Limitation: we don't have new, free dashcam data presently**)\n",
    "\n"
   ]
  },
  {
   "cell_type": "markdown",
   "metadata": {},
   "source": []
  },
  {
   "cell_type": "code",
   "execution_count": 1,
   "metadata": {},
   "outputs": [
    {
     "name": "stderr",
     "output_type": "stream",
     "text": [
      "\u001b[34m2024-12-10 00:23:25 - robotability-score - INFO - Modules initialized.\u001b[0m\n"
     ]
    }
   ],
   "source": [
    "# class RobotabilityGraph that inherits from Graph class \n",
    "import os\n",
    "import sys \n",
    "sys.path.append(\"/share/ju/urban-fingerprinting\")\n",
    "\n",
    "import osmnx as ox \n",
    "import geopandas as gpd \n",
    "import pandas as pd \n",
    "import numpy as np \n",
    "\n",
    "import matplotlib.pyplot as plt \n",
    "# enable latex plotting \n",
    "plt.rc('text', usetex=True)\n",
    "plt.rc('font', family='serif')\n",
    "\n",
    "from glob import glob \n",
    "from tqdm import tqdm \n",
    "\n",
    "from shapely import wkt, LineString \n",
    "\n",
    "import rasterio\n",
    "from rasterio.enums import Resampling\n",
    "from rasterio.plot import show \n",
    "\n",
    "\n",
    "from src.utils.logger import setup_logger \n",
    "\n",
    "logger = setup_logger('robotability-score')\n",
    "logger.setLevel(\"INFO\")\n",
    "logger.info(\"Modules initialized.\")\n",
    "\n",
    "WGS='EPSG:4326'\n",
    "PROJ='EPSG:2263'\n",
    "\n",
    "REGEN_SEGMENTIZATION=True\n",
    "REGEN_TOPOLOGY=True\n",
    "\n",
    "GEN_INSPECTION_PLOTS=True\n",
    "INSPECTION_PLOTS=\"figures/inspection_plots\"\n",
    "\n",
    "os.makedirs(INSPECTION_PLOTS, exist_ok=True)\n"
   ]
  },
  {
   "cell_type": "markdown",
   "metadata": {},
   "source": [
    "## Loading and Preprocessing Data Features "
   ]
  },
  {
   "cell_type": "markdown",
   "metadata": {},
   "source": [
    "### Neighborhood Tabulation Areas (NYC)"
   ]
  },
  {
   "cell_type": "code",
   "execution_count": 2,
   "metadata": {},
   "outputs": [
    {
     "name": "stderr",
     "output_type": "stream",
     "text": [
      "\u001b[32m2024-12-10 00:23:26 - robotability-score - SUCCESS - NTAs loaded.\u001b[0m\n"
     ]
    }
   ],
   "source": [
    "# Load the Neighborhood Tabulation Areas (NTAs) dataset \n",
    "ntas_nyc = pd.read_csv(\"../data/ntas_nyc.csv\")\n",
    "ntas_nyc = gpd.GeoDataFrame(ntas_nyc, geometry=wkt.loads(ntas_nyc['the_geom']), crs=WGS).to_crs(PROJ)\n",
    "\n",
    "# Remove redundant columns \n",
    "TO_DROP = ['BoroCode','CountyFIPS','NTA2020','NTAAbbrev','CDTA2020','CDTAName']\n",
    "ntas_nyc = ntas_nyc.drop(columns=TO_DROP)\n",
    "\n",
    "logger.success(\"NTAs loaded.\")"
   ]
  },
  {
   "cell_type": "markdown",
   "metadata": {},
   "source": [
    "### Census Blocks (NYC)"
   ]
  },
  {
   "cell_type": "code",
   "execution_count": 3,
   "metadata": {},
   "outputs": [
    {
     "name": "stderr",
     "output_type": "stream",
     "text": [
      "\u001b[32m2024-12-10 00:23:31 - robotability-score - SUCCESS - Census Blocks loaded.\u001b[0m\n"
     ]
    }
   ],
   "source": [
    "cbs_nyc = gpd.read_file(\"../data/nycb2020_24c/nycb2020.shp\")\n",
    "\n",
    "TO_DROP = ['BoroCode', 'CT2020', 'BCTCB2020']\n",
    "\n",
    "cbs_nyc = cbs_nyc.drop(columns=TO_DROP)\n",
    "cbs_nyc = cbs_nyc.to_crs(PROJ)\n",
    "\n",
    "logger.success(\"Census Blocks loaded.\")"
   ]
  },
  {
   "cell_type": "markdown",
   "metadata": {},
   "source": [
    "### Community Districts (NYC)"
   ]
  },
  {
   "cell_type": "code",
   "execution_count": 4,
   "metadata": {},
   "outputs": [],
   "source": [
    "cds_nyc = gpd.read_file(\"../data/community_districts_nyc/geo_export_d18ab225-a18b-4d26-8ff1-78a889568090.shp\").to_crs(PROJ)\n",
    "cds_nyc['boro_cd'] = cds_nyc['boro_cd'].astype(int)"
   ]
  },
  {
   "cell_type": "markdown",
   "metadata": {},
   "source": [
    "### Sidewalk Basemap (NYC)"
   ]
  },
  {
   "cell_type": "code",
   "execution_count": 5,
   "metadata": {},
   "outputs": [],
   "source": [
    "# Load the NYC sidewalk basemap \n",
    "USE_UPDATED_GEN_METHOD = True \n",
    "if USE_UPDATED_GEN_METHOD:\n",
    "    sidewalk_nyc = gpd.read_file('../data/sidewalkwidths_nyc.geojson')\n",
    "    WIDTH = 'width'\n",
    "\n",
    "else: \n",
    "    sidewalk_nyc = pd.read_csv(\"../data/sidewalks_nyc.csv\")\n",
    "    sidewalk_nyc = gpd.GeoDataFrame(sidewalk_nyc, geometry=wkt.loads(sidewalk_nyc['the_geom']), crs=WGS).to_crs(PROJ)\n",
    "    # how many unique sidewalks? \n",
    "    logger.info(f\"Number of unique sidewalks: {sidewalk_nyc['SOURCE_ID'].nunique()}\")\n",
    "\n",
    "    # Take out features we don't need, and add a width column \n",
    "    TO_DROP = ['SUB_CODE', 'FEAT_CODE', 'STATUS', 'the_geom']\n",
    "    sidewalk_nyc = sidewalk_nyc.drop(columns=TO_DROP)\n",
    "    sidewalk_nyc['SHAPE_Width'] = sidewalk_nyc['SHAPE_Area'] / sidewalk_nyc['SHAPE_Leng']\n",
    "\n",
    "    # Simplify \n",
    "    sidewalk_nyc['geometry'] = sidewalk_nyc['geometry'].simplify(10)\n",
    "\n",
    "    WIDTH = 'SHAPE_Width'\n"
   ]
  },
  {
   "cell_type": "code",
   "execution_count": 6,
   "metadata": {},
   "outputs": [
    {
     "name": "stderr",
     "output_type": "stream",
     "text": [
      "\u001b[32m2024-12-10 00:24:31 - robotability-score - SUCCESS - Segmentized sidewalk basemap written to disk.\u001b[0m\n",
      "\u001b[32m2024-12-10 00:24:31 - robotability-score - SUCCESS - NYC sidewalk basemap loaded.\u001b[0m\n",
      "\u001b[34m2024-12-10 00:24:31 - robotability-score - INFO - Distribution of sidewalk widths [ft]: \n",
      "count    1.874608e+06\n",
      "mean     1.001624e+01\n",
      "std      5.892543e+00\n",
      "min      3.717949e-02\n",
      "25%      6.797932e+00\n",
      "50%      8.901577e+00\n",
      "75%      1.186210e+01\n",
      "max      1.652698e+02\n",
      "Name: width, dtype: float64\u001b[0m\n"
     ]
    }
   ],
   "source": [
    "\n",
    "\n",
    "# write to disk \n",
    "if REGEN_SEGMENTIZATION:\n",
    "    # segmentize \n",
    "    segmentized = sidewalk_nyc.segmentize(50).extract_unique_points().explode(index_parts=True)\n",
    "\n",
    "    segmentized = gpd.GeoDataFrame(segmentized).reset_index() \n",
    "\n",
    "    segmentized = segmentized.merge(sidewalk_nyc,left_on='level_0',right_index=True).drop(columns=['level_0','level_1','geometry'])\n",
    "    segmentized['geometry'] = segmentized.iloc[:,0]\n",
    "    segmentized.drop(segmentized.columns[0],axis=1, inplace=True)\n",
    "    segmentized = gpd.GeoDataFrame(segmentized, crs=PROJ)\n",
    "\n",
    "    # random id for each point in 'point_index' column \n",
    "    segmentized['point_index'] = segmentized.index\n",
    "\n",
    "    segmentized.to_csv(\"../data/sidewalks_nyc_segmentized.csv\")\n",
    "    logger.success(\"Segmentized sidewalk basemap written to disk.\")\n",
    "\n",
    "else: \n",
    "    segmentized = pd.read_csv(\"../data/sidewalks_nyc_segmentized.csv\")\n",
    "    segmentized = gpd.GeoDataFrame(segmentized, geometry=wkt.loads(segmentized['geometry']), crs=PROJ)\n",
    "    logger.info(\"Segmentized sidewalk basemap loaded.\")\n",
    "\n",
    "\n",
    "sidewalk_nyc = segmentized\n",
    "\n",
    "logger.success(\"NYC sidewalk basemap loaded.\")\n",
    "logger.info(f\"Distribution of sidewalk widths [ft]: \\n{sidewalk_nyc[WIDTH].describe()}\")"
   ]
  },
  {
   "cell_type": "code",
   "execution_count": 7,
   "metadata": {},
   "outputs": [],
   "source": [
    "sidewalk_nyc_COPY = sidewalk_nyc.copy()"
   ]
  },
  {
   "cell_type": "code",
   "execution_count": 8,
   "metadata": {},
   "outputs": [],
   "source": [
    "sidewalk_nyc = sidewalk_nyc_COPY"
   ]
  },
  {
   "cell_type": "code",
   "execution_count": 9,
   "metadata": {},
   "outputs": [],
   "source": [
    "if GEN_INSPECTION_PLOTS:\n",
    "    fig, ax = plt.subplots(1,1,figsize=(10,10))\n",
    "\n",
    "    ntas_nyc.plot(ax=ax, color='lightgrey', edgecolor='black', alpha=0.5)\n",
    "    sidewalk_nyc.sample(frac=0.1).plot(ax=ax, color='black', alpha=0.5, markersize=0.5)\n",
    "\n",
    "    plt.title(\"NYC Sidewalk Basemap\")\n",
    "    plt.axis('off')\n",
    "    plt.tight_layout()\n",
    "    plt.savefig(f\"{INSPECTION_PLOTS}/nyc_sidewalk_basemap.png\")\n",
    "    plt.close()"
   ]
  },
  {
   "cell_type": "markdown",
   "metadata": {},
   "source": [
    "###  Topology "
   ]
  },
  {
   "cell_type": "code",
   "execution_count": 10,
   "metadata": {},
   "outputs": [],
   "source": [
    "TOPOGRAPHY_NYC = \"../data/1ft_dem_nyc/DEM_LiDAR_1ft_2010_Improved_NYC_int.tif\"\n",
    "\n",
    "downsample_factor = 10\n",
    "\n",
    "# Open the raster\n",
    "with rasterio.open(TOPOGRAPHY_NYC) as src:\n",
    "    # Calculate new transform and dimensions\n",
    "    new_transform = src.transform * src.transform.scale(\n",
    "        downsample_factor,\n",
    "        downsample_factor\n",
    "    )\n",
    "    new_width = src.width // downsample_factor\n",
    "    new_height = src.height // downsample_factor\n",
    "    \n",
    "    # Resample the raster\n",
    "    topology = src.read(\n",
    "        out_shape=(src.count, new_height, new_width),\n",
    "        resampling=Resampling.bilinear\n",
    "    )\n",
    "\n",
    "    # Create a new rasterio-like object with updated metadata\n",
    "    new_meta = src.meta.copy()\n",
    "    new_meta.update({\n",
    "        \"driver\": \"GTiff\",\n",
    "        \"height\": new_height,\n",
    "        \"width\": new_width,\n",
    "        \"transform\": new_transform\n",
    "    })\n",
    "\n",
    "    # Write the new raster to disk\n",
    "    if REGEN_TOPOLOGY: \n",
    "        with rasterio.open(\"../data/1ft_dem_nyc/downsampled_topography.tif\", \"w\", **new_meta) as dst:\n",
    "            dst.write(topology)\n",
    "\n"
   ]
  },
  {
   "cell_type": "code",
   "execution_count": 11,
   "metadata": {},
   "outputs": [],
   "source": [
    "# plot topology \n",
    "if GEN_INSPECTION_PLOTS:\n",
    "    fig, ax = plt.subplots(figsize=(10, 10))\n",
    "    fig.suptitle(r\"\\bf Elevation in New York City\", fontsize=20)\n",
    "\n",
    "    # elevation is a 2D array, so we can plot it directly\n",
    "    show(topology, ax=ax, cmap='terrain', transform=new_transform, )\n",
    "    #nyc_ct.plot(ax=ax, facecolor='white', edgecolor='black', linewidth=0.5, alpha=0.25)\n",
    "\n",
    "    ax.set_axis_off()\n",
    "    plt.savefig(f\"{INSPECTION_PLOTS}/topology_nyc.png\", dpi=300)\n",
    "    plt.close()"
   ]
  },
  {
   "cell_type": "code",
   "execution_count": 12,
   "metadata": {},
   "outputs": [
    {
     "name": "stderr",
     "output_type": "stream",
     "text": [
      "Processing Elevations: 100%|██████████| 1875/1875 [00:46<00:00, 40.38it/s]\n"
     ]
    },
    {
     "name": "stdout",
     "output_type": "stream",
     "text": [
      "<class 'geopandas.geodataframe.GeoDataFrame'>\n",
      "RangeIndex: 1874608 entries, 0 to 1874607\n",
      "Data columns (total 4 columns):\n",
      " #   Column        Dtype   \n",
      "---  ------        -----   \n",
      " 0   width         float64 \n",
      " 1   geometry      geometry\n",
      " 2   point_index   int64   \n",
      " 3   ft_above_sea  uint16  \n",
      "dtypes: float64(1), geometry(1), int64(1), uint16(1)\n",
      "memory usage: 46.5 MB\n",
      "None\n"
     ]
    }
   ],
   "source": [
    "import rasterio\n",
    "from itertools import islice\n",
    "from tqdm import tqdm\n",
    "\n",
    "def chunked_iterable(iterable, size):\n",
    "    \"\"\"Yield successive n-sized chunks from the iterable.\"\"\"\n",
    "    it = iter(iterable)\n",
    "    while chunk := list(islice(it, size)):\n",
    "        yield chunk\n",
    "\n",
    "# Get elevation at proj_x, proj_y\n",
    "sampled_elevations = []\n",
    "chunk_size = 1000\n",
    "\n",
    "with rasterio.open(\"../data/1ft_dem_nyc/downsampled_topography.tif\") as src:\n",
    "    # Generate iterable of (x, y) tuples from proj_x and proj_y columns\n",
    "    xy = zip(sidewalk_nyc.geometry.x, sidewalk_nyc.geometry.y)\n",
    "    total_points = len(sidewalk_nyc)\n",
    "\n",
    "    # Process in chunks with progress bar\n",
    "    for chunk in tqdm(chunked_iterable(xy, chunk_size), total=(total_points // chunk_size) + 1, desc=\"Processing Elevations\"):\n",
    "        chunk_elevations = rasterio.sample.sample_gen(src, chunk)\n",
    "        sampled_elevations.extend(list(chunk_elevations))\n",
    "\n",
    "# Convert sampled elevations to a list and add to the DataFrame\n",
    "sidewalk_nyc['ft_above_sea'] = list(map(lambda x: x[0], sampled_elevations))\n",
    "print(sidewalk_nyc.info())"
   ]
  },
  {
   "cell_type": "code",
   "execution_count": 13,
   "metadata": {},
   "outputs": [
    {
     "data": {
      "text/plain": [
       "count    1.874608e+06\n",
       "mean     5.493301e+01\n",
       "std      4.603180e+01\n",
       "min      0.000000e+00\n",
       "25%      2.000000e+01\n",
       "50%      4.200000e+01\n",
       "75%      7.500000e+01\n",
       "max      3.860000e+02\n",
       "Name: ft_above_sea, dtype: float64"
      ]
     },
     "execution_count": 13,
     "metadata": {},
     "output_type": "execute_result"
    }
   ],
   "source": [
    "sidewalk_nyc['ft_above_sea'].describe() "
   ]
  },
  {
   "cell_type": "markdown",
   "metadata": {},
   "source": [
    "### Shade "
   ]
  },
  {
   "cell_type": "code",
   "execution_count": 14,
   "metadata": {},
   "outputs": [
    {
     "data": {
      "text/plain": [
       "<matplotlib.image.AxesImage at 0x7fa58e503a10>"
      ]
     },
     "execution_count": 14,
     "metadata": {},
     "output_type": "execute_result"
    },
    {
     "data": {
      "image/png": "[encoded data removed]",
      "text/plain": [
       "<Figure size 640x480 with 1 Axes>"
      ]
     },
     "metadata": {},
     "output_type": "display_data"
    }
   ],
   "source": [
    "# plt imshow data/nyc_shade.tiff \n",
    "# open the raster and read it into a numpy array\n",
    "with rasterio.open(\"../data/nyc_shade.tiff\") as src:\n",
    "    shade = src.read(1)\n",
    "    shade = np.ma.masked_where(shade == 0, shade)\n",
    "\n",
    "# plot the masked_array \n",
    "plt.imshow(shade, cmap='gray')"
   ]
  },
  {
   "cell_type": "markdown",
   "metadata": {},
   "source": [
    "### Satellite Availability "
   ]
  },
  {
   "cell_type": "code",
   "execution_count": 15,
   "metadata": {},
   "outputs": [],
   "source": [
    "gso_satellite = pd.read_csv(\"../data/bdc_36_GSOSatellite_fixed_broadband_D23_06aug2024.csv\", engine='pyarrow')\n",
    "\n",
    "gso_satellite['block_geoid'] = gso_satellite['block_geoid'].astype(str)"
   ]
  },
  {
   "cell_type": "code",
   "execution_count": 16,
   "metadata": {},
   "outputs": [
    {
     "name": "stderr",
     "output_type": "stream",
     "text": [
      "\u001b[34m2024-12-10 00:25:57 - robotability-score - INFO - GSOSatellite data merged with Census Blocks. \n",
      "None\u001b[0m\n"
     ]
    },
    {
     "name": "stdout",
     "output_type": "stream",
     "text": [
      "<class 'geopandas.geodataframe.GeoDataFrame'>\n",
      "RangeIndex: 2470523 entries, 0 to 2470522\n",
      "Data columns (total 18 columns):\n",
      " #   Column                         Dtype   \n",
      "---  ------                         -----   \n",
      " 0   CB2020                         object  \n",
      " 1   BoroName                       object  \n",
      " 2   GEOID                          object  \n",
      " 3   Shape_Leng                     float64 \n",
      " 4   Shape_Area                     float64 \n",
      " 5   geometry                       geometry\n",
      " 6   frn                            float64 \n",
      " 7   provider_id                    float64 \n",
      " 8   brand_name                     object  \n",
      " 9   location_id                    float64 \n",
      " 10  technology                     float64 \n",
      " 11  max_advertised_download_speed  float64 \n",
      " 12  max_advertised_upload_speed    float64 \n",
      " 13  low_latency                    float64 \n",
      " 14  business_residential_code      object  \n",
      " 15  state_usps                     object  \n",
      " 16  block_geoid                    object  \n",
      " 17  h3_res8_id                     object  \n",
      "dtypes: float64(9), geometry(1), object(8)\n",
      "memory usage: 339.3+ MB\n"
     ]
    }
   ],
   "source": [
    "# merge gso_satellite with cbs_nyc \n",
    "gso_satellite = cbs_nyc.merge(gso_satellite, right_on='block_geoid', left_on='GEOID', how='left')\n",
    "gso_satellite = gpd.GeoDataFrame(gso_satellite, crs=PROJ)\n",
    "logger.info(f\"GSOSatellite data merged with Census Blocks. \\n{gso_satellite.info()}\")"
   ]
  },
  {
   "cell_type": "code",
   "execution_count": 17,
   "metadata": {},
   "outputs": [
    {
     "name": "stderr",
     "output_type": "stream",
     "text": [
      "\u001b[34m2024-12-10 00:26:02 - robotability-score - INFO - NSGOSatellite data merged with Census Blocks. \n",
      "None\u001b[0m\n"
     ]
    },
    {
     "name": "stdout",
     "output_type": "stream",
     "text": [
      "<class 'geopandas.geodataframe.GeoDataFrame'>\n",
      "RangeIndex: 826917 entries, 0 to 826916\n",
      "Data columns (total 18 columns):\n",
      " #   Column                         Non-Null Count   Dtype   \n",
      "---  ------                         --------------   -----   \n",
      " 0   CB2020                         826917 non-null  object  \n",
      " 1   BoroName                       826917 non-null  object  \n",
      " 2   GEOID                          826917 non-null  object  \n",
      " 3   Shape_Leng                     826917 non-null  float64 \n",
      " 4   Shape_Area                     826917 non-null  float64 \n",
      " 5   geometry                       826917 non-null  geometry\n",
      " 6   frn                            821993 non-null  float64 \n",
      " 7   provider_id                    821993 non-null  float64 \n",
      " 8   brand_name                     821993 non-null  object  \n",
      " 9   location_id                    821993 non-null  float64 \n",
      " 10  technology                     821993 non-null  float64 \n",
      " 11  max_advertised_download_speed  821993 non-null  float64 \n",
      " 12  max_advertised_upload_speed    821993 non-null  float64 \n",
      " 13  low_latency                    821993 non-null  float64 \n",
      " 14  business_residential_code      821993 non-null  object  \n",
      " 15  state_usps                     821993 non-null  object  \n",
      " 16  block_geoid                    821993 non-null  object  \n",
      " 17  h3_res8_id                     821993 non-null  object  \n",
      "dtypes: float64(9), geometry(1), object(8)\n",
      "memory usage: 113.6+ MB\n"
     ]
    }
   ],
   "source": [
    "ngso_satellite = pd.read_csv(\"../data/bdc_36_NGSOSatellite_fixed_broadband_D23_06aug2024.csv\", engine='pyarrow')\n",
    "ngso_satellite['block_geoid'] = ngso_satellite['block_geoid'].astype(str)\n",
    "\n",
    "# merge ngso_satellite with cbs_nyc\n",
    "ngso_satellite = cbs_nyc.merge(ngso_satellite, right_on='block_geoid', left_on='GEOID', how='left')\n",
    "ngso_satellite = gpd.GeoDataFrame(ngso_satellite, crs=PROJ)\n",
    "logger.info(f\"NSGOSatellite data merged with Census Blocks. \\n{ngso_satellite.info()}\")"
   ]
  },
  {
   "cell_type": "markdown",
   "metadata": {},
   "source": [
    "### 4G LTE \n"
   ]
  },
  {
   "cell_type": "code",
   "execution_count": 18,
   "metadata": {},
   "outputs": [],
   "source": [
    "fourg_lte = gpd.read_file(\"../data/4g_ny/bdc_36_4GLTE_mobile_broadband_h3_D23_06aug2024.shp\").to_crs(PROJ)"
   ]
  },
  {
   "cell_type": "code",
   "execution_count": 19,
   "metadata": {},
   "outputs": [],
   "source": [
    "# prepnd '4g' to all columns except geometry\n",
    "fourg_lte.columns = ['4g_' + col if col != 'geometry' else col for col in fourg_lte.columns]"
   ]
  },
  {
   "cell_type": "code",
   "execution_count": 20,
   "metadata": {},
   "outputs": [],
   "source": [
    "# sjoin with sidewalks_nyc \n",
    "sidewalk_nyc = gpd.sjoin(fourg_lte, sidewalk_nyc, how='right', predicate='intersects').drop(columns=['index_left'])"
   ]
  },
  {
   "cell_type": "code",
   "execution_count": 21,
   "metadata": {},
   "outputs": [],
   "source": [
    "fiveg_nr = gpd.read_file(\"../data/5g_ny/bdc_36_5GNR_mobile_broadband_h3_D23_06aug2024.shp\").to_crs(PROJ)\n",
    "# prepnd '5g' to all columns except geometry\n",
    "fiveg_nr.columns = ['5g_' + col if col != 'geometry' else col for col in fiveg_nr.columns]"
   ]
  },
  {
   "cell_type": "code",
   "execution_count": 22,
   "metadata": {},
   "outputs": [
    {
     "name": "stderr",
     "output_type": "stream",
     "text": [
      "/share/ju/conda_virtualenvs/urbanekg/lib/python3.11/site-packages/IPython/core/interactiveshell.py:3490: FutureWarning: The `op` parameter is deprecated and will be removed in a future release. Please use the `predicate` parameter instead.\n",
      "  if await self.run_code(code, result, async_=asy):\n"
     ]
    }
   ],
   "source": [
    "# sjoin with sidewalks_nyc\n",
    "sidewalk_nyc = gpd.sjoin(fiveg_nr, sidewalk_nyc, how='right', op='intersects').drop(columns=['index_left'])"
   ]
  },
  {
   "cell_type": "markdown",
   "metadata": {},
   "source": [
    "### Surveillance Cameras "
   ]
  },
  {
   "cell_type": "code",
   "execution_count": 23,
   "metadata": {},
   "outputs": [
    {
     "data": {
      "text/html": [
       "<div>\n",
       "<style scoped>\n",
       "    .dataframe tbody tr th:only-of-type {\n",
       "        vertical-align: middle;\n",
       "    }\n",
       "\n",
       "    .dataframe tbody tr th {\n",
       "        vertical-align: top;\n",
       "    }\n",
       "\n",
       "    .dataframe thead th {\n",
       "        text-align: right;\n",
       "    }\n",
       "</style>\n",
       "<table border=\"1\" class=\"dataframe\">\n",
       "  <thead>\n",
       "    <tr style=\"text-align: right;\">\n",
       "      <th></th>\n",
       "      <th>PanoramaId</th>\n",
       "      <th>n_cameras_median</th>\n",
       "      <th>attached_street_median</th>\n",
       "      <th>attached_building_median</th>\n",
       "      <th>attached_unknown_median</th>\n",
       "      <th>type_dome_median</th>\n",
       "      <th>type_bullet_median</th>\n",
       "      <th>type_unknown_median</th>\n",
       "      <th>n_cameras_agreement</th>\n",
       "      <th>attached_street_agreement</th>\n",
       "      <th>...</th>\n",
       "      <th>attached_unknown_agreement</th>\n",
       "      <th>type_dome_agreement</th>\n",
       "      <th>type_bullet_agreement</th>\n",
       "      <th>type_unknown_agreement</th>\n",
       "      <th>Lat</th>\n",
       "      <th>Long</th>\n",
       "      <th>geometry_pano</th>\n",
       "      <th>BoroName</th>\n",
       "      <th>URL</th>\n",
       "      <th>ImageDate</th>\n",
       "    </tr>\n",
       "  </thead>\n",
       "  <tbody>\n",
       "    <tr>\n",
       "      <th>0</th>\n",
       "      <td>--48RnFczF55WcDFpy5y_Q</td>\n",
       "      <td>0</td>\n",
       "      <td>0</td>\n",
       "      <td>0</td>\n",
       "      <td>0</td>\n",
       "      <td>0</td>\n",
       "      <td>0</td>\n",
       "      <td>0</td>\n",
       "      <td>2 vs 1</td>\n",
       "      <td>Unanimous</td>\n",
       "      <td>...</td>\n",
       "      <td>Unanimous</td>\n",
       "      <td>Unanimous</td>\n",
       "      <td>Unanimous</td>\n",
       "      <td>Unanimous</td>\n",
       "      <td>40.870564</td>\n",
       "      <td>-73.869327</td>\n",
       "      <td>POINT (-73.86932652339482 40.87056425110688)</td>\n",
       "      <td>Bronx</td>\n",
       "      <td>https://www.google.com/maps/@?api=1&amp;map_action...</td>\n",
       "      <td>2019-08</td>\n",
       "    </tr>\n",
       "    <tr>\n",
       "      <th>1</th>\n",
       "      <td>--T2iuvfxXJrzbgD7R3W-g</td>\n",
       "      <td>0</td>\n",
       "      <td>0</td>\n",
       "      <td>0</td>\n",
       "      <td>0</td>\n",
       "      <td>0</td>\n",
       "      <td>0</td>\n",
       "      <td>0</td>\n",
       "      <td>2 vs 1</td>\n",
       "      <td>Unanimous</td>\n",
       "      <td>...</td>\n",
       "      <td>2 vs 1</td>\n",
       "      <td>Unanimous</td>\n",
       "      <td>Unanimous</td>\n",
       "      <td>Unanimous</td>\n",
       "      <td>40.669099</td>\n",
       "      <td>-73.762447</td>\n",
       "      <td>POINT (-73.76244689609075 40.6690985670363)</td>\n",
       "      <td>Queens</td>\n",
       "      <td>https://www.google.com/maps/@?api=1&amp;map_action...</td>\n",
       "      <td>2020-10</td>\n",
       "    </tr>\n",
       "    <tr>\n",
       "      <th>2</th>\n",
       "      <td>--VGAsqPgTXxgZFXuhuhbg</td>\n",
       "      <td>0</td>\n",
       "      <td>0</td>\n",
       "      <td>0</td>\n",
       "      <td>0</td>\n",
       "      <td>0</td>\n",
       "      <td>0</td>\n",
       "      <td>0</td>\n",
       "      <td>Unanimous</td>\n",
       "      <td>Unanimous</td>\n",
       "      <td>...</td>\n",
       "      <td>Unanimous</td>\n",
       "      <td>Unanimous</td>\n",
       "      <td>Unanimous</td>\n",
       "      <td>Unanimous</td>\n",
       "      <td>40.766790</td>\n",
       "      <td>-73.771211</td>\n",
       "      <td>POINT (-73.7712107859631 40.76679030231237)</td>\n",
       "      <td>Queens</td>\n",
       "      <td>https://www.google.com/maps/@?api=1&amp;map_action...</td>\n",
       "      <td>2020-11</td>\n",
       "    </tr>\n",
       "    <tr>\n",
       "      <th>3</th>\n",
       "      <td>--YJY0GGvay_3W_O5ObeNQ</td>\n",
       "      <td>0</td>\n",
       "      <td>0</td>\n",
       "      <td>0</td>\n",
       "      <td>0</td>\n",
       "      <td>0</td>\n",
       "      <td>0</td>\n",
       "      <td>0</td>\n",
       "      <td>2 vs 1</td>\n",
       "      <td>Unanimous</td>\n",
       "      <td>...</td>\n",
       "      <td>Unanimous</td>\n",
       "      <td>Unanimous</td>\n",
       "      <td>Unanimous</td>\n",
       "      <td>Unanimous</td>\n",
       "      <td>40.554253</td>\n",
       "      <td>-74.201603</td>\n",
       "      <td>POINT (-74.20160298846051 40.55425348634071)</td>\n",
       "      <td>Staten Island</td>\n",
       "      <td>https://www.google.com/maps/@?api=1&amp;map_action...</td>\n",
       "      <td>2019-09</td>\n",
       "    </tr>\n",
       "    <tr>\n",
       "      <th>4</th>\n",
       "      <td>--fUkaf5nn1-bm4KiJ9pVA</td>\n",
       "      <td>1</td>\n",
       "      <td>0</td>\n",
       "      <td>1</td>\n",
       "      <td>0</td>\n",
       "      <td>0</td>\n",
       "      <td>0</td>\n",
       "      <td>0</td>\n",
       "      <td>2 vs 1</td>\n",
       "      <td>Unanimous</td>\n",
       "      <td>...</td>\n",
       "      <td>Unanimous</td>\n",
       "      <td>Unanimous</td>\n",
       "      <td>Unanimous</td>\n",
       "      <td>Unanimous</td>\n",
       "      <td>40.611084</td>\n",
       "      <td>-74.162803</td>\n",
       "      <td>POINT (-74.16280280196275 40.61108412672856)</td>\n",
       "      <td>Staten Island</td>\n",
       "      <td>https://www.google.com/maps/@?api=1&amp;map_action...</td>\n",
       "      <td>2019-09</td>\n",
       "    </tr>\n",
       "    <tr>\n",
       "      <th>...</th>\n",
       "      <td>...</td>\n",
       "      <td>...</td>\n",
       "      <td>...</td>\n",
       "      <td>...</td>\n",
       "      <td>...</td>\n",
       "      <td>...</td>\n",
       "      <td>...</td>\n",
       "      <td>...</td>\n",
       "      <td>...</td>\n",
       "      <td>...</td>\n",
       "      <td>...</td>\n",
       "      <td>...</td>\n",
       "      <td>...</td>\n",
       "      <td>...</td>\n",
       "      <td>...</td>\n",
       "      <td>...</td>\n",
       "      <td>...</td>\n",
       "      <td>...</td>\n",
       "      <td>...</td>\n",
       "      <td>...</td>\n",
       "      <td>...</td>\n",
       "    </tr>\n",
       "    <tr>\n",
       "      <th>43401</th>\n",
       "      <td>zzj23G_f-_hZa1LrXJ7tig</td>\n",
       "      <td>0</td>\n",
       "      <td>0</td>\n",
       "      <td>0</td>\n",
       "      <td>0</td>\n",
       "      <td>0</td>\n",
       "      <td>0</td>\n",
       "      <td>0</td>\n",
       "      <td>2 vs 1</td>\n",
       "      <td>2 vs 1</td>\n",
       "      <td>...</td>\n",
       "      <td>Unanimous</td>\n",
       "      <td>Unanimous</td>\n",
       "      <td>Unanimous</td>\n",
       "      <td>2 vs 1</td>\n",
       "      <td>40.889133</td>\n",
       "      <td>-73.821303</td>\n",
       "      <td>POINT (-73.82130317259254 40.88913324730224)</td>\n",
       "      <td>Bronx</td>\n",
       "      <td>https://www.google.com/maps/@?api=1&amp;map_action...</td>\n",
       "      <td>2019-11</td>\n",
       "    </tr>\n",
       "    <tr>\n",
       "      <th>43402</th>\n",
       "      <td>zzpZoM4JHrGNywYitkYT8w</td>\n",
       "      <td>1</td>\n",
       "      <td>0</td>\n",
       "      <td>0</td>\n",
       "      <td>0</td>\n",
       "      <td>0</td>\n",
       "      <td>0</td>\n",
       "      <td>0</td>\n",
       "      <td>2 vs 1</td>\n",
       "      <td>2 vs 1</td>\n",
       "      <td>...</td>\n",
       "      <td>Unanimous</td>\n",
       "      <td>2 vs 1</td>\n",
       "      <td>Unanimous</td>\n",
       "      <td>Unanimous</td>\n",
       "      <td>40.750994</td>\n",
       "      <td>-73.706451</td>\n",
       "      <td>POINT (-73.7064507165946 40.75099428476829)</td>\n",
       "      <td>Queens</td>\n",
       "      <td>https://www.google.com/maps/@?api=1&amp;map_action...</td>\n",
       "      <td>2019-07</td>\n",
       "    </tr>\n",
       "    <tr>\n",
       "      <th>43403</th>\n",
       "      <td>zztPjLBFQjwEISsA75a-zg</td>\n",
       "      <td>1</td>\n",
       "      <td>1</td>\n",
       "      <td>0</td>\n",
       "      <td>0</td>\n",
       "      <td>1</td>\n",
       "      <td>0</td>\n",
       "      <td>0</td>\n",
       "      <td>All disagree</td>\n",
       "      <td>All disagree</td>\n",
       "      <td>...</td>\n",
       "      <td>Unanimous</td>\n",
       "      <td>All disagree</td>\n",
       "      <td>2 vs 1</td>\n",
       "      <td>Unanimous</td>\n",
       "      <td>40.730852</td>\n",
       "      <td>-73.947876</td>\n",
       "      <td>POINT (-73.9478762022405 40.73085200510598)</td>\n",
       "      <td>Brooklyn</td>\n",
       "      <td>https://www.google.com/maps/@?api=1&amp;map_action...</td>\n",
       "      <td>2020-10</td>\n",
       "    </tr>\n",
       "    <tr>\n",
       "      <th>43404</th>\n",
       "      <td>zzv84J0v5tQobN5uCXO1xw</td>\n",
       "      <td>0</td>\n",
       "      <td>0</td>\n",
       "      <td>0</td>\n",
       "      <td>0</td>\n",
       "      <td>0</td>\n",
       "      <td>0</td>\n",
       "      <td>0</td>\n",
       "      <td>2 vs 1</td>\n",
       "      <td>Unanimous</td>\n",
       "      <td>...</td>\n",
       "      <td>Unanimous</td>\n",
       "      <td>Unanimous</td>\n",
       "      <td>Unanimous</td>\n",
       "      <td>Unanimous</td>\n",
       "      <td>40.675203</td>\n",
       "      <td>-73.778650</td>\n",
       "      <td>POINT (-73.77864970575715 40.67520299190087)</td>\n",
       "      <td>Queens</td>\n",
       "      <td>https://www.google.com/maps/@?api=1&amp;map_action...</td>\n",
       "      <td>2018-07</td>\n",
       "    </tr>\n",
       "    <tr>\n",
       "      <th>43405</th>\n",
       "      <td>zzyhPWndbm7wxqTN6LuYLA</td>\n",
       "      <td>0</td>\n",
       "      <td>0</td>\n",
       "      <td>0</td>\n",
       "      <td>0</td>\n",
       "      <td>0</td>\n",
       "      <td>0</td>\n",
       "      <td>0</td>\n",
       "      <td>2 vs 1</td>\n",
       "      <td>Unanimous</td>\n",
       "      <td>...</td>\n",
       "      <td>Unanimous</td>\n",
       "      <td>Unanimous</td>\n",
       "      <td>Unanimous</td>\n",
       "      <td>Unanimous</td>\n",
       "      <td>40.713562</td>\n",
       "      <td>-73.779712</td>\n",
       "      <td>POINT (-73.77971167180961 40.71356164178761)</td>\n",
       "      <td>Queens</td>\n",
       "      <td>https://www.google.com/maps/@?api=1&amp;map_action...</td>\n",
       "      <td>2016-11</td>\n",
       "    </tr>\n",
       "  </tbody>\n",
       "</table>\n",
       "<p>43406 rows × 21 columns</p>\n",
       "</div>"
      ],
      "text/plain": [
       "                   PanoramaId  n_cameras_median  attached_street_median  \\\n",
       "0      --48RnFczF55WcDFpy5y_Q                 0                       0   \n",
       "1      --T2iuvfxXJrzbgD7R3W-g                 0                       0   \n",
       "2      --VGAsqPgTXxgZFXuhuhbg                 0                       0   \n",
       "3      --YJY0GGvay_3W_O5ObeNQ                 0                       0   \n",
       "4      --fUkaf5nn1-bm4KiJ9pVA                 1                       0   \n",
       "...                       ...               ...                     ...   \n",
       "43401  zzj23G_f-_hZa1LrXJ7tig                 0                       0   \n",
       "43402  zzpZoM4JHrGNywYitkYT8w                 1                       0   \n",
       "43403  zztPjLBFQjwEISsA75a-zg                 1                       1   \n",
       "43404  zzv84J0v5tQobN5uCXO1xw                 0                       0   \n",
       "43405  zzyhPWndbm7wxqTN6LuYLA                 0                       0   \n",
       "\n",
       "       attached_building_median  attached_unknown_median  type_dome_median  \\\n",
       "0                             0                        0                 0   \n",
       "1                             0                        0                 0   \n",
       "2                             0                        0                 0   \n",
       "3                             0                        0                 0   \n",
       "4                             1                        0                 0   \n",
       "...                         ...                      ...               ...   \n",
       "43401                         0                        0                 0   \n",
       "43402                         0                        0                 0   \n",
       "43403                         0                        0                 1   \n",
       "43404                         0                        0                 0   \n",
       "43405                         0                        0                 0   \n",
       "\n",
       "       type_bullet_median  type_unknown_median n_cameras_agreement  \\\n",
       "0                       0                    0              2 vs 1   \n",
       "1                       0                    0              2 vs 1   \n",
       "2                       0                    0           Unanimous   \n",
       "3                       0                    0              2 vs 1   \n",
       "4                       0                    0              2 vs 1   \n",
       "...                   ...                  ...                 ...   \n",
       "43401                   0                    0              2 vs 1   \n",
       "43402                   0                    0              2 vs 1   \n",
       "43403                   0                    0        All disagree   \n",
       "43404                   0                    0              2 vs 1   \n",
       "43405                   0                    0              2 vs 1   \n",
       "\n",
       "      attached_street_agreement  ... attached_unknown_agreement  \\\n",
       "0                     Unanimous  ...                  Unanimous   \n",
       "1                     Unanimous  ...                     2 vs 1   \n",
       "2                     Unanimous  ...                  Unanimous   \n",
       "3                     Unanimous  ...                  Unanimous   \n",
       "4                     Unanimous  ...                  Unanimous   \n",
       "...                         ...  ...                        ...   \n",
       "43401                    2 vs 1  ...                  Unanimous   \n",
       "43402                    2 vs 1  ...                  Unanimous   \n",
       "43403              All disagree  ...                  Unanimous   \n",
       "43404                 Unanimous  ...                  Unanimous   \n",
       "43405                 Unanimous  ...                  Unanimous   \n",
       "\n",
       "      type_dome_agreement type_bullet_agreement type_unknown_agreement  \\\n",
       "0               Unanimous             Unanimous              Unanimous   \n",
       "1               Unanimous             Unanimous              Unanimous   \n",
       "2               Unanimous             Unanimous              Unanimous   \n",
       "3               Unanimous             Unanimous              Unanimous   \n",
       "4               Unanimous             Unanimous              Unanimous   \n",
       "...                   ...                   ...                    ...   \n",
       "43401           Unanimous             Unanimous                 2 vs 1   \n",
       "43402              2 vs 1             Unanimous              Unanimous   \n",
       "43403        All disagree                2 vs 1              Unanimous   \n",
       "43404           Unanimous             Unanimous              Unanimous   \n",
       "43405           Unanimous             Unanimous              Unanimous   \n",
       "\n",
       "             Lat       Long                                 geometry_pano  \\\n",
       "0      40.870564 -73.869327  POINT (-73.86932652339482 40.87056425110688)   \n",
       "1      40.669099 -73.762447   POINT (-73.76244689609075 40.6690985670363)   \n",
       "2      40.766790 -73.771211   POINT (-73.7712107859631 40.76679030231237)   \n",
       "3      40.554253 -74.201603  POINT (-74.20160298846051 40.55425348634071)   \n",
       "4      40.611084 -74.162803  POINT (-74.16280280196275 40.61108412672856)   \n",
       "...          ...        ...                                           ...   \n",
       "43401  40.889133 -73.821303  POINT (-73.82130317259254 40.88913324730224)   \n",
       "43402  40.750994 -73.706451   POINT (-73.7064507165946 40.75099428476829)   \n",
       "43403  40.730852 -73.947876   POINT (-73.9478762022405 40.73085200510598)   \n",
       "43404  40.675203 -73.778650  POINT (-73.77864970575715 40.67520299190087)   \n",
       "43405  40.713562 -73.779712  POINT (-73.77971167180961 40.71356164178761)   \n",
       "\n",
       "            BoroName                                                URL  \\\n",
       "0              Bronx  https://www.google.com/maps/@?api=1&map_action...   \n",
       "1             Queens  https://www.google.com/maps/@?api=1&map_action...   \n",
       "2             Queens  https://www.google.com/maps/@?api=1&map_action...   \n",
       "3      Staten Island  https://www.google.com/maps/@?api=1&map_action...   \n",
       "4      Staten Island  https://www.google.com/maps/@?api=1&map_action...   \n",
       "...              ...                                                ...   \n",
       "43401          Bronx  https://www.google.com/maps/@?api=1&map_action...   \n",
       "43402         Queens  https://www.google.com/maps/@?api=1&map_action...   \n",
       "43403       Brooklyn  https://www.google.com/maps/@?api=1&map_action...   \n",
       "43404         Queens  https://www.google.com/maps/@?api=1&map_action...   \n",
       "43405         Queens  https://www.google.com/maps/@?api=1&map_action...   \n",
       "\n",
       "      ImageDate  \n",
       "0       2019-08  \n",
       "1       2020-10  \n",
       "2       2020-11  \n",
       "3       2019-09  \n",
       "4       2019-09  \n",
       "...         ...  \n",
       "43401   2019-11  \n",
       "43402   2019-07  \n",
       "43403   2020-10  \n",
       "43404   2018-07  \n",
       "43405   2016-11  \n",
       "\n",
       "[43406 rows x 21 columns]"
      ]
     },
     "execution_count": 23,
     "metadata": {},
     "output_type": "execute_result"
    }
   ],
   "source": [
    "surveillance_cameras = pd.read_csv(\"../data/decode-surveillance-nyc-1.1.0/data/counts_per_intersections.csv\") \n",
    "surveillance_cameras"
   ]
  },
  {
   "cell_type": "code",
   "execution_count": 24,
   "metadata": {},
   "outputs": [],
   "source": [
    "surveillance_cameras = surveillance_cameras[['n_cameras_median', 'geometry_pano']]\n",
    "# drop na geometries \n",
    "surveillance_cameras = surveillance_cameras.dropna(subset=['geometry_pano'])\n",
    "surveillance_cameras = gpd.GeoDataFrame(surveillance_cameras, geometry=wkt.loads(surveillance_cameras['geometry_pano']), crs=WGS).to_crs(PROJ)\n"
   ]
  },
  {
   "cell_type": "code",
   "execution_count": 25,
   "metadata": {},
   "outputs": [],
   "source": [
    "# draw a buffer around each camera, merge with sidewalk_nyc\n",
    "surveillance_cameras['geometry'] = surveillance_cameras.buffer(50)\n",
    "merged = gpd.sjoin(sidewalk_nyc, surveillance_cameras, how='left', predicate='intersects')\n",
    "\n",
    "# count the number of cameras within each sidewalk segment\n",
    "merged = merged.groupby('point_index')['n_cameras_median'].count().reset_index()\n",
    "\n",
    "# merge with sidewalk_nyc\n",
    "sidewalk_nyc = sidewalk_nyc.merge(merged, left_on='point_index', right_index=True, how='left', suffixes=('', '_cameras')).drop(columns=['point_index_cameras'])\n"
   ]
  },
  {
   "cell_type": "code",
   "execution_count": 26,
   "metadata": {},
   "outputs": [
    {
     "data": {
      "text/html": [
       "<div>\n",
       "<style scoped>\n",
       "    .dataframe tbody tr th:only-of-type {\n",
       "        vertical-align: middle;\n",
       "    }\n",
       "\n",
       "    .dataframe tbody tr th {\n",
       "        vertical-align: top;\n",
       "    }\n",
       "\n",
       "    .dataframe thead th {\n",
       "        text-align: right;\n",
       "    }\n",
       "</style>\n",
       "<table border=\"1\" class=\"dataframe\">\n",
       "  <thead>\n",
       "    <tr style=\"text-align: right;\">\n",
       "      <th></th>\n",
       "      <th>5g_technology</th>\n",
       "      <th>5g_mindown</th>\n",
       "      <th>5g_minup</th>\n",
       "      <th>5g_environmnt</th>\n",
       "      <th>5g_h3_res9_id</th>\n",
       "      <th>4g_technology</th>\n",
       "      <th>4g_mindown</th>\n",
       "      <th>4g_minup</th>\n",
       "      <th>4g_environmnt</th>\n",
       "      <th>4g_h3_res9_id</th>\n",
       "      <th>width</th>\n",
       "      <th>geometry</th>\n",
       "      <th>point_index</th>\n",
       "      <th>ft_above_sea</th>\n",
       "      <th>n_cameras_median</th>\n",
       "    </tr>\n",
       "  </thead>\n",
       "  <tbody>\n",
       "    <tr>\n",
       "      <th>0</th>\n",
       "      <td>500.0</td>\n",
       "      <td>35.0</td>\n",
       "      <td>3.0</td>\n",
       "      <td>1.0</td>\n",
       "      <td>892a106e287ffff</td>\n",
       "      <td>NaN</td>\n",
       "      <td>NaN</td>\n",
       "      <td>NaN</td>\n",
       "      <td>NaN</td>\n",
       "      <td>NaN</td>\n",
       "      <td>4.886091</td>\n",
       "      <td>POINT (915013.944 120812.785)</td>\n",
       "      <td>0</td>\n",
       "      <td>10</td>\n",
       "      <td>0</td>\n",
       "    </tr>\n",
       "    <tr>\n",
       "      <th>1</th>\n",
       "      <td>500.0</td>\n",
       "      <td>35.0</td>\n",
       "      <td>3.0</td>\n",
       "      <td>1.0</td>\n",
       "      <td>892a106e287ffff</td>\n",
       "      <td>NaN</td>\n",
       "      <td>NaN</td>\n",
       "      <td>NaN</td>\n",
       "      <td>NaN</td>\n",
       "      <td>NaN</td>\n",
       "      <td>4.886091</td>\n",
       "      <td>POINT (915025.799 120776.127)</td>\n",
       "      <td>1</td>\n",
       "      <td>10</td>\n",
       "      <td>0</td>\n",
       "    </tr>\n",
       "    <tr>\n",
       "      <th>2</th>\n",
       "      <td>500.0</td>\n",
       "      <td>35.0</td>\n",
       "      <td>3.0</td>\n",
       "      <td>1.0</td>\n",
       "      <td>892a106e287ffff</td>\n",
       "      <td>NaN</td>\n",
       "      <td>NaN</td>\n",
       "      <td>NaN</td>\n",
       "      <td>NaN</td>\n",
       "      <td>NaN</td>\n",
       "      <td>4.886091</td>\n",
       "      <td>POINT (915037.653 120739.468)</td>\n",
       "      <td>2</td>\n",
       "      <td>9</td>\n",
       "      <td>0</td>\n",
       "    </tr>\n",
       "    <tr>\n",
       "      <th>3</th>\n",
       "      <td>500.0</td>\n",
       "      <td>35.0</td>\n",
       "      <td>3.0</td>\n",
       "      <td>1.0</td>\n",
       "      <td>892a106e287ffff</td>\n",
       "      <td>NaN</td>\n",
       "      <td>NaN</td>\n",
       "      <td>NaN</td>\n",
       "      <td>NaN</td>\n",
       "      <td>NaN</td>\n",
       "      <td>4.886091</td>\n",
       "      <td>POINT (915049.507 120702.810)</td>\n",
       "      <td>3</td>\n",
       "      <td>9</td>\n",
       "      <td>0</td>\n",
       "    </tr>\n",
       "    <tr>\n",
       "      <th>4</th>\n",
       "      <td>500.0</td>\n",
       "      <td>35.0</td>\n",
       "      <td>3.0</td>\n",
       "      <td>1.0</td>\n",
       "      <td>892a106e287ffff</td>\n",
       "      <td>NaN</td>\n",
       "      <td>NaN</td>\n",
       "      <td>NaN</td>\n",
       "      <td>NaN</td>\n",
       "      <td>NaN</td>\n",
       "      <td>4.886091</td>\n",
       "      <td>POINT (915061.361 120666.152)</td>\n",
       "      <td>4</td>\n",
       "      <td>9</td>\n",
       "      <td>0</td>\n",
       "    </tr>\n",
       "    <tr>\n",
       "      <th>...</th>\n",
       "      <td>...</td>\n",
       "      <td>...</td>\n",
       "      <td>...</td>\n",
       "      <td>...</td>\n",
       "      <td>...</td>\n",
       "      <td>...</td>\n",
       "      <td>...</td>\n",
       "      <td>...</td>\n",
       "      <td>...</td>\n",
       "      <td>...</td>\n",
       "      <td>...</td>\n",
       "      <td>...</td>\n",
       "      <td>...</td>\n",
       "      <td>...</td>\n",
       "      <td>...</td>\n",
       "    </tr>\n",
       "    <tr>\n",
       "      <th>1874603</th>\n",
       "      <td>500.0</td>\n",
       "      <td>35.0</td>\n",
       "      <td>3.0</td>\n",
       "      <td>1.0</td>\n",
       "      <td>892a10054bbffff</td>\n",
       "      <td>400.0</td>\n",
       "      <td>5.0</td>\n",
       "      <td>1.0</td>\n",
       "      <td>1.0</td>\n",
       "      <td>892a10054bbffff</td>\n",
       "      <td>13.357439</td>\n",
       "      <td>POINT (1060640.780 218459.375)</td>\n",
       "      <td>1874603</td>\n",
       "      <td>183</td>\n",
       "      <td>0</td>\n",
       "    </tr>\n",
       "    <tr>\n",
       "      <th>1874604</th>\n",
       "      <td>500.0</td>\n",
       "      <td>35.0</td>\n",
       "      <td>3.0</td>\n",
       "      <td>1.0</td>\n",
       "      <td>892a10054bbffff</td>\n",
       "      <td>400.0</td>\n",
       "      <td>5.0</td>\n",
       "      <td>1.0</td>\n",
       "      <td>1.0</td>\n",
       "      <td>892a10054bbffff</td>\n",
       "      <td>13.357439</td>\n",
       "      <td>POINT (1060670.385 218499.553)</td>\n",
       "      <td>1874604</td>\n",
       "      <td>183</td>\n",
       "      <td>0</td>\n",
       "    </tr>\n",
       "    <tr>\n",
       "      <th>1874605</th>\n",
       "      <td>500.0</td>\n",
       "      <td>35.0</td>\n",
       "      <td>3.0</td>\n",
       "      <td>1.0</td>\n",
       "      <td>892a10054bbffff</td>\n",
       "      <td>400.0</td>\n",
       "      <td>5.0</td>\n",
       "      <td>1.0</td>\n",
       "      <td>1.0</td>\n",
       "      <td>892a10054bbffff</td>\n",
       "      <td>13.357439</td>\n",
       "      <td>POINT (1060699.989 218539.731)</td>\n",
       "      <td>1874605</td>\n",
       "      <td>183</td>\n",
       "      <td>0</td>\n",
       "    </tr>\n",
       "    <tr>\n",
       "      <th>1874606</th>\n",
       "      <td>500.0</td>\n",
       "      <td>35.0</td>\n",
       "      <td>3.0</td>\n",
       "      <td>1.0</td>\n",
       "      <td>892a10054bbffff</td>\n",
       "      <td>400.0</td>\n",
       "      <td>5.0</td>\n",
       "      <td>1.0</td>\n",
       "      <td>1.0</td>\n",
       "      <td>892a10054bbffff</td>\n",
       "      <td>13.357439</td>\n",
       "      <td>POINT (1060729.594 218579.909)</td>\n",
       "      <td>1874606</td>\n",
       "      <td>183</td>\n",
       "      <td>0</td>\n",
       "    </tr>\n",
       "    <tr>\n",
       "      <th>1874607</th>\n",
       "      <td>500.0</td>\n",
       "      <td>35.0</td>\n",
       "      <td>3.0</td>\n",
       "      <td>1.0</td>\n",
       "      <td>892a10054bbffff</td>\n",
       "      <td>400.0</td>\n",
       "      <td>5.0</td>\n",
       "      <td>1.0</td>\n",
       "      <td>1.0</td>\n",
       "      <td>892a10054bbffff</td>\n",
       "      <td>13.357439</td>\n",
       "      <td>POINT (1060759.198 218620.087)</td>\n",
       "      <td>1874607</td>\n",
       "      <td>184</td>\n",
       "      <td>0</td>\n",
       "    </tr>\n",
       "  </tbody>\n",
       "</table>\n",
       "<p>1874608 rows × 15 columns</p>\n",
       "</div>"
      ],
      "text/plain": [
       "         5g_technology  5g_mindown  5g_minup  5g_environmnt    5g_h3_res9_id  \\\n",
       "0                500.0        35.0       3.0            1.0  892a106e287ffff   \n",
       "1                500.0        35.0       3.0            1.0  892a106e287ffff   \n",
       "2                500.0        35.0       3.0            1.0  892a106e287ffff   \n",
       "3                500.0        35.0       3.0            1.0  892a106e287ffff   \n",
       "4                500.0        35.0       3.0            1.0  892a106e287ffff   \n",
       "...                ...         ...       ...            ...              ...   \n",
       "1874603          500.0        35.0       3.0            1.0  892a10054bbffff   \n",
       "1874604          500.0        35.0       3.0            1.0  892a10054bbffff   \n",
       "1874605          500.0        35.0       3.0            1.0  892a10054bbffff   \n",
       "1874606          500.0        35.0       3.0            1.0  892a10054bbffff   \n",
       "1874607          500.0        35.0       3.0            1.0  892a10054bbffff   \n",
       "\n",
       "         4g_technology  4g_mindown  4g_minup  4g_environmnt    4g_h3_res9_id  \\\n",
       "0                  NaN         NaN       NaN            NaN              NaN   \n",
       "1                  NaN         NaN       NaN            NaN              NaN   \n",
       "2                  NaN         NaN       NaN            NaN              NaN   \n",
       "3                  NaN         NaN       NaN            NaN              NaN   \n",
       "4                  NaN         NaN       NaN            NaN              NaN   \n",
       "...                ...         ...       ...            ...              ...   \n",
       "1874603          400.0         5.0       1.0            1.0  892a10054bbffff   \n",
       "1874604          400.0         5.0       1.0            1.0  892a10054bbffff   \n",
       "1874605          400.0         5.0       1.0            1.0  892a10054bbffff   \n",
       "1874606          400.0         5.0       1.0            1.0  892a10054bbffff   \n",
       "1874607          400.0         5.0       1.0            1.0  892a10054bbffff   \n",
       "\n",
       "             width                        geometry  point_index  ft_above_sea  \\\n",
       "0         4.886091   POINT (915013.944 120812.785)            0            10   \n",
       "1         4.886091   POINT (915025.799 120776.127)            1            10   \n",
       "2         4.886091   POINT (915037.653 120739.468)            2             9   \n",
       "3         4.886091   POINT (915049.507 120702.810)            3             9   \n",
       "4         4.886091   POINT (915061.361 120666.152)            4             9   \n",
       "...            ...                             ...          ...           ...   \n",
       "1874603  13.357439  POINT (1060640.780 218459.375)      1874603           183   \n",
       "1874604  13.357439  POINT (1060670.385 218499.553)      1874604           183   \n",
       "1874605  13.357439  POINT (1060699.989 218539.731)      1874605           183   \n",
       "1874606  13.357439  POINT (1060729.594 218579.909)      1874606           183   \n",
       "1874607  13.357439  POINT (1060759.198 218620.087)      1874607           184   \n",
       "\n",
       "         n_cameras_median  \n",
       "0                       0  \n",
       "1                       0  \n",
       "2                       0  \n",
       "3                       0  \n",
       "4                       0  \n",
       "...                   ...  \n",
       "1874603                 0  \n",
       "1874604                 0  \n",
       "1874605                 0  \n",
       "1874606                 0  \n",
       "1874607                 0  \n",
       "\n",
       "[1874608 rows x 15 columns]"
      ]
     },
     "execution_count": 26,
     "metadata": {},
     "output_type": "execute_result"
    }
   ],
   "source": [
    "sidewalk_nyc "
   ]
  },
  {
   "cell_type": "markdown",
   "metadata": {
    "vscode": {
     "languageId": "bat"
    }
   },
   "source": [
    "### Street Furniture "
   ]
  },
  {
   "cell_type": "code",
   "execution_count": 28,
   "metadata": {},
   "outputs": [
    {
     "name": "stderr",
     "output_type": "stream",
     "text": [
      "\u001b[32m2024-12-10 00:36:17 - robotability-score - SUCCESS - Street furniture density data loaded.\u001b[0m\n"
     ]
    }
   ],
   "source": [
    "street_furniture_nyc = pd.read_csv(\"../data/processed/street_furniture_density.csv\", engine='pyarrow')\n",
    "\n",
    "logger.success(\"Street furniture density data loaded.\")"
   ]
  },
  {
   "cell_type": "code",
   "execution_count": 29,
   "metadata": {},
   "outputs": [
    {
     "name": "stdout",
     "output_type": "stream",
     "text": [
      "<class 'geopandas.geodataframe.GeoDataFrame'>\n",
      "RangeIndex: 1874608 entries, 0 to 1874607\n",
      "Data columns (total 32 columns):\n",
      " #   Column                         Dtype   \n",
      "---  ------                         -----   \n",
      " 0   5g_technology                  float64 \n",
      " 1   5g_mindown                     float64 \n",
      " 2   5g_minup                       float64 \n",
      " 3   5g_environmnt                  float64 \n",
      " 4   5g_h3_res9_id                  object  \n",
      " 5   4g_technology                  float64 \n",
      " 6   4g_mindown                     float64 \n",
      " 7   4g_minup                       float64 \n",
      " 8   4g_environmnt                  float64 \n",
      " 9   4g_h3_res9_id                  object  \n",
      " 10  width                          float64 \n",
      " 11  geometry                       geometry\n",
      " 12  point_index                    int64   \n",
      " 13  ft_above_sea                   uint16  \n",
      " 14  n_cameras_median               int64   \n",
      " 15  Unnamed: 0                     int64   \n",
      " 16  width_street_furniture         float64 \n",
      " 17  geometry_street_furniture      object  \n",
      " 18  bus_stop_count                 float64 \n",
      " 19  trash_can_count                float64 \n",
      " 20  linknyc_count                  float64 \n",
      " 21  citybench_count                float64 \n",
      " 22  bicycle_parking_shelter_count  float64 \n",
      " 23  bicycle_rack_count             float64 \n",
      " 24  tree_count                     float64 \n",
      " 25  newsstand_count                float64 \n",
      " 26  parking_meter_count            float64 \n",
      " 27  hydrant_count                  float64 \n",
      " 28  street_sign_count              float64 \n",
      " 29  alarm_call_box_count           float64 \n",
      " 30  scaffolding_permit_count       float64 \n",
      " 31  clutter                        float64 \n",
      "dtypes: float64(24), geometry(1), int64(3), object(3), uint16(1)\n",
      "memory usage: 446.9+ MB\n",
      "None\n"
     ]
    }
   ],
   "source": [
    "sidewalk_nyc = sidewalk_nyc.merge(street_furniture_nyc, on='point_index', how='left', suffixes=('','_street_furniture'))\n",
    "print(sidewalk_nyc.info())"
   ]
  },
  {
   "cell_type": "markdown",
   "metadata": {},
   "source": [
    "### NYC Zoning (ZOLA)"
   ]
  },
  {
   "cell_type": "code",
   "execution_count": 30,
   "metadata": {},
   "outputs": [
    {
     "name": "stderr",
     "output_type": "stream",
     "text": [
      "\u001b[32m2024-12-10 00:36:19 - robotability-score - SUCCESS - ZOLA data loaded.\u001b[0m\n"
     ]
    }
   ],
   "source": [
    "zoning_nyc = gpd.read_file(\"../data/nyc_zoning/nyzd.shp\")\n",
    "\n",
    "logger.success(\"ZOLA data loaded.\")"
   ]
  },
  {
   "cell_type": "code",
   "execution_count": 31,
   "metadata": {},
   "outputs": [
    {
     "name": "stdout",
     "output_type": "stream",
     "text": [
      "<class 'geopandas.geodataframe.GeoDataFrame'>\n",
      "Index: 1874608 entries, 0 to 1874607\n",
      "Data columns (total 35 columns):\n",
      " #   Column                         Dtype   \n",
      "---  ------                         -----   \n",
      " 0   5g_technology                  float64 \n",
      " 1   5g_mindown                     float64 \n",
      " 2   5g_minup                       float64 \n",
      " 3   5g_environmnt                  float64 \n",
      " 4   5g_h3_res9_id                  object  \n",
      " 5   4g_technology                  float64 \n",
      " 6   4g_mindown                     float64 \n",
      " 7   4g_minup                       float64 \n",
      " 8   4g_environmnt                  float64 \n",
      " 9   4g_h3_res9_id                  object  \n",
      " 10  width                          float64 \n",
      " 11  geometry                       geometry\n",
      " 12  point_index                    int64   \n",
      " 13  ft_above_sea                   uint16  \n",
      " 14  n_cameras_median               int64   \n",
      " 15  Unnamed: 0                     int64   \n",
      " 16  width_street_furniture         float64 \n",
      " 17  geometry_street_furniture      object  \n",
      " 18  bus_stop_count                 float64 \n",
      " 19  trash_can_count                float64 \n",
      " 20  linknyc_count                  float64 \n",
      " 21  citybench_count                float64 \n",
      " 22  bicycle_parking_shelter_count  float64 \n",
      " 23  bicycle_rack_count             float64 \n",
      " 24  tree_count                     float64 \n",
      " 25  newsstand_count                float64 \n",
      " 26  parking_meter_count            float64 \n",
      " 27  hydrant_count                  float64 \n",
      " 28  street_sign_count              float64 \n",
      " 29  alarm_call_box_count           float64 \n",
      " 30  scaffolding_permit_count       float64 \n",
      " 31  clutter                        float64 \n",
      " 32  ZONEDIST                       object  \n",
      " 33  Shape_Leng                     float64 \n",
      " 34  Shape_Area                     float64 \n",
      "dtypes: float64(26), geometry(1), int64(3), object(4), uint16(1)\n",
      "memory usage: 504.1+ MB\n",
      "None\n"
     ]
    }
   ],
   "source": [
    "# get the zoning of each point in sidewalk_nyc\n",
    "sidewalk_nyc = gpd.sjoin(sidewalk_nyc, zoning_nyc, how='left', predicate='intersects').drop(columns=['index_right'])\n",
    "print(sidewalk_nyc.info())\n"
   ]
  },
  {
   "cell_type": "markdown",
   "metadata": {},
   "source": [
    "### CitiBike Stations \n",
    "We simulate charging stations in the environment with existing CitiBike charging stations. It is also possible to simulate this via random sampling of the NYC road network, but we think citibike stations might be a more accurate distribution to pull from , as they are influenced by population density and zoning patterns. "
   ]
  },
  {
   "cell_type": "code",
   "execution_count": 32,
   "metadata": {},
   "outputs": [
    {
     "name": "stderr",
     "output_type": "stream",
     "text": [
      "\u001b[32m2024-12-10 00:36:57 - robotability-score - SUCCESS - Citibike stations data loaded.\u001b[0m\n"
     ]
    }
   ],
   "source": [
    "citibike_stations_nyc = pd.read_json(\"../data/citibike/station_information.json\")\n",
    "citibike_stations_nyc = pd.json_normalize(citibike_stations_nyc['data']).T \n",
    "citibike_stations_nyc = pd.json_normalize(citibike_stations_nyc[0])\n",
    "citibike_stations_nyc = gpd.GeoDataFrame(citibike_stations_nyc, geometry=gpd.points_from_xy(citibike_stations_nyc['lon'], citibike_stations_nyc['lat']), crs=WGS).to_crs(PROJ)\n",
    "\n",
    "# get nearest station to each point in sidewalk nyc \n",
    "nearest_station_to_pt = gpd.sjoin_nearest(sidewalk_nyc, citibike_stations_nyc, how='left', distance_col='distance_to_nearest_station').drop(columns=['index_right'])\n",
    "\n",
    "# merge 'distance_to_nearest_station' with sidewalk_nyc\n",
    "sidewalk_nyc = sidewalk_nyc.merge(nearest_station_to_pt[['point_index','distance_to_nearest_station']], on='point_index', how='left')\n",
    "\n",
    "\n",
    "logger.success(\"Citibike stations data loaded.\")"
   ]
  },
  {
   "cell_type": "markdown",
   "metadata": {},
   "source": [
    "### Street Lighting "
   ]
  },
  {
   "cell_type": "markdown",
   "metadata": {},
   "source": []
  },
  {
   "cell_type": "markdown",
   "metadata": {},
   "source": [
    "### Curb Ramps "
   ]
  },
  {
   "cell_type": "code",
   "execution_count": 33,
   "metadata": {},
   "outputs": [],
   "source": [
    "curb_ramps_nyc = pd.read_csv(\"../data/pedestrian_curb_ramp_nyc.csv\")\n",
    "# prepend 'CURBRAMP' to each column name\n",
    "curb_ramps_nyc.columns = [f'CURBRAMP_{col}' for col in curb_ramps_nyc.columns]\n",
    "curb_ramps_nyc = gpd.GeoDataFrame(curb_ramps_nyc, geometry=wkt.loads(curb_ramps_nyc['CURBRAMP_the_geom']), crs=WGS).to_crs(PROJ)\n",
    "\n",
    "# only keep curb ramps that are 'Good Condition' in the CURBRAMP_DWS_CONDITIONS col\n",
    "curb_ramps_nyc = curb_ramps_nyc[curb_ramps_nyc['CURBRAMP_DWS_CONDITIONS'] == 'Good Condition']"
   ]
  },
  {
   "cell_type": "code",
   "execution_count": 34,
   "metadata": {},
   "outputs": [
    {
     "name": "stdout",
     "output_type": "stream",
     "text": [
      "<class 'geopandas.geodataframe.GeoDataFrame'>\n",
      "RangeIndex: 1874608 entries, 0 to 1874607\n",
      "Data columns (total 37 columns):\n",
      " #   Column                         Dtype   \n",
      "---  ------                         -----   \n",
      " 0   5g_technology                  float64 \n",
      " 1   5g_mindown                     float64 \n",
      " 2   5g_minup                       float64 \n",
      " 3   5g_environmnt                  float64 \n",
      " 4   5g_h3_res9_id                  object  \n",
      " 5   4g_technology                  float64 \n",
      " 6   4g_mindown                     float64 \n",
      " 7   4g_minup                       float64 \n",
      " 8   4g_environmnt                  float64 \n",
      " 9   4g_h3_res9_id                  object  \n",
      " 10  width                          float64 \n",
      " 11  geometry                       geometry\n",
      " 12  point_index                    int64   \n",
      " 13  ft_above_sea                   uint16  \n",
      " 14  n_cameras_median               int64   \n",
      " 15  Unnamed: 0                     int64   \n",
      " 16  width_street_furniture         float64 \n",
      " 17  geometry_street_furniture      object  \n",
      " 18  bus_stop_count                 float64 \n",
      " 19  trash_can_count                float64 \n",
      " 20  linknyc_count                  float64 \n",
      " 21  citybench_count                float64 \n",
      " 22  bicycle_parking_shelter_count  float64 \n",
      " 23  bicycle_rack_count             float64 \n",
      " 24  tree_count                     float64 \n",
      " 25  newsstand_count                float64 \n",
      " 26  parking_meter_count            float64 \n",
      " 27  hydrant_count                  float64 \n",
      " 28  street_sign_count              float64 \n",
      " 29  alarm_call_box_count           float64 \n",
      " 30  scaffolding_permit_count       float64 \n",
      " 31  clutter                        float64 \n",
      " 32  ZONEDIST                       object  \n",
      " 33  Shape_Leng                     float64 \n",
      " 34  Shape_Area                     float64 \n",
      " 35  distance_to_nearest_station    float64 \n",
      " 36  CURBRAMP_count                 int64   \n",
      "dtypes: float64(27), geometry(1), int64(4), object(4), uint16(1)\n",
      "memory usage: 518.5+ MB\n",
      "None\n"
     ]
    }
   ],
   "source": [
    "# buffer the curb ramps and merge with sidewalk_nyc \n",
    "curb_ramps_nyc['geometry'] = curb_ramps_nyc['geometry'].buffer(50)\n",
    "merged = gpd.sjoin(sidewalk_nyc, curb_ramps_nyc, how='left', predicate='intersects').drop(columns=['index_right'])\n",
    "merged = merged.groupby('point_index')['CURBRAMP_RampID'].agg('count').to_frame().rename(columns={'CURBRAMP_RampID':'CURBRAMP_count'})\n",
    "\n",
    "# groupby CURBRAMP_RampID and count the number of curb ramps in each group\n",
    "sidewalk_nyc = sidewalk_nyc.merge(merged, left_on='point_index', right_index=True, how='left')\n",
    "print(sidewalk_nyc.info())"
   ]
  },
  {
   "cell_type": "markdown",
   "metadata": {},
   "source": [
    "### Raised Crosswalks "
   ]
  },
  {
   "cell_type": "code",
   "execution_count": 35,
   "metadata": {},
   "outputs": [],
   "source": [
    "raised_crosswalks_nyc = pd.read_csv(\"../data/raised_crosswalks_nyc.csv\")\n",
    "raised_crosswalks_nyc.columns = [f'RAISEDCROSSWALK_{col}' for col in raised_crosswalks_nyc.columns]"
   ]
  },
  {
   "cell_type": "code",
   "execution_count": 36,
   "metadata": {},
   "outputs": [
    {
     "name": "stdout",
     "output_type": "stream",
     "text": [
      "<class 'geopandas.geodataframe.GeoDataFrame'>\n",
      "RangeIndex: 1874608 entries, 0 to 1874607\n",
      "Data columns (total 38 columns):\n",
      " #   Column                         Dtype   \n",
      "---  ------                         -----   \n",
      " 0   5g_technology                  float64 \n",
      " 1   5g_mindown                     float64 \n",
      " 2   5g_minup                       float64 \n",
      " 3   5g_environmnt                  float64 \n",
      " 4   5g_h3_res9_id                  object  \n",
      " 5   4g_technology                  float64 \n",
      " 6   4g_mindown                     float64 \n",
      " 7   4g_minup                       float64 \n",
      " 8   4g_environmnt                  float64 \n",
      " 9   4g_h3_res9_id                  object  \n",
      " 10  width                          float64 \n",
      " 11  geometry                       geometry\n",
      " 12  point_index                    int64   \n",
      " 13  ft_above_sea                   uint16  \n",
      " 14  n_cameras_median               int64   \n",
      " 15  Unnamed: 0                     int64   \n",
      " 16  width_street_furniture         float64 \n",
      " 17  geometry_street_furniture      object  \n",
      " 18  bus_stop_count                 float64 \n",
      " 19  trash_can_count                float64 \n",
      " 20  linknyc_count                  float64 \n",
      " 21  citybench_count                float64 \n",
      " 22  bicycle_parking_shelter_count  float64 \n",
      " 23  bicycle_rack_count             float64 \n",
      " 24  tree_count                     float64 \n",
      " 25  newsstand_count                float64 \n",
      " 26  parking_meter_count            float64 \n",
      " 27  hydrant_count                  float64 \n",
      " 28  street_sign_count              float64 \n",
      " 29  alarm_call_box_count           float64 \n",
      " 30  scaffolding_permit_count       float64 \n",
      " 31  clutter                        float64 \n",
      " 32  ZONEDIST                       object  \n",
      " 33  Shape_Leng                     float64 \n",
      " 34  Shape_Area                     float64 \n",
      " 35  distance_to_nearest_station    float64 \n",
      " 36  CURBRAMP_count                 int64   \n",
      " 37  RAISEDCROSSWALK_count          int64   \n",
      "dtypes: float64(27), geometry(1), int64(5), object(4), uint16(1)\n",
      "memory usage: 532.8+ MB\n",
      "None\n"
     ]
    }
   ],
   "source": [
    "raised_crosswalks_nyc = gpd.GeoDataFrame(raised_crosswalks_nyc, geometry=wkt.loads(raised_crosswalks_nyc['RAISEDCROSSWALK_WKT Geometry']), crs=PROJ)\n",
    "raised_crosswalks_nyc['RAISEDCROSSWALK_index'] = raised_crosswalks_nyc.index\n",
    "# prepend 'RAISEDCROSSWALK' to each column name\n",
    "# buffer the raised crosswalks and merge with sidewalk_nyc\n",
    "raised_crosswalks_nyc['geometry'] = raised_crosswalks_nyc['geometry'].buffer(50)\n",
    "\n",
    "\n",
    "merged = gpd.sjoin(sidewalk_nyc, raised_crosswalks_nyc, how='left', predicate='intersects').drop(columns=['index_right'])\n",
    "merged = merged.groupby('point_index')['RAISEDCROSSWALK_index'].agg('count').to_frame().rename(columns={'RAISEDCROSSWALK_index':'RAISEDCROSSWALK_count'})\n",
    "\n",
    "# groupby RAISEDCROSSWALK_index and count the number of raised crosswalks in each group\n",
    "sidewalk_nyc = sidewalk_nyc.merge(merged, left_on='point_index', right_index=True, how='left')\n",
    "\n",
    "print(sidewalk_nyc.info())"
   ]
  },
  {
   "cell_type": "markdown",
   "metadata": {},
   "source": [
    "### Sidewalk Scorecard \n"
   ]
  },
  {
   "cell_type": "code",
   "execution_count": 37,
   "metadata": {},
   "outputs": [],
   "source": [
    "sidewalk_scorecard_nyc = pd.read_csv(\"../data/Scorecard_Ratings_20240814.csv\") \n",
    "sidewalk_scorecard_nyc\n",
    "sidewalk_scorecard_nyc.columns = [f'SCORECARD_{col}' for col in sidewalk_scorecard_nyc.columns]\n",
    "# only keep 2023/09 \n",
    "sidewalk_scorecard_nyc = sidewalk_scorecard_nyc[sidewalk_scorecard_nyc['SCORECARD_Month'] == '2023 / 09']"
   ]
  },
  {
   "cell_type": "code",
   "execution_count": 38,
   "metadata": {},
   "outputs": [],
   "source": [
    "sidewalk_scorecard_nyc['cd_code'] = sidewalk_scorecard_nyc['SCORECARD_Community Board']\n",
    "boro_mapping = { \n",
    "    'Manhattan': 1,\n",
    "    'Bronx': 2,\n",
    "    'Brooklyn': 3,\n",
    "    'Queens': 4,\n",
    "    'Staten Island': 5\n",
    "}\n",
    "\n",
    "sidewalk_scorecard_nyc['boro_code'] = sidewalk_scorecard_nyc['SCORECARD_Borough'].map(boro_mapping)\n",
    "\n",
    "sidewalk_scorecard_nyc['cd_code'] = sidewalk_scorecard_nyc['cd_code'].astype(str)\n",
    "sidewalk_scorecard_nyc['boro_code'] = sidewalk_scorecard_nyc['boro_code'].astype(str)\n",
    "\n",
    "# prepend boro_code to cd_code, and padd cd_code so its always 2 digits \n",
    "sidewalk_scorecard_nyc['cd_code'] = sidewalk_scorecard_nyc['boro_code'] + sidewalk_scorecard_nyc['cd_code'].str.zfill(2)\n",
    "sidewalk_scorecard_nyc.drop(columns=['SCORECARD_Month', 'SCORECARD_Borough', 'SCORECARD_Community Board', 'SCORECARD_District', 'SCORECARD_Cleaning Section', 'boro_code'], inplace=True)\n",
    "# cast cd_code to int \n",
    "sidewalk_scorecard_nyc['cd_code'] = sidewalk_scorecard_nyc['cd_code'].astype(int)\n",
    "\n",
    "# aggregate together rows with the same cd_code and mean \n",
    "sidewalk_scorecard_nyc = sidewalk_scorecard_nyc.groupby('cd_code').mean().reset_index()\n",
    "\n",
    "\n",
    "\n",
    "cds_nyc = cds_nyc.merge(sidewalk_scorecard_nyc, left_on='boro_cd', right_on='cd_code', how='left')\n",
    "\n",
    "cds_nyc['sidewalk_quality'] = cds_nyc['SCORECARD_Acceptable Streets % - Previous Month']\n",
    "\n",
    "# drop all 'SCORECARD_' prefixed columns \n",
    "TO_DROP = [col for col in cds_nyc.columns if 'SCORECARD_' in col]\n",
    "cds_nyc = cds_nyc.drop(columns=TO_DROP)"
   ]
  },
  {
   "cell_type": "code",
   "execution_count": 39,
   "metadata": {},
   "outputs": [
    {
     "name": "stdout",
     "output_type": "stream",
     "text": [
      "<class 'geopandas.geodataframe.GeoDataFrame'>\n",
      "Index: 1874608 entries, 0 to 1874607\n",
      "Data columns (total 43 columns):\n",
      " #   Column                         Dtype   \n",
      "---  ------                         -----   \n",
      " 0   5g_technology                  float64 \n",
      " 1   5g_mindown                     float64 \n",
      " 2   5g_minup                       float64 \n",
      " 3   5g_environmnt                  float64 \n",
      " 4   5g_h3_res9_id                  object  \n",
      " 5   4g_technology                  float64 \n",
      " 6   4g_mindown                     float64 \n",
      " 7   4g_minup                       float64 \n",
      " 8   4g_environmnt                  float64 \n",
      " 9   4g_h3_res9_id                  object  \n",
      " 10  width                          float64 \n",
      " 11  geometry                       geometry\n",
      " 12  point_index                    int64   \n",
      " 13  ft_above_sea                   uint16  \n",
      " 14  n_cameras_median               int64   \n",
      " 15  Unnamed: 0                     int64   \n",
      " 16  width_street_furniture         float64 \n",
      " 17  geometry_street_furniture      object  \n",
      " 18  bus_stop_count                 float64 \n",
      " 19  trash_can_count                float64 \n",
      " 20  linknyc_count                  float64 \n",
      " 21  citybench_count                float64 \n",
      " 22  bicycle_parking_shelter_count  float64 \n",
      " 23  bicycle_rack_count             float64 \n",
      " 24  tree_count                     float64 \n",
      " 25  newsstand_count                float64 \n",
      " 26  parking_meter_count            float64 \n",
      " 27  hydrant_count                  float64 \n",
      " 28  street_sign_count              float64 \n",
      " 29  alarm_call_box_count           float64 \n",
      " 30  scaffolding_permit_count       float64 \n",
      " 31  clutter                        float64 \n",
      " 32  ZONEDIST                       object  \n",
      " 33  Shape_Leng                     float64 \n",
      " 34  Shape_Area                     float64 \n",
      " 35  distance_to_nearest_station    float64 \n",
      " 36  CURBRAMP_count                 int64   \n",
      " 37  RAISEDCROSSWALK_count          int64   \n",
      " 38  boro_cd                        float64 \n",
      " 39  shape_area                     float64 \n",
      " 40  shape_leng                     float64 \n",
      " 41  cd_code                        float64 \n",
      " 42  sidewalk_quality               float64 \n",
      "dtypes: float64(32), geometry(1), int64(5), object(4), uint16(1)\n",
      "memory usage: 618.6+ MB\n",
      "None\n"
     ]
    }
   ],
   "source": [
    "# now, spatial join of cds_nyc with sidewalk_nyc\n",
    "sidewalk_nyc = gpd.sjoin(sidewalk_nyc, cds_nyc, how='left', predicate='intersects').drop(columns=['index_right'])\n",
    "print(sidewalk_nyc.info())"
   ]
  },
  {
   "cell_type": "markdown",
   "metadata": {},
   "source": [
    "### Points of Interest "
   ]
  },
  {
   "cell_type": "code",
   "execution_count": 40,
   "metadata": {},
   "outputs": [],
   "source": [
    "pois_nyc = pd.read_csv(\"../data/pois_nyc.csv\") \n",
    "# prepend 'POI' to each column name\n",
    "pois_nyc.columns = [f'POI_{col}' for col in pois_nyc.columns]\n",
    "pois_nyc = gpd.GeoDataFrame(pois_nyc, geometry=wkt.loads(pois_nyc['POI_the_geom']), crs=WGS).to_crs(PROJ)"
   ]
  },
  {
   "cell_type": "code",
   "execution_count": 41,
   "metadata": {},
   "outputs": [],
   "source": [
    "# buffer the pois and merge with sidewalk_nyc\n",
    "pois_nyc['geometry'] = pois_nyc['geometry'].buffer(50)\n",
    "sidewalk_nyc = gpd.sjoin(sidewalk_nyc, pois_nyc, how='left', predicate='intersects').drop(columns=['index_right'])"
   ]
  },
  {
   "cell_type": "markdown",
   "metadata": {},
   "source": [
    "### Traffic Density "
   ]
  },
  {
   "cell_type": "code",
   "execution_count": 42,
   "metadata": {},
   "outputs": [],
   "source": [
    "traffic_nyc = pd.read_csv(\"../data/avg_traffic_by_sidewalk_august.csv\", engine='pyarrow')"
   ]
  },
  {
   "cell_type": "code",
   "execution_count": 43,
   "metadata": {},
   "outputs": [],
   "source": [
    "traffic_nyc = traffic_nyc[['point_index', '0','1','2']]\n",
    "# columns = 'pedestrian', 'bike', 'car', \n",
    "traffic_nyc.columns = ['point_index', 'TRAFFIC_Pedestrian', 'TRAFFIC_Bike', 'TRAFFIC_Car']"
   ]
  },
  {
   "cell_type": "code",
   "execution_count": 44,
   "metadata": {},
   "outputs": [],
   "source": [
    "# merge \n",
    "sidewalk_nyc = sidewalk_nyc.merge(traffic_nyc, on='point_index', how='left')"
   ]
  },
  {
   "cell_type": "code",
   "execution_count": 45,
   "metadata": {},
   "outputs": [
    {
     "data": {
      "text/html": [
       "<div>\n",
       "<style scoped>\n",
       "    .dataframe tbody tr th:only-of-type {\n",
       "        vertical-align: middle;\n",
       "    }\n",
       "\n",
       "    .dataframe tbody tr th {\n",
       "        vertical-align: top;\n",
       "    }\n",
       "\n",
       "    .dataframe thead th {\n",
       "        text-align: right;\n",
       "    }\n",
       "</style>\n",
       "<table border=\"1\" class=\"dataframe\">\n",
       "  <thead>\n",
       "    <tr style=\"text-align: right;\">\n",
       "      <th></th>\n",
       "      <th>5g_technology</th>\n",
       "      <th>5g_mindown</th>\n",
       "      <th>5g_minup</th>\n",
       "      <th>5g_environmnt</th>\n",
       "      <th>5g_h3_res9_id</th>\n",
       "      <th>4g_technology</th>\n",
       "      <th>4g_mindown</th>\n",
       "      <th>4g_minup</th>\n",
       "      <th>4g_environmnt</th>\n",
       "      <th>4g_h3_res9_id</th>\n",
       "      <th>...</th>\n",
       "      <th>POI_CREATED</th>\n",
       "      <th>POI_MODIFIED</th>\n",
       "      <th>POI_FACILITY_T</th>\n",
       "      <th>POI_SOURCE</th>\n",
       "      <th>POI_B7SC</th>\n",
       "      <th>POI_PRI_ADD</th>\n",
       "      <th>POI_NAME</th>\n",
       "      <th>TRAFFIC_Pedestrian</th>\n",
       "      <th>TRAFFIC_Bike</th>\n",
       "      <th>TRAFFIC_Car</th>\n",
       "    </tr>\n",
       "  </thead>\n",
       "  <tbody>\n",
       "    <tr>\n",
       "      <th>0</th>\n",
       "      <td>500.0</td>\n",
       "      <td>35.0</td>\n",
       "      <td>3.0</td>\n",
       "      <td>1.0</td>\n",
       "      <td>892a106e287ffff</td>\n",
       "      <td>NaN</td>\n",
       "      <td>NaN</td>\n",
       "      <td>NaN</td>\n",
       "      <td>NaN</td>\n",
       "      <td>NaN</td>\n",
       "      <td>...</td>\n",
       "      <td>NaN</td>\n",
       "      <td>NaN</td>\n",
       "      <td>NaN</td>\n",
       "      <td>NaN</td>\n",
       "      <td>NaN</td>\n",
       "      <td>NaN</td>\n",
       "      <td>NaN</td>\n",
       "      <td>NaN</td>\n",
       "      <td>NaN</td>\n",
       "      <td>NaN</td>\n",
       "    </tr>\n",
       "    <tr>\n",
       "      <th>1</th>\n",
       "      <td>500.0</td>\n",
       "      <td>35.0</td>\n",
       "      <td>3.0</td>\n",
       "      <td>1.0</td>\n",
       "      <td>892a106e287ffff</td>\n",
       "      <td>NaN</td>\n",
       "      <td>NaN</td>\n",
       "      <td>NaN</td>\n",
       "      <td>NaN</td>\n",
       "      <td>NaN</td>\n",
       "      <td>...</td>\n",
       "      <td>NaN</td>\n",
       "      <td>NaN</td>\n",
       "      <td>NaN</td>\n",
       "      <td>NaN</td>\n",
       "      <td>NaN</td>\n",
       "      <td>NaN</td>\n",
       "      <td>NaN</td>\n",
       "      <td>NaN</td>\n",
       "      <td>NaN</td>\n",
       "      <td>NaN</td>\n",
       "    </tr>\n",
       "    <tr>\n",
       "      <th>2</th>\n",
       "      <td>500.0</td>\n",
       "      <td>35.0</td>\n",
       "      <td>3.0</td>\n",
       "      <td>1.0</td>\n",
       "      <td>892a106e287ffff</td>\n",
       "      <td>NaN</td>\n",
       "      <td>NaN</td>\n",
       "      <td>NaN</td>\n",
       "      <td>NaN</td>\n",
       "      <td>NaN</td>\n",
       "      <td>...</td>\n",
       "      <td>NaN</td>\n",
       "      <td>NaN</td>\n",
       "      <td>NaN</td>\n",
       "      <td>NaN</td>\n",
       "      <td>NaN</td>\n",
       "      <td>NaN</td>\n",
       "      <td>NaN</td>\n",
       "      <td>NaN</td>\n",
       "      <td>NaN</td>\n",
       "      <td>NaN</td>\n",
       "    </tr>\n",
       "    <tr>\n",
       "      <th>3</th>\n",
       "      <td>500.0</td>\n",
       "      <td>35.0</td>\n",
       "      <td>3.0</td>\n",
       "      <td>1.0</td>\n",
       "      <td>892a106e287ffff</td>\n",
       "      <td>NaN</td>\n",
       "      <td>NaN</td>\n",
       "      <td>NaN</td>\n",
       "      <td>NaN</td>\n",
       "      <td>NaN</td>\n",
       "      <td>...</td>\n",
       "      <td>NaN</td>\n",
       "      <td>NaN</td>\n",
       "      <td>NaN</td>\n",
       "      <td>NaN</td>\n",
       "      <td>NaN</td>\n",
       "      <td>NaN</td>\n",
       "      <td>NaN</td>\n",
       "      <td>NaN</td>\n",
       "      <td>NaN</td>\n",
       "      <td>NaN</td>\n",
       "    </tr>\n",
       "    <tr>\n",
       "      <th>4</th>\n",
       "      <td>500.0</td>\n",
       "      <td>35.0</td>\n",
       "      <td>3.0</td>\n",
       "      <td>1.0</td>\n",
       "      <td>892a106e287ffff</td>\n",
       "      <td>NaN</td>\n",
       "      <td>NaN</td>\n",
       "      <td>NaN</td>\n",
       "      <td>NaN</td>\n",
       "      <td>NaN</td>\n",
       "      <td>...</td>\n",
       "      <td>NaN</td>\n",
       "      <td>NaN</td>\n",
       "      <td>NaN</td>\n",
       "      <td>NaN</td>\n",
       "      <td>NaN</td>\n",
       "      <td>NaN</td>\n",
       "      <td>NaN</td>\n",
       "      <td>NaN</td>\n",
       "      <td>NaN</td>\n",
       "      <td>NaN</td>\n",
       "    </tr>\n",
       "    <tr>\n",
       "      <th>...</th>\n",
       "      <td>...</td>\n",
       "      <td>...</td>\n",
       "      <td>...</td>\n",
       "      <td>...</td>\n",
       "      <td>...</td>\n",
       "      <td>...</td>\n",
       "      <td>...</td>\n",
       "      <td>...</td>\n",
       "      <td>...</td>\n",
       "      <td>...</td>\n",
       "      <td>...</td>\n",
       "      <td>...</td>\n",
       "      <td>...</td>\n",
       "      <td>...</td>\n",
       "      <td>...</td>\n",
       "      <td>...</td>\n",
       "      <td>...</td>\n",
       "      <td>...</td>\n",
       "      <td>...</td>\n",
       "      <td>...</td>\n",
       "      <td>...</td>\n",
       "    </tr>\n",
       "    <tr>\n",
       "      <th>1876409</th>\n",
       "      <td>500.0</td>\n",
       "      <td>35.0</td>\n",
       "      <td>3.0</td>\n",
       "      <td>1.0</td>\n",
       "      <td>892a10054bbffff</td>\n",
       "      <td>400.0</td>\n",
       "      <td>5.0</td>\n",
       "      <td>1.0</td>\n",
       "      <td>1.0</td>\n",
       "      <td>892a10054bbffff</td>\n",
       "      <td>...</td>\n",
       "      <td>NaN</td>\n",
       "      <td>NaN</td>\n",
       "      <td>NaN</td>\n",
       "      <td>NaN</td>\n",
       "      <td>NaN</td>\n",
       "      <td>NaN</td>\n",
       "      <td>NaN</td>\n",
       "      <td>0.142857</td>\n",
       "      <td>0.0</td>\n",
       "      <td>8.857143</td>\n",
       "    </tr>\n",
       "    <tr>\n",
       "      <th>1876410</th>\n",
       "      <td>500.0</td>\n",
       "      <td>35.0</td>\n",
       "      <td>3.0</td>\n",
       "      <td>1.0</td>\n",
       "      <td>892a10054bbffff</td>\n",
       "      <td>400.0</td>\n",
       "      <td>5.0</td>\n",
       "      <td>1.0</td>\n",
       "      <td>1.0</td>\n",
       "      <td>892a10054bbffff</td>\n",
       "      <td>...</td>\n",
       "      <td>05/14/2009 12:00:00 AM</td>\n",
       "      <td>11/27/2017 12:00:00 AM</td>\n",
       "      <td>5.0</td>\n",
       "      <td>EMS</td>\n",
       "      <td>NaN</td>\n",
       "      <td>190942.0</td>\n",
       "      <td>LITTLE NECK CARE CENTER</td>\n",
       "      <td>0.250000</td>\n",
       "      <td>0.0</td>\n",
       "      <td>6.500000</td>\n",
       "    </tr>\n",
       "    <tr>\n",
       "      <th>1876411</th>\n",
       "      <td>500.0</td>\n",
       "      <td>35.0</td>\n",
       "      <td>3.0</td>\n",
       "      <td>1.0</td>\n",
       "      <td>892a10054bbffff</td>\n",
       "      <td>400.0</td>\n",
       "      <td>5.0</td>\n",
       "      <td>1.0</td>\n",
       "      <td>1.0</td>\n",
       "      <td>892a10054bbffff</td>\n",
       "      <td>...</td>\n",
       "      <td>NaN</td>\n",
       "      <td>NaN</td>\n",
       "      <td>NaN</td>\n",
       "      <td>NaN</td>\n",
       "      <td>NaN</td>\n",
       "      <td>NaN</td>\n",
       "      <td>NaN</td>\n",
       "      <td>0.285714</td>\n",
       "      <td>0.0</td>\n",
       "      <td>8.142857</td>\n",
       "    </tr>\n",
       "    <tr>\n",
       "      <th>1876412</th>\n",
       "      <td>500.0</td>\n",
       "      <td>35.0</td>\n",
       "      <td>3.0</td>\n",
       "      <td>1.0</td>\n",
       "      <td>892a10054bbffff</td>\n",
       "      <td>400.0</td>\n",
       "      <td>5.0</td>\n",
       "      <td>1.0</td>\n",
       "      <td>1.0</td>\n",
       "      <td>892a10054bbffff</td>\n",
       "      <td>...</td>\n",
       "      <td>NaN</td>\n",
       "      <td>NaN</td>\n",
       "      <td>NaN</td>\n",
       "      <td>NaN</td>\n",
       "      <td>NaN</td>\n",
       "      <td>NaN</td>\n",
       "      <td>NaN</td>\n",
       "      <td>0.800000</td>\n",
       "      <td>0.0</td>\n",
       "      <td>7.600000</td>\n",
       "    </tr>\n",
       "    <tr>\n",
       "      <th>1876413</th>\n",
       "      <td>500.0</td>\n",
       "      <td>35.0</td>\n",
       "      <td>3.0</td>\n",
       "      <td>1.0</td>\n",
       "      <td>892a10054bbffff</td>\n",
       "      <td>400.0</td>\n",
       "      <td>5.0</td>\n",
       "      <td>1.0</td>\n",
       "      <td>1.0</td>\n",
       "      <td>892a10054bbffff</td>\n",
       "      <td>...</td>\n",
       "      <td>NaN</td>\n",
       "      <td>NaN</td>\n",
       "      <td>NaN</td>\n",
       "      <td>NaN</td>\n",
       "      <td>NaN</td>\n",
       "      <td>NaN</td>\n",
       "      <td>NaN</td>\n",
       "      <td>1.333333</td>\n",
       "      <td>0.0</td>\n",
       "      <td>8.000000</td>\n",
       "    </tr>\n",
       "  </tbody>\n",
       "</table>\n",
       "<p>1876414 rows × 62 columns</p>\n",
       "</div>"
      ],
      "text/plain": [
       "         5g_technology  5g_mindown  5g_minup  5g_environmnt    5g_h3_res9_id  \\\n",
       "0                500.0        35.0       3.0            1.0  892a106e287ffff   \n",
       "1                500.0        35.0       3.0            1.0  892a106e287ffff   \n",
       "2                500.0        35.0       3.0            1.0  892a106e287ffff   \n",
       "3                500.0        35.0       3.0            1.0  892a106e287ffff   \n",
       "4                500.0        35.0       3.0            1.0  892a106e287ffff   \n",
       "...                ...         ...       ...            ...              ...   \n",
       "1876409          500.0        35.0       3.0            1.0  892a10054bbffff   \n",
       "1876410          500.0        35.0       3.0            1.0  892a10054bbffff   \n",
       "1876411          500.0        35.0       3.0            1.0  892a10054bbffff   \n",
       "1876412          500.0        35.0       3.0            1.0  892a10054bbffff   \n",
       "1876413          500.0        35.0       3.0            1.0  892a10054bbffff   \n",
       "\n",
       "         4g_technology  4g_mindown  4g_minup  4g_environmnt    4g_h3_res9_id  \\\n",
       "0                  NaN         NaN       NaN            NaN              NaN   \n",
       "1                  NaN         NaN       NaN            NaN              NaN   \n",
       "2                  NaN         NaN       NaN            NaN              NaN   \n",
       "3                  NaN         NaN       NaN            NaN              NaN   \n",
       "4                  NaN         NaN       NaN            NaN              NaN   \n",
       "...                ...         ...       ...            ...              ...   \n",
       "1876409          400.0         5.0       1.0            1.0  892a10054bbffff   \n",
       "1876410          400.0         5.0       1.0            1.0  892a10054bbffff   \n",
       "1876411          400.0         5.0       1.0            1.0  892a10054bbffff   \n",
       "1876412          400.0         5.0       1.0            1.0  892a10054bbffff   \n",
       "1876413          400.0         5.0       1.0            1.0  892a10054bbffff   \n",
       "\n",
       "         ...             POI_CREATED            POI_MODIFIED  POI_FACILITY_T  \\\n",
       "0        ...                     NaN                     NaN             NaN   \n",
       "1        ...                     NaN                     NaN             NaN   \n",
       "2        ...                     NaN                     NaN             NaN   \n",
       "3        ...                     NaN                     NaN             NaN   \n",
       "4        ...                     NaN                     NaN             NaN   \n",
       "...      ...                     ...                     ...             ...   \n",
       "1876409  ...                     NaN                     NaN             NaN   \n",
       "1876410  ...  05/14/2009 12:00:00 AM  11/27/2017 12:00:00 AM             5.0   \n",
       "1876411  ...                     NaN                     NaN             NaN   \n",
       "1876412  ...                     NaN                     NaN             NaN   \n",
       "1876413  ...                     NaN                     NaN             NaN   \n",
       "\n",
       "         POI_SOURCE  POI_B7SC  POI_PRI_ADD                 POI_NAME  \\\n",
       "0               NaN       NaN          NaN                      NaN   \n",
       "1               NaN       NaN          NaN                      NaN   \n",
       "2               NaN       NaN          NaN                      NaN   \n",
       "3               NaN       NaN          NaN                      NaN   \n",
       "4               NaN       NaN          NaN                      NaN   \n",
       "...             ...       ...          ...                      ...   \n",
       "1876409         NaN       NaN          NaN                      NaN   \n",
       "1876410         EMS       NaN     190942.0  LITTLE NECK CARE CENTER   \n",
       "1876411         NaN       NaN          NaN                      NaN   \n",
       "1876412         NaN       NaN          NaN                      NaN   \n",
       "1876413         NaN       NaN          NaN                      NaN   \n",
       "\n",
       "        TRAFFIC_Pedestrian  TRAFFIC_Bike  TRAFFIC_Car  \n",
       "0                      NaN           NaN          NaN  \n",
       "1                      NaN           NaN          NaN  \n",
       "2                      NaN           NaN          NaN  \n",
       "3                      NaN           NaN          NaN  \n",
       "4                      NaN           NaN          NaN  \n",
       "...                    ...           ...          ...  \n",
       "1876409           0.142857           0.0     8.857143  \n",
       "1876410           0.250000           0.0     6.500000  \n",
       "1876411           0.285714           0.0     8.142857  \n",
       "1876412           0.800000           0.0     7.600000  \n",
       "1876413           1.333333           0.0     8.000000  \n",
       "\n",
       "[1876414 rows x 62 columns]"
      ]
     },
     "execution_count": 45,
     "metadata": {},
     "output_type": "execute_result"
    }
   ],
   "source": [
    "sidewalk_nyc"
   ]
  },
  {
   "cell_type": "markdown",
   "metadata": {
    "vscode": {
     "languageId": "bat"
    }
   },
   "source": [
    "### Shade "
   ]
  },
  {
   "cell_type": "code",
   "execution_count": 46,
   "metadata": {},
   "outputs": [],
   "source": [
    "# load tree census data \n",
    "tree_census_nyc = pd.read_csv(\"../data/tree_census_nyc.csv\", engine='pyarrow')\n",
    "\n"
   ]
  },
  {
   "cell_type": "code",
   "execution_count": 47,
   "metadata": {},
   "outputs": [
    {
     "data": {
      "text/plain": [
       "Index(['created_at', 'tree_id', 'block_id', 'the_geom', 'tree_dbh',\n",
       "       'stump_diam', 'curb_loc', 'status', 'health', 'spc_latin', 'spc_common',\n",
       "       'steward', 'guards', 'sidewalk', 'user_type', 'problems', 'root_stone',\n",
       "       'root_grate', 'root_other', 'trnk_wire', 'trnk_light', 'trnk_other',\n",
       "       'brnch_ligh', 'brnch_shoe', 'brnch_othe', 'address', 'zipcode',\n",
       "       'zip_city', 'cb_num', 'borocode', 'boroname', 'cncldist', 'st_assem',\n",
       "       'st_senate', 'nta', 'nta_name', 'boro_ct', 'state', 'Latitude',\n",
       "       'longitude', 'x_sp', 'y_sp'],\n",
       "      dtype='object')"
      ]
     },
     "execution_count": 47,
     "metadata": {},
     "output_type": "execute_result"
    }
   ],
   "source": [
    "tree_census_nyc.columns "
   ]
  },
  {
   "cell_type": "markdown",
   "metadata": {},
   "source": [
    "### Speed Limits \n"
   ]
  },
  {
   "cell_type": "code",
   "execution_count": 48,
   "metadata": {},
   "outputs": [],
   "source": [
    "speed_limits_nyc = pd.read_csv(\"../data/dot_VZV_Speed_Limits_20240814.csv\")\n",
    "speed_limits_nyc = gpd.GeoDataFrame(speed_limits_nyc, geometry=wkt.loads(speed_limits_nyc['the_geom']), crs=WGS).to_crs(PROJ)"
   ]
  },
  {
   "cell_type": "code",
   "execution_count": 49,
   "metadata": {},
   "outputs": [
    {
     "name": "stdout",
     "output_type": "stream",
     "text": [
      "<class 'geopandas.geodataframe.GeoDataFrame'>\n",
      "RangeIndex: 1876414 entries, 0 to 1876413\n",
      "Data columns (total 63 columns):\n",
      " #   Column                         Dtype   \n",
      "---  ------                         -----   \n",
      " 0   5g_technology                  float64 \n",
      " 1   5g_mindown                     float64 \n",
      " 2   5g_minup                       float64 \n",
      " 3   5g_environmnt                  float64 \n",
      " 4   5g_h3_res9_id                  object  \n",
      " 5   4g_technology                  float64 \n",
      " 6   4g_mindown                     float64 \n",
      " 7   4g_minup                       float64 \n",
      " 8   4g_environmnt                  float64 \n",
      " 9   4g_h3_res9_id                  object  \n",
      " 10  width                          float64 \n",
      " 11  geometry                       geometry\n",
      " 12  point_index                    int64   \n",
      " 13  ft_above_sea                   uint16  \n",
      " 14  n_cameras_median               int64   \n",
      " 15  Unnamed: 0                     int64   \n",
      " 16  width_street_furniture         float64 \n",
      " 17  geometry_street_furniture      object  \n",
      " 18  bus_stop_count                 float64 \n",
      " 19  trash_can_count                float64 \n",
      " 20  linknyc_count                  float64 \n",
      " 21  citybench_count                float64 \n",
      " 22  bicycle_parking_shelter_count  float64 \n",
      " 23  bicycle_rack_count             float64 \n",
      " 24  tree_count                     float64 \n",
      " 25  newsstand_count                float64 \n",
      " 26  parking_meter_count            float64 \n",
      " 27  hydrant_count                  float64 \n",
      " 28  street_sign_count              float64 \n",
      " 29  alarm_call_box_count           float64 \n",
      " 30  scaffolding_permit_count       float64 \n",
      " 31  clutter                        float64 \n",
      " 32  ZONEDIST                       object  \n",
      " 33  Shape_Leng                     float64 \n",
      " 34  Shape_Area                     float64 \n",
      " 35  distance_to_nearest_station    float64 \n",
      " 36  CURBRAMP_count                 int64   \n",
      " 37  RAISEDCROSSWALK_count          int64   \n",
      " 38  boro_cd                        float64 \n",
      " 39  shape_area                     float64 \n",
      " 40  shape_leng                     float64 \n",
      " 41  cd_code                        float64 \n",
      " 42  sidewalk_quality               float64 \n",
      " 43  POI_the_geom                   object  \n",
      " 44  POI_SEGMENTID                  float64 \n",
      " 45  POI_COMPLEXID                  float64 \n",
      " 46  POI_SAFTYPE                    object  \n",
      " 47  POI_SOS                        float64 \n",
      " 48  POI_PLACEID                    float64 \n",
      " 49  POI_FACI_DOM                   float64 \n",
      " 50  POI_BIN                        float64 \n",
      " 51  POI_BOROUGH                    float64 \n",
      " 52  POI_CREATED                    object  \n",
      " 53  POI_MODIFIED                   object  \n",
      " 54  POI_FACILITY_T                 float64 \n",
      " 55  POI_SOURCE                     object  \n",
      " 56  POI_B7SC                       float64 \n",
      " 57  POI_PRI_ADD                    float64 \n",
      " 58  POI_NAME                       object  \n",
      " 59  TRAFFIC_Pedestrian             float64 \n",
      " 60  TRAFFIC_Bike                   float64 \n",
      " 61  TRAFFIC_Car                    float64 \n",
      " 62  avg_speed_limit                float64 \n",
      "dtypes: float64(46), geometry(1), int64(5), object(10), uint16(1)\n",
      "memory usage: 891.2+ MB\n"
     ]
    }
   ],
   "source": [
    "merged = gpd.sjoin_nearest(sidewalk_nyc, speed_limits_nyc, how='left', distance_col='distance_to_nearest_speed_limit', max_distance=50).drop(columns=['index_right'])\n",
    "\n",
    "avg_speed_limit = merged.groupby('point_index')['postvz_sl'].mean().to_frame().rename(columns={'postvz_sl':'avg_speed_limit'})\n",
    "\n",
    "sidewalk_nyc = sidewalk_nyc.merge(avg_speed_limit, left_on='point_index', right_index=True, how='left')\n",
    "\n",
    "sidewalk_nyc.info()"
   ]
  },
  {
   "cell_type": "markdown",
   "metadata": {},
   "source": [
    "### Traffic Management Systems"
   ]
  },
  {
   "cell_type": "markdown",
   "metadata": {},
   "source": [
    "### Neighborhood Slow Zones "
   ]
  },
  {
   "cell_type": "code",
   "execution_count": 50,
   "metadata": {},
   "outputs": [],
   "source": [
    "neighborhood_slow_zones_nyc = pd.read_csv(\"../data/dot_VZV_Neighborhood_Slow_Zones_20240814.csv\")\n",
    "# prepend 'NEIGHBORHOODSLOWZONE' to each column name\n",
    "neighborhood_slow_zones_nyc.columns = [f'NEIGHBORHOODSLOWZONE_{col}' for col in neighborhood_slow_zones_nyc.columns]\n",
    "neighborhood_slow_zones_nyc = gpd.GeoDataFrame(neighborhood_slow_zones_nyc, geometry=wkt.loads(neighborhood_slow_zones_nyc['NEIGHBORHOODSLOWZONE_the_geom']), crs=WGS).to_crs(PROJ)"
   ]
  },
  {
   "cell_type": "code",
   "execution_count": 51,
   "metadata": {},
   "outputs": [],
   "source": [
    "# sjoin with sidewalk_nyc\n",
    "merged = gpd.sjoin(sidewalk_nyc, neighborhood_slow_zones_nyc, how='left', predicate='intersects').drop(columns=['index_right'])\n",
    "\n",
    "# if the point is in a slow zone, set 'in_slow_zone' to 1, else 0\n",
    "merged['in_slow_zone'] = merged['NEIGHBORHOODSLOWZONE_Name'].notnull().astype(int)\n",
    "\n",
    "# put back into sidewalk_nyc \n",
    "sidewalk_nyc['in_slow_zone'] = merged['in_slow_zone']\n"
   ]
  },
  {
   "cell_type": "markdown",
   "metadata": {},
   "source": [
    "### Turn Traffic Calming "
   ]
  },
  {
   "cell_type": "code",
   "execution_count": 52,
   "metadata": {},
   "outputs": [],
   "source": [
    "turn_traffic_calming_nyc = pd.read_csv(\"../data/dot_VZV_Turn_Traffic_Calming_20240814.csv\")\n",
    "turn_traffic_calming_nyc = gpd.GeoDataFrame(turn_traffic_calming_nyc, geometry=wkt.loads(turn_traffic_calming_nyc['the_geom']), crs=WGS).to_crs(PROJ)\n",
    "turn_traffic_calming_nyc['ttc_index'] = turn_traffic_calming_nyc.index"
   ]
  },
  {
   "cell_type": "code",
   "execution_count": 53,
   "metadata": {},
   "outputs": [],
   "source": [
    "# buffer the traffic calming features and merge with sidewalk_nyc\n",
    "turn_traffic_calming_nyc['geometry'] = turn_traffic_calming_nyc['geometry'].buffer(50)\n",
    "\n",
    "merged = gpd.sjoin(sidewalk_nyc, turn_traffic_calming_nyc, how='left', predicate='intersects').drop(columns=['index_right'])\n",
    "merged = merged.groupby('point_index')['ttc_index'].agg('count').to_frame().rename(columns={'ttc_index':'turn_traffic_calming_count'})\n",
    "\n",
    "sidewalk_nyc['turn_traffic_calming_count'] = merged\n"
   ]
  },
  {
   "cell_type": "markdown",
   "metadata": {},
   "source": [
    "### SIP Intersections "
   ]
  },
  {
   "cell_type": "code",
   "execution_count": 54,
   "metadata": {},
   "outputs": [],
   "source": [
    "sip_intersections_nyc = pd.read_csv(\"../data/dot_VZV_SIP_Intersections_20240814.csv\")\n",
    "sip_intersections_nyc = gpd.GeoDataFrame(sip_intersections_nyc, geometry=wkt.loads(sip_intersections_nyc['the_geom']), crs=WGS).to_crs(PROJ)\n",
    "sip_intersections_nyc['sipi_index'] = sip_intersections_nyc.index\n"
   ]
  },
  {
   "cell_type": "code",
   "execution_count": 55,
   "metadata": {},
   "outputs": [],
   "source": [
    "# buffer the sip intersections and merge with sidewalk_nyc\n",
    "sip_intersections_nyc['geometry'] = sip_intersections_nyc['geometry'].buffer(50)\n",
    "\n",
    "merged = gpd.sjoin(sidewalk_nyc, sip_intersections_nyc, how='left', predicate='intersects').drop(columns=['index_right'])\n",
    "merged = merged.groupby('point_index')['sipi_index'].agg('count').to_frame().rename(columns={'sipi_index':'sip_intersections_count'})\n",
    "\n",
    "sidewalk_nyc['sip_intersections_count'] = merged"
   ]
  },
  {
   "cell_type": "markdown",
   "metadata": {},
   "source": [
    "### SIP Corridors "
   ]
  },
  {
   "cell_type": "code",
   "execution_count": 56,
   "metadata": {},
   "outputs": [],
   "source": [
    "sip_corridors_nyc = pd.read_csv(\"../data/dot_VZV_SIP_Corridors_20240814.csv\")\n",
    "sip_corridors_nyc = gpd.GeoDataFrame(sip_corridors_nyc, geometry=wkt.loads(sip_corridors_nyc['the_geom']), crs=WGS).to_crs(PROJ)\n",
    "sip_corridors_nyc['sipc_index'] = sip_corridors_nyc.index"
   ]
  },
  {
   "cell_type": "code",
   "execution_count": 57,
   "metadata": {},
   "outputs": [],
   "source": [
    "# buffer the sip corridors and merge with sidewalk_nyc\n",
    "sip_corridors_nyc['geometry'] = sip_corridors_nyc['geometry'].buffer(50)\n",
    "\n",
    "merged = gpd.sjoin(sidewalk_nyc, sip_corridors_nyc, how='left', predicate='intersects').drop(columns=['index_right'])\n",
    "merged = merged.groupby('point_index')['sipc_index'].agg('count').to_frame().rename(columns={'sipc_index':'sip_corridors_count'})\n",
    "\n",
    "sidewalk_nyc['sip_corridors_count'] = merged"
   ]
  },
  {
   "cell_type": "markdown",
   "metadata": {},
   "source": [
    "### Barnes Dance Intersections "
   ]
  },
  {
   "cell_type": "code",
   "execution_count": 58,
   "metadata": {},
   "outputs": [],
   "source": [
    "barnes_intersections_nyc = pd.read_csv(\"../data/Exclusive_Pedestrian_Signal__Barnes_Dance__Locations_20240822.csv\")\n",
    "barnes_intersections_nyc = gpd.GeoDataFrame(barnes_intersections_nyc, geometry=wkt.loads(barnes_intersections_nyc['the_geom']), crs=WGS).to_crs(PROJ)\n",
    "barnes_intersections_nyc['barnes_index'] = barnes_intersections_nyc.index"
   ]
  },
  {
   "cell_type": "code",
   "execution_count": 59,
   "metadata": {},
   "outputs": [],
   "source": [
    "# buffer the barnes dance intersections and merge with sidewalk_nyc\n",
    "barnes_intersections_nyc['geometry'] = barnes_intersections_nyc['geometry'].buffer(50)\n",
    "\n",
    "merged = gpd.sjoin(sidewalk_nyc, barnes_intersections_nyc, how='left', predicate='intersects').drop(columns=['index_right'])\n",
    "merged = merged.groupby('point_index')['barnes_index'].agg('count').to_frame().rename(columns={'barnes_index':'barnes_intersections_count'})\n",
    "\n",
    "sidewalk_nyc['barnes_intersections_count'] = merged"
   ]
  },
  {
   "cell_type": "markdown",
   "metadata": {},
   "source": [
    "### Leading Pedestrian Intervals "
   ]
  },
  {
   "cell_type": "code",
   "execution_count": 60,
   "metadata": {},
   "outputs": [],
   "source": [
    "leading_ped_intervals_nyc = pd.read_csv(\"../data/dot_VZV_Leading_Pedestrian_Intervals_20240130.csv\")\n",
    "leading_ped_intervals_nyc = gpd.GeoDataFrame(leading_ped_intervals_nyc, geometry=wkt.loads(leading_ped_intervals_nyc['the_geom']), crs=WGS).to_crs(PROJ)\n",
    "leading_ped_intervals_nyc['lpi_index'] = leading_ped_intervals_nyc.index"
   ]
  },
  {
   "cell_type": "code",
   "execution_count": 61,
   "metadata": {},
   "outputs": [],
   "source": [
    "# buffer the leading pedestrian intervals and merge with sidewalk_nyc\n",
    "leading_ped_intervals_nyc['geometry'] = leading_ped_intervals_nyc['geometry'].buffer(50)\n",
    "\n",
    "merged = gpd.sjoin(sidewalk_nyc, leading_ped_intervals_nyc, how='left', predicate='intersects').drop(columns=['index_right'])\n",
    "merged = merged.groupby('point_index')['lpi_index'].agg('count').to_frame().rename(columns={'lpi_index':'leading_ped_intervals_count'})\n",
    "\n",
    "sidewalk_nyc['leading_ped_intervals_count'] = merged"
   ]
  },
  {
   "cell_type": "markdown",
   "metadata": {},
   "source": [
    "### Bike Routes "
   ]
  },
  {
   "cell_type": "code",
   "execution_count": 62,
   "metadata": {},
   "outputs": [
    {
     "data": {
      "text/plain": [
       "count    22983.000000\n",
       "mean         1.801049\n",
       "std          0.749003\n",
       "min          0.500000\n",
       "25%          1.000000\n",
       "50%          2.000000\n",
       "75%          2.000000\n",
       "max          3.000000\n",
       "Name: highest_bike_lane_facility_class, dtype: float64"
      ]
     },
     "execution_count": 62,
     "metadata": {},
     "output_type": "execute_result"
    }
   ],
   "source": [
    "bike_routes_nyc = pd.read_csv(\"../data/New_York_City_Bike_Routes_20240818.csv\")\n",
    "bike_routes_nyc = gpd.GeoDataFrame(bike_routes_nyc, geometry=wkt.loads(bike_routes_nyc['the_geom']), crs=WGS).to_crs(PROJ)\n",
    "bike_routes_nyc = bike_routes_nyc[bike_routes_nyc['status'] == 'Current']\n",
    "bike_routes_nyc = bike_routes_nyc[['bikeid', 'geometry', 'facilitycl']]\n",
    "bike_routes_nyc.columns = ['bikeid', 'geometry', 'highest_bike_lane_facility_class']\n",
    "\n",
    "bike_routes_nyc['highest_bike_lane_facility_class'].value_counts()\n",
    "\n",
    "fc_to_int = { \n",
    "    'L': 0.5, \n",
    "    'I': 1,\n",
    "    'II': 2,\n",
    "    'III': 3,\n",
    "}\n",
    "\n",
    "bike_routes_nyc['highest_bike_lane_facility_class'] = bike_routes_nyc['highest_bike_lane_facility_class'].map(fc_to_int)\n",
    "bike_routes_nyc['highest_bike_lane_facility_class'].describe()"
   ]
  },
  {
   "cell_type": "code",
   "execution_count": 63,
   "metadata": {},
   "outputs": [],
   "source": [
    "# sjoin with sidewalk_nyc\n",
    "merged = gpd.sjoin_nearest(sidewalk_nyc, bike_routes_nyc, how='left', distance_col='distance_to_nearest_bike_route', max_distance=50).drop(columns=['index_right'])\n",
    "\n",
    "# get the highest bike lane facility class for each point\n",
    "highest_bike_lane_facility_class = merged.groupby('point_index')['highest_bike_lane_facility_class'].mean().to_frame().rename(columns={'highest_bike_lane_facility_class':'avg_highest_bike_lane_facility_class'}).fillna(0)\n",
    "\n",
    "sidewalk_nyc['highest_bike_lane_facility_class'] = highest_bike_lane_facility_class\n",
    "\n",
    "\n"
   ]
  },
  {
   "cell_type": "markdown",
   "metadata": {},
   "source": [
    "### Traffic Collisions "
   ]
  },
  {
   "cell_type": "code",
   "execution_count": 64,
   "metadata": {},
   "outputs": [],
   "source": [
    "traffic_collisions_nyc = pd.read_csv(\"../data/Motor_Vehicle_Collisions_-_Crashes_20240822.csv\")\n",
    "# TIME FILTER \n",
    "\n",
    "traffic_collisions_nyc['num_peds_involved'] = traffic_collisions_nyc['NUMBER OF PEDESTRIANS INJURED'] + traffic_collisions_nyc['NUMBER OF PEDESTRIANS KILLED']"
   ]
  },
  {
   "cell_type": "code",
   "execution_count": 65,
   "metadata": {},
   "outputs": [],
   "source": [
    "traffic_collisions_nyc.dropna(subset=['LATITUDE','LONGITUDE'], inplace=True)\n",
    "traffic_collisions_nyc = gpd.GeoDataFrame(traffic_collisions_nyc, geometry=gpd.points_from_xy(traffic_collisions_nyc['LONGITUDE'], traffic_collisions_nyc['LATITUDE']), crs=WGS).to_crs(PROJ)\n",
    "\n",
    "# buffer the traffic collisions and merge with sidewalk_nyc\n",
    "traffic_collisions_nyc['geometry'] = traffic_collisions_nyc['geometry'].buffer(50)\n",
    "\n",
    "merged = gpd.sjoin(sidewalk_nyc, traffic_collisions_nyc, how='left', predicate='intersects').drop(columns=['index_right'])\n",
    "\n",
    "merged = merged.groupby('point_index')[['num_peds_involved']].sum().reset_index()\n",
    "\n"
   ]
  },
  {
   "cell_type": "code",
   "execution_count": 66,
   "metadata": {},
   "outputs": [
    {
     "data": {
      "text/plain": [
       "count    1.874608e+06\n",
       "mean     3.443066e-02\n",
       "std      2.352207e-01\n",
       "min      0.000000e+00\n",
       "25%      0.000000e+00\n",
       "50%      0.000000e+00\n",
       "75%      0.000000e+00\n",
       "max      2.000000e+01\n",
       "Name: num_peds_involved_in_collision, dtype: float64"
      ]
     },
     "execution_count": 66,
     "metadata": {},
     "output_type": "execute_result"
    }
   ],
   "source": [
    "sidewalk_nyc['num_peds_involved_in_collision'] = merged['num_peds_involved']\n",
    "sidewalk_nyc['num_peds_involved_in_collision'].describe()"
   ]
  },
  {
   "cell_type": "markdown",
   "metadata": {},
   "source": [
    "## Features that will not be modeled with empirical data "
   ]
  },
  {
   "cell_type": "markdown",
   "metadata": {},
   "source": [
    "### Weather Conditions \n",
    "We will assign weights to different types of weather. However, weather conditions may not be considered in use-cases where only the static built-environment is considered. "
   ]
  },
  {
   "cell_type": "markdown",
   "metadata": {},
   "source": [
    "### Existence of Detailed Digital Maps "
   ]
  },
  {
   "cell_type": "markdown",
   "metadata": {},
   "source": [
    "In the case of New York City, the entire city is covered by a DCM. As such, there is no need to bring this indicator in empirically, as the variance across the city is 0. "
   ]
  },
  {
   "cell_type": "markdown",
   "metadata": {},
   "source": [
    "## Features that cannot be modeled with empirical data "
   ]
  },
  {
   "cell_type": "markdown",
   "metadata": {},
   "source": [
    "### Sidewalk material \n",
    "There is no known dataset of sidewalk materials at the per-sidewalk level in NYC. Further, we deem that there is low variance; ie. the majority of sidewalks are all concrete. "
   ]
  },
  {
   "cell_type": "markdown",
   "metadata": {},
   "source": [
    "### Street lighting \n",
    "There is no known dataset of street lighting / lamp-posts in NYC. While a subset can be derived via the locations of relevant 311 complaints, we are unaware if this subset is representative of the overall distribution. "
   ]
  },
  {
   "cell_type": "markdown",
   "metadata": {},
   "source": [
    "## Features that are inferred via proxy datasets / other empirical data \n"
   ]
  },
  {
   "cell_type": "markdown",
   "metadata": {},
   "source": [
    "### Pedestrian flow "
   ]
  },
  {
   "cell_type": "markdown",
   "metadata": {},
   "source": [
    "### Sidewalk surface roughness \n",
    "We proxy this indicator via the sidewalk scorecard ratings dataset, which reports results at a granularity of the community district level."
   ]
  },
  {
   "cell_type": "markdown",
   "metadata": {},
   "source": [
    "### Shade \n",
    "We infer shade levels via the TreeFolio NYC dataset, which to-date only considers shade cast by street trees. There are other sources of shade in the city, namely tall buildings. "
   ]
  },
  {
   "cell_type": "markdown",
   "metadata": {},
   "source": [
    "## In-house indicators "
   ]
  },
  {
   "cell_type": "markdown",
   "metadata": {},
   "source": [
    "### Pedestrian density \n",
    "We compute the typical pedestrian densities at the per-sidewawlk level via YOLO (pretrained on COCO) inference on a large dataset of crowdsourced dashcam images. There are limitations. Namely, not every street segment in the city is covered: about 1/3 of our densely-sampled points along the sidewalk network lack data. Further, it is nontrivial & noisy to isolate which side of the street a pedestrian is walking on, and so there is noise in the map matching process. "
   ]
  },
  {
   "cell_type": "markdown",
   "metadata": {},
   "source": [
    "### Bike density\n",
    "We compute bicycle densities using the same process as pedestrian density; and so, the same limitations carry over.  "
   ]
  },
  {
   "cell_type": "markdown",
   "metadata": {},
   "source": [
    "### Vehicle density \n",
    "We compute vehicle densities using the same process as pedestrian density; and so, the same limitations carry over. "
   ]
  },
  {
   "cell_type": "markdown",
   "metadata": {},
   "source": []
  },
  {
   "cell_type": "code",
   "execution_count": 67,
   "metadata": {},
   "outputs": [],
   "source": [
    "sidewalk_nyc.to_csv(\"../data/processed/score_dataset.csv\")"
   ]
  },
  {
   "cell_type": "code",
   "execution_count": null,
   "metadata": {},
   "outputs": [],
   "source": []
  }
 ],
 "metadata": {
  "kernelspec": {
   "display_name": "Python 3",
   "language": "python",
   "name": "python3"
  },
  "language_info": {
   "codemirror_mode": {
    "name": "ipython",
    "version": 3
   },
   "file_extension": ".py",
   "mimetype": "text/x-python",
   "name": "python",
   "nbconvert_exporter": "python",
   "pygments_lexer": "ipython3",
   "version": "3.11.9"
  }
 },
 "nbformat": 4,
 "nbformat_minor": 2
}
