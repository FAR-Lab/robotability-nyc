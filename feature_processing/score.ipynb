{
 "cells": [
  {
   "cell_type": "code",
   "execution_count": 87,
   "metadata": {},
   "outputs": [
    {
     "name": "stderr",
     "output_type": "stream",
     "text": [
      "\u001b[34m2024-12-10 01:41:47 - robotability-score - INFO - Modules initialized.\u001b[0m\n"
     ]
    }
   ],
   "source": [
    "# class RobotabilityGraph that inherits from Graph class \n",
    "import os\n",
    "import sys \n",
    "sys.path.append(\"/share/ju/urban-fingerprinting\")\n",
    "\n",
    "import osmnx as ox \n",
    "import geopandas as gpd \n",
    "import pandas as pd \n",
    "import numpy as np \n",
    "\n",
    "import matplotlib.pyplot as plt \n",
    "# enable latex plotting \n",
    "plt.rc('text', usetex=True)\n",
    "plt.rc('font', family='serif')\n",
    "\n",
    "from glob import glob \n",
    "from tqdm import tqdm \n",
    "\n",
    "from shapely import wkt, LineString \n",
    "\n",
    "import rasterio\n",
    "from rasterio.enums import Resampling\n",
    "from rasterio.plot import show \n",
    "\n",
    "\n",
    "from src.utils.logger import setup_logger \n",
    "\n",
    "logger = setup_logger('robotability-score')\n",
    "logger.setLevel(\"INFO\")\n",
    "logger.info(\"Modules initialized.\")\n",
    "\n",
    "WGS='EPSG:4326'\n",
    "PROJ='EPSG:2263'\n",
    "\n"
   ]
  },
  {
   "cell_type": "code",
   "execution_count": 88,
   "metadata": {},
   "outputs": [],
   "source": [
    "def min_max_normalize(series: pd.Series) -> pd.Series:\n",
    "    \"\"\"\n",
    "    Normalize the input pandas Series using min-max normalization.\n",
    "\n",
    "    Parameters:\n",
    "    series (pd.Series): The pandas Series to normalize.\n",
    "\n",
    "    Returns:\n",
    "    pd.Series: A new pandas Series with values normalized between 0 and 1.\n",
    "    \"\"\"\n",
    "    min_val = series.min()\n",
    "    max_val = series.max()\n",
    "    \n",
    "    if min_val == max_val:\n",
    "        # Avoid division by zero; if all values are the same, return 0 for all elements\n",
    "        return pd.Series([0.0] * len(series), index=series.index)\n",
    "    \n",
    "    return (series - min_val) / (max_val - min_val)"
   ]
  },
  {
   "cell_type": "code",
   "execution_count": 89,
   "metadata": {},
   "outputs": [],
   "source": [
    "dataset = pd.read_csv(\"../data/processed/score_dataset.csv\", engine='pyarrow')\n",
    "dataset = gpd.GeoDataFrame(dataset, geometry=dataset['geometry'].apply(wkt.loads), crs=PROJ)"
   ]
  },
  {
   "cell_type": "code",
   "execution_count": 90,
   "metadata": {},
   "outputs": [
    {
     "data": {
      "text/plain": [
       "1876414"
      ]
     },
     "execution_count": 90,
     "metadata": {},
     "output_type": "execute_result"
    }
   ],
   "source": [
    "len(dataset.index)"
   ]
  },
  {
   "cell_type": "code",
   "execution_count": 91,
   "metadata": {},
   "outputs": [
    {
     "data": {
      "text/plain": [
       "array(['', '5g_technology', '5g_mindown', '5g_minup', '5g_environmnt',\n",
       "       '5g_h3_res9_id', '4g_technology', '4g_mindown', '4g_minup',\n",
       "       '4g_environmnt', '4g_h3_res9_id', 'width', 'segment_index',\n",
       "       'geometry', 'point_index', 'ft_above_sea', 'n_cameras_median',\n",
       "       'Unnamed: 0', 'width_street_furniture',\n",
       "       'geometry_street_furniture', 'bus_stop_count', 'trash_can_count',\n",
       "       'linknyc_count', 'citybench_count',\n",
       "       'bicycle_parking_shelter_count', 'bicycle_rack_count',\n",
       "       'tree_count', 'newsstand_count', 'parking_meter_count',\n",
       "       'hydrant_count', 'street_sign_count', 'alarm_call_box_count',\n",
       "       'scaffolding_permit_count', 'clutter', 'ZONEDIST', 'Shape_Leng',\n",
       "       'Shape_Area', 'distance_to_nearest_station', 'CURBRAMP_count',\n",
       "       'RAISEDCROSSWALK_count', 'boro_cd', 'shape_area', 'shape_leng',\n",
       "       'cd_code', 'sidewalk_quality', 'POI_the_geom', 'POI_SEGMENTID',\n",
       "       'POI_COMPLEXID', 'POI_SAFTYPE', 'POI_SOS', 'POI_PLACEID',\n",
       "       'POI_FACI_DOM', 'POI_BIN', 'POI_BOROUGH', 'POI_CREATED',\n",
       "       'POI_MODIFIED', 'POI_FACILITY_T', 'POI_SOURCE', 'POI_B7SC',\n",
       "       'POI_PRI_ADD', 'POI_NAME', 'TRAFFIC_Pedestrian', 'TRAFFIC_Bike',\n",
       "       'TRAFFIC_Car', 'avg_speed_limit', 'in_slow_zone',\n",
       "       'turn_traffic_calming_count', 'sip_intersections_count',\n",
       "       'sip_corridors_count', 'barnes_intersections_count',\n",
       "       'leading_ped_intervals_count', 'highest_bike_lane_facility_class',\n",
       "       'num_peds_involved_in_collision'], dtype=object)"
      ]
     },
     "execution_count": 91,
     "metadata": {},
     "output_type": "execute_result"
    }
   ],
   "source": [
    "dataset.columns.values"
   ]
  },
  {
   "cell_type": "code",
   "execution_count": 92,
   "metadata": {},
   "outputs": [
    {
     "data": {
      "text/plain": [
       "                                       0\n",
       "5g_technology                       1635\n",
       "5g_mindown                          1635\n",
       "5g_minup                            1635\n",
       "5g_environmnt                       1635\n",
       "                                    ... \n",
       "sip_corridors_count                 1806\n",
       "barnes_intersections_count          1806\n",
       "leading_ped_intervals_count         1806\n",
       "highest_bike_lane_facility_class    1806\n",
       "num_peds_involved_in_collision      1806\n",
       "Length: 73, dtype: int64"
      ]
     },
     "execution_count": 92,
     "metadata": {},
     "output_type": "execute_result"
    }
   ],
   "source": [
    "dataset.isna().sum()  "
   ]
  },
  {
   "cell_type": "code",
   "execution_count": 93,
   "metadata": {},
   "outputs": [],
   "source": [
    "FEATURES = { \n",
    "    'sidewalk_width': 'Sidewalk Width',\n",
    "    'pedestrian_density': 'Pedestrian Density',\n",
    "    'street_furniture_density': 'Density of Street Furniture',\n",
    "    'sidewalk_roughness': 'Sidewalk Roughness',\n",
    "    'surface_condition': 'Surface Condition',\n",
    "    'communication_infrastructure': 'Wireless Communication Infrastructure',\n",
    "    'slope_gradient': 'Slope Gradient',\n",
    "    'charging_station_proximity': 'Proximity to Charging Stations',\n",
    "    'local_attitudes': 'Local Attitudes Towards Robots',\n",
    "    'curb_ramp_availability': 'Curb Ramp Availability',\n",
    "    'weather_conditions': 'Weather Conditions',\n",
    "    'crowd_dynamics': 'Crowd Dynamics',\n",
    "    'traffic_management': 'Traffic Management Systems',\n",
    "    'surveillance_coverage': 'Surveillance Coverage',\n",
    "    'zoning_laws': 'Zoning Laws and Regulation',\n",
    "    'bike_lane_availability': 'Bike Lane Availability',\n",
    "    'street_lighting': 'Street Lighting',\n",
    "    'shade_availability': 'Existence of Shade',\n",
    "    'gps_signal_strength': 'GPS Signal Strength',\n",
    "    'pedestrian_flow': 'Pedestrian Flow',\n",
    "    'bicycle_traffic': 'Bicycle Traffic',\n",
    "    'vehicle_traffic': 'Vehicle Traffic',\n",
    "    'digital_map_existence': 'Existence of Detailed Digital Maps',\n",
    "    'intersection_safety': 'Intersection Safety'\n",
    "}\n",
    "\n"
   ]
  },
  {
   "cell_type": "code",
   "execution_count": 94,
   "metadata": {},
   "outputs": [
    {
     "data": {
      "text/plain": [
       "24"
      ]
     },
     "execution_count": 94,
     "metadata": {},
     "output_type": "execute_result"
    }
   ],
   "source": [
    "len(FEATURES)"
   ]
  },
  {
   "cell_type": "code",
   "execution_count": 95,
   "metadata": {},
   "outputs": [],
   "source": [
    "# which "
   ]
  },
  {
   "cell_type": "code",
   "execution_count": 96,
   "metadata": {},
   "outputs": [
    {
     "data": {
      "text/plain": [
       "{'pedestrian_density': 0.1471252405027565,\n",
       " 'crowd_dynamics': 0.0947553411301599,\n",
       " 'surface_condition': 0.0920027152241102,\n",
       " 'sidewalk_width': 0.0786335724717843,\n",
       " 'street_furniture_density': 0.0764198497958928,\n",
       " 'intersection_safety': 0.065720170561695,\n",
       " 'curb_ramp_availability': 0.0595744759623967,\n",
       " 'communication_infrastructure': 0.0538902663892606,\n",
       " 'digital_map_existence': 0.0476565441445884,\n",
       " 'gps_signal_strength': 0.0411253178231809,\n",
       " 'vehicle_traffic': 0.0378336513460469,\n",
       " 'sidewalk_roughness': 0.037665272828114,\n",
       " 'slope_gradient': 0.0367854938300333,\n",
       " 'traffic_management': 0.0341575238351119,\n",
       " 'zoning_laws': 0.0307599055298729,\n",
       " 'bicycle_traffic': 0.020275434308962,\n",
       " 'charging_station_proximity': 0.018202827081173,\n",
       " 'surveillance_coverage': 0.0144243034834116,\n",
       " 'bike_lane_availability': 0.0129920937514483}"
      ]
     },
     "execution_count": 96,
     "metadata": {},
     "output_type": "execute_result"
    }
   ],
   "source": [
    "# read csv as dict and store in WEIGHTS \n",
    "WEIGHTS = pd.read_csv(\"../survey_processing/feature_weights.csv\", index_col=0).to_dict()['Weight']\n",
    "WEIGHTS"
   ]
  },
  {
   "cell_type": "code",
   "execution_count": 97,
   "metadata": {},
   "outputs": [
    {
     "data": {
      "text/plain": [
       "0.9999999999999993"
      ]
     },
     "execution_count": 97,
     "metadata": {},
     "output_type": "execute_result"
    }
   ],
   "source": [
    "# get sum of weights \n",
    "sum(WEIGHTS.values())"
   ]
  },
  {
   "cell_type": "code",
   "execution_count": 98,
   "metadata": {},
   "outputs": [],
   "source": [
    "features = pd.DataFrame()"
   ]
  },
  {
   "cell_type": "code",
   "execution_count": 99,
   "metadata": {},
   "outputs": [],
   "source": [
    "# add geometry to features\n",
    "features['geometry'] = dataset['geometry']\n",
    "# add point index to features \n",
    "features['point_index'] = dataset['point_index']"
   ]
  },
  {
   "cell_type": "markdown",
   "metadata": {},
   "source": [
    "### Sidewalk Width "
   ]
  },
  {
   "cell_type": "code",
   "execution_count": 100,
   "metadata": {},
   "outputs": [],
   "source": [
    "def PREPROCESS_sidewalk_width(col): \n",
    "    # softmax the sidewalk width so that it is between 0 and 1\n",
    "    col = min_max_normalize(col)\n",
    "\n",
    "    return col\n",
    "\n",
    "dataset['sidewalk_width'] = PREPROCESS_sidewalk_width(dataset['width'])"
   ]
  },
  {
   "cell_type": "code",
   "execution_count": 101,
   "metadata": {},
   "outputs": [],
   "source": [
    "def COMPUTE_sidewalk_width(col, WEIGHTS=WEIGHTS): \n",
    "    return col * WEIGHTS['sidewalk_width']\n"
   ]
  },
  {
   "cell_type": "code",
   "execution_count": 102,
   "metadata": {},
   "outputs": [],
   "source": [
    "features['sidewalk_width'] = COMPUTE_sidewalk_width(dataset['sidewalk_width'])"
   ]
  },
  {
   "cell_type": "markdown",
   "metadata": {},
   "source": [
    "### Pedestrian Density "
   ]
  },
  {
   "cell_type": "code",
   "execution_count": 103,
   "metadata": {},
   "outputs": [],
   "source": [
    "def PREPROCESS_pedestrian_density(col):\n",
    "    # softmax the pedestrian density so that it is between 0 and 1\n",
    "    col = min_max_normalize(col)\n",
    "    return col\n",
    "\n",
    "dataset['pedestrian_density'] = PREPROCESS_pedestrian_density(dataset['TRAFFIC_Pedestrian'])"
   ]
  },
  {
   "cell_type": "code",
   "execution_count": 104,
   "metadata": {},
   "outputs": [],
   "source": [
    "def COMPUTE_pedestrian_density(col, WEIGHTS=WEIGHTS):\n",
    "    return col * WEIGHTS['pedestrian_density']"
   ]
  },
  {
   "cell_type": "code",
   "execution_count": 105,
   "metadata": {},
   "outputs": [],
   "source": [
    "features['pedestrian_density'] = COMPUTE_pedestrian_density(dataset['pedestrian_density'])"
   ]
  },
  {
   "cell_type": "markdown",
   "metadata": {},
   "source": [
    "### Street Furniture Density "
   ]
  },
  {
   "cell_type": "code",
   "execution_count": 106,
   "metadata": {},
   "outputs": [],
   "source": [
    "def PREPROCESS_street_furniture_density(col):\n",
    "    # softmax the street furniture density so that it is between 0 and 1\n",
    "    col = min_max_normalize(col)\n",
    "    return col\n",
    "\n",
    "dataset['street_furniture_density'] = PREPROCESS_street_furniture_density(dataset['clutter'])"
   ]
  },
  {
   "cell_type": "code",
   "execution_count": 107,
   "metadata": {},
   "outputs": [],
   "source": [
    "def COMPUTE_street_furniture_density(col, WEIGHTS=WEIGHTS):\n",
    "    return col * WEIGHTS['street_furniture_density']\n",
    "\n",
    "features['street_furniture_density'] = COMPUTE_street_furniture_density(dataset['street_furniture_density'])"
   ]
  },
  {
   "cell_type": "markdown",
   "metadata": {},
   "source": [
    "### Sidewalk Roughness "
   ]
  },
  {
   "cell_type": "code",
   "execution_count": 108,
   "metadata": {},
   "outputs": [],
   "source": [
    "# SKIP preprocessing, as all values are already 1"
   ]
  },
  {
   "cell_type": "code",
   "execution_count": 109,
   "metadata": {},
   "outputs": [],
   "source": [
    "def COMPUTE_sidewalk_roughness(col=None, WEIGHTS=WEIGHTS): \n",
    "    return 1 * WEIGHTS['sidewalk_roughness']\n"
   ]
  },
  {
   "cell_type": "code",
   "execution_count": 110,
   "metadata": {},
   "outputs": [],
   "source": [
    "features['sidewalk_roughness'] = COMPUTE_sidewalk_roughness()\n",
    "\n",
    "# check out accessmap for this "
   ]
  },
  {
   "cell_type": "markdown",
   "metadata": {},
   "source": [
    "### Surface Condition "
   ]
  },
  {
   "cell_type": "code",
   "execution_count": 111,
   "metadata": {},
   "outputs": [],
   "source": [
    "def PREPROCESS_surface_condition(col):\n",
    "    col = min_max_normalize(col)\n",
    "    col = col.fillna(col.mean())\n",
    "    return col\n",
    "\n",
    "dataset['surface_condition'] = PREPROCESS_surface_condition(dataset['sidewalk_quality'])"
   ]
  },
  {
   "cell_type": "code",
   "execution_count": 112,
   "metadata": {},
   "outputs": [],
   "source": [
    "def COMPUTE_surface_condition(col, WEIGHTS=WEIGHTS):\n",
    "    return col * WEIGHTS['surface_condition']\n",
    "\n",
    "features['surface_condition'] = COMPUTE_surface_condition(dataset['surface_condition'])"
   ]
  },
  {
   "cell_type": "markdown",
   "metadata": {},
   "source": [
    "### Wireless Communication Infrastructure "
   ]
  },
  {
   "cell_type": "code",
   "execution_count": 113,
   "metadata": {},
   "outputs": [],
   "source": [
    "# SKIP preprocessing, as all values are already 0 or 1"
   ]
  },
  {
   "cell_type": "code",
   "execution_count": 114,
   "metadata": {},
   "outputs": [],
   "source": [
    "def COMPUTE_communication_infrastructure(row, WEIGHTS=WEIGHTS): \n",
    "    return (1 if (row['4g_minup'] > 0 and row['4g_mindown'] > 0) else 0) * WEIGHTS['communication_infrastructure']"
   ]
  },
  {
   "cell_type": "code",
   "execution_count": 115,
   "metadata": {},
   "outputs": [],
   "source": [
    "features['communication_infrastructure'] = dataset.apply(lambda row: COMPUTE_communication_infrastructure(row), axis=1)"
   ]
  },
  {
   "cell_type": "markdown",
   "metadata": {},
   "source": [
    "### Slope Gradient "
   ]
  },
  {
   "cell_type": "code",
   "execution_count": 116,
   "metadata": {},
   "outputs": [
    {
     "name": "stderr",
     "output_type": "stream",
     "text": [
      "100%|██████████| 1876414/1876414 [12:20<00:00, 2535.02it/s]\n"
     ]
    }
   ],
   "source": [
    "from scipy.spatial import cKDTree\n",
    "import numpy as np\n",
    "from tqdm import tqdm\n",
    "\n",
    "def POPULATE_slope_gradient_optimized_with_progress(dataset, WEIGHTS=WEIGHTS):\n",
    "    # Convert geometries to numpy arrays for faster distance computation\n",
    "    coords = np.array([[geom.x, geom.y] for geom in dataset['geometry']])\n",
    "    tree = cKDTree(coords)\n",
    "\n",
    "    # Initialize an array for slope gradients\n",
    "    slope_gradients = np.zeros(len(dataset))\n",
    "\n",
    "    # Precompute distances for each point\n",
    "    for i, row in tqdm(dataset.iterrows(), total=len(dataset)):\n",
    "        # Get indices of nearest neighbors within 50 units, excluding the point itself\n",
    "        distances, indices = tree.query(coords[i], k=10, distance_upper_bound=50)\n",
    "        \n",
    "        # Remove invalid indices (those equal to len(coords))\n",
    "        valid_mask = (indices != len(coords)) & (indices != i)\n",
    "        valid_indices = indices[valid_mask]\n",
    "        valid_distances = distances[valid_mask]\n",
    "        \n",
    "        # Compute slope gradients\n",
    "        if len(valid_indices) > 0:\n",
    "            height_diffs = np.abs(dataset['ft_above_sea'].iloc[valid_indices] - row['ft_above_sea'])\n",
    "            slopes = height_diffs / valid_distances\n",
    "            # take absolute value of slope\n",
    "            slopes = np.abs(slopes)\n",
    "            slope_gradients[i] = slopes.mean() * WEIGHTS['slope_gradient']\n",
    "\n",
    "    return slope_gradients\n",
    "\n",
    "# Apply the optimized function with progress monitoring\n",
    "dataset['slope_gradient'] = POPULATE_slope_gradient_optimized_with_progress(dataset)\n",
    "\n",
    "# take the absolute value of the slope"
   ]
  },
  {
   "cell_type": "code",
   "execution_count": 117,
   "metadata": {},
   "outputs": [],
   "source": [
    "def POSTPROCESS_slope_gradient(col): \n",
    "    # softmax the slope gradient so that it is between 0 and 1\n",
    "    col = min_max_normalize(col)\n",
    "    return col\n",
    "\n",
    "dataset['slope_gradient'] = POSTPROCESS_slope_gradient(dataset['slope_gradient'])"
   ]
  },
  {
   "cell_type": "code",
   "execution_count": 118,
   "metadata": {},
   "outputs": [],
   "source": [
    "def COMPUTE_slope_gradient(col, WEIGHTS=WEIGHTS): \n",
    "    return col * WEIGHTS['slope_gradient']\n"
   ]
  },
  {
   "cell_type": "code",
   "execution_count": 119,
   "metadata": {},
   "outputs": [],
   "source": [
    "features['slope_gradient'] = COMPUTE_slope_gradient(dataset['slope_gradient'])"
   ]
  },
  {
   "cell_type": "code",
   "execution_count": 120,
   "metadata": {},
   "outputs": [
    {
     "data": {
      "text/plain": [
       "<Axes: >"
      ]
     },
     "execution_count": 120,
     "metadata": {},
     "output_type": "execute_result"
    },
    {
     "data": {
      "image/png": "[encoded data removed]",
      "text/plain": [
       "<Figure size 640x480 with 1 Axes>"
      ]
     },
     "metadata": {},
     "output_type": "display_data"
    }
   ],
   "source": [
    "# log the distribution here, as this one might be tricky \n",
    "features['slope_gradient'].hist(bins=1000)"
   ]
  },
  {
   "cell_type": "markdown",
   "metadata": {},
   "source": [
    "### Charging Station Proximity "
   ]
  },
  {
   "cell_type": "code",
   "execution_count": 121,
   "metadata": {},
   "outputs": [],
   "source": [
    "# convert to col-level function \n",
    "def POPULATE_charging_station_proximity(col, RANGE=max(dataset['distance_to_nearest_station'])): \n",
    "    return (RANGE-col)/RANGE"
   ]
  },
  {
   "cell_type": "code",
   "execution_count": 122,
   "metadata": {},
   "outputs": [],
   "source": [
    "dataset['charging_station_proximity'] = POPULATE_charging_station_proximity(dataset['distance_to_nearest_station'])"
   ]
  },
  {
   "cell_type": "code",
   "execution_count": 123,
   "metadata": {},
   "outputs": [],
   "source": [
    "def POSTPROCESS_charging_station_proximity(col):\n",
    "    # softmax the charging station proximity so that it is between 0 and 1\n",
    "    col = min_max_normalize(col)\n",
    "    return col\n",
    "\n",
    "dataset['charging_station_proximity'] = POSTPROCESS_charging_station_proximity(dataset['charging_station_proximity'])"
   ]
  },
  {
   "cell_type": "code",
   "execution_count": 124,
   "metadata": {},
   "outputs": [],
   "source": [
    "def COMPUTE_charging_station_proximity(col, WEIGHTS=WEIGHTS): \n",
    "    return col * WEIGHTS['charging_station_proximity']\n",
    "\n",
    "features['charging_station_proximity'] = COMPUTE_charging_station_proximity(dataset['charging_station_proximity'])"
   ]
  },
  {
   "cell_type": "markdown",
   "metadata": {},
   "source": [
    "### Local Attitudes Towards Robots "
   ]
  },
  {
   "cell_type": "markdown",
   "metadata": {},
   "source": [
    "**SKIP DUE TO LACK OF DATA** "
   ]
  },
  {
   "cell_type": "markdown",
   "metadata": {},
   "source": [
    "### Curb Ramp Availability "
   ]
  },
  {
   "cell_type": "code",
   "execution_count": 125,
   "metadata": {},
   "outputs": [],
   "source": [
    "def PREPROCESS_curb_ramp_availability(col): \n",
    "    col = min_max_normalize(col)\n",
    "    return col\n",
    "\n",
    "dataset['curb_ramp_availability'] = PREPROCESS_curb_ramp_availability(dataset['CURBRAMP_count'])"
   ]
  },
  {
   "cell_type": "code",
   "execution_count": 126,
   "metadata": {},
   "outputs": [],
   "source": [
    "def COMPUTE_curb_ramp_availability(col, WEIGHTS=WEIGHTS): \n",
    "    return col * WEIGHTS['curb_ramp_availability']\n",
    "\n",
    "features['curb_ramp_availability'] = COMPUTE_curb_ramp_availability(dataset['curb_ramp_availability'])"
   ]
  },
  {
   "cell_type": "markdown",
   "metadata": {},
   "source": [
    "### Weather Conditions "
   ]
  },
  {
   "cell_type": "markdown",
   "metadata": {},
   "source": [
    "** Skip due to hyperlocal/temporal nature of weather conditions ** "
   ]
  },
  {
   "cell_type": "markdown",
   "metadata": {},
   "source": [
    "### Crowd Dynamics "
   ]
  },
  {
   "cell_type": "code",
   "execution_count": 127,
   "metadata": {},
   "outputs": [],
   "source": [
    "def zonedist_to_indicator(row): \n",
    "    \n",
    "    if row:\n",
    "\n",
    "        if row.startswith('M'): \n",
    "            return 10\n",
    "        elif row.startswith('R'):\n",
    "            return 5\n",
    "        elif row.startswith('C'): \n",
    "            return 0\n",
    "        else: \n",
    "            return 2 \n",
    "    else:\n",
    "        return 0\n",
    "\n",
    "\n",
    "def POPULATE_crowd_dynamics(col): \n",
    "    return col.apply(zonedist_to_indicator)\n",
    "\n",
    "dataset['crowd_dynamics'] = POPULATE_crowd_dynamics(dataset['ZONEDIST'])"
   ]
  },
  {
   "cell_type": "code",
   "execution_count": 128,
   "metadata": {},
   "outputs": [],
   "source": [
    "def POSTPROCESS_crowd_dynamics(col):\n",
    "    # softmax the crowd dynamics so that it is between 0 and 1\n",
    "    col = min_max_normalize(col)\n",
    "    return col\n",
    "\n",
    "dataset['crowd_dynamics'] = POSTPROCESS_crowd_dynamics(dataset['crowd_dynamics'])"
   ]
  },
  {
   "cell_type": "code",
   "execution_count": 129,
   "metadata": {},
   "outputs": [],
   "source": [
    "def COMPUTE_crowd_dynamics(col, WEIGHTS=WEIGHTS):\n",
    "    return col * WEIGHTS['crowd_dynamics']\n",
    "\n",
    "features['crowd_dynamics'] = COMPUTE_crowd_dynamics(dataset['crowd_dynamics'])"
   ]
  },
  {
   "cell_type": "markdown",
   "metadata": {},
   "source": [
    "### Traffic Management "
   ]
  },
  {
   "cell_type": "code",
   "execution_count": 130,
   "metadata": {},
   "outputs": [],
   "source": [
    "def POPULATE_traffic_management(df, WEIGHTS=WEIGHTS): \n",
    "    return  (df['in_slow_zone'] + df['turn_traffic_calming_count'] + df['sip_intersections_count'] + df['sip_corridors_count'] + df['barnes_intersections_count'] + df['leading_ped_intervals_count']).fillna(0)\n",
    "\n",
    "dataset['traffic_management'] = POPULATE_traffic_management(dataset)\n",
    "\n",
    "\n",
    "\n"
   ]
  },
  {
   "cell_type": "code",
   "execution_count": 131,
   "metadata": {},
   "outputs": [],
   "source": [
    "def POSTPROCESS_traffic_management(col): \n",
    "    # softmax the traffic management so that it is between 0 and 1\n",
    "    col = min_max_normalize(col)\n",
    "    return col\n",
    "\n",
    "dataset['traffic_management'] = POSTPROCESS_traffic_management(dataset['traffic_management'])\n",
    "    "
   ]
  },
  {
   "cell_type": "code",
   "execution_count": 132,
   "metadata": {},
   "outputs": [],
   "source": [
    "def COMPUTE_traffic_management(col, WEIGHTS=WEIGHTS):\n",
    "    return col * WEIGHTS['traffic_management']\n",
    "\n",
    "features['traffic_management'] = COMPUTE_traffic_management(dataset['traffic_management'])\n"
   ]
  },
  {
   "cell_type": "markdown",
   "metadata": {},
   "source": [
    "### Surveillance Coverage "
   ]
  },
  {
   "cell_type": "code",
   "execution_count": 133,
   "metadata": {},
   "outputs": [],
   "source": [
    "def PREPROCESS_surveillance_coverage(col): \n",
    "    # softmax the surveillance coverage so that it is between 0 and 1\n",
    "    col = min_max_normalize(col)\n",
    "    return col\n",
    "\n",
    "dataset['surveillance_coverage'] = PREPROCESS_surveillance_coverage(dataset['n_cameras_median'])"
   ]
  },
  {
   "cell_type": "code",
   "execution_count": 134,
   "metadata": {},
   "outputs": [],
   "source": [
    "def COMPUTE_surveillance_coverage(col, WEIGHTS=WEIGHTS):\n",
    "    return col * WEIGHTS['surveillance_coverage']\n",
    "\n",
    "features['surveillance_coverage'] = COMPUTE_surveillance_coverage(dataset['surveillance_coverage'])\n",
    "    "
   ]
  },
  {
   "cell_type": "markdown",
   "metadata": {},
   "source": [
    "### Zoning Laws & Regulations"
   ]
  },
  {
   "cell_type": "code",
   "execution_count": 135,
   "metadata": {},
   "outputs": [],
   "source": [
    "def PREPROCESS_zoning_laws(col): \n",
    "    # softmax the zoning laws so that it is between 0 and 1\n",
    "    col = min_max_normalize(col)\n",
    "    col = col.fillna(0)\n",
    "    return col\n",
    "\n",
    "dataset['zoning_laws'] = PREPROCESS_zoning_laws(dataset['avg_speed_limit'])\n",
    "\n"
   ]
  },
  {
   "cell_type": "code",
   "execution_count": 136,
   "metadata": {},
   "outputs": [],
   "source": [
    "def COMPUTE_zoning_laws(col, WEIGHTS=WEIGHTS):\n",
    "    return col * WEIGHTS['zoning_laws']\n",
    "\n",
    "features['zoning_laws'] = COMPUTE_zoning_laws(dataset['zoning_laws'])"
   ]
  },
  {
   "cell_type": "markdown",
   "metadata": {},
   "source": [
    "### Bike Lane Availability "
   ]
  },
  {
   "cell_type": "code",
   "execution_count": 137,
   "metadata": {},
   "outputs": [],
   "source": [
    "def PREPROCESS_bike_lane_availability(col):\n",
    "    # softmax the bike lane availability so that it is between 0 and 1\n",
    "    col = min_max_normalize(col)\n",
    "    col = col.fillna(0)\n",
    "    return col\n",
    "\n",
    "dataset['bike_lane_availability'] = PREPROCESS_bike_lane_availability(dataset['highest_bike_lane_facility_class'])"
   ]
  },
  {
   "cell_type": "code",
   "execution_count": 138,
   "metadata": {},
   "outputs": [],
   "source": [
    "def COMPUTE_bike_lane_availability(col, WEIGHTS=WEIGHTS):\n",
    "    return col * WEIGHTS['bike_lane_availability']\n",
    "\n",
    "features['bike_lane_availability'] = COMPUTE_bike_lane_availability(dataset['bike_lane_availability'])\n"
   ]
  },
  {
   "cell_type": "markdown",
   "metadata": {},
   "source": [
    "### Street Lighting"
   ]
  },
  {
   "cell_type": "markdown",
   "metadata": {},
   "source": [
    "** Skip due to lack of data ** "
   ]
  },
  {
   "cell_type": "markdown",
   "metadata": {},
   "source": [
    "### Shade Availability "
   ]
  },
  {
   "cell_type": "markdown",
   "metadata": {},
   "source": [
    "**Come Back**"
   ]
  },
  {
   "cell_type": "markdown",
   "metadata": {},
   "source": [
    "### GPS Signal Strength"
   ]
  },
  {
   "cell_type": "code",
   "execution_count": 139,
   "metadata": {},
   "outputs": [],
   "source": [
    "# SKIP preprocessing, as all values are already 0 or 1"
   ]
  },
  {
   "cell_type": "code",
   "execution_count": 140,
   "metadata": {},
   "outputs": [],
   "source": [
    "def COMPUTE_gps_signal_strenth(col=None, WEIGHTS=WEIGHTS): \n",
    "    return 1 * WEIGHTS['gps_signal_strength']\n",
    "\n",
    "features['gps_signal_strength'] = COMPUTE_gps_signal_strenth()"
   ]
  },
  {
   "cell_type": "markdown",
   "metadata": {},
   "source": [
    "### Pedestrian Flow "
   ]
  },
  {
   "cell_type": "markdown",
   "metadata": {},
   "source": [
    "** Skip due to lack of data ** "
   ]
  },
  {
   "cell_type": "markdown",
   "metadata": {},
   "source": [
    "### Bicycle Traffic "
   ]
  },
  {
   "cell_type": "code",
   "execution_count": 141,
   "metadata": {},
   "outputs": [],
   "source": [
    "def PREPROCESS_bicycle_traffic(col):\n",
    "    # softmax the bicycle traffic so that it is between 0 and 1\n",
    "    col = min_max_normalize(col)\n",
    "    return col\n",
    "\n",
    "dataset['bicycle_traffic'] = PREPROCESS_bicycle_traffic(dataset['TRAFFIC_Bike'])\n"
   ]
  },
  {
   "cell_type": "code",
   "execution_count": 142,
   "metadata": {},
   "outputs": [],
   "source": [
    "def COMPUTE_bicycle_traffic(col, WEIGHTS=WEIGHTS):\n",
    "    return col * WEIGHTS['bicycle_traffic']\n",
    "\n",
    "features['bicycle_traffic'] = COMPUTE_bicycle_traffic(dataset['bicycle_traffic'])"
   ]
  },
  {
   "cell_type": "markdown",
   "metadata": {},
   "source": [
    "### Vehicle Traffic "
   ]
  },
  {
   "cell_type": "code",
   "execution_count": 143,
   "metadata": {},
   "outputs": [],
   "source": [
    "def PREPROCESS_vehicle_traffic(col):\n",
    "    # softmax the vehicle traffic so that it is between 0 and 1\n",
    "    col = min_max_normalize(col)\n",
    "    return col\n",
    "\n",
    "dataset['vehicle_traffic'] = PREPROCESS_vehicle_traffic(dataset['TRAFFIC_Car'])\n"
   ]
  },
  {
   "cell_type": "code",
   "execution_count": 144,
   "metadata": {},
   "outputs": [],
   "source": [
    "def COMPUTE_vehicle_traffic(col, WEIGHTS=WEIGHTS):\n",
    "    return col * WEIGHTS['vehicle_traffic']\n",
    "\n",
    "features['vehicle_traffic'] = COMPUTE_vehicle_traffic(dataset['vehicle_traffic'])"
   ]
  },
  {
   "cell_type": "markdown",
   "metadata": {},
   "source": [
    "### Existence of Detailed Digital Map "
   ]
  },
  {
   "cell_type": "code",
   "execution_count": 145,
   "metadata": {},
   "outputs": [],
   "source": [
    "def COMPUTE_ddm():\n",
    "    return 1 * WEIGHTS['digital_map_existence']"
   ]
  },
  {
   "cell_type": "code",
   "execution_count": 146,
   "metadata": {},
   "outputs": [],
   "source": [
    "features['digital_map_existence'] = COMPUTE_ddm()"
   ]
  },
  {
   "cell_type": "markdown",
   "metadata": {},
   "source": [
    "### Intersection Safety "
   ]
  },
  {
   "cell_type": "code",
   "execution_count": 147,
   "metadata": {},
   "outputs": [],
   "source": [
    "def PREPROCESS_intersection_safety(col):\n",
    "    # softmax the intersection safety so that it is between 0 and 1\n",
    "    col = col.fillna(0).astype(int)\n",
    "    col = min_max_normalize(col)\n",
    "    return col\n",
    "\n",
    "dataset['intersection_safety'] = PREPROCESS_intersection_safety(dataset['num_peds_involved_in_collision'])"
   ]
  },
  {
   "cell_type": "code",
   "execution_count": 148,
   "metadata": {},
   "outputs": [],
   "source": [
    "def COMPUTE_intersection_safety(col, WEIGHTS=WEIGHTS):\n",
    "\n",
    "    return col * WEIGHTS['intersection_safety']\n",
    "\n",
    "features['intersection_safety'] = COMPUTE_intersection_safety(dataset['intersection_safety'])"
   ]
  },
  {
   "cell_type": "markdown",
   "metadata": {},
   "source": [
    "## SANITY CHECKS"
   ]
  },
  {
   "cell_type": "code",
   "execution_count": 149,
   "metadata": {},
   "outputs": [],
   "source": [
    "# assert that all values of all columns except geometry and pouint_index are 0-1\n",
    "for col in features.columns: \n",
    "    if col not in ['geometry', 'point_index']: \n",
    "        assert features[col].min() >= 0 and features[col].max() <= 1"
   ]
  },
  {
   "cell_type": "code",
   "execution_count": 150,
   "metadata": {},
   "outputs": [
    {
     "data": {
      "text/plain": [
       "geometry                             0\n",
       "point_index                          0\n",
       "sidewalk_width                       0\n",
       "pedestrian_density              311083\n",
       "street_furniture_density             0\n",
       "sidewalk_roughness                   0\n",
       "surface_condition                    0\n",
       "communication_infrastructure         0\n",
       "slope_gradient                      76\n",
       "charging_station_proximity           0\n",
       "curb_ramp_availability               0\n",
       "crowd_dynamics                       0\n",
       "traffic_management                   0\n",
       "surveillance_coverage                0\n",
       "zoning_laws                          0\n",
       "bike_lane_availability               0\n",
       "gps_signal_strength                  0\n",
       "bicycle_traffic                 311083\n",
       "vehicle_traffic                 311083\n",
       "digital_map_existence                0\n",
       "intersection_safety                  0\n",
       "dtype: int64"
      ]
     },
     "execution_count": 150,
     "metadata": {},
     "output_type": "execute_result"
    }
   ],
   "source": [
    "features.isna().sum() "
   ]
  },
  {
   "cell_type": "code",
   "execution_count": 151,
   "metadata": {},
   "outputs": [
    {
     "data": {
      "text/plain": [
       "21"
      ]
     },
     "execution_count": 151,
     "metadata": {},
     "output_type": "execute_result"
    }
   ],
   "source": [
    "len(features.columns)"
   ]
  },
  {
   "cell_type": "code",
   "execution_count": 152,
   "metadata": {},
   "outputs": [
    {
     "name": "stdout",
     "output_type": "stream",
     "text": [
      "{'street_lighting', 'pedestrian_flow', 'shade_availability', 'local_attitudes', 'weather_conditions'}\n"
     ]
    }
   ],
   "source": [
    "# which FEATURES aren't a column in features? \n",
    "print(set(FEATURES.keys()) - set(features.columns))\n"
   ]
  },
  {
   "cell_type": "code",
   "execution_count": 153,
   "metadata": {},
   "outputs": [],
   "source": [
    "POLARITIES = { \n",
    "    'sidewalk_width': 1,\n",
    "    'pedestrian_density': -1,\n",
    "    'street_furniture_density': -1, \n",
    "    'sidewalk_roughness': -1,\n",
    "    'surface_condition': 1,\n",
    "    'communication_infrastructure': 1,\n",
    "    'slope_gradient': -1,\n",
    "    'charging_station_proximity': 1,\n",
    "    'local_attitudes': 1,\n",
    "    'curb_ramp_availability': 1,\n",
    "    'weather_conditions': 1,\n",
    "    'crowd_dynamics': 1,\n",
    "    'traffic_management': 1,\n",
    "    'surveillance_coverage': 1,\n",
    "    'zoning_laws': 1,\n",
    "    'bike_lane_availability': 1,\n",
    "    'street_lighting': 1,\n",
    "    'shade_availability': 1,\n",
    "    'gps_signal_strength': 1,\n",
    "    'pedestrian_flow': -1,\n",
    "    'bicycle_traffic': -1,\n",
    "    'vehicle_traffic': -1,\n",
    "    'digital_map_existence': 1,\n",
    "    # num incidents, so more is worse\n",
    "    'intersection_safety': -1,\n",
    "}"
   ]
  },
  {
   "cell_type": "code",
   "execution_count": 154,
   "metadata": {},
   "outputs": [],
   "source": [
    "# score is the aggregation of all features \n",
    "features['score'] = features.drop(columns=['geometry', 'point_index']).mul(pd.Series(POLARITIES)).sum(axis=1)\n",
    "\n"
   ]
  },
  {
   "cell_type": "code",
   "execution_count": 155,
   "metadata": {},
   "outputs": [
    {
     "data": {
      "text/html": [
       "<div>\n",
       "<style scoped>\n",
       "    .dataframe tbody tr th:only-of-type {\n",
       "        vertical-align: middle;\n",
       "    }\n",
       "\n",
       "    .dataframe tbody tr th {\n",
       "        vertical-align: top;\n",
       "    }\n",
       "\n",
       "    .dataframe thead th {\n",
       "        text-align: right;\n",
       "    }\n",
       "</style>\n",
       "<table border=\"1\" class=\"dataframe\">\n",
       "  <thead>\n",
       "    <tr style=\"text-align: right;\">\n",
       "      <th></th>\n",
       "      <th>point_index</th>\n",
       "      <th>sidewalk_width</th>\n",
       "      <th>pedestrian_density</th>\n",
       "      <th>street_furniture_density</th>\n",
       "      <th>sidewalk_roughness</th>\n",
       "      <th>surface_condition</th>\n",
       "      <th>communication_infrastructure</th>\n",
       "      <th>slope_gradient</th>\n",
       "      <th>charging_station_proximity</th>\n",
       "      <th>curb_ramp_availability</th>\n",
       "      <th>...</th>\n",
       "      <th>traffic_management</th>\n",
       "      <th>surveillance_coverage</th>\n",
       "      <th>zoning_laws</th>\n",
       "      <th>bike_lane_availability</th>\n",
       "      <th>gps_signal_strength</th>\n",
       "      <th>bicycle_traffic</th>\n",
       "      <th>vehicle_traffic</th>\n",
       "      <th>digital_map_existence</th>\n",
       "      <th>intersection_safety</th>\n",
       "      <th>score</th>\n",
       "    </tr>\n",
       "  </thead>\n",
       "  <tbody>\n",
       "    <tr>\n",
       "      <th>count</th>\n",
       "      <td>1.876414e+06</td>\n",
       "      <td>1.876414e+06</td>\n",
       "      <td>1.565331e+06</td>\n",
       "      <td>1.876414e+06</td>\n",
       "      <td>1.876414e+06</td>\n",
       "      <td>1.876414e+06</td>\n",
       "      <td>1.876414e+06</td>\n",
       "      <td>1.876338e+06</td>\n",
       "      <td>1.876414e+06</td>\n",
       "      <td>1.876414e+06</td>\n",
       "      <td>...</td>\n",
       "      <td>1.876414e+06</td>\n",
       "      <td>1.876414e+06</td>\n",
       "      <td>1.876414e+06</td>\n",
       "      <td>1.876414e+06</td>\n",
       "      <td>1.876414e+06</td>\n",
       "      <td>1.565331e+06</td>\n",
       "      <td>1.565331e+06</td>\n",
       "      <td>1.876414e+06</td>\n",
       "      <td>1.876414e+06</td>\n",
       "      <td>1.876414e+06</td>\n",
       "    </tr>\n",
       "    <tr>\n",
       "      <th>mean</th>\n",
       "      <td>9.370853e+05</td>\n",
       "      <td>4.750542e-03</td>\n",
       "      <td>5.915096e-03</td>\n",
       "      <td>5.335556e-03</td>\n",
       "      <td>3.766527e-02</td>\n",
       "      <td>8.433687e-02</td>\n",
       "      <td>5.375339e-02</td>\n",
       "      <td>1.834842e-05</td>\n",
       "      <td>1.514418e-02</td>\n",
       "      <td>1.265195e-03</td>\n",
       "      <td>...</td>\n",
       "      <td>6.210853e-04</td>\n",
       "      <td>6.698173e-04</td>\n",
       "      <td>1.264958e-02</td>\n",
       "      <td>1.306564e-03</td>\n",
       "      <td>4.112532e-02</td>\n",
       "      <td>1.124581e-04</td>\n",
       "      <td>1.156220e-02</td>\n",
       "      <td>4.765654e-02</td>\n",
       "      <td>1.130306e-04</td>\n",
       "      <td>2.511029e-01</td>\n",
       "    </tr>\n",
       "    <tr>\n",
       "      <th>std</th>\n",
       "      <td>5.410661e+05</td>\n",
       "      <td>2.806522e-03</td>\n",
       "      <td>9.726379e-03</td>\n",
       "      <td>1.178124e-02</td>\n",
       "      <td>1.804113e-16</td>\n",
       "      <td>1.077850e-02</td>\n",
       "      <td>2.712507e-03</td>\n",
       "      <td>5.471776e-05</td>\n",
       "      <td>3.500254e-03</td>\n",
       "      <td>4.623085e-03</td>\n",
       "      <td>...</td>\n",
       "      <td>1.466965e-03</td>\n",
       "      <td>1.431154e-03</td>\n",
       "      <td>6.017194e-03</td>\n",
       "      <td>3.254066e-03</td>\n",
       "      <td>0.000000e+00</td>\n",
       "      <td>3.271985e-04</td>\n",
       "      <td>4.096021e-03</td>\n",
       "      <td>2.775558e-17</td>\n",
       "      <td>7.725731e-04</td>\n",
       "      <td>2.998769e-02</td>\n",
       "    </tr>\n",
       "    <tr>\n",
       "      <th>min</th>\n",
       "      <td>0.000000e+00</td>\n",
       "      <td>0.000000e+00</td>\n",
       "      <td>0.000000e+00</td>\n",
       "      <td>0.000000e+00</td>\n",
       "      <td>3.766527e-02</td>\n",
       "      <td>0.000000e+00</td>\n",
       "      <td>0.000000e+00</td>\n",
       "      <td>0.000000e+00</td>\n",
       "      <td>0.000000e+00</td>\n",
       "      <td>0.000000e+00</td>\n",
       "      <td>...</td>\n",
       "      <td>0.000000e+00</td>\n",
       "      <td>0.000000e+00</td>\n",
       "      <td>0.000000e+00</td>\n",
       "      <td>0.000000e+00</td>\n",
       "      <td>4.112532e-02</td>\n",
       "      <td>0.000000e+00</td>\n",
       "      <td>0.000000e+00</td>\n",
       "      <td>4.765654e-02</td>\n",
       "      <td>0.000000e+00</td>\n",
       "      <td>9.285569e-03</td>\n",
       "    </tr>\n",
       "    <tr>\n",
       "      <th>0.1%</th>\n",
       "      <td>1.876413e+03</td>\n",
       "      <td>5.653732e-04</td>\n",
       "      <td>0.000000e+00</td>\n",
       "      <td>0.000000e+00</td>\n",
       "      <td>3.766527e-02</td>\n",
       "      <td>0.000000e+00</td>\n",
       "      <td>0.000000e+00</td>\n",
       "      <td>0.000000e+00</td>\n",
       "      <td>5.192639e-04</td>\n",
       "      <td>0.000000e+00</td>\n",
       "      <td>...</td>\n",
       "      <td>0.000000e+00</td>\n",
       "      <td>0.000000e+00</td>\n",
       "      <td>0.000000e+00</td>\n",
       "      <td>0.000000e+00</td>\n",
       "      <td>4.112532e-02</td>\n",
       "      <td>0.000000e+00</td>\n",
       "      <td>0.000000e+00</td>\n",
       "      <td>4.765654e-02</td>\n",
       "      <td>0.000000e+00</td>\n",
       "      <td>1.037685e-01</td>\n",
       "    </tr>\n",
       "    <tr>\n",
       "      <th>1%</th>\n",
       "      <td>1.876013e+04</td>\n",
       "      <td>1.081451e-03</td>\n",
       "      <td>0.000000e+00</td>\n",
       "      <td>0.000000e+00</td>\n",
       "      <td>3.766527e-02</td>\n",
       "      <td>3.682249e-02</td>\n",
       "      <td>5.389027e-02</td>\n",
       "      <td>0.000000e+00</td>\n",
       "      <td>3.993549e-03</td>\n",
       "      <td>0.000000e+00</td>\n",
       "      <td>...</td>\n",
       "      <td>0.000000e+00</td>\n",
       "      <td>0.000000e+00</td>\n",
       "      <td>0.000000e+00</td>\n",
       "      <td>0.000000e+00</td>\n",
       "      <td>4.112532e-02</td>\n",
       "      <td>0.000000e+00</td>\n",
       "      <td>1.644941e-03</td>\n",
       "      <td>4.765654e-02</td>\n",
       "      <td>0.000000e+00</td>\n",
       "      <td>1.535904e-01</td>\n",
       "    </tr>\n",
       "    <tr>\n",
       "      <th>2.5%</th>\n",
       "      <td>4.690333e+04</td>\n",
       "      <td>1.475240e-03</td>\n",
       "      <td>0.000000e+00</td>\n",
       "      <td>0.000000e+00</td>\n",
       "      <td>3.766527e-02</td>\n",
       "      <td>6.550979e-02</td>\n",
       "      <td>5.389027e-02</td>\n",
       "      <td>0.000000e+00</td>\n",
       "      <td>6.288659e-03</td>\n",
       "      <td>0.000000e+00</td>\n",
       "      <td>...</td>\n",
       "      <td>0.000000e+00</td>\n",
       "      <td>0.000000e+00</td>\n",
       "      <td>0.000000e+00</td>\n",
       "      <td>0.000000e+00</td>\n",
       "      <td>4.112532e-02</td>\n",
       "      <td>0.000000e+00</td>\n",
       "      <td>3.289883e-03</td>\n",
       "      <td>4.765654e-02</td>\n",
       "      <td>0.000000e+00</td>\n",
       "      <td>1.749036e-01</td>\n",
       "    </tr>\n",
       "    <tr>\n",
       "      <th>5%</th>\n",
       "      <td>9.380665e+04</td>\n",
       "      <td>1.858331e-03</td>\n",
       "      <td>0.000000e+00</td>\n",
       "      <td>0.000000e+00</td>\n",
       "      <td>3.766527e-02</td>\n",
       "      <td>6.930978e-02</td>\n",
       "      <td>5.389027e-02</td>\n",
       "      <td>0.000000e+00</td>\n",
       "      <td>8.231748e-03</td>\n",
       "      <td>0.000000e+00</td>\n",
       "      <td>...</td>\n",
       "      <td>0.000000e+00</td>\n",
       "      <td>0.000000e+00</td>\n",
       "      <td>0.000000e+00</td>\n",
       "      <td>0.000000e+00</td>\n",
       "      <td>4.112532e-02</td>\n",
       "      <td>0.000000e+00</td>\n",
       "      <td>4.402916e-03</td>\n",
       "      <td>4.765654e-02</td>\n",
       "      <td>0.000000e+00</td>\n",
       "      <td>1.940413e-01</td>\n",
       "    </tr>\n",
       "    <tr>\n",
       "      <th>10%</th>\n",
       "      <td>1.875483e+05</td>\n",
       "      <td>2.342113e-03</td>\n",
       "      <td>0.000000e+00</td>\n",
       "      <td>0.000000e+00</td>\n",
       "      <td>3.766527e-02</td>\n",
       "      <td>7.375203e-02</td>\n",
       "      <td>5.389027e-02</td>\n",
       "      <td>0.000000e+00</td>\n",
       "      <td>1.005912e-02</td>\n",
       "      <td>0.000000e+00</td>\n",
       "      <td>...</td>\n",
       "      <td>0.000000e+00</td>\n",
       "      <td>0.000000e+00</td>\n",
       "      <td>0.000000e+00</td>\n",
       "      <td>0.000000e+00</td>\n",
       "      <td>4.112532e-02</td>\n",
       "      <td>0.000000e+00</td>\n",
       "      <td>6.031452e-03</td>\n",
       "      <td>4.765654e-02</td>\n",
       "      <td>0.000000e+00</td>\n",
       "      <td>2.136999e-01</td>\n",
       "    </tr>\n",
       "    <tr>\n",
       "      <th>25%</th>\n",
       "      <td>4.686312e+05</td>\n",
       "      <td>3.217896e-03</td>\n",
       "      <td>5.162289e-04</td>\n",
       "      <td>0.000000e+00</td>\n",
       "      <td>3.766527e-02</td>\n",
       "      <td>8.196752e-02</td>\n",
       "      <td>5.389027e-02</td>\n",
       "      <td>4.518872e-06</td>\n",
       "      <td>1.329245e-02</td>\n",
       "      <td>0.000000e+00</td>\n",
       "      <td>...</td>\n",
       "      <td>0.000000e+00</td>\n",
       "      <td>0.000000e+00</td>\n",
       "      <td>1.537995e-02</td>\n",
       "      <td>0.000000e+00</td>\n",
       "      <td>4.112532e-02</td>\n",
       "      <td>0.000000e+00</td>\n",
       "      <td>8.819264e-03</td>\n",
       "      <td>4.765654e-02</td>\n",
       "      <td>0.000000e+00</td>\n",
       "      <td>2.411871e-01</td>\n",
       "    </tr>\n",
       "    <tr>\n",
       "      <th>50%</th>\n",
       "      <td>9.368045e+05</td>\n",
       "      <td>4.219460e-03</td>\n",
       "      <td>2.635079e-03</td>\n",
       "      <td>1.557594e-03</td>\n",
       "      <td>3.766527e-02</td>\n",
       "      <td>8.654357e-02</td>\n",
       "      <td>5.389027e-02</td>\n",
       "      <td>1.128088e-05</td>\n",
       "      <td>1.633672e-02</td>\n",
       "      <td>0.000000e+00</td>\n",
       "      <td>...</td>\n",
       "      <td>0.000000e+00</td>\n",
       "      <td>0.000000e+00</td>\n",
       "      <td>1.537995e-02</td>\n",
       "      <td>0.000000e+00</td>\n",
       "      <td>4.112532e-02</td>\n",
       "      <td>0.000000e+00</td>\n",
       "      <td>1.180702e-02</td>\n",
       "      <td>4.765654e-02</td>\n",
       "      <td>0.000000e+00</td>\n",
       "      <td>2.551465e-01</td>\n",
       "    </tr>\n",
       "    <tr>\n",
       "      <th>75%</th>\n",
       "      <td>1.405624e+06</td>\n",
       "      <td>5.629238e-03</td>\n",
       "      <td>6.662275e-03</td>\n",
       "      <td>5.323826e-03</td>\n",
       "      <td>3.766527e-02</td>\n",
       "      <td>9.058441e-02</td>\n",
       "      <td>5.389027e-02</td>\n",
       "      <td>2.175332e-05</td>\n",
       "      <td>1.808114e-02</td>\n",
       "      <td>0.000000e+00</td>\n",
       "      <td>...</td>\n",
       "      <td>0.000000e+00</td>\n",
       "      <td>0.000000e+00</td>\n",
       "      <td>1.537995e-02</td>\n",
       "      <td>0.000000e+00</td>\n",
       "      <td>4.112532e-02</td>\n",
       "      <td>1.027471e-04</td>\n",
       "      <td>1.441165e-02</td>\n",
       "      <td>4.765654e-02</td>\n",
       "      <td>0.000000e+00</td>\n",
       "      <td>2.652265e-01</td>\n",
       "    </tr>\n",
       "    <tr>\n",
       "      <th>90%</th>\n",
       "      <td>1.687013e+06</td>\n",
       "      <td>7.457726e-03</td>\n",
       "      <td>1.523424e-02</td>\n",
       "      <td>1.078752e-02</td>\n",
       "      <td>3.766527e-02</td>\n",
       "      <td>9.200272e-02</td>\n",
       "      <td>5.389027e-02</td>\n",
       "      <td>4.021751e-05</td>\n",
       "      <td>1.813929e-02</td>\n",
       "      <td>0.000000e+00</td>\n",
       "      <td>...</td>\n",
       "      <td>2.439823e-03</td>\n",
       "      <td>3.606076e-03</td>\n",
       "      <td>1.537995e-02</td>\n",
       "      <td>8.661396e-03</td>\n",
       "      <td>4.112532e-02</td>\n",
       "      <td>3.168037e-04</td>\n",
       "      <td>1.649106e-02</td>\n",
       "      <td>4.765654e-02</td>\n",
       "      <td>0.000000e+00</td>\n",
       "      <td>2.779094e-01</td>\n",
       "    </tr>\n",
       "    <tr>\n",
       "      <th>95%</th>\n",
       "      <td>1.780802e+06</td>\n",
       "      <td>9.036817e-03</td>\n",
       "      <td>2.441653e-02</td>\n",
       "      <td>2.599019e-02</td>\n",
       "      <td>3.766527e-02</td>\n",
       "      <td>9.200272e-02</td>\n",
       "      <td>5.389027e-02</td>\n",
       "      <td>5.593361e-05</td>\n",
       "      <td>1.816161e-02</td>\n",
       "      <td>1.323877e-02</td>\n",
       "      <td>...</td>\n",
       "      <td>2.439823e-03</td>\n",
       "      <td>3.606076e-03</td>\n",
       "      <td>1.537995e-02</td>\n",
       "      <td>8.661396e-03</td>\n",
       "      <td>4.112532e-02</td>\n",
       "      <td>5.346062e-04</td>\n",
       "      <td>1.792120e-02</td>\n",
       "      <td>4.765654e-02</td>\n",
       "      <td>0.000000e+00</td>\n",
       "      <td>3.008105e-01</td>\n",
       "    </tr>\n",
       "    <tr>\n",
       "      <th>97.5%</th>\n",
       "      <td>1.827708e+06</td>\n",
       "      <td>1.094283e-02</td>\n",
       "      <td>3.469121e-02</td>\n",
       "      <td>4.615818e-02</td>\n",
       "      <td>3.766527e-02</td>\n",
       "      <td>9.200272e-02</td>\n",
       "      <td>5.389027e-02</td>\n",
       "      <td>7.672110e-05</td>\n",
       "      <td>1.817876e-02</td>\n",
       "      <td>1.323877e-02</td>\n",
       "      <td>...</td>\n",
       "      <td>4.879646e-03</td>\n",
       "      <td>3.606076e-03</td>\n",
       "      <td>1.537995e-02</td>\n",
       "      <td>1.299209e-02</td>\n",
       "      <td>4.112532e-02</td>\n",
       "      <td>8.064093e-04</td>\n",
       "      <td>1.910663e-02</td>\n",
       "      <td>4.765654e-02</td>\n",
       "      <td>3.286009e-03</td>\n",
       "      <td>3.118605e-01</td>\n",
       "    </tr>\n",
       "    <tr>\n",
       "      <th>99%</th>\n",
       "      <td>1.855843e+06</td>\n",
       "      <td>1.439913e-02</td>\n",
       "      <td>4.930565e-02</td>\n",
       "      <td>7.641985e-02</td>\n",
       "      <td>3.766527e-02</td>\n",
       "      <td>9.200272e-02</td>\n",
       "      <td>5.389027e-02</td>\n",
       "      <td>1.243501e-04</td>\n",
       "      <td>1.818961e-02</td>\n",
       "      <td>2.647754e-02</td>\n",
       "      <td>...</td>\n",
       "      <td>7.319469e-03</td>\n",
       "      <td>3.606076e-03</td>\n",
       "      <td>1.845594e-02</td>\n",
       "      <td>1.299209e-02</td>\n",
       "      <td>4.112532e-02</td>\n",
       "      <td>1.315954e-03</td>\n",
       "      <td>2.063654e-02</td>\n",
       "      <td>4.765654e-02</td>\n",
       "      <td>3.286009e-03</td>\n",
       "      <td>3.204291e-01</td>\n",
       "    </tr>\n",
       "    <tr>\n",
       "      <th>99.9%</th>\n",
       "      <td>1.872731e+06</td>\n",
       "      <td>3.177806e-02</td>\n",
       "      <td>8.279775e-02</td>\n",
       "      <td>7.641985e-02</td>\n",
       "      <td>3.766527e-02</td>\n",
       "      <td>9.200272e-02</td>\n",
       "      <td>5.389027e-02</td>\n",
       "      <td>3.807497e-04</td>\n",
       "      <td>1.820000e-02</td>\n",
       "      <td>3.971632e-02</td>\n",
       "      <td>...</td>\n",
       "      <td>9.759293e-03</td>\n",
       "      <td>7.212152e-03</td>\n",
       "      <td>3.075991e-02</td>\n",
       "      <td>1.299209e-02</td>\n",
       "      <td>4.112532e-02</td>\n",
       "      <td>4.079073e-03</td>\n",
       "      <td>2.467412e-02</td>\n",
       "      <td>4.765654e-02</td>\n",
       "      <td>9.858026e-03</td>\n",
       "      <td>3.359419e-01</td>\n",
       "    </tr>\n",
       "    <tr>\n",
       "      <th>max</th>\n",
       "      <td>1.874607e+06</td>\n",
       "      <td>7.863357e-02</td>\n",
       "      <td>1.471252e-01</td>\n",
       "      <td>7.641985e-02</td>\n",
       "      <td>3.766527e-02</td>\n",
       "      <td>9.200272e-02</td>\n",
       "      <td>5.389027e-02</td>\n",
       "      <td>3.678549e-02</td>\n",
       "      <td>1.820283e-02</td>\n",
       "      <td>5.957448e-02</td>\n",
       "      <td>...</td>\n",
       "      <td>3.415752e-02</td>\n",
       "      <td>1.442430e-02</td>\n",
       "      <td>3.075991e-02</td>\n",
       "      <td>1.299209e-02</td>\n",
       "      <td>4.112532e-02</td>\n",
       "      <td>2.027543e-02</td>\n",
       "      <td>3.783365e-02</td>\n",
       "      <td>4.765654e-02</td>\n",
       "      <td>6.572017e-02</td>\n",
       "      <td>3.736069e-01</td>\n",
       "    </tr>\n",
       "  </tbody>\n",
       "</table>\n",
       "<p>18 rows × 21 columns</p>\n",
       "</div>"
      ],
      "text/plain": [
       "        point_index  sidewalk_width  pedestrian_density  \\\n",
       "count  1.876414e+06    1.876414e+06        1.565331e+06   \n",
       "mean   9.370853e+05    4.750542e-03        5.915096e-03   \n",
       "std    5.410661e+05    2.806522e-03        9.726379e-03   \n",
       "min    0.000000e+00    0.000000e+00        0.000000e+00   \n",
       "0.1%   1.876413e+03    5.653732e-04        0.000000e+00   \n",
       "1%     1.876013e+04    1.081451e-03        0.000000e+00   \n",
       "2.5%   4.690333e+04    1.475240e-03        0.000000e+00   \n",
       "5%     9.380665e+04    1.858331e-03        0.000000e+00   \n",
       "10%    1.875483e+05    2.342113e-03        0.000000e+00   \n",
       "25%    4.686312e+05    3.217896e-03        5.162289e-04   \n",
       "50%    9.368045e+05    4.219460e-03        2.635079e-03   \n",
       "75%    1.405624e+06    5.629238e-03        6.662275e-03   \n",
       "90%    1.687013e+06    7.457726e-03        1.523424e-02   \n",
       "95%    1.780802e+06    9.036817e-03        2.441653e-02   \n",
       "97.5%  1.827708e+06    1.094283e-02        3.469121e-02   \n",
       "99%    1.855843e+06    1.439913e-02        4.930565e-02   \n",
       "99.9%  1.872731e+06    3.177806e-02        8.279775e-02   \n",
       "max    1.874607e+06    7.863357e-02        1.471252e-01   \n",
       "\n",
       "       street_furniture_density  sidewalk_roughness  surface_condition  \\\n",
       "count              1.876414e+06        1.876414e+06       1.876414e+06   \n",
       "mean               5.335556e-03        3.766527e-02       8.433687e-02   \n",
       "std                1.178124e-02        1.804113e-16       1.077850e-02   \n",
       "min                0.000000e+00        3.766527e-02       0.000000e+00   \n",
       "0.1%               0.000000e+00        3.766527e-02       0.000000e+00   \n",
       "1%                 0.000000e+00        3.766527e-02       3.682249e-02   \n",
       "2.5%               0.000000e+00        3.766527e-02       6.550979e-02   \n",
       "5%                 0.000000e+00        3.766527e-02       6.930978e-02   \n",
       "10%                0.000000e+00        3.766527e-02       7.375203e-02   \n",
       "25%                0.000000e+00        3.766527e-02       8.196752e-02   \n",
       "50%                1.557594e-03        3.766527e-02       8.654357e-02   \n",
       "75%                5.323826e-03        3.766527e-02       9.058441e-02   \n",
       "90%                1.078752e-02        3.766527e-02       9.200272e-02   \n",
       "95%                2.599019e-02        3.766527e-02       9.200272e-02   \n",
       "97.5%              4.615818e-02        3.766527e-02       9.200272e-02   \n",
       "99%                7.641985e-02        3.766527e-02       9.200272e-02   \n",
       "99.9%              7.641985e-02        3.766527e-02       9.200272e-02   \n",
       "max                7.641985e-02        3.766527e-02       9.200272e-02   \n",
       "\n",
       "       communication_infrastructure  slope_gradient  \\\n",
       "count                  1.876414e+06    1.876338e+06   \n",
       "mean                   5.375339e-02    1.834842e-05   \n",
       "std                    2.712507e-03    5.471776e-05   \n",
       "min                    0.000000e+00    0.000000e+00   \n",
       "0.1%                   0.000000e+00    0.000000e+00   \n",
       "1%                     5.389027e-02    0.000000e+00   \n",
       "2.5%                   5.389027e-02    0.000000e+00   \n",
       "5%                     5.389027e-02    0.000000e+00   \n",
       "10%                    5.389027e-02    0.000000e+00   \n",
       "25%                    5.389027e-02    4.518872e-06   \n",
       "50%                    5.389027e-02    1.128088e-05   \n",
       "75%                    5.389027e-02    2.175332e-05   \n",
       "90%                    5.389027e-02    4.021751e-05   \n",
       "95%                    5.389027e-02    5.593361e-05   \n",
       "97.5%                  5.389027e-02    7.672110e-05   \n",
       "99%                    5.389027e-02    1.243501e-04   \n",
       "99.9%                  5.389027e-02    3.807497e-04   \n",
       "max                    5.389027e-02    3.678549e-02   \n",
       "\n",
       "       charging_station_proximity  curb_ramp_availability  ...  \\\n",
       "count                1.876414e+06            1.876414e+06  ...   \n",
       "mean                 1.514418e-02            1.265195e-03  ...   \n",
       "std                  3.500254e-03            4.623085e-03  ...   \n",
       "min                  0.000000e+00            0.000000e+00  ...   \n",
       "0.1%                 5.192639e-04            0.000000e+00  ...   \n",
       "1%                   3.993549e-03            0.000000e+00  ...   \n",
       "2.5%                 6.288659e-03            0.000000e+00  ...   \n",
       "5%                   8.231748e-03            0.000000e+00  ...   \n",
       "10%                  1.005912e-02            0.000000e+00  ...   \n",
       "25%                  1.329245e-02            0.000000e+00  ...   \n",
       "50%                  1.633672e-02            0.000000e+00  ...   \n",
       "75%                  1.808114e-02            0.000000e+00  ...   \n",
       "90%                  1.813929e-02            0.000000e+00  ...   \n",
       "95%                  1.816161e-02            1.323877e-02  ...   \n",
       "97.5%                1.817876e-02            1.323877e-02  ...   \n",
       "99%                  1.818961e-02            2.647754e-02  ...   \n",
       "99.9%                1.820000e-02            3.971632e-02  ...   \n",
       "max                  1.820283e-02            5.957448e-02  ...   \n",
       "\n",
       "       traffic_management  surveillance_coverage   zoning_laws  \\\n",
       "count        1.876414e+06           1.876414e+06  1.876414e+06   \n",
       "mean         6.210853e-04           6.698173e-04  1.264958e-02   \n",
       "std          1.466965e-03           1.431154e-03  6.017194e-03   \n",
       "min          0.000000e+00           0.000000e+00  0.000000e+00   \n",
       "0.1%         0.000000e+00           0.000000e+00  0.000000e+00   \n",
       "1%           0.000000e+00           0.000000e+00  0.000000e+00   \n",
       "2.5%         0.000000e+00           0.000000e+00  0.000000e+00   \n",
       "5%           0.000000e+00           0.000000e+00  0.000000e+00   \n",
       "10%          0.000000e+00           0.000000e+00  0.000000e+00   \n",
       "25%          0.000000e+00           0.000000e+00  1.537995e-02   \n",
       "50%          0.000000e+00           0.000000e+00  1.537995e-02   \n",
       "75%          0.000000e+00           0.000000e+00  1.537995e-02   \n",
       "90%          2.439823e-03           3.606076e-03  1.537995e-02   \n",
       "95%          2.439823e-03           3.606076e-03  1.537995e-02   \n",
       "97.5%        4.879646e-03           3.606076e-03  1.537995e-02   \n",
       "99%          7.319469e-03           3.606076e-03  1.845594e-02   \n",
       "99.9%        9.759293e-03           7.212152e-03  3.075991e-02   \n",
       "max          3.415752e-02           1.442430e-02  3.075991e-02   \n",
       "\n",
       "       bike_lane_availability  gps_signal_strength  bicycle_traffic  \\\n",
       "count            1.876414e+06         1.876414e+06     1.565331e+06   \n",
       "mean             1.306564e-03         4.112532e-02     1.124581e-04   \n",
       "std              3.254066e-03         0.000000e+00     3.271985e-04   \n",
       "min              0.000000e+00         4.112532e-02     0.000000e+00   \n",
       "0.1%             0.000000e+00         4.112532e-02     0.000000e+00   \n",
       "1%               0.000000e+00         4.112532e-02     0.000000e+00   \n",
       "2.5%             0.000000e+00         4.112532e-02     0.000000e+00   \n",
       "5%               0.000000e+00         4.112532e-02     0.000000e+00   \n",
       "10%              0.000000e+00         4.112532e-02     0.000000e+00   \n",
       "25%              0.000000e+00         4.112532e-02     0.000000e+00   \n",
       "50%              0.000000e+00         4.112532e-02     0.000000e+00   \n",
       "75%              0.000000e+00         4.112532e-02     1.027471e-04   \n",
       "90%              8.661396e-03         4.112532e-02     3.168037e-04   \n",
       "95%              8.661396e-03         4.112532e-02     5.346062e-04   \n",
       "97.5%            1.299209e-02         4.112532e-02     8.064093e-04   \n",
       "99%              1.299209e-02         4.112532e-02     1.315954e-03   \n",
       "99.9%            1.299209e-02         4.112532e-02     4.079073e-03   \n",
       "max              1.299209e-02         4.112532e-02     2.027543e-02   \n",
       "\n",
       "       vehicle_traffic  digital_map_existence  intersection_safety  \\\n",
       "count     1.565331e+06           1.876414e+06         1.876414e+06   \n",
       "mean      1.156220e-02           4.765654e-02         1.130306e-04   \n",
       "std       4.096021e-03           2.775558e-17         7.725731e-04   \n",
       "min       0.000000e+00           4.765654e-02         0.000000e+00   \n",
       "0.1%      0.000000e+00           4.765654e-02         0.000000e+00   \n",
       "1%        1.644941e-03           4.765654e-02         0.000000e+00   \n",
       "2.5%      3.289883e-03           4.765654e-02         0.000000e+00   \n",
       "5%        4.402916e-03           4.765654e-02         0.000000e+00   \n",
       "10%       6.031452e-03           4.765654e-02         0.000000e+00   \n",
       "25%       8.819264e-03           4.765654e-02         0.000000e+00   \n",
       "50%       1.180702e-02           4.765654e-02         0.000000e+00   \n",
       "75%       1.441165e-02           4.765654e-02         0.000000e+00   \n",
       "90%       1.649106e-02           4.765654e-02         0.000000e+00   \n",
       "95%       1.792120e-02           4.765654e-02         0.000000e+00   \n",
       "97.5%     1.910663e-02           4.765654e-02         3.286009e-03   \n",
       "99%       2.063654e-02           4.765654e-02         3.286009e-03   \n",
       "99.9%     2.467412e-02           4.765654e-02         9.858026e-03   \n",
       "max       3.783365e-02           4.765654e-02         6.572017e-02   \n",
       "\n",
       "              score  \n",
       "count  1.876414e+06  \n",
       "mean   2.511029e-01  \n",
       "std    2.998769e-02  \n",
       "min    9.285569e-03  \n",
       "0.1%   1.037685e-01  \n",
       "1%     1.535904e-01  \n",
       "2.5%   1.749036e-01  \n",
       "5%     1.940413e-01  \n",
       "10%    2.136999e-01  \n",
       "25%    2.411871e-01  \n",
       "50%    2.551465e-01  \n",
       "75%    2.652265e-01  \n",
       "90%    2.779094e-01  \n",
       "95%    3.008105e-01  \n",
       "97.5%  3.118605e-01  \n",
       "99%    3.204291e-01  \n",
       "99.9%  3.359419e-01  \n",
       "max    3.736069e-01  \n",
       "\n",
       "[18 rows x 21 columns]"
      ]
     },
     "execution_count": 155,
     "metadata": {},
     "output_type": "execute_result"
    }
   ],
   "source": [
    "features.describe([0.001, 0.01, 0.025, 0.05, 0.1, 0.25, 0.5, 0.75, 0.9, 0.95, 0.975, 0.99, 0.999]) "
   ]
  },
  {
   "cell_type": "code",
   "execution_count": 156,
   "metadata": {},
   "outputs": [],
   "source": [
    "features['segment_index'] = dataset['segment_index']\n",
    "features[['point_index','segment_index','geometry','score']].to_csv(\"../data/processed/score_nyc.csv\")"
   ]
  },
  {
   "cell_type": "code",
   "execution_count": 157,
   "metadata": {},
   "outputs": [],
   "source": [
    "features.to_csv(\"../data/processed/robotability_features.csv\", index=False)"
   ]
  },
  {
   "cell_type": "code",
   "execution_count": null,
   "metadata": {},
   "outputs": [],
   "source": []
  }
 ],
 "metadata": {
  "kernelspec": {
   "display_name": "Python 3",
   "language": "python",
   "name": "python3"
  },
  "language_info": {
   "codemirror_mode": {
    "name": "ipython",
    "version": 3
   },
   "file_extension": ".py",
   "mimetype": "text/x-python",
   "name": "python",
   "nbconvert_exporter": "python",
   "pygments_lexer": "ipython3",
   "version": "3.11.9"
  }
 },
 "nbformat": 4,
 "nbformat_minor": 2
}
