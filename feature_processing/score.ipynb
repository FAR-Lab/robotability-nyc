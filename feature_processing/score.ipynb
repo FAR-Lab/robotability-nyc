{
 "cells": [
  {
   "cell_type": "code",
   "execution_count": 72,
   "metadata": {},
   "outputs": [
    {
     "name": "stderr",
     "output_type": "stream",
     "text": [
      "\u001b[34m2025-02-12 14:25:06 - robotability-score - INFO - Modules initialized.\u001b[0m\n"
     ]
    }
   ],
   "source": [
    "# class RobotabilityGraph that inherits from Graph class \n",
    "import os\n",
    "import sys \n",
    "sys.path.append(\"/share/ju/urban-fingerprinting\")\n",
    "\n",
    "import osmnx as ox \n",
    "import geopandas as gpd \n",
    "import pandas as pd \n",
    "import numpy as np \n",
    "\n",
    "import matplotlib.pyplot as plt \n",
    "# enable latex plotting \n",
    "plt.rc('text', usetex=True)\n",
    "plt.rc('font', family='serif')\n",
    "\n",
    "from glob import glob \n",
    "from tqdm import tqdm \n",
    "\n",
    "from shapely import wkt, LineString \n",
    "\n",
    "import rasterio\n",
    "from rasterio.enums import Resampling\n",
    "from rasterio.plot import show \n",
    "\n",
    "\n",
    "from src.utils.logger import setup_logger \n",
    "\n",
    "logger = setup_logger('robotability-score')\n",
    "logger.setLevel(\"INFO\")\n",
    "logger.info(\"Modules initialized.\")\n",
    "\n",
    "WGS='EPSG:4326'\n",
    "PROJ='EPSG:2263'\n",
    "\n",
    "USE_ALTERNATE_GEN_METHOD = True"
   ]
  },
  {
   "cell_type": "code",
   "execution_count": 73,
   "metadata": {},
   "outputs": [],
   "source": [
    "def min_max_normalize(series: pd.Series) -> pd.Series:\n",
    "    \"\"\"\n",
    "    Normalize the input pandas Series using min-max normalization.\n",
    "\n",
    "    Parameters:\n",
    "    series (pd.Series): The pandas Series to normalize.\n",
    "\n",
    "    Returns:\n",
    "    pd.Series: A new pandas Series with values normalized between 0 and 1.\n",
    "    \"\"\"\n",
    "    min_val = series.min()\n",
    "    max_val = series.max()\n",
    "    \n",
    "    if min_val == max_val:\n",
    "        # Avoid division by zero; if all values are the same, return 0 for all elements\n",
    "        return pd.Series([0.0] * len(series), index=series.index)\n",
    "    \n",
    "    return (series - min_val) / (max_val - min_val)"
   ]
  },
  {
   "cell_type": "code",
   "execution_count": 74,
   "metadata": {},
   "outputs": [],
   "source": [
    "dataset = pd.read_csv(\"../data/processed/score_dataset.csv\", engine='pyarrow')\n",
    "dataset = gpd.GeoDataFrame(dataset, geometry=dataset['geometry'].apply(wkt.loads), crs=PROJ)"
   ]
  },
  {
   "cell_type": "code",
   "execution_count": 75,
   "metadata": {},
   "outputs": [
    {
     "data": {
      "text/plain": [
       "1902877"
      ]
     },
     "execution_count": 75,
     "metadata": {},
     "output_type": "execute_result"
    }
   ],
   "source": [
    "len(dataset.index)"
   ]
  },
  {
   "cell_type": "code",
   "execution_count": 76,
   "metadata": {},
   "outputs": [
    {
     "data": {
      "text/plain": [
       "array(['', '5g_technology', '5g_mindown', '5g_minup', '5g_environmnt',\n",
       "       '5g_h3_res9_id', '4g_technology', '4g_mindown', '4g_minup',\n",
       "       '4g_environmnt', '4g_h3_res9_id', 'Unnamed: 0', 'width',\n",
       "       'segment_index', 'geometry', 'point_index', 'ft_above_sea',\n",
       "       'n_cameras_median', 'Unnamed: 0_street_furniture',\n",
       "       'width_street_furniture', 'segment_index_street_furniture',\n",
       "       'geometry_street_furniture', 'bus_stop_count', 'trash_can_count',\n",
       "       'linknyc_count', 'citybench_count',\n",
       "       'bicycle_parking_shelter_count', 'bicycle_rack_count',\n",
       "       'tree_count', 'newsstand_count', 'parking_meter_count',\n",
       "       'hydrant_count', 'street_sign_count', 'alarm_call_box_count',\n",
       "       'scaffolding_permit_count', 'clutter', 'ZONEDIST', 'Shape_Leng',\n",
       "       'Shape_Area', 'distance_to_nearest_station', 'CURBRAMP_count',\n",
       "       'RAISEDCROSSWALK_count', 'boro_cd', 'shape_area', 'shape_leng',\n",
       "       'cd_code', 'sidewalk_quality', 'POI_the_geom', 'POI_SEGMENTID',\n",
       "       'POI_COMPLEXID', 'POI_SAFTYPE', 'POI_SOS', 'POI_PLACEID',\n",
       "       'POI_FACI_DOM', 'POI_BIN', 'POI_BOROUGH', 'POI_CREATED',\n",
       "       'POI_MODIFIED', 'POI_FACILITY_T', 'POI_SOURCE', 'POI_B7SC',\n",
       "       'POI_PRI_ADD', 'POI_NAME', 'TRAFFIC_Pedestrian', 'TRAFFIC_Bike',\n",
       "       'TRAFFIC_Car', 'avg_speed_limit', 'in_slow_zone',\n",
       "       'turn_traffic_calming_count', 'sip_intersections_count',\n",
       "       'sip_corridors_count', 'barnes_intersections_count',\n",
       "       'leading_ped_intervals_count', 'highest_bike_lane_facility_class',\n",
       "       'num_peds_involved_in_collision'], dtype=object)"
      ]
     },
     "execution_count": 76,
     "metadata": {},
     "output_type": "execute_result"
    }
   ],
   "source": [
    "dataset.columns.values"
   ]
  },
  {
   "cell_type": "code",
   "execution_count": 77,
   "metadata": {},
   "outputs": [
    {
     "data": {
      "text/plain": [
       "                                       0\n",
       "5g_technology                       1592\n",
       "5g_mindown                          1592\n",
       "5g_minup                            1592\n",
       "5g_environmnt                       1592\n",
       "                                    ... \n",
       "sip_corridors_count                 1790\n",
       "barnes_intersections_count          1790\n",
       "leading_ped_intervals_count         1790\n",
       "highest_bike_lane_facility_class    1790\n",
       "num_peds_involved_in_collision      1790\n",
       "Length: 75, dtype: int64"
      ]
     },
     "execution_count": 77,
     "metadata": {},
     "output_type": "execute_result"
    }
   ],
   "source": [
    "dataset.isna().sum()  "
   ]
  },
  {
   "cell_type": "code",
   "execution_count": 78,
   "metadata": {},
   "outputs": [],
   "source": [
    "FEATURES = { \n",
    "    'sidewalk_width': 'Sidewalk Width',\n",
    "    'pedestrian_density': 'Pedestrian Density',\n",
    "    'street_furniture_density': 'Density of Street Furniture',\n",
    "    'sidewalk_roughness': 'Sidewalk Roughness',\n",
    "    'surface_condition': 'Surface Condition',\n",
    "    'communication_infrastructure': 'Wireless Communication Infrastructure',\n",
    "    'slope_gradient': 'Slope Gradient',\n",
    "    'charging_station_proximity': 'Proximity to Charging Stations',\n",
    "    'local_attitudes': 'Local Attitudes Towards Robots',\n",
    "    'curb_ramp_availability': 'Curb Ramp Availability',\n",
    "    'weather_conditions': 'Weather Conditions',\n",
    "    'crowd_dynamics': 'Crowd Dynamics',\n",
    "    'traffic_management': 'Traffic Management Systems',\n",
    "    'surveillance_coverage': 'Surveillance Coverage',\n",
    "    'zoning_laws': 'Zoning Laws and Regulation',\n",
    "    'bike_lane_availability': 'Bike Lane Availability',\n",
    "    'street_lighting': 'Street Lighting',\n",
    "    'shade_availability': 'Existence of Shade',\n",
    "    'gps_signal_strength': 'GPS Signal Strength',\n",
    "    'pedestrian_flow': 'Pedestrian Flow',\n",
    "    'bicycle_traffic': 'Bicycle Traffic',\n",
    "    'vehicle_traffic': 'Vehicle Traffic',\n",
    "    'digital_map_existence': 'Existence of Detailed Digital Maps',\n",
    "    'intersection_safety': 'Intersection Safety'\n",
    "}\n",
    "\n"
   ]
  },
  {
   "cell_type": "code",
   "execution_count": 79,
   "metadata": {},
   "outputs": [
    {
     "data": {
      "text/plain": [
       "24"
      ]
     },
     "execution_count": 79,
     "metadata": {},
     "output_type": "execute_result"
    }
   ],
   "source": [
    "len(FEATURES)"
   ]
  },
  {
   "cell_type": "code",
   "execution_count": 80,
   "metadata": {},
   "outputs": [],
   "source": [
    "# which "
   ]
  },
  {
   "cell_type": "code",
   "execution_count": 81,
   "metadata": {},
   "outputs": [
    {
     "data": {
      "text/plain": [
       "{'sidewalk_width': 0.0680683361363927,\n",
       " 'pedestrian_density': 0.0944557667500405,\n",
       " 'street_furniture_density': 0.067521144555113,\n",
       " 'sidewalk_roughness': 0.0459351420083429,\n",
       " 'surface_condition': 0.0768293357959319,\n",
       " 'communication_infrastructure': 0.0584516546931818,\n",
       " 'slope_gradient': 0.0483223144815313,\n",
       " 'charging_station_proximity': 0.0253164899310615,\n",
       " 'curb_ramp_availability': 0.0601029702765427,\n",
       " 'crowd_dynamics': 0.0762192718947518,\n",
       " 'traffic_management': 0.0463833389681437,\n",
       " 'surveillance_coverage': 0.0228127297176597,\n",
       " 'zoning_laws': 0.0414660103369305,\n",
       " 'bike_lane_availability': 0.0226037495992804,\n",
       " 'gps_signal_strength': 0.0483597008110543,\n",
       " 'bicycle_traffic': 0.0306828236124786,\n",
       " 'vehicle_traffic': 0.0474544306251074,\n",
       " 'digital_map_existence': 0.0485078685898746,\n",
       " 'intersection_safety': 0.0705069212165799}"
      ]
     },
     "execution_count": 81,
     "metadata": {},
     "output_type": "execute_result"
    }
   ],
   "source": [
    "# read csv as dict and store in WEIGHTS \n",
    "WEIGHTS = pd.read_csv(\"../survey_processing/feature_weights.csv\", index_col=0).to_dict()['Weight']\n",
    "WEIGHTS"
   ]
  },
  {
   "cell_type": "code",
   "execution_count": 82,
   "metadata": {},
   "outputs": [
    {
     "data": {
      "text/plain": [
       "0.9999999999999991"
      ]
     },
     "execution_count": 82,
     "metadata": {},
     "output_type": "execute_result"
    }
   ],
   "source": [
    "# get sum of weights \n",
    "sum(WEIGHTS.values())"
   ]
  },
  {
   "cell_type": "code",
   "execution_count": 83,
   "metadata": {},
   "outputs": [],
   "source": [
    "features = pd.DataFrame()"
   ]
  },
  {
   "cell_type": "code",
   "execution_count": 84,
   "metadata": {},
   "outputs": [],
   "source": [
    "# add geometry to features\n",
    "features['geometry'] = dataset['geometry']\n",
    "# add point index to features \n",
    "features['point_index'] = dataset['point_index']"
   ]
  },
  {
   "cell_type": "markdown",
   "metadata": {},
   "source": [
    "### Sidewalk Width "
   ]
  },
  {
   "cell_type": "code",
   "execution_count": 85,
   "metadata": {},
   "outputs": [],
   "source": [
    "def PREPROCESS_sidewalk_width(col): \n",
    "    # softmax the sidewalk width so that it is between 0 and 1\n",
    "    col = min_max_normalize(col)\n",
    "\n",
    "    return col\n",
    "    \n",
    "\n",
    "if USE_ALTERNATE_GEN_METHOD:\n",
    "    dataset['sidewalk_width'] = PREPROCESS_sidewalk_width(dataset['width'])\n",
    "else: \n",
    "    dataset['sidewalk_width'] = PREPROCESS_sidewalk_width(dataset['SHAPE_Width'])"
   ]
  },
  {
   "cell_type": "code",
   "execution_count": 86,
   "metadata": {},
   "outputs": [],
   "source": [
    "def COMPUTE_sidewalk_width(col, WEIGHTS=WEIGHTS): \n",
    "    return col * WEIGHTS['sidewalk_width']\n"
   ]
  },
  {
   "cell_type": "code",
   "execution_count": 87,
   "metadata": {},
   "outputs": [],
   "source": [
    "features['sidewalk_width'] = COMPUTE_sidewalk_width(dataset['sidewalk_width'])"
   ]
  },
  {
   "cell_type": "markdown",
   "metadata": {},
   "source": [
    "### Pedestrian Density "
   ]
  },
  {
   "cell_type": "code",
   "execution_count": 88,
   "metadata": {},
   "outputs": [],
   "source": [
    "def PREPROCESS_pedestrian_density(col):\n",
    "    # softmax the pedestrian density so that it is between 0 and 1\n",
    "    col = min_max_normalize(col)\n",
    "    return col\n",
    "\n",
    "dataset['pedestrian_density'] = PREPROCESS_pedestrian_density(dataset['TRAFFIC_Pedestrian'])"
   ]
  },
  {
   "cell_type": "code",
   "execution_count": 89,
   "metadata": {},
   "outputs": [],
   "source": [
    "def COMPUTE_pedestrian_density(col, WEIGHTS=WEIGHTS):\n",
    "    return col * WEIGHTS['pedestrian_density']"
   ]
  },
  {
   "cell_type": "code",
   "execution_count": 90,
   "metadata": {},
   "outputs": [],
   "source": [
    "features['pedestrian_density'] = COMPUTE_pedestrian_density(dataset['pedestrian_density'])"
   ]
  },
  {
   "cell_type": "markdown",
   "metadata": {},
   "source": [
    "### Street Furniture Density "
   ]
  },
  {
   "cell_type": "code",
   "execution_count": 91,
   "metadata": {},
   "outputs": [],
   "source": [
    "def PREPROCESS_street_furniture_density(col):\n",
    "    # softmax the street furniture density so that it is between 0 and 1\n",
    "    col = min_max_normalize(col)\n",
    "    return col\n",
    "\n",
    "dataset['street_furniture_density'] = PREPROCESS_street_furniture_density(dataset['clutter'])"
   ]
  },
  {
   "cell_type": "code",
   "execution_count": 92,
   "metadata": {},
   "outputs": [],
   "source": [
    "def COMPUTE_street_furniture_density(col, WEIGHTS=WEIGHTS):\n",
    "    return col * WEIGHTS['street_furniture_density']\n",
    "\n",
    "features['street_furniture_density'] = COMPUTE_street_furniture_density(dataset['street_furniture_density'])"
   ]
  },
  {
   "cell_type": "markdown",
   "metadata": {},
   "source": [
    "### Sidewalk Roughness "
   ]
  },
  {
   "cell_type": "code",
   "execution_count": 93,
   "metadata": {},
   "outputs": [],
   "source": [
    "# SKIP preprocessing, as all values are already 1"
   ]
  },
  {
   "cell_type": "code",
   "execution_count": 94,
   "metadata": {},
   "outputs": [],
   "source": [
    "def COMPUTE_sidewalk_roughness(col=None, WEIGHTS=WEIGHTS): \n",
    "    return 1 * WEIGHTS['sidewalk_roughness']\n"
   ]
  },
  {
   "cell_type": "code",
   "execution_count": 95,
   "metadata": {},
   "outputs": [],
   "source": [
    "features['sidewalk_roughness'] = COMPUTE_sidewalk_roughness()\n",
    "\n",
    "# check out accessmap for this "
   ]
  },
  {
   "cell_type": "markdown",
   "metadata": {},
   "source": [
    "### Surface Condition "
   ]
  },
  {
   "cell_type": "code",
   "execution_count": 96,
   "metadata": {},
   "outputs": [],
   "source": [
    "def PREPROCESS_surface_condition(col):\n",
    "    col = min_max_normalize(col)\n",
    "    col = col.fillna(col.mean())\n",
    "    return col\n",
    "\n",
    "dataset['surface_condition'] = PREPROCESS_surface_condition(dataset['sidewalk_quality'])"
   ]
  },
  {
   "cell_type": "code",
   "execution_count": 97,
   "metadata": {},
   "outputs": [],
   "source": [
    "def COMPUTE_surface_condition(col, WEIGHTS=WEIGHTS):\n",
    "    return col * WEIGHTS['surface_condition']\n",
    "\n",
    "features['surface_condition'] = COMPUTE_surface_condition(dataset['surface_condition'])"
   ]
  },
  {
   "cell_type": "markdown",
   "metadata": {},
   "source": [
    "### Wireless Communication Infrastructure "
   ]
  },
  {
   "cell_type": "code",
   "execution_count": 98,
   "metadata": {},
   "outputs": [],
   "source": [
    "# SKIP preprocessing, as all values are already 0 or 1"
   ]
  },
  {
   "cell_type": "code",
   "execution_count": 99,
   "metadata": {},
   "outputs": [],
   "source": [
    "def COMPUTE_communication_infrastructure(row, WEIGHTS=WEIGHTS): \n",
    "    return (1 if (row['4g_minup'] > 0 and row['4g_mindown'] > 0) else 0) * WEIGHTS['communication_infrastructure']"
   ]
  },
  {
   "cell_type": "code",
   "execution_count": 100,
   "metadata": {},
   "outputs": [],
   "source": [
    "features['communication_infrastructure'] = dataset.apply(lambda row: COMPUTE_communication_infrastructure(row), axis=1)"
   ]
  },
  {
   "cell_type": "markdown",
   "metadata": {},
   "source": [
    "### Slope Gradient "
   ]
  },
  {
   "cell_type": "code",
   "execution_count": 101,
   "metadata": {},
   "outputs": [
    {
     "name": "stderr",
     "output_type": "stream",
     "text": [
      "100%|██████████| 1902877/1902877 [06:14<00:00, 5082.35it/s]\n"
     ]
    }
   ],
   "source": [
    "from scipy.spatial import cKDTree\n",
    "import numpy as np\n",
    "from tqdm import tqdm\n",
    "\n",
    "def POPULATE_slope_gradient_optimized_with_progress(dataset, WEIGHTS=WEIGHTS):\n",
    "    # Convert geometries to numpy arrays for faster distance computation\n",
    "    coords = np.array([[geom.x, geom.y] for geom in dataset['geometry']])\n",
    "    tree = cKDTree(coords)\n",
    "\n",
    "    # Initialize an array for slope gradients\n",
    "    slope_gradients = np.zeros(len(dataset))\n",
    "\n",
    "    # Precompute distances for each point\n",
    "    for i, row in tqdm(dataset.iterrows(), total=len(dataset)):\n",
    "        # Get indices of nearest neighbors within 50 units, excluding the point itself\n",
    "        distances, indices = tree.query(coords[i], k=10, distance_upper_bound=50)\n",
    "        \n",
    "        # Remove invalid indices (those equal to len(coords))\n",
    "        valid_mask = (indices != len(coords)) & (indices != i)\n",
    "        valid_indices = indices[valid_mask]\n",
    "        valid_distances = distances[valid_mask]\n",
    "        \n",
    "        # Compute slope gradients\n",
    "        if len(valid_indices) > 0:\n",
    "            height_diffs = np.abs(dataset['ft_above_sea'].iloc[valid_indices] - row['ft_above_sea'])\n",
    "            slopes = height_diffs / valid_distances\n",
    "            # take absolute value of slope\n",
    "            slopes = np.abs(slopes)\n",
    "            slope_gradients[i] = slopes.mean() * WEIGHTS['slope_gradient']\n",
    "\n",
    "    return slope_gradients\n",
    "\n",
    "\n",
    "LOCAL_LOAD=False \n",
    "if not LOCAL_LOAD: \n",
    "    # Apply the optimized function with progress monitoring\n",
    "    dataset['slope_gradient'] = POPULATE_slope_gradient_optimized_with_progress(dataset)\n",
    "    dataset[['point_index','slope_gradient']].to_csv(\"../data/processed/slope_gradient.csv\")\n",
    "else: \n",
    "    dataset['slope_gradient'] = pd.read_csv(\"../data/processed/slope_gradient.csv\")['slope_gradient']\n"
   ]
  },
  {
   "cell_type": "code",
   "execution_count": 102,
   "metadata": {},
   "outputs": [],
   "source": [
    "def POSTPROCESS_slope_gradient(col): \n",
    "    # softmax the slope gradient so that it is between 0 and 1\n",
    "    col = min_max_normalize(col)\n",
    "    return col\n",
    "\n",
    "dataset['slope_gradient'] = POSTPROCESS_slope_gradient(dataset['slope_gradient'])"
   ]
  },
  {
   "cell_type": "code",
   "execution_count": 103,
   "metadata": {},
   "outputs": [],
   "source": [
    "def COMPUTE_slope_gradient(col, WEIGHTS=WEIGHTS): \n",
    "    return col * WEIGHTS['slope_gradient']\n"
   ]
  },
  {
   "cell_type": "code",
   "execution_count": 104,
   "metadata": {},
   "outputs": [],
   "source": [
    "features['slope_gradient'] = COMPUTE_slope_gradient(dataset['slope_gradient'])"
   ]
  },
  {
   "cell_type": "code",
   "execution_count": 105,
   "metadata": {},
   "outputs": [
    {
     "data": {
      "text/plain": [
       "<Axes: >"
      ]
     },
     "execution_count": 105,
     "metadata": {},
     "output_type": "execute_result"
    },
    {
     "data": {
      "image/png": "[encoded data removed]",
      "text/plain": [
       "<Figure size 640x480 with 1 Axes>"
      ]
     },
     "metadata": {},
     "output_type": "display_data"
    }
   ],
   "source": [
    "# log the distribution here, as this one might be tricky \n",
    "features['slope_gradient'].hist(bins=1000)"
   ]
  },
  {
   "cell_type": "markdown",
   "metadata": {},
   "source": [
    "### Charging Station Proximity "
   ]
  },
  {
   "cell_type": "code",
   "execution_count": 106,
   "metadata": {},
   "outputs": [],
   "source": [
    "# convert to col-level function \n",
    "def POPULATE_charging_station_proximity(col, RANGE=max(dataset['distance_to_nearest_station'])): \n",
    "    return (RANGE-col)/RANGE"
   ]
  },
  {
   "cell_type": "code",
   "execution_count": 107,
   "metadata": {},
   "outputs": [],
   "source": [
    "dataset['charging_station_proximity'] = POPULATE_charging_station_proximity(dataset['distance_to_nearest_station'])"
   ]
  },
  {
   "cell_type": "code",
   "execution_count": 108,
   "metadata": {},
   "outputs": [],
   "source": [
    "def POSTPROCESS_charging_station_proximity(col):\n",
    "    # softmax the charging station proximity so that it is between 0 and 1\n",
    "    col = min_max_normalize(col)\n",
    "    return col\n",
    "\n",
    "dataset['charging_station_proximity'] = POSTPROCESS_charging_station_proximity(dataset['charging_station_proximity'])"
   ]
  },
  {
   "cell_type": "code",
   "execution_count": 109,
   "metadata": {},
   "outputs": [],
   "source": [
    "def COMPUTE_charging_station_proximity(col, WEIGHTS=WEIGHTS): \n",
    "    return col * WEIGHTS['charging_station_proximity']\n",
    "\n",
    "features['charging_station_proximity'] = COMPUTE_charging_station_proximity(dataset['charging_station_proximity'])"
   ]
  },
  {
   "cell_type": "markdown",
   "metadata": {},
   "source": [
    "### Local Attitudes Towards Robots "
   ]
  },
  {
   "cell_type": "markdown",
   "metadata": {},
   "source": [
    "**SKIP DUE TO LACK OF DATA** "
   ]
  },
  {
   "cell_type": "markdown",
   "metadata": {},
   "source": [
    "### Curb Ramp Availability "
   ]
  },
  {
   "cell_type": "code",
   "execution_count": 110,
   "metadata": {},
   "outputs": [],
   "source": [
    "def PREPROCESS_curb_ramp_availability(col): \n",
    "    col = min_max_normalize(col)\n",
    "    return col\n",
    "\n",
    "dataset['curb_ramp_availability'] = PREPROCESS_curb_ramp_availability(dataset['CURBRAMP_count'])"
   ]
  },
  {
   "cell_type": "code",
   "execution_count": 111,
   "metadata": {},
   "outputs": [],
   "source": [
    "def COMPUTE_curb_ramp_availability(col, WEIGHTS=WEIGHTS): \n",
    "    return col * WEIGHTS['curb_ramp_availability']\n",
    "\n",
    "features['curb_ramp_availability'] = COMPUTE_curb_ramp_availability(dataset['curb_ramp_availability'])"
   ]
  },
  {
   "cell_type": "markdown",
   "metadata": {},
   "source": [
    "### Weather Conditions "
   ]
  },
  {
   "cell_type": "markdown",
   "metadata": {},
   "source": [
    "** Skip due to hyperlocal/temporal nature of weather conditions ** "
   ]
  },
  {
   "cell_type": "markdown",
   "metadata": {},
   "source": [
    "### Crowd Dynamics "
   ]
  },
  {
   "cell_type": "code",
   "execution_count": 112,
   "metadata": {},
   "outputs": [],
   "source": [
    "def zonedist_to_indicator(row): \n",
    "    \n",
    "    if row:\n",
    "\n",
    "        if row.startswith('M'): \n",
    "            return 10\n",
    "        elif row.startswith('R'):\n",
    "            return 5\n",
    "        elif row.startswith('C'): \n",
    "            return 0\n",
    "        else: \n",
    "            return 2 \n",
    "    else:\n",
    "        return 0\n",
    "\n",
    "\n",
    "def POPULATE_crowd_dynamics(col): \n",
    "    return col.apply(zonedist_to_indicator)\n",
    "\n",
    "dataset['crowd_dynamics'] = POPULATE_crowd_dynamics(dataset['ZONEDIST'])"
   ]
  },
  {
   "cell_type": "code",
   "execution_count": 113,
   "metadata": {},
   "outputs": [],
   "source": [
    "def POSTPROCESS_crowd_dynamics(col):\n",
    "    # softmax the crowd dynamics so that it is between 0 and 1\n",
    "    col = min_max_normalize(col)\n",
    "    return col\n",
    "\n",
    "dataset['crowd_dynamics'] = POSTPROCESS_crowd_dynamics(dataset['crowd_dynamics'])"
   ]
  },
  {
   "cell_type": "code",
   "execution_count": 114,
   "metadata": {},
   "outputs": [],
   "source": [
    "def COMPUTE_crowd_dynamics(col, WEIGHTS=WEIGHTS):\n",
    "    return col * WEIGHTS['crowd_dynamics']\n",
    "\n",
    "features['crowd_dynamics'] = COMPUTE_crowd_dynamics(dataset['crowd_dynamics'])"
   ]
  },
  {
   "cell_type": "markdown",
   "metadata": {},
   "source": [
    "### Traffic Management "
   ]
  },
  {
   "cell_type": "code",
   "execution_count": 115,
   "metadata": {},
   "outputs": [],
   "source": [
    "def POPULATE_traffic_management(df, WEIGHTS=WEIGHTS): \n",
    "    return  (df['in_slow_zone'] + df['turn_traffic_calming_count'] + df['sip_intersections_count'] + df['sip_corridors_count'] + df['barnes_intersections_count'] + df['leading_ped_intervals_count']).fillna(0)\n",
    "\n",
    "dataset['traffic_management'] = POPULATE_traffic_management(dataset)\n",
    "\n",
    "\n",
    "\n"
   ]
  },
  {
   "cell_type": "code",
   "execution_count": 116,
   "metadata": {},
   "outputs": [],
   "source": [
    "def POSTPROCESS_traffic_management(col): \n",
    "    # softmax the traffic management so that it is between 0 and 1\n",
    "    col = min_max_normalize(col)\n",
    "    return col\n",
    "\n",
    "dataset['traffic_management'] = POSTPROCESS_traffic_management(dataset['traffic_management'])\n",
    "    "
   ]
  },
  {
   "cell_type": "code",
   "execution_count": 117,
   "metadata": {},
   "outputs": [],
   "source": [
    "def COMPUTE_traffic_management(col, WEIGHTS=WEIGHTS):\n",
    "    return col * WEIGHTS['traffic_management']\n",
    "\n",
    "features['traffic_management'] = COMPUTE_traffic_management(dataset['traffic_management'])\n"
   ]
  },
  {
   "cell_type": "markdown",
   "metadata": {},
   "source": [
    "### Surveillance Coverage "
   ]
  },
  {
   "cell_type": "code",
   "execution_count": 118,
   "metadata": {},
   "outputs": [],
   "source": [
    "def PREPROCESS_surveillance_coverage(col): \n",
    "    # softmax the surveillance coverage so that it is between 0 and 1\n",
    "    col = min_max_normalize(col)\n",
    "    return col\n",
    "\n",
    "dataset['surveillance_coverage'] = PREPROCESS_surveillance_coverage(dataset['n_cameras_median'])"
   ]
  },
  {
   "cell_type": "code",
   "execution_count": 119,
   "metadata": {},
   "outputs": [],
   "source": [
    "def COMPUTE_surveillance_coverage(col, WEIGHTS=WEIGHTS):\n",
    "    return col * WEIGHTS['surveillance_coverage']\n",
    "\n",
    "features['surveillance_coverage'] = COMPUTE_surveillance_coverage(dataset['surveillance_coverage'])\n",
    "    "
   ]
  },
  {
   "cell_type": "markdown",
   "metadata": {},
   "source": [
    "### Zoning Laws & Regulations"
   ]
  },
  {
   "cell_type": "code",
   "execution_count": 120,
   "metadata": {},
   "outputs": [],
   "source": [
    "def PREPROCESS_zoning_laws(col): \n",
    "    # softmax the zoning laws so that it is between 0 and 1\n",
    "    col = min_max_normalize(col)\n",
    "    col = col.fillna(0)\n",
    "    return col\n",
    "\n",
    "dataset['zoning_laws'] = PREPROCESS_zoning_laws(dataset['avg_speed_limit'])\n",
    "\n"
   ]
  },
  {
   "cell_type": "code",
   "execution_count": 121,
   "metadata": {},
   "outputs": [],
   "source": [
    "def COMPUTE_zoning_laws(col, WEIGHTS=WEIGHTS):\n",
    "    return col * WEIGHTS['zoning_laws']\n",
    "\n",
    "features['zoning_laws'] = COMPUTE_zoning_laws(dataset['zoning_laws'])"
   ]
  },
  {
   "cell_type": "markdown",
   "metadata": {},
   "source": [
    "### Bike Lane Availability "
   ]
  },
  {
   "cell_type": "code",
   "execution_count": 122,
   "metadata": {},
   "outputs": [],
   "source": [
    "def PREPROCESS_bike_lane_availability(col):\n",
    "    # softmax the bike lane availability so that it is between 0 and 1\n",
    "    col = min_max_normalize(col)\n",
    "    col = col.fillna(0)\n",
    "    return col\n",
    "\n",
    "dataset['bike_lane_availability'] = PREPROCESS_bike_lane_availability(dataset['highest_bike_lane_facility_class'])"
   ]
  },
  {
   "cell_type": "code",
   "execution_count": 123,
   "metadata": {},
   "outputs": [],
   "source": [
    "def COMPUTE_bike_lane_availability(col, WEIGHTS=WEIGHTS):\n",
    "    return col * WEIGHTS['bike_lane_availability']\n",
    "\n",
    "features['bike_lane_availability'] = COMPUTE_bike_lane_availability(dataset['bike_lane_availability'])\n"
   ]
  },
  {
   "cell_type": "markdown",
   "metadata": {},
   "source": [
    "### Street Lighting"
   ]
  },
  {
   "cell_type": "markdown",
   "metadata": {},
   "source": [
    "** Skip due to lack of data ** "
   ]
  },
  {
   "cell_type": "markdown",
   "metadata": {},
   "source": [
    "### Shade Availability "
   ]
  },
  {
   "cell_type": "markdown",
   "metadata": {},
   "source": [
    "**Come Back**"
   ]
  },
  {
   "cell_type": "markdown",
   "metadata": {},
   "source": [
    "### GPS Signal Strength"
   ]
  },
  {
   "cell_type": "code",
   "execution_count": 124,
   "metadata": {},
   "outputs": [],
   "source": [
    "# SKIP preprocessing, as all values are already 0 or 1"
   ]
  },
  {
   "cell_type": "code",
   "execution_count": 125,
   "metadata": {},
   "outputs": [],
   "source": [
    "def COMPUTE_gps_signal_strenth(col=None, WEIGHTS=WEIGHTS): \n",
    "    return 1 * WEIGHTS['gps_signal_strength']\n",
    "\n",
    "features['gps_signal_strength'] = COMPUTE_gps_signal_strenth()"
   ]
  },
  {
   "cell_type": "markdown",
   "metadata": {},
   "source": [
    "### Pedestrian Flow "
   ]
  },
  {
   "cell_type": "markdown",
   "metadata": {},
   "source": [
    "** Skip due to lack of data ** "
   ]
  },
  {
   "cell_type": "markdown",
   "metadata": {},
   "source": [
    "### Bicycle Traffic "
   ]
  },
  {
   "cell_type": "code",
   "execution_count": 126,
   "metadata": {},
   "outputs": [],
   "source": [
    "def PREPROCESS_bicycle_traffic(col):\n",
    "    # softmax the bicycle traffic so that it is between 0 and 1\n",
    "    col = min_max_normalize(col)\n",
    "    return col\n",
    "\n",
    "dataset['bicycle_traffic'] = PREPROCESS_bicycle_traffic(dataset['TRAFFIC_Bike'])\n"
   ]
  },
  {
   "cell_type": "code",
   "execution_count": 127,
   "metadata": {},
   "outputs": [],
   "source": [
    "def COMPUTE_bicycle_traffic(col, WEIGHTS=WEIGHTS):\n",
    "    return col * WEIGHTS['bicycle_traffic']\n",
    "\n",
    "features['bicycle_traffic'] = COMPUTE_bicycle_traffic(dataset['bicycle_traffic'])"
   ]
  },
  {
   "cell_type": "markdown",
   "metadata": {},
   "source": [
    "### Vehicle Traffic "
   ]
  },
  {
   "cell_type": "code",
   "execution_count": 128,
   "metadata": {},
   "outputs": [],
   "source": [
    "def PREPROCESS_vehicle_traffic(col):\n",
    "    # softmax the vehicle traffic so that it is between 0 and 1\n",
    "    col = min_max_normalize(col)\n",
    "    return col\n",
    "\n",
    "dataset['vehicle_traffic'] = PREPROCESS_vehicle_traffic(dataset['TRAFFIC_Car'])\n"
   ]
  },
  {
   "cell_type": "code",
   "execution_count": 129,
   "metadata": {},
   "outputs": [],
   "source": [
    "def COMPUTE_vehicle_traffic(col, WEIGHTS=WEIGHTS):\n",
    "    return col * WEIGHTS['vehicle_traffic']\n",
    "\n",
    "features['vehicle_traffic'] = COMPUTE_vehicle_traffic(dataset['vehicle_traffic'])"
   ]
  },
  {
   "cell_type": "markdown",
   "metadata": {},
   "source": [
    "### Existence of Detailed Digital Map "
   ]
  },
  {
   "cell_type": "code",
   "execution_count": 130,
   "metadata": {},
   "outputs": [],
   "source": [
    "def COMPUTE_ddm():\n",
    "    return 1 * WEIGHTS['digital_map_existence']"
   ]
  },
  {
   "cell_type": "code",
   "execution_count": 131,
   "metadata": {},
   "outputs": [],
   "source": [
    "features['digital_map_existence'] = COMPUTE_ddm()"
   ]
  },
  {
   "cell_type": "markdown",
   "metadata": {},
   "source": [
    "### Intersection Safety "
   ]
  },
  {
   "cell_type": "code",
   "execution_count": 132,
   "metadata": {},
   "outputs": [],
   "source": [
    "def PREPROCESS_intersection_safety(col):\n",
    "    # softmax the intersection safety so that it is between 0 and 1\n",
    "    col = col.fillna(0).astype(int)\n",
    "    col = min_max_normalize(col)\n",
    "    return col\n",
    "\n",
    "dataset['intersection_safety'] = PREPROCESS_intersection_safety(dataset['num_peds_involved_in_collision'])"
   ]
  },
  {
   "cell_type": "code",
   "execution_count": 133,
   "metadata": {},
   "outputs": [],
   "source": [
    "def COMPUTE_intersection_safety(col, WEIGHTS=WEIGHTS):\n",
    "\n",
    "    return col * WEIGHTS['intersection_safety']\n",
    "\n",
    "features['intersection_safety'] = COMPUTE_intersection_safety(dataset['intersection_safety'])"
   ]
  },
  {
   "cell_type": "markdown",
   "metadata": {},
   "source": [
    "## SANITY CHECKS"
   ]
  },
  {
   "cell_type": "code",
   "execution_count": 134,
   "metadata": {},
   "outputs": [],
   "source": [
    "# assert that all values of all columns except geometry and pouint_index are 0-1\n",
    "for col in features.columns: \n",
    "    if col not in ['geometry', 'point_index']: \n",
    "        assert features[col].min() >= 0 and features[col].max() <= 1"
   ]
  },
  {
   "cell_type": "code",
   "execution_count": 135,
   "metadata": {},
   "outputs": [
    {
     "data": {
      "text/plain": [
       "geometry                             0\n",
       "point_index                          0\n",
       "sidewalk_width                       0\n",
       "pedestrian_density              330113\n",
       "street_furniture_density             0\n",
       "sidewalk_roughness                   0\n",
       "surface_condition                    0\n",
       "communication_infrastructure         0\n",
       "slope_gradient                      88\n",
       "charging_station_proximity           0\n",
       "curb_ramp_availability               0\n",
       "crowd_dynamics                       0\n",
       "traffic_management                   0\n",
       "surveillance_coverage                0\n",
       "zoning_laws                          0\n",
       "bike_lane_availability               0\n",
       "gps_signal_strength                  0\n",
       "bicycle_traffic                 330113\n",
       "vehicle_traffic                 330113\n",
       "digital_map_existence                0\n",
       "intersection_safety                  0\n",
       "dtype: int64"
      ]
     },
     "execution_count": 135,
     "metadata": {},
     "output_type": "execute_result"
    }
   ],
   "source": [
    "features.isna().sum() "
   ]
  },
  {
   "cell_type": "code",
   "execution_count": 136,
   "metadata": {},
   "outputs": [
    {
     "data": {
      "text/plain": [
       "21"
      ]
     },
     "execution_count": 136,
     "metadata": {},
     "output_type": "execute_result"
    }
   ],
   "source": [
    "len(features.columns)"
   ]
  },
  {
   "cell_type": "code",
   "execution_count": 137,
   "metadata": {},
   "outputs": [
    {
     "name": "stdout",
     "output_type": "stream",
     "text": [
      "{'weather_conditions', 'local_attitudes', 'street_lighting', 'pedestrian_flow', 'shade_availability'}\n"
     ]
    }
   ],
   "source": [
    "# which FEATURES aren't a column in features? \n",
    "print(set(FEATURES.keys()) - set(features.columns))\n"
   ]
  },
  {
   "cell_type": "code",
   "execution_count": 138,
   "metadata": {},
   "outputs": [],
   "source": [
    "POLARITIES = { \n",
    "    'sidewalk_width': 1,\n",
    "    'pedestrian_density': -1,\n",
    "    'street_furniture_density': -1, \n",
    "    'sidewalk_roughness': -1,\n",
    "    'surface_condition': 1,\n",
    "    'communication_infrastructure': 1,\n",
    "    'slope_gradient': -1,\n",
    "    'charging_station_proximity': 1,\n",
    "    'local_attitudes': 1,\n",
    "    'curb_ramp_availability': 1,\n",
    "    'weather_conditions': 1,\n",
    "    'crowd_dynamics': 1,\n",
    "    'traffic_management': 1,\n",
    "    'surveillance_coverage': 1,\n",
    "    'zoning_laws': 1,\n",
    "    'bike_lane_availability': 1,\n",
    "    'street_lighting': 1,\n",
    "    'shade_availability': 1,\n",
    "    'gps_signal_strength': 1,\n",
    "    'pedestrian_flow': -1,\n",
    "    'bicycle_traffic': -1,\n",
    "    'vehicle_traffic': -1,\n",
    "    'digital_map_existence': 1,\n",
    "    # num incidents, so more is worse\n",
    "    'intersection_safety': -1,\n",
    "}"
   ]
  },
  {
   "cell_type": "code",
   "execution_count": 139,
   "metadata": {},
   "outputs": [],
   "source": [
    "# score is the aggregation of all features \n",
    "features['score'] = features.drop(columns=['geometry', 'point_index']).mul(pd.Series(POLARITIES)).sum(axis=1)\n",
    "\n"
   ]
  },
  {
   "cell_type": "code",
   "execution_count": 140,
   "metadata": {},
   "outputs": [
    {
     "data": {
      "text/html": [
       "<div>\n",
       "<style scoped>\n",
       "    .dataframe tbody tr th:only-of-type {\n",
       "        vertical-align: middle;\n",
       "    }\n",
       "\n",
       "    .dataframe tbody tr th {\n",
       "        vertical-align: top;\n",
       "    }\n",
       "\n",
       "    .dataframe thead th {\n",
       "        text-align: right;\n",
       "    }\n",
       "</style>\n",
       "<table border=\"1\" class=\"dataframe\">\n",
       "  <thead>\n",
       "    <tr style=\"text-align: right;\">\n",
       "      <th></th>\n",
       "      <th>point_index</th>\n",
       "      <th>sidewalk_width</th>\n",
       "      <th>pedestrian_density</th>\n",
       "      <th>street_furniture_density</th>\n",
       "      <th>sidewalk_roughness</th>\n",
       "      <th>surface_condition</th>\n",
       "      <th>communication_infrastructure</th>\n",
       "      <th>slope_gradient</th>\n",
       "      <th>charging_station_proximity</th>\n",
       "      <th>curb_ramp_availability</th>\n",
       "      <th>...</th>\n",
       "      <th>traffic_management</th>\n",
       "      <th>surveillance_coverage</th>\n",
       "      <th>zoning_laws</th>\n",
       "      <th>bike_lane_availability</th>\n",
       "      <th>gps_signal_strength</th>\n",
       "      <th>bicycle_traffic</th>\n",
       "      <th>vehicle_traffic</th>\n",
       "      <th>digital_map_existence</th>\n",
       "      <th>intersection_safety</th>\n",
       "      <th>score</th>\n",
       "    </tr>\n",
       "  </thead>\n",
       "  <tbody>\n",
       "    <tr>\n",
       "      <th>count</th>\n",
       "      <td>1.902877e+06</td>\n",
       "      <td>1.902877e+06</td>\n",
       "      <td>1.572764e+06</td>\n",
       "      <td>1.902877e+06</td>\n",
       "      <td>1.902877e+06</td>\n",
       "      <td>1.902877e+06</td>\n",
       "      <td>1.902877e+06</td>\n",
       "      <td>1.902789e+06</td>\n",
       "      <td>1.902877e+06</td>\n",
       "      <td>1.902877e+06</td>\n",
       "      <td>...</td>\n",
       "      <td>1.902877e+06</td>\n",
       "      <td>1.902877e+06</td>\n",
       "      <td>1.902877e+06</td>\n",
       "      <td>1.902877e+06</td>\n",
       "      <td>1.902877e+06</td>\n",
       "      <td>1.572764e+06</td>\n",
       "      <td>1.572764e+06</td>\n",
       "      <td>1.902877e+06</td>\n",
       "      <td>1.902877e+06</td>\n",
       "      <td>1.902877e+06</td>\n",
       "    </tr>\n",
       "    <tr>\n",
       "      <th>mean</th>\n",
       "      <td>9.503240e+05</td>\n",
       "      <td>4.159542e-03</td>\n",
       "      <td>4.086859e-03</td>\n",
       "      <td>4.724888e-03</td>\n",
       "      <td>4.593514e-02</td>\n",
       "      <td>7.041748e-02</td>\n",
       "      <td>5.830934e-02</td>\n",
       "      <td>6.845189e-05</td>\n",
       "      <td>2.104005e-02</td>\n",
       "      <td>1.307109e-03</td>\n",
       "      <td>...</td>\n",
       "      <td>8.606718e-04</td>\n",
       "      <td>1.070670e-03</td>\n",
       "      <td>1.705579e-02</td>\n",
       "      <td>2.290911e-03</td>\n",
       "      <td>4.835970e-02</td>\n",
       "      <td>1.801431e-04</td>\n",
       "      <td>1.451491e-02</td>\n",
       "      <td>4.850787e-02</td>\n",
       "      <td>1.249513e-04</td>\n",
       "      <td>2.437010e-01</td>\n",
       "    </tr>\n",
       "    <tr>\n",
       "      <th>std</th>\n",
       "      <td>5.487109e+05</td>\n",
       "      <td>2.467505e-03</td>\n",
       "      <td>6.742958e-03</td>\n",
       "      <td>1.042542e-02</td>\n",
       "      <td>1.387779e-17</td>\n",
       "      <td>9.041608e-03</td>\n",
       "      <td>2.880669e-03</td>\n",
       "      <td>1.639454e-04</td>\n",
       "      <td>4.896988e-03</td>\n",
       "      <td>4.732891e-03</td>\n",
       "      <td>...</td>\n",
       "      <td>2.025369e-03</td>\n",
       "      <td>2.274674e-03</td>\n",
       "      <td>8.123860e-03</td>\n",
       "      <td>5.668449e-03</td>\n",
       "      <td>1.110223e-16</td>\n",
       "      <td>5.286328e-04</td>\n",
       "      <td>5.271297e-03</td>\n",
       "      <td>4.163337e-17</td>\n",
       "      <td>8.459087e-04</td>\n",
       "      <td>2.729564e-02</td>\n",
       "    </tr>\n",
       "    <tr>\n",
       "      <th>min</th>\n",
       "      <td>0.000000e+00</td>\n",
       "      <td>0.000000e+00</td>\n",
       "      <td>0.000000e+00</td>\n",
       "      <td>0.000000e+00</td>\n",
       "      <td>4.593514e-02</td>\n",
       "      <td>0.000000e+00</td>\n",
       "      <td>0.000000e+00</td>\n",
       "      <td>0.000000e+00</td>\n",
       "      <td>0.000000e+00</td>\n",
       "      <td>0.000000e+00</td>\n",
       "      <td>...</td>\n",
       "      <td>0.000000e+00</td>\n",
       "      <td>0.000000e+00</td>\n",
       "      <td>0.000000e+00</td>\n",
       "      <td>0.000000e+00</td>\n",
       "      <td>4.835970e-02</td>\n",
       "      <td>0.000000e+00</td>\n",
       "      <td>0.000000e+00</td>\n",
       "      <td>4.850787e-02</td>\n",
       "      <td>0.000000e+00</td>\n",
       "      <td>6.540321e-02</td>\n",
       "    </tr>\n",
       "    <tr>\n",
       "      <th>0.1%</th>\n",
       "      <td>1.902876e+03</td>\n",
       "      <td>5.151483e-04</td>\n",
       "      <td>0.000000e+00</td>\n",
       "      <td>0.000000e+00</td>\n",
       "      <td>4.593514e-02</td>\n",
       "      <td>0.000000e+00</td>\n",
       "      <td>0.000000e+00</td>\n",
       "      <td>0.000000e+00</td>\n",
       "      <td>7.203994e-04</td>\n",
       "      <td>0.000000e+00</td>\n",
       "      <td>...</td>\n",
       "      <td>0.000000e+00</td>\n",
       "      <td>0.000000e+00</td>\n",
       "      <td>0.000000e+00</td>\n",
       "      <td>0.000000e+00</td>\n",
       "      <td>4.835970e-02</td>\n",
       "      <td>0.000000e+00</td>\n",
       "      <td>0.000000e+00</td>\n",
       "      <td>4.850787e-02</td>\n",
       "      <td>0.000000e+00</td>\n",
       "      <td>1.333252e-01</td>\n",
       "    </tr>\n",
       "    <tr>\n",
       "      <th>1%</th>\n",
       "      <td>1.902476e+04</td>\n",
       "      <td>9.536218e-04</td>\n",
       "      <td>0.000000e+00</td>\n",
       "      <td>0.000000e+00</td>\n",
       "      <td>4.593514e-02</td>\n",
       "      <td>3.074961e-02</td>\n",
       "      <td>5.845165e-02</td>\n",
       "      <td>0.000000e+00</td>\n",
       "      <td>5.417508e-03</td>\n",
       "      <td>0.000000e+00</td>\n",
       "      <td>...</td>\n",
       "      <td>0.000000e+00</td>\n",
       "      <td>0.000000e+00</td>\n",
       "      <td>0.000000e+00</td>\n",
       "      <td>0.000000e+00</td>\n",
       "      <td>4.835970e-02</td>\n",
       "      <td>0.000000e+00</td>\n",
       "      <td>2.063236e-03</td>\n",
       "      <td>4.850787e-02</td>\n",
       "      <td>0.000000e+00</td>\n",
       "      <td>1.693965e-01</td>\n",
       "    </tr>\n",
       "    <tr>\n",
       "      <th>2.5%</th>\n",
       "      <td>4.756490e+04</td>\n",
       "      <td>1.291641e-03</td>\n",
       "      <td>0.000000e+00</td>\n",
       "      <td>0.000000e+00</td>\n",
       "      <td>4.593514e-02</td>\n",
       "      <td>5.470571e-02</td>\n",
       "      <td>5.845165e-02</td>\n",
       "      <td>0.000000e+00</td>\n",
       "      <td>8.593985e-03</td>\n",
       "      <td>0.000000e+00</td>\n",
       "      <td>...</td>\n",
       "      <td>0.000000e+00</td>\n",
       "      <td>0.000000e+00</td>\n",
       "      <td>0.000000e+00</td>\n",
       "      <td>0.000000e+00</td>\n",
       "      <td>4.835970e-02</td>\n",
       "      <td>0.000000e+00</td>\n",
       "      <td>3.897224e-03</td>\n",
       "      <td>4.850787e-02</td>\n",
       "      <td>0.000000e+00</td>\n",
       "      <td>1.850346e-01</td>\n",
       "    </tr>\n",
       "    <tr>\n",
       "      <th>5%</th>\n",
       "      <td>9.513080e+04</td>\n",
       "      <td>1.627404e-03</td>\n",
       "      <td>0.000000e+00</td>\n",
       "      <td>0.000000e+00</td>\n",
       "      <td>4.593514e-02</td>\n",
       "      <td>5.787899e-02</td>\n",
       "      <td>5.845165e-02</td>\n",
       "      <td>0.000000e+00</td>\n",
       "      <td>1.133756e-02</td>\n",
       "      <td>0.000000e+00</td>\n",
       "      <td>...</td>\n",
       "      <td>0.000000e+00</td>\n",
       "      <td>0.000000e+00</td>\n",
       "      <td>0.000000e+00</td>\n",
       "      <td>0.000000e+00</td>\n",
       "      <td>4.835970e-02</td>\n",
       "      <td>0.000000e+00</td>\n",
       "      <td>5.244613e-03</td>\n",
       "      <td>4.850787e-02</td>\n",
       "      <td>0.000000e+00</td>\n",
       "      <td>1.967449e-01</td>\n",
       "    </tr>\n",
       "    <tr>\n",
       "      <th>10%</th>\n",
       "      <td>1.901886e+05</td>\n",
       "      <td>2.046033e-03</td>\n",
       "      <td>0.000000e+00</td>\n",
       "      <td>0.000000e+00</td>\n",
       "      <td>4.593514e-02</td>\n",
       "      <td>6.158861e-02</td>\n",
       "      <td>5.845165e-02</td>\n",
       "      <td>0.000000e+00</td>\n",
       "      <td>1.393863e-02</td>\n",
       "      <td>0.000000e+00</td>\n",
       "      <td>...</td>\n",
       "      <td>0.000000e+00</td>\n",
       "      <td>0.000000e+00</td>\n",
       "      <td>0.000000e+00</td>\n",
       "      <td>0.000000e+00</td>\n",
       "      <td>4.835970e-02</td>\n",
       "      <td>0.000000e+00</td>\n",
       "      <td>7.236724e-03</td>\n",
       "      <td>4.850787e-02</td>\n",
       "      <td>0.000000e+00</td>\n",
       "      <td>2.099116e-01</td>\n",
       "    </tr>\n",
       "    <tr>\n",
       "      <th>25%</th>\n",
       "      <td>4.752200e+05</td>\n",
       "      <td>2.807059e-03</td>\n",
       "      <td>2.167660e-04</td>\n",
       "      <td>0.000000e+00</td>\n",
       "      <td>4.593514e-02</td>\n",
       "      <td>6.844917e-02</td>\n",
       "      <td>5.845165e-02</td>\n",
       "      <td>1.667519e-05</td>\n",
       "      <td>1.845418e-02</td>\n",
       "      <td>0.000000e+00</td>\n",
       "      <td>...</td>\n",
       "      <td>0.000000e+00</td>\n",
       "      <td>0.000000e+00</td>\n",
       "      <td>2.073301e-02</td>\n",
       "      <td>0.000000e+00</td>\n",
       "      <td>4.835970e-02</td>\n",
       "      <td>0.000000e+00</td>\n",
       "      <td>1.094412e-02</td>\n",
       "      <td>4.850787e-02</td>\n",
       "      <td>0.000000e+00</td>\n",
       "      <td>2.292813e-01</td>\n",
       "    </tr>\n",
       "    <tr>\n",
       "      <th>50%</th>\n",
       "      <td>9.500520e+05</td>\n",
       "      <td>3.677834e-03</td>\n",
       "      <td>1.799157e-03</td>\n",
       "      <td>1.336232e-03</td>\n",
       "      <td>4.593514e-02</td>\n",
       "      <td>7.227053e-02</td>\n",
       "      <td>5.845165e-02</td>\n",
       "      <td>4.196883e-05</td>\n",
       "      <td>2.271029e-02</td>\n",
       "      <td>0.000000e+00</td>\n",
       "      <td>...</td>\n",
       "      <td>0.000000e+00</td>\n",
       "      <td>0.000000e+00</td>\n",
       "      <td>2.073301e-02</td>\n",
       "      <td>0.000000e+00</td>\n",
       "      <td>4.835970e-02</td>\n",
       "      <td>0.000000e+00</td>\n",
       "      <td>1.486372e-02</td>\n",
       "      <td>4.850787e-02</td>\n",
       "      <td>0.000000e+00</td>\n",
       "      <td>2.442311e-01</td>\n",
       "    </tr>\n",
       "    <tr>\n",
       "      <th>75%</th>\n",
       "      <td>1.425487e+06</td>\n",
       "      <td>4.926960e-03</td>\n",
       "      <td>4.634193e-03</td>\n",
       "      <td>4.729170e-03</td>\n",
       "      <td>4.593514e-02</td>\n",
       "      <td>7.564494e-02</td>\n",
       "      <td>5.845165e-02</td>\n",
       "      <td>8.128458e-05</td>\n",
       "      <td>2.514741e-02</td>\n",
       "      <td>0.000000e+00</td>\n",
       "      <td>...</td>\n",
       "      <td>0.000000e+00</td>\n",
       "      <td>0.000000e+00</td>\n",
       "      <td>2.073301e-02</td>\n",
       "      <td>0.000000e+00</td>\n",
       "      <td>4.835970e-02</td>\n",
       "      <td>1.667545e-04</td>\n",
       "      <td>1.822525e-02</td>\n",
       "      <td>4.850787e-02</td>\n",
       "      <td>0.000000e+00</td>\n",
       "      <td>2.594879e-01</td>\n",
       "    </tr>\n",
       "    <tr>\n",
       "      <th>90%</th>\n",
       "      <td>1.710843e+06</td>\n",
       "      <td>6.565936e-03</td>\n",
       "      <td>1.063139e-02</td>\n",
       "      <td>9.618022e-03</td>\n",
       "      <td>4.593514e-02</td>\n",
       "      <td>7.682934e-02</td>\n",
       "      <td>5.845165e-02</td>\n",
       "      <td>1.500666e-04</td>\n",
       "      <td>2.522844e-02</td>\n",
       "      <td>0.000000e+00</td>\n",
       "      <td>...</td>\n",
       "      <td>3.313096e-03</td>\n",
       "      <td>5.703182e-03</td>\n",
       "      <td>2.073301e-02</td>\n",
       "      <td>1.506917e-02</td>\n",
       "      <td>4.835970e-02</td>\n",
       "      <td>5.026919e-04</td>\n",
       "      <td>2.089027e-02</td>\n",
       "      <td>4.850787e-02</td>\n",
       "      <td>0.000000e+00</td>\n",
       "      <td>2.756485e-01</td>\n",
       "    </tr>\n",
       "    <tr>\n",
       "      <th>95%</th>\n",
       "      <td>1.805952e+06</td>\n",
       "      <td>7.977515e-03</td>\n",
       "      <td>1.690679e-02</td>\n",
       "      <td>2.288643e-02</td>\n",
       "      <td>4.593514e-02</td>\n",
       "      <td>7.682934e-02</td>\n",
       "      <td>5.845165e-02</td>\n",
       "      <td>2.094633e-04</td>\n",
       "      <td>2.525967e-02</td>\n",
       "      <td>1.335622e-02</td>\n",
       "      <td>...</td>\n",
       "      <td>3.313096e-03</td>\n",
       "      <td>5.703182e-03</td>\n",
       "      <td>2.073301e-02</td>\n",
       "      <td>1.506917e-02</td>\n",
       "      <td>4.835970e-02</td>\n",
       "      <td>8.478149e-04</td>\n",
       "      <td>2.269560e-02</td>\n",
       "      <td>4.850787e-02</td>\n",
       "      <td>0.000000e+00</td>\n",
       "      <td>2.886222e-01</td>\n",
       "    </tr>\n",
       "    <tr>\n",
       "      <th>97.5%</th>\n",
       "      <td>1.853519e+06</td>\n",
       "      <td>9.669200e-03</td>\n",
       "      <td>2.403562e-02</td>\n",
       "      <td>4.096080e-02</td>\n",
       "      <td>4.593514e-02</td>\n",
       "      <td>7.682934e-02</td>\n",
       "      <td>5.845165e-02</td>\n",
       "      <td>2.886941e-04</td>\n",
       "      <td>2.528349e-02</td>\n",
       "      <td>1.335622e-02</td>\n",
       "      <td>...</td>\n",
       "      <td>6.626191e-03</td>\n",
       "      <td>5.703182e-03</td>\n",
       "      <td>2.073301e-02</td>\n",
       "      <td>2.260375e-02</td>\n",
       "      <td>4.835970e-02</td>\n",
       "      <td>1.284158e-03</td>\n",
       "      <td>2.417855e-02</td>\n",
       "      <td>4.850787e-02</td>\n",
       "      <td>3.525346e-03</td>\n",
       "      <td>2.997988e-01</td>\n",
       "    </tr>\n",
       "    <tr>\n",
       "      <th>99%</th>\n",
       "      <td>1.882062e+06</td>\n",
       "      <td>1.270210e-02</td>\n",
       "      <td>3.427301e-02</td>\n",
       "      <td>6.752114e-02</td>\n",
       "      <td>4.593514e-02</td>\n",
       "      <td>7.682934e-02</td>\n",
       "      <td>5.845165e-02</td>\n",
       "      <td>4.697118e-04</td>\n",
       "      <td>2.529845e-02</td>\n",
       "      <td>2.671243e-02</td>\n",
       "      <td>...</td>\n",
       "      <td>9.939287e-03</td>\n",
       "      <td>5.703182e-03</td>\n",
       "      <td>2.487961e-02</td>\n",
       "      <td>2.260375e-02</td>\n",
       "      <td>4.835970e-02</td>\n",
       "      <td>2.117052e-03</td>\n",
       "      <td>2.613432e-02</td>\n",
       "      <td>4.850787e-02</td>\n",
       "      <td>3.525346e-03</td>\n",
       "      <td>3.116468e-01</td>\n",
       "    </tr>\n",
       "    <tr>\n",
       "      <th>99.9%</th>\n",
       "      <td>1.899183e+06</td>\n",
       "      <td>2.777487e-02</td>\n",
       "      <td>5.695863e-02</td>\n",
       "      <td>6.752114e-02</td>\n",
       "      <td>4.593514e-02</td>\n",
       "      <td>7.682934e-02</td>\n",
       "      <td>5.845165e-02</td>\n",
       "      <td>1.434069e-03</td>\n",
       "      <td>2.531258e-02</td>\n",
       "      <td>4.006865e-02</td>\n",
       "      <td>...</td>\n",
       "      <td>1.325238e-02</td>\n",
       "      <td>1.140636e-02</td>\n",
       "      <td>4.146601e-02</td>\n",
       "      <td>2.260375e-02</td>\n",
       "      <td>4.835970e-02</td>\n",
       "      <td>6.771092e-03</td>\n",
       "      <td>3.094854e-02</td>\n",
       "      <td>4.850787e-02</td>\n",
       "      <td>1.057604e-02</td>\n",
       "      <td>3.334292e-01</td>\n",
       "    </tr>\n",
       "    <tr>\n",
       "      <th>max</th>\n",
       "      <td>1.901086e+06</td>\n",
       "      <td>6.806834e-02</td>\n",
       "      <td>9.445577e-02</td>\n",
       "      <td>6.752114e-02</td>\n",
       "      <td>4.593514e-02</td>\n",
       "      <td>7.682934e-02</td>\n",
       "      <td>5.845165e-02</td>\n",
       "      <td>4.832231e-02</td>\n",
       "      <td>2.531649e-02</td>\n",
       "      <td>6.010297e-02</td>\n",
       "      <td>...</td>\n",
       "      <td>4.638334e-02</td>\n",
       "      <td>2.281273e-02</td>\n",
       "      <td>4.146601e-02</td>\n",
       "      <td>2.260375e-02</td>\n",
       "      <td>4.835970e-02</td>\n",
       "      <td>3.068282e-02</td>\n",
       "      <td>4.745443e-02</td>\n",
       "      <td>4.850787e-02</td>\n",
       "      <td>7.050692e-02</td>\n",
       "      <td>3.823932e-01</td>\n",
       "    </tr>\n",
       "  </tbody>\n",
       "</table>\n",
       "<p>18 rows × 21 columns</p>\n",
       "</div>"
      ],
      "text/plain": [
       "        point_index  sidewalk_width  pedestrian_density  \\\n",
       "count  1.902877e+06    1.902877e+06        1.572764e+06   \n",
       "mean   9.503240e+05    4.159542e-03        4.086859e-03   \n",
       "std    5.487109e+05    2.467505e-03        6.742958e-03   \n",
       "min    0.000000e+00    0.000000e+00        0.000000e+00   \n",
       "0.1%   1.902876e+03    5.151483e-04        0.000000e+00   \n",
       "1%     1.902476e+04    9.536218e-04        0.000000e+00   \n",
       "2.5%   4.756490e+04    1.291641e-03        0.000000e+00   \n",
       "5%     9.513080e+04    1.627404e-03        0.000000e+00   \n",
       "10%    1.901886e+05    2.046033e-03        0.000000e+00   \n",
       "25%    4.752200e+05    2.807059e-03        2.167660e-04   \n",
       "50%    9.500520e+05    3.677834e-03        1.799157e-03   \n",
       "75%    1.425487e+06    4.926960e-03        4.634193e-03   \n",
       "90%    1.710843e+06    6.565936e-03        1.063139e-02   \n",
       "95%    1.805952e+06    7.977515e-03        1.690679e-02   \n",
       "97.5%  1.853519e+06    9.669200e-03        2.403562e-02   \n",
       "99%    1.882062e+06    1.270210e-02        3.427301e-02   \n",
       "99.9%  1.899183e+06    2.777487e-02        5.695863e-02   \n",
       "max    1.901086e+06    6.806834e-02        9.445577e-02   \n",
       "\n",
       "       street_furniture_density  sidewalk_roughness  surface_condition  \\\n",
       "count              1.902877e+06        1.902877e+06       1.902877e+06   \n",
       "mean               4.724888e-03        4.593514e-02       7.041748e-02   \n",
       "std                1.042542e-02        1.387779e-17       9.041608e-03   \n",
       "min                0.000000e+00        4.593514e-02       0.000000e+00   \n",
       "0.1%               0.000000e+00        4.593514e-02       0.000000e+00   \n",
       "1%                 0.000000e+00        4.593514e-02       3.074961e-02   \n",
       "2.5%               0.000000e+00        4.593514e-02       5.470571e-02   \n",
       "5%                 0.000000e+00        4.593514e-02       5.787899e-02   \n",
       "10%                0.000000e+00        4.593514e-02       6.158861e-02   \n",
       "25%                0.000000e+00        4.593514e-02       6.844917e-02   \n",
       "50%                1.336232e-03        4.593514e-02       7.227053e-02   \n",
       "75%                4.729170e-03        4.593514e-02       7.564494e-02   \n",
       "90%                9.618022e-03        4.593514e-02       7.682934e-02   \n",
       "95%                2.288643e-02        4.593514e-02       7.682934e-02   \n",
       "97.5%              4.096080e-02        4.593514e-02       7.682934e-02   \n",
       "99%                6.752114e-02        4.593514e-02       7.682934e-02   \n",
       "99.9%              6.752114e-02        4.593514e-02       7.682934e-02   \n",
       "max                6.752114e-02        4.593514e-02       7.682934e-02   \n",
       "\n",
       "       communication_infrastructure  slope_gradient  \\\n",
       "count                  1.902877e+06    1.902789e+06   \n",
       "mean                   5.830934e-02    6.845189e-05   \n",
       "std                    2.880669e-03    1.639454e-04   \n",
       "min                    0.000000e+00    0.000000e+00   \n",
       "0.1%                   0.000000e+00    0.000000e+00   \n",
       "1%                     5.845165e-02    0.000000e+00   \n",
       "2.5%                   5.845165e-02    0.000000e+00   \n",
       "5%                     5.845165e-02    0.000000e+00   \n",
       "10%                    5.845165e-02    0.000000e+00   \n",
       "25%                    5.845165e-02    1.667519e-05   \n",
       "50%                    5.845165e-02    4.196883e-05   \n",
       "75%                    5.845165e-02    8.128458e-05   \n",
       "90%                    5.845165e-02    1.500666e-04   \n",
       "95%                    5.845165e-02    2.094633e-04   \n",
       "97.5%                  5.845165e-02    2.886941e-04   \n",
       "99%                    5.845165e-02    4.697118e-04   \n",
       "99.9%                  5.845165e-02    1.434069e-03   \n",
       "max                    5.845165e-02    4.832231e-02   \n",
       "\n",
       "       charging_station_proximity  curb_ramp_availability  ...  \\\n",
       "count                1.902877e+06            1.902877e+06  ...   \n",
       "mean                 2.104005e-02            1.307109e-03  ...   \n",
       "std                  4.896988e-03            4.732891e-03  ...   \n",
       "min                  0.000000e+00            0.000000e+00  ...   \n",
       "0.1%                 7.203994e-04            0.000000e+00  ...   \n",
       "1%                   5.417508e-03            0.000000e+00  ...   \n",
       "2.5%                 8.593985e-03            0.000000e+00  ...   \n",
       "5%                   1.133756e-02            0.000000e+00  ...   \n",
       "10%                  1.393863e-02            0.000000e+00  ...   \n",
       "25%                  1.845418e-02            0.000000e+00  ...   \n",
       "50%                  2.271029e-02            0.000000e+00  ...   \n",
       "75%                  2.514741e-02            0.000000e+00  ...   \n",
       "90%                  2.522844e-02            0.000000e+00  ...   \n",
       "95%                  2.525967e-02            1.335622e-02  ...   \n",
       "97.5%                2.528349e-02            1.335622e-02  ...   \n",
       "99%                  2.529845e-02            2.671243e-02  ...   \n",
       "99.9%                2.531258e-02            4.006865e-02  ...   \n",
       "max                  2.531649e-02            6.010297e-02  ...   \n",
       "\n",
       "       traffic_management  surveillance_coverage   zoning_laws  \\\n",
       "count        1.902877e+06           1.902877e+06  1.902877e+06   \n",
       "mean         8.606718e-04           1.070670e-03  1.705579e-02   \n",
       "std          2.025369e-03           2.274674e-03  8.123860e-03   \n",
       "min          0.000000e+00           0.000000e+00  0.000000e+00   \n",
       "0.1%         0.000000e+00           0.000000e+00  0.000000e+00   \n",
       "1%           0.000000e+00           0.000000e+00  0.000000e+00   \n",
       "2.5%         0.000000e+00           0.000000e+00  0.000000e+00   \n",
       "5%           0.000000e+00           0.000000e+00  0.000000e+00   \n",
       "10%          0.000000e+00           0.000000e+00  0.000000e+00   \n",
       "25%          0.000000e+00           0.000000e+00  2.073301e-02   \n",
       "50%          0.000000e+00           0.000000e+00  2.073301e-02   \n",
       "75%          0.000000e+00           0.000000e+00  2.073301e-02   \n",
       "90%          3.313096e-03           5.703182e-03  2.073301e-02   \n",
       "95%          3.313096e-03           5.703182e-03  2.073301e-02   \n",
       "97.5%        6.626191e-03           5.703182e-03  2.073301e-02   \n",
       "99%          9.939287e-03           5.703182e-03  2.487961e-02   \n",
       "99.9%        1.325238e-02           1.140636e-02  4.146601e-02   \n",
       "max          4.638334e-02           2.281273e-02  4.146601e-02   \n",
       "\n",
       "       bike_lane_availability  gps_signal_strength  bicycle_traffic  \\\n",
       "count            1.902877e+06         1.902877e+06     1.572764e+06   \n",
       "mean             2.290911e-03         4.835970e-02     1.801431e-04   \n",
       "std              5.668449e-03         1.110223e-16     5.286328e-04   \n",
       "min              0.000000e+00         4.835970e-02     0.000000e+00   \n",
       "0.1%             0.000000e+00         4.835970e-02     0.000000e+00   \n",
       "1%               0.000000e+00         4.835970e-02     0.000000e+00   \n",
       "2.5%             0.000000e+00         4.835970e-02     0.000000e+00   \n",
       "5%               0.000000e+00         4.835970e-02     0.000000e+00   \n",
       "10%              0.000000e+00         4.835970e-02     0.000000e+00   \n",
       "25%              0.000000e+00         4.835970e-02     0.000000e+00   \n",
       "50%              0.000000e+00         4.835970e-02     0.000000e+00   \n",
       "75%              0.000000e+00         4.835970e-02     1.667545e-04   \n",
       "90%              1.506917e-02         4.835970e-02     5.026919e-04   \n",
       "95%              1.506917e-02         4.835970e-02     8.478149e-04   \n",
       "97.5%            2.260375e-02         4.835970e-02     1.284158e-03   \n",
       "99%              2.260375e-02         4.835970e-02     2.117052e-03   \n",
       "99.9%            2.260375e-02         4.835970e-02     6.771092e-03   \n",
       "max              2.260375e-02         4.835970e-02     3.068282e-02   \n",
       "\n",
       "       vehicle_traffic  digital_map_existence  intersection_safety  \\\n",
       "count     1.572764e+06           1.902877e+06         1.902877e+06   \n",
       "mean      1.451491e-02           4.850787e-02         1.249513e-04   \n",
       "std       5.271297e-03           4.163337e-17         8.459087e-04   \n",
       "min       0.000000e+00           4.850787e-02         0.000000e+00   \n",
       "0.1%      0.000000e+00           4.850787e-02         0.000000e+00   \n",
       "1%        2.063236e-03           4.850787e-02         0.000000e+00   \n",
       "2.5%      3.897224e-03           4.850787e-02         0.000000e+00   \n",
       "5%        5.244613e-03           4.850787e-02         0.000000e+00   \n",
       "10%       7.236724e-03           4.850787e-02         0.000000e+00   \n",
       "25%       1.094412e-02           4.850787e-02         0.000000e+00   \n",
       "50%       1.486372e-02           4.850787e-02         0.000000e+00   \n",
       "75%       1.822525e-02           4.850787e-02         0.000000e+00   \n",
       "90%       2.089027e-02           4.850787e-02         0.000000e+00   \n",
       "95%       2.269560e-02           4.850787e-02         0.000000e+00   \n",
       "97.5%     2.417855e-02           4.850787e-02         3.525346e-03   \n",
       "99%       2.613432e-02           4.850787e-02         3.525346e-03   \n",
       "99.9%     3.094854e-02           4.850787e-02         1.057604e-02   \n",
       "max       4.745443e-02           4.850787e-02         7.050692e-02   \n",
       "\n",
       "              score  \n",
       "count  1.902877e+06  \n",
       "mean   2.437010e-01  \n",
       "std    2.729564e-02  \n",
       "min    6.540321e-02  \n",
       "0.1%   1.333252e-01  \n",
       "1%     1.693965e-01  \n",
       "2.5%   1.850346e-01  \n",
       "5%     1.967449e-01  \n",
       "10%    2.099116e-01  \n",
       "25%    2.292813e-01  \n",
       "50%    2.442311e-01  \n",
       "75%    2.594879e-01  \n",
       "90%    2.756485e-01  \n",
       "95%    2.886222e-01  \n",
       "97.5%  2.997988e-01  \n",
       "99%    3.116468e-01  \n",
       "99.9%  3.334292e-01  \n",
       "max    3.823932e-01  \n",
       "\n",
       "[18 rows x 21 columns]"
      ]
     },
     "execution_count": 140,
     "metadata": {},
     "output_type": "execute_result"
    }
   ],
   "source": [
    "features.describe([0.001, 0.01, 0.025, 0.05, 0.1, 0.25, 0.5, 0.75, 0.9, 0.95, 0.975, 0.99, 0.999]) "
   ]
  },
  {
   "cell_type": "code",
   "execution_count": 141,
   "metadata": {},
   "outputs": [],
   "source": [
    "features['segment_index'] = dataset['segment_index']\n",
    "features[['point_index','segment_index','geometry','score']].to_csv(\"../data/processed/score_nyc.csv\")"
   ]
  },
  {
   "cell_type": "code",
   "execution_count": 142,
   "metadata": {},
   "outputs": [],
   "source": [
    "features.to_csv(\"../data/processed/robotability_features.csv\", index=False)"
   ]
  },
  {
   "cell_type": "code",
   "execution_count": null,
   "metadata": {},
   "outputs": [],
   "source": []
  },
  {
   "cell_type": "code",
   "execution_count": null,
   "metadata": {},
   "outputs": [],
   "source": []
  },
  {
   "cell_type": "code",
   "execution_count": null,
   "metadata": {},
   "outputs": [],
   "source": []
  }
 ],
 "metadata": {
  "kernelspec": {
   "display_name": "Python 3",
   "language": "python",
   "name": "python3"
  },
  "language_info": {
   "codemirror_mode": {
    "name": "ipython",
    "version": 3
   },
   "file_extension": ".py",
   "mimetype": "text/x-python",
   "name": "python",
   "nbconvert_exporter": "python",
   "pygments_lexer": "ipython3",
   "version": "3.11.9"
  }
 },
 "nbformat": 4,
 "nbformat_minor": 2
}
