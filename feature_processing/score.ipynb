{
 "cells": [
  {
   "cell_type": "code",
   "execution_count": 1,
   "metadata": {},
   "outputs": [
    {
     "name": "stderr",
     "output_type": "stream",
     "text": [
      "\u001b[34m2024-09-04 17:09:57 - robotability-score - INFO - Modules initialized.\u001b[0m\n"
     ]
    }
   ],
   "source": [
    "# class RobotabilityGraph that inherits from Graph class \n",
    "import os\n",
    "import sys \n",
    "sys.path.append(\"/share/ju/urban-fingerprinting\")\n",
    "\n",
    "import osmnx as ox \n",
    "import geopandas as gpd \n",
    "import pandas as pd \n",
    "import numpy as np \n",
    "\n",
    "import matplotlib.pyplot as plt \n",
    "# enable latex plotting \n",
    "plt.rc('text', usetex=True)\n",
    "plt.rc('font', family='serif')\n",
    "\n",
    "from glob import glob \n",
    "from tqdm import tqdm \n",
    "\n",
    "from shapely import wkt, LineString \n",
    "\n",
    "import rasterio\n",
    "from rasterio.enums import Resampling\n",
    "from rasterio.plot import show \n",
    "\n",
    "\n",
    "from src.utils.logger import setup_logger \n",
    "\n",
    "logger = setup_logger('robotability-score')\n",
    "logger.setLevel(\"INFO\")\n",
    "logger.info(\"Modules initialized.\")\n",
    "\n",
    "WGS='EPSG:4326'\n",
    "PROJ='EPSG:2263'\n",
    "\n"
   ]
  },
  {
   "cell_type": "code",
   "execution_count": 2,
   "metadata": {},
   "outputs": [],
   "source": [
    "def min_max_normalize(series: pd.Series) -> pd.Series:\n",
    "    \"\"\"\n",
    "    Normalize the input pandas Series using min-max normalization.\n",
    "\n",
    "    Parameters:\n",
    "    series (pd.Series): The pandas Series to normalize.\n",
    "\n",
    "    Returns:\n",
    "    pd.Series: A new pandas Series with values normalized between 0 and 1.\n",
    "    \"\"\"\n",
    "    min_val = series.min()\n",
    "    max_val = series.max()\n",
    "    \n",
    "    if min_val == max_val:\n",
    "        # Avoid division by zero; if all values are the same, return 0 for all elements\n",
    "        return pd.Series([0.0] * len(series), index=series.index)\n",
    "    \n",
    "    return (series - min_val) / (max_val - min_val)"
   ]
  },
  {
   "cell_type": "code",
   "execution_count": 3,
   "metadata": {},
   "outputs": [],
   "source": [
    "dataset = pd.read_csv(\"../data/processed/score_dataset.csv\", engine='pyarrow')\n",
    "dataset = gpd.GeoDataFrame(dataset, geometry=dataset['geometry'].apply(wkt.loads), crs=PROJ)"
   ]
  },
  {
   "cell_type": "code",
   "execution_count": 4,
   "metadata": {},
   "outputs": [
    {
     "data": {
      "text/plain": [
       "2553615"
      ]
     },
     "execution_count": 4,
     "metadata": {},
     "output_type": "execute_result"
    }
   ],
   "source": [
    "len(dataset.index)"
   ]
  },
  {
   "cell_type": "code",
   "execution_count": 5,
   "metadata": {},
   "outputs": [
    {
     "data": {
      "text/plain": [
       "array(['', '5g_technology', '5g_mindown', '5g_minup', '5g_environmnt',\n",
       "       '5g_h3_res9_id', '4g_technology', '4g_mindown', '4g_minup',\n",
       "       '4g_environmnt', '4g_h3_res9_id', 'SOURCE_ID', 'SHAPE_Leng',\n",
       "       'SHAPE_Area', 'SHAPE_Width', 'geometry', 'point_index',\n",
       "       'ft_above_sea', 'n_cameras_median', 'Unnamed: 0',\n",
       "       'SOURCE_ID_street_furniture', 'SHAPE_Leng_street_furniture',\n",
       "       'SHAPE_Area_street_furniture', 'SHAPE_Width_street_furniture',\n",
       "       'geometry_street_furniture', 'bus_stop_count', 'trash_can_count',\n",
       "       'linknyc_count', 'citybench_count',\n",
       "       'bicycle_parking_shelter_count', 'bicycle_rack_count',\n",
       "       'tree_count', 'newsstand_count', 'parking_meter_count',\n",
       "       'hydrant_count', 'street_sign_count', 'alarm_call_box_count',\n",
       "       'scaffolding_permit_count', 'clutter', 'ZONEDIST', 'Shape_Leng',\n",
       "       'Shape_Area', 'distance_to_nearest_station', 'CURBRAMP_count',\n",
       "       'RAISEDCROSSWALK_count', 'boro_cd', 'shape_area', 'shape_leng',\n",
       "       'cd_code', 'sidewalk_quality', 'POI_the_geom', 'POI_SEGMENTID',\n",
       "       'POI_COMPLEXID', 'POI_SAFTYPE', 'POI_SOS', 'POI_PLACEID',\n",
       "       'POI_FACI_DOM', 'POI_BIN', 'POI_BOROUGH', 'POI_CREATED',\n",
       "       'POI_MODIFIED', 'POI_FACILITY_T', 'POI_SOURCE', 'POI_B7SC',\n",
       "       'POI_PRI_ADD', 'POI_NAME', 'TRAFFIC_Pedestrian', 'TRAFFIC_Bike',\n",
       "       'TRAFFIC_Car', 'avg_speed_limit', 'in_slow_zone',\n",
       "       'turn_traffic_calming_count', 'sip_intersections_count',\n",
       "       'sip_corridors_count', 'barnes_intersections_count',\n",
       "       'leading_ped_intervals_count', 'highest_bike_lane_facility_class',\n",
       "       'num_peds_involved_in_collision'], dtype=object)"
      ]
     },
     "execution_count": 5,
     "metadata": {},
     "output_type": "execute_result"
    }
   ],
   "source": [
    "dataset.columns.values"
   ]
  },
  {
   "cell_type": "code",
   "execution_count": 6,
   "metadata": {},
   "outputs": [
    {
     "data": {
      "text/plain": [
       "                                       0\n",
       "5g_technology                       1331\n",
       "5g_mindown                          1331\n",
       "5g_minup                            1331\n",
       "5g_environmnt                       1331\n",
       "                                    ... \n",
       "sip_corridors_count                 2394\n",
       "barnes_intersections_count          2394\n",
       "leading_ped_intervals_count         2394\n",
       "highest_bike_lane_facility_class    2394\n",
       "num_peds_involved_in_collision      2394\n",
       "Length: 78, dtype: int64"
      ]
     },
     "execution_count": 6,
     "metadata": {},
     "output_type": "execute_result"
    }
   ],
   "source": [
    "dataset.isna().sum()  "
   ]
  },
  {
   "cell_type": "code",
   "execution_count": 7,
   "metadata": {},
   "outputs": [],
   "source": [
    "FEATURES = { \n",
    "    'sidewalk_width': 'Sidewalk Width',\n",
    "    'pedestrian_density': 'Pedestrian Density',\n",
    "    'street_furniture_density': 'Density of Street Furniture',\n",
    "    'sidewalk_roughness': 'Sidewalk Roughness',\n",
    "    'surface_condition': 'Surface Condition',\n",
    "    'communication_infrastructure': 'Wireless Communication Infrastructure',\n",
    "    'slope_gradient': 'Slope Gradient',\n",
    "    'charging_station_proximity': 'Proximity to Charging Stations',\n",
    "    'local_attitudes': 'Local Attitudes Towards Robots',\n",
    "    'curb_ramp_availability': 'Curb Ramp Availability',\n",
    "    'weather_conditions': 'Weather Conditions',\n",
    "    'crowd_dynamics': 'Crowd Dynamics',\n",
    "    'traffic_management': 'Traffic Management Systems',\n",
    "    'surveillance_coverage': 'Surveillance Coverage',\n",
    "    'zoning_laws': 'Zoning Laws and Regulation',\n",
    "    'bike_lane_availability': 'Bike Lane Availability',\n",
    "    'street_lighting': 'Street Lighting',\n",
    "    'shade_availability': 'Existence of Shade',\n",
    "    'gps_signal_strength': 'GPS Signal Strength',\n",
    "    'pedestrian_flow': 'Pedestrian Flow',\n",
    "    'bicycle_traffic': 'Bicycle Traffic',\n",
    "    'vehicle_traffic': 'Vehicle Traffic',\n",
    "    'digital_map_existence': 'Existence of Detailed Digital Maps',\n",
    "    'intersection_safety': 'Intersection Safety'\n",
    "}\n",
    "\n"
   ]
  },
  {
   "cell_type": "code",
   "execution_count": 8,
   "metadata": {},
   "outputs": [
    {
     "data": {
      "text/plain": [
       "24"
      ]
     },
     "execution_count": 8,
     "metadata": {},
     "output_type": "execute_result"
    }
   ],
   "source": [
    "len(FEATURES)"
   ]
  },
  {
   "cell_type": "code",
   "execution_count": 9,
   "metadata": {},
   "outputs": [],
   "source": [
    "# which "
   ]
  },
  {
   "cell_type": "code",
   "execution_count": 10,
   "metadata": {},
   "outputs": [
    {
     "data": {
      "text/plain": [
       "{'sidewalk_width': 0.0666522433962001,\n",
       " 'pedestrian_density': 0.0947069709593629,\n",
       " 'street_furniture_density': 0.0664828559438847,\n",
       " 'sidewalk_roughness': 0.0476301132910382,\n",
       " 'surface_condition': 0.0765110540640444,\n",
       " 'communication_infrastructure': 0.0610756705610995,\n",
       " 'slope_gradient': 0.0545833771886842,\n",
       " 'charging_station_proximity': 0.0257457800450019,\n",
       " 'curb_ramp_availability': 0.0604760235101482,\n",
       " 'crowd_dynamics': 0.0728095551221969,\n",
       " 'traffic_management': 0.0446720054980464,\n",
       " 'surveillance_coverage': 0.0256561388534967,\n",
       " 'zoning_laws': 0.0456798510422274,\n",
       " 'bike_lane_availability': 0.0198643058288491,\n",
       " 'gps_signal_strength': 0.0481144417826519,\n",
       " 'bicycle_traffic': 0.0305681405466959,\n",
       " 'vehicle_traffic': 0.0444280939118959,\n",
       " 'digital_map_existence': 0.0460578592748008,\n",
       " 'intersection_safety': 0.068285519179674}"
      ]
     },
     "execution_count": 10,
     "metadata": {},
     "output_type": "execute_result"
    }
   ],
   "source": [
    "# read csv as dict and store in WEIGHTS \n",
    "WEIGHTS = pd.read_csv(\"../survey_processing/feature_weights.csv\", index_col=0).to_dict()['Weight']\n",
    "WEIGHTS"
   ]
  },
  {
   "cell_type": "code",
   "execution_count": 11,
   "metadata": {},
   "outputs": [
    {
     "data": {
      "text/plain": [
       "0.9999999999999991"
      ]
     },
     "execution_count": 11,
     "metadata": {},
     "output_type": "execute_result"
    }
   ],
   "source": [
    "# get sum of weights \n",
    "sum(WEIGHTS.values())"
   ]
  },
  {
   "cell_type": "code",
   "execution_count": 12,
   "metadata": {},
   "outputs": [],
   "source": [
    "features = pd.DataFrame()"
   ]
  },
  {
   "cell_type": "code",
   "execution_count": 13,
   "metadata": {},
   "outputs": [],
   "source": [
    "# add geometry to features\n",
    "features['geometry'] = dataset['geometry']\n",
    "# add point index to features \n",
    "features['point_index'] = dataset['point_index']"
   ]
  },
  {
   "cell_type": "markdown",
   "metadata": {},
   "source": [
    "### Sidewalk Width "
   ]
  },
  {
   "cell_type": "code",
   "execution_count": 14,
   "metadata": {},
   "outputs": [],
   "source": [
    "def PREPROCESS_sidewalk_width(col): \n",
    "    # softmax the sidewalk width so that it is between 0 and 1\n",
    "    col = min_max_normalize(col)\n",
    "\n",
    "    return col\n",
    "\n",
    "dataset['sidewalk_width'] = PREPROCESS_sidewalk_width(dataset['SHAPE_Width'])"
   ]
  },
  {
   "cell_type": "code",
   "execution_count": 15,
   "metadata": {},
   "outputs": [],
   "source": [
    "def COMPUTE_sidewalk_width(col, WEIGHTS=WEIGHTS): \n",
    "    return col * WEIGHTS['sidewalk_width']\n"
   ]
  },
  {
   "cell_type": "code",
   "execution_count": 16,
   "metadata": {},
   "outputs": [],
   "source": [
    "features['sidewalk_width'] = COMPUTE_sidewalk_width(dataset['sidewalk_width'])"
   ]
  },
  {
   "cell_type": "markdown",
   "metadata": {},
   "source": [
    "### Pedestrian Density "
   ]
  },
  {
   "cell_type": "code",
   "execution_count": 17,
   "metadata": {},
   "outputs": [],
   "source": [
    "def PREPROCESS_pedestrian_density(col):\n",
    "    # softmax the pedestrian density so that it is between 0 and 1\n",
    "    col = min_max_normalize(col)\n",
    "    return col\n",
    "\n",
    "dataset['pedestrian_density'] = PREPROCESS_pedestrian_density(dataset['TRAFFIC_Pedestrian'])"
   ]
  },
  {
   "cell_type": "code",
   "execution_count": 18,
   "metadata": {},
   "outputs": [],
   "source": [
    "def COMPUTE_pedestrian_density(col, WEIGHTS=WEIGHTS):\n",
    "    return col * WEIGHTS['pedestrian_density']"
   ]
  },
  {
   "cell_type": "code",
   "execution_count": 19,
   "metadata": {},
   "outputs": [],
   "source": [
    "features['pedestrian_density'] = COMPUTE_pedestrian_density(dataset['pedestrian_density'])"
   ]
  },
  {
   "cell_type": "markdown",
   "metadata": {},
   "source": [
    "### Street Furniture Density "
   ]
  },
  {
   "cell_type": "code",
   "execution_count": 20,
   "metadata": {},
   "outputs": [],
   "source": [
    "def PREPROCESS_street_furniture_density(col):\n",
    "    # softmax the street furniture density so that it is between 0 and 1\n",
    "    col = min_max_normalize(col)\n",
    "    return col\n",
    "\n",
    "dataset['street_furniture_density'] = PREPROCESS_street_furniture_density(dataset['clutter'])"
   ]
  },
  {
   "cell_type": "code",
   "execution_count": 21,
   "metadata": {},
   "outputs": [],
   "source": [
    "def COMPUTE_street_furniture_density(col, WEIGHTS=WEIGHTS):\n",
    "    return col * WEIGHTS['street_furniture_density']\n",
    "\n",
    "features['street_furniture_density'] = COMPUTE_street_furniture_density(dataset['street_furniture_density'])"
   ]
  },
  {
   "cell_type": "markdown",
   "metadata": {},
   "source": [
    "### Sidewalk Roughness "
   ]
  },
  {
   "cell_type": "code",
   "execution_count": 22,
   "metadata": {},
   "outputs": [],
   "source": [
    "# SKIP preprocessing, as all values are already 1"
   ]
  },
  {
   "cell_type": "code",
   "execution_count": 23,
   "metadata": {},
   "outputs": [],
   "source": [
    " def COMPUTE_sidewalk_roughness(col=None, WEIGHTS=WEIGHTS): \n",
    "    return 1 * WEIGHTS['sidewalk_roughness']\n"
   ]
  },
  {
   "cell_type": "code",
   "execution_count": 24,
   "metadata": {},
   "outputs": [],
   "source": [
    "features['sidewalk_roughness'] = COMPUTE_sidewalk_roughness()\n",
    "\n",
    "# check out accessmap for this "
   ]
  },
  {
   "cell_type": "markdown",
   "metadata": {},
   "source": [
    "### Surface Condition "
   ]
  },
  {
   "cell_type": "code",
   "execution_count": 25,
   "metadata": {},
   "outputs": [],
   "source": [
    "def PREPROCESS_surface_condition(col):\n",
    "    col = min_max_normalize(col)\n",
    "    col = col.fillna(col.mean())\n",
    "    return col\n",
    "\n",
    "dataset['surface_condition'] = PREPROCESS_surface_condition(dataset['sidewalk_quality'])"
   ]
  },
  {
   "cell_type": "code",
   "execution_count": 26,
   "metadata": {},
   "outputs": [],
   "source": [
    "def COMPUTE_surface_condition(col, WEIGHTS=WEIGHTS):\n",
    "    return col * WEIGHTS['surface_condition']\n",
    "\n",
    "features['surface_condition'] = COMPUTE_surface_condition(dataset['surface_condition'])"
   ]
  },
  {
   "cell_type": "markdown",
   "metadata": {},
   "source": [
    "### Wireless Communication Infrastructure "
   ]
  },
  {
   "cell_type": "code",
   "execution_count": 27,
   "metadata": {},
   "outputs": [],
   "source": [
    "# SKIP preprocessing, as all values are already 0 or 1"
   ]
  },
  {
   "cell_type": "code",
   "execution_count": 28,
   "metadata": {},
   "outputs": [],
   "source": [
    "def COMPUTE_communication_infrastructure(row, WEIGHTS=WEIGHTS): \n",
    "    return (1 if (row['4g_minup'] > 0 and row['4g_mindown'] > 0) else 0) * WEIGHTS['communication_infrastructure']"
   ]
  },
  {
   "cell_type": "code",
   "execution_count": 29,
   "metadata": {},
   "outputs": [],
   "source": [
    "features['communication_infrastructure'] = dataset.apply(lambda row: COMPUTE_communication_infrastructure(row), axis=1)"
   ]
  },
  {
   "cell_type": "markdown",
   "metadata": {},
   "source": [
    "### Slope Gradient "
   ]
  },
  {
   "cell_type": "code",
   "execution_count": 30,
   "metadata": {},
   "outputs": [
    {
     "name": "stderr",
     "output_type": "stream",
     "text": [
      "100%|██████████| 2553615/2553615 [18:56<00:00, 2247.33it/s]\n"
     ]
    }
   ],
   "source": [
    "from scipy.spatial import cKDTree\n",
    "import numpy as np\n",
    "from tqdm import tqdm\n",
    "\n",
    "def POPULATE_slope_gradient_optimized_with_progress(dataset, WEIGHTS=WEIGHTS):\n",
    "    # Convert geometries to numpy arrays for faster distance computation\n",
    "    coords = np.array([[geom.x, geom.y] for geom in dataset['geometry']])\n",
    "    tree = cKDTree(coords)\n",
    "\n",
    "    # Initialize an array for slope gradients\n",
    "    slope_gradients = np.zeros(len(dataset))\n",
    "\n",
    "    # Precompute distances for each point\n",
    "    for i, row in tqdm(dataset.iterrows(), total=len(dataset)):\n",
    "        # Get indices of nearest neighbors within 50 units, excluding the point itself\n",
    "        distances, indices = tree.query(coords[i], k=10, distance_upper_bound=50)\n",
    "        \n",
    "        # Remove invalid indices (those equal to len(coords))\n",
    "        valid_mask = (indices != len(coords)) & (indices != i)\n",
    "        valid_indices = indices[valid_mask]\n",
    "        valid_distances = distances[valid_mask]\n",
    "        \n",
    "        # Compute slope gradients\n",
    "        if len(valid_indices) > 0:\n",
    "            height_diffs = np.abs(dataset['ft_above_sea'].iloc[valid_indices] - row['ft_above_sea'])\n",
    "            slopes = height_diffs / valid_distances\n",
    "            # take absolute value of slope\n",
    "            slopes = np.abs(slopes)\n",
    "            slope_gradients[i] = slopes.mean() * WEIGHTS['slope_gradient']\n",
    "\n",
    "    return slope_gradients\n",
    "\n",
    "# Apply the optimized function with progress monitoring\n",
    "dataset['slope_gradient'] = POPULATE_slope_gradient_optimized_with_progress(dataset)\n",
    "\n",
    "# take the absolute value of the slope"
   ]
  },
  {
   "cell_type": "code",
   "execution_count": 31,
   "metadata": {},
   "outputs": [],
   "source": [
    "def POSTPROCESS_slope_gradient(col): \n",
    "    # softmax the slope gradient so that it is between 0 and 1\n",
    "    col = min_max_normalize(col)\n",
    "    return col\n",
    "\n",
    "dataset['slope_gradient'] = POSTPROCESS_slope_gradient(dataset['slope_gradient'])"
   ]
  },
  {
   "cell_type": "code",
   "execution_count": 32,
   "metadata": {},
   "outputs": [],
   "source": [
    "def COMPUTE_slope_gradient(col, WEIGHTS=WEIGHTS): \n",
    "    return col * WEIGHTS['slope_gradient']\n"
   ]
  },
  {
   "cell_type": "code",
   "execution_count": 33,
   "metadata": {},
   "outputs": [],
   "source": [
    "features['slope_gradient'] = COMPUTE_slope_gradient(dataset['slope_gradient'])"
   ]
  },
  {
   "cell_type": "code",
   "execution_count": 34,
   "metadata": {},
   "outputs": [
    {
     "data": {
      "text/plain": [
       "<Axes: >"
      ]
     },
     "execution_count": 34,
     "metadata": {},
     "output_type": "execute_result"
    },
    {
     "data": {
      "image/png": "[encoded data removed]",
      "text/plain": [
       "<Figure size 640x480 with 1 Axes>"
      ]
     },
     "metadata": {},
     "output_type": "display_data"
    }
   ],
   "source": [
    "# log the distribution here, as this one might be tricky \n",
    "features['slope_gradient'].hist(bins=1000)"
   ]
  },
  {
   "cell_type": "markdown",
   "metadata": {},
   "source": [
    "### Charging Station Proximity "
   ]
  },
  {
   "cell_type": "code",
   "execution_count": 35,
   "metadata": {},
   "outputs": [],
   "source": [
    "# convert to col-level function \n",
    "def POPULATE_charging_station_proximity(col, RANGE=max(dataset['distance_to_nearest_station'])): \n",
    "    return (RANGE-col)/RANGE"
   ]
  },
  {
   "cell_type": "code",
   "execution_count": 36,
   "metadata": {},
   "outputs": [],
   "source": [
    "dataset['charging_station_proximity'] = POPULATE_charging_station_proximity(dataset['distance_to_nearest_station'])"
   ]
  },
  {
   "cell_type": "code",
   "execution_count": 37,
   "metadata": {},
   "outputs": [],
   "source": [
    "def POSTPROCESS_charging_station_proximity(col):\n",
    "    # softmax the charging station proximity so that it is between 0 and 1\n",
    "    col = min_max_normalize(col)\n",
    "    return col\n",
    "\n",
    "dataset['charging_station_proximity'] = POSTPROCESS_charging_station_proximity(dataset['charging_station_proximity'])"
   ]
  },
  {
   "cell_type": "code",
   "execution_count": 38,
   "metadata": {},
   "outputs": [],
   "source": [
    "def COMPUTE_charging_station_proximity(col, WEIGHTS=WEIGHTS): \n",
    "    return col * WEIGHTS['charging_station_proximity']\n",
    "\n",
    "features['charging_station_proximity'] = COMPUTE_charging_station_proximity(dataset['charging_station_proximity'])"
   ]
  },
  {
   "cell_type": "markdown",
   "metadata": {},
   "source": [
    "### Local Attitudes Towards Robots "
   ]
  },
  {
   "cell_type": "markdown",
   "metadata": {},
   "source": [
    "**SKIP DUE TO LACK OF DATA** "
   ]
  },
  {
   "cell_type": "markdown",
   "metadata": {},
   "source": [
    "### Curb Ramp Availability "
   ]
  },
  {
   "cell_type": "code",
   "execution_count": 39,
   "metadata": {},
   "outputs": [],
   "source": [
    "def PREPROCESS_curb_ramp_availability(col): \n",
    "    col = min_max_normalize(col)\n",
    "    return col\n",
    "\n",
    "dataset['curb_ramp_availability'] = PREPROCESS_curb_ramp_availability(dataset['CURBRAMP_count'])"
   ]
  },
  {
   "cell_type": "code",
   "execution_count": 40,
   "metadata": {},
   "outputs": [],
   "source": [
    "def COMPUTE_curb_ramp_availability(col, WEIGHTS=WEIGHTS): \n",
    "    return col * WEIGHTS['curb_ramp_availability']\n",
    "\n",
    "features['curb_ramp_availability'] = COMPUTE_curb_ramp_availability(dataset['curb_ramp_availability'])"
   ]
  },
  {
   "cell_type": "markdown",
   "metadata": {},
   "source": [
    "### Weather Conditions "
   ]
  },
  {
   "cell_type": "markdown",
   "metadata": {},
   "source": [
    "** Skip due to hyperlocal/temporal nature of weather conditions ** "
   ]
  },
  {
   "cell_type": "markdown",
   "metadata": {},
   "source": [
    "### Crowd Dynamics "
   ]
  },
  {
   "cell_type": "code",
   "execution_count": 41,
   "metadata": {},
   "outputs": [],
   "source": [
    "def zonedist_to_indicator(row): \n",
    "    \n",
    "    if row:\n",
    "\n",
    "        if row.startswith('M'): \n",
    "            return 10\n",
    "        elif row.startswith('R'):\n",
    "            return 5\n",
    "        elif row.startswith('C'): \n",
    "            return 0\n",
    "        else: \n",
    "            return 2 \n",
    "    else:\n",
    "        return 0\n",
    "\n",
    "\n",
    "def POPULATE_crowd_dynamics(col): \n",
    "    return col.apply(zonedist_to_indicator)\n",
    "\n",
    "dataset['crowd_dynamics'] = POPULATE_crowd_dynamics(dataset['ZONEDIST'])"
   ]
  },
  {
   "cell_type": "code",
   "execution_count": 42,
   "metadata": {},
   "outputs": [],
   "source": [
    "def POSTPROCESS_crowd_dynamics(col):\n",
    "    # softmax the crowd dynamics so that it is between 0 and 1\n",
    "    col = min_max_normalize(col)\n",
    "    return col\n",
    "\n",
    "dataset['crowd_dynamics'] = POSTPROCESS_crowd_dynamics(dataset['crowd_dynamics'])"
   ]
  },
  {
   "cell_type": "code",
   "execution_count": 43,
   "metadata": {},
   "outputs": [],
   "source": [
    "def COMPUTE_crowd_dynamics(col, WEIGHTS=WEIGHTS):\n",
    "    return col * WEIGHTS['crowd_dynamics']\n",
    "\n",
    "features['crowd_dynamics'] = COMPUTE_crowd_dynamics(dataset['crowd_dynamics'])"
   ]
  },
  {
   "cell_type": "markdown",
   "metadata": {},
   "source": [
    "### Traffic Management "
   ]
  },
  {
   "cell_type": "code",
   "execution_count": 44,
   "metadata": {},
   "outputs": [],
   "source": [
    "def POPULATE_traffic_management(df, WEIGHTS=WEIGHTS): \n",
    "    return  (df['in_slow_zone'] + df['turn_traffic_calming_count'] + df['sip_intersections_count'] + df['sip_corridors_count'] + df['barnes_intersections_count'] + df['leading_ped_intervals_count']).fillna(0)\n",
    "\n",
    "dataset['traffic_management'] = POPULATE_traffic_management(dataset)\n",
    "\n",
    "\n",
    "\n"
   ]
  },
  {
   "cell_type": "code",
   "execution_count": 45,
   "metadata": {},
   "outputs": [],
   "source": [
    "def POSTPROCESS_traffic_management(col): \n",
    "    # softmax the traffic management so that it is between 0 and 1\n",
    "    col = min_max_normalize(col)\n",
    "    return col\n",
    "\n",
    "dataset['traffic_management'] = POSTPROCESS_traffic_management(dataset['traffic_management'])\n",
    "    "
   ]
  },
  {
   "cell_type": "code",
   "execution_count": 46,
   "metadata": {},
   "outputs": [],
   "source": [
    "def COMPUTE_traffic_management(col, WEIGHTS=WEIGHTS):\n",
    "    return col * WEIGHTS['traffic_management']\n",
    "\n",
    "features['traffic_management'] = COMPUTE_traffic_management(dataset['traffic_management'])\n"
   ]
  },
  {
   "cell_type": "markdown",
   "metadata": {},
   "source": [
    "### Surveillance Coverage "
   ]
  },
  {
   "cell_type": "code",
   "execution_count": 47,
   "metadata": {},
   "outputs": [],
   "source": [
    "def PREPROCESS_surveillance_coverage(col): \n",
    "    # softmax the surveillance coverage so that it is between 0 and 1\n",
    "    col = min_max_normalize(col)\n",
    "    return col\n",
    "\n",
    "dataset['surveillance_coverage'] = PREPROCESS_surveillance_coverage(dataset['n_cameras_median'])"
   ]
  },
  {
   "cell_type": "code",
   "execution_count": 48,
   "metadata": {},
   "outputs": [],
   "source": [
    "def COMPUTE_surveillance_coverage(col, WEIGHTS=WEIGHTS):\n",
    "    return col * WEIGHTS['surveillance_coverage']\n",
    "\n",
    "features['surveillance_coverage'] = COMPUTE_surveillance_coverage(dataset['surveillance_coverage'])\n",
    "    "
   ]
  },
  {
   "cell_type": "markdown",
   "metadata": {},
   "source": [
    "### Zoning Laws & Regulations"
   ]
  },
  {
   "cell_type": "code",
   "execution_count": 49,
   "metadata": {},
   "outputs": [],
   "source": [
    "def PREPROCESS_zoning_laws(col): \n",
    "    # softmax the zoning laws so that it is between 0 and 1\n",
    "    col = min_max_normalize(col)\n",
    "    col = col.fillna(0)\n",
    "    return col\n",
    "\n",
    "dataset['zoning_laws'] = PREPROCESS_zoning_laws(dataset['avg_speed_limit'])\n",
    "\n"
   ]
  },
  {
   "cell_type": "code",
   "execution_count": 50,
   "metadata": {},
   "outputs": [],
   "source": [
    "def COMPUTE_zoning_laws(col, WEIGHTS=WEIGHTS):\n",
    "    return col * WEIGHTS['zoning_laws']\n",
    "\n",
    "features['zoning_laws'] = COMPUTE_zoning_laws(dataset['zoning_laws'])"
   ]
  },
  {
   "cell_type": "markdown",
   "metadata": {},
   "source": [
    "### Bike Lane Availability "
   ]
  },
  {
   "cell_type": "code",
   "execution_count": 51,
   "metadata": {},
   "outputs": [],
   "source": [
    "def PREPROCESS_bike_lane_availability(col):\n",
    "    # softmax the bike lane availability so that it is between 0 and 1\n",
    "    col = min_max_normalize(col)\n",
    "    col = col.fillna(0)\n",
    "    return col\n",
    "\n",
    "dataset['bike_lane_availability'] = PREPROCESS_bike_lane_availability(dataset['highest_bike_lane_facility_class'])"
   ]
  },
  {
   "cell_type": "code",
   "execution_count": 52,
   "metadata": {},
   "outputs": [],
   "source": [
    "def COMPUTE_bike_lane_availability(col, WEIGHTS=WEIGHTS):\n",
    "    return col * WEIGHTS['bike_lane_availability']\n",
    "\n",
    "features['bike_lane_availability'] = COMPUTE_bike_lane_availability(dataset['bike_lane_availability'])\n"
   ]
  },
  {
   "cell_type": "markdown",
   "metadata": {},
   "source": [
    "### Street Lighting"
   ]
  },
  {
   "cell_type": "markdown",
   "metadata": {},
   "source": [
    "** Skip due to lack of data ** "
   ]
  },
  {
   "cell_type": "markdown",
   "metadata": {},
   "source": [
    "### Shade Availability "
   ]
  },
  {
   "cell_type": "markdown",
   "metadata": {},
   "source": [
    "**Come Back**"
   ]
  },
  {
   "cell_type": "markdown",
   "metadata": {},
   "source": [
    "### GPS Signal Strength"
   ]
  },
  {
   "cell_type": "code",
   "execution_count": 53,
   "metadata": {},
   "outputs": [],
   "source": [
    "# SKIP preprocessing, as all values are already 0 or 1"
   ]
  },
  {
   "cell_type": "code",
   "execution_count": 54,
   "metadata": {},
   "outputs": [],
   "source": [
    "def COMPUTE_gps_signal_strenth(col=None, WEIGHTS=WEIGHTS): \n",
    "    return 1 * WEIGHTS['gps_signal_strength']\n",
    "\n",
    "features['gps_signal_strength'] = COMPUTE_gps_signal_strenth()"
   ]
  },
  {
   "cell_type": "markdown",
   "metadata": {},
   "source": [
    "### Pedestrian Flow "
   ]
  },
  {
   "cell_type": "markdown",
   "metadata": {},
   "source": [
    "** Skip due to lack of data ** "
   ]
  },
  {
   "cell_type": "markdown",
   "metadata": {},
   "source": [
    "### Bicycle Traffic "
   ]
  },
  {
   "cell_type": "code",
   "execution_count": 55,
   "metadata": {},
   "outputs": [],
   "source": [
    "def PREPROCESS_bicycle_traffic(col):\n",
    "    # softmax the bicycle traffic so that it is between 0 and 1\n",
    "    col = min_max_normalize(col)\n",
    "    return col\n",
    "\n",
    "dataset['bicycle_traffic'] = PREPROCESS_bicycle_traffic(dataset['TRAFFIC_Bike'])\n"
   ]
  },
  {
   "cell_type": "code",
   "execution_count": 56,
   "metadata": {},
   "outputs": [],
   "source": [
    "def COMPUTE_bicycle_traffic(col, WEIGHTS=WEIGHTS):\n",
    "    return col * WEIGHTS['bicycle_traffic']\n",
    "\n",
    "features['bicycle_traffic'] = COMPUTE_bicycle_traffic(dataset['bicycle_traffic'])"
   ]
  },
  {
   "cell_type": "markdown",
   "metadata": {},
   "source": [
    "### Vehicle Traffic "
   ]
  },
  {
   "cell_type": "code",
   "execution_count": 57,
   "metadata": {},
   "outputs": [],
   "source": [
    "def PREPROCESS_vehicle_traffic(col):\n",
    "    # softmax the vehicle traffic so that it is between 0 and 1\n",
    "    col = min_max_normalize(col)\n",
    "    return col\n",
    "\n",
    "dataset['vehicle_traffic'] = PREPROCESS_vehicle_traffic(dataset['TRAFFIC_Car'])\n"
   ]
  },
  {
   "cell_type": "code",
   "execution_count": 58,
   "metadata": {},
   "outputs": [],
   "source": [
    "def COMPUTE_vehicle_traffic(col, WEIGHTS=WEIGHTS):\n",
    "    return col * WEIGHTS['vehicle_traffic']\n",
    "\n",
    "features['vehicle_traffic'] = COMPUTE_vehicle_traffic(dataset['vehicle_traffic'])"
   ]
  },
  {
   "cell_type": "markdown",
   "metadata": {},
   "source": [
    "### Existence of Detailed Digital Map "
   ]
  },
  {
   "cell_type": "code",
   "execution_count": 59,
   "metadata": {},
   "outputs": [],
   "source": [
    "def COMPUTE_ddm():\n",
    "    return 1 * WEIGHTS['digital_map_existence']"
   ]
  },
  {
   "cell_type": "code",
   "execution_count": 60,
   "metadata": {},
   "outputs": [],
   "source": [
    "features['digital_map_existence'] = COMPUTE_ddm()"
   ]
  },
  {
   "cell_type": "markdown",
   "metadata": {},
   "source": [
    "### Intersection Safety "
   ]
  },
  {
   "cell_type": "code",
   "execution_count": 61,
   "metadata": {},
   "outputs": [],
   "source": [
    "def PREPROCESS_intersection_safety(col):\n",
    "    # softmax the intersection safety so that it is between 0 and 1\n",
    "    col = col.fillna(0).astype(int)\n",
    "    col = min_max_normalize(col)\n",
    "    return col\n",
    "\n",
    "dataset['intersection_safety'] = PREPROCESS_intersection_safety(dataset['num_peds_involved_in_collision'])"
   ]
  },
  {
   "cell_type": "code",
   "execution_count": 62,
   "metadata": {},
   "outputs": [],
   "source": [
    "def COMPUTE_intersection_safety(col, WEIGHTS=WEIGHTS):\n",
    "\n",
    "    return col * WEIGHTS['intersection_safety']\n",
    "\n",
    "features['intersection_safety'] = COMPUTE_intersection_safety(dataset['intersection_safety'])"
   ]
  },
  {
   "cell_type": "markdown",
   "metadata": {},
   "source": [
    "## SANITY CHECKS"
   ]
  },
  {
   "cell_type": "code",
   "execution_count": 63,
   "metadata": {},
   "outputs": [],
   "source": [
    "# assert that all values of all columns except geometry and pouint_index are 0-1\n",
    "for col in features.columns: \n",
    "    if col not in ['geometry', 'point_index']: \n",
    "        assert features[col].min() >= 0 and features[col].max() <= 1"
   ]
  },
  {
   "cell_type": "code",
   "execution_count": 64,
   "metadata": {},
   "outputs": [
    {
     "data": {
      "text/plain": [
       "geometry                             0\n",
       "point_index                          0\n",
       "sidewalk_width                       0\n",
       "pedestrian_density              388970\n",
       "street_furniture_density             7\n",
       "sidewalk_roughness                   0\n",
       "surface_condition                    0\n",
       "communication_infrastructure         0\n",
       "slope_gradient                       0\n",
       "charging_station_proximity           0\n",
       "curb_ramp_availability               0\n",
       "crowd_dynamics                       0\n",
       "traffic_management                   0\n",
       "surveillance_coverage                0\n",
       "zoning_laws                          0\n",
       "bike_lane_availability               0\n",
       "gps_signal_strength                  0\n",
       "bicycle_traffic                 388970\n",
       "vehicle_traffic                 388970\n",
       "digital_map_existence                0\n",
       "intersection_safety                  0\n",
       "dtype: int64"
      ]
     },
     "execution_count": 64,
     "metadata": {},
     "output_type": "execute_result"
    }
   ],
   "source": [
    "features.isna().sum() "
   ]
  },
  {
   "cell_type": "code",
   "execution_count": 65,
   "metadata": {},
   "outputs": [
    {
     "data": {
      "text/plain": [
       "21"
      ]
     },
     "execution_count": 65,
     "metadata": {},
     "output_type": "execute_result"
    }
   ],
   "source": [
    "len(features.columns)"
   ]
  },
  {
   "cell_type": "code",
   "execution_count": 66,
   "metadata": {},
   "outputs": [
    {
     "name": "stdout",
     "output_type": "stream",
     "text": [
      "{'weather_conditions', 'shade_availability', 'street_lighting', 'pedestrian_flow', 'local_attitudes'}\n"
     ]
    }
   ],
   "source": [
    "# which FEATURES aren't a column in features? \n",
    "print(set(FEATURES.keys()) - set(features.columns))\n"
   ]
  },
  {
   "cell_type": "code",
   "execution_count": 67,
   "metadata": {},
   "outputs": [],
   "source": [
    "POLARITIES = { \n",
    "    'sidewalk_width': 1,\n",
    "    'pedestrian_density': -1,\n",
    "    'street_furniture_density': -1, \n",
    "    'sidewalk_roughness': -1,\n",
    "    'surface_condition': 1,\n",
    "    'communication_infrastructure': 1,\n",
    "    'slope_gradient': -1,\n",
    "    'charging_station_proximity': 1,\n",
    "    'local_attitudes': 1,\n",
    "    'curb_ramp_availability': 1,\n",
    "    'weather_conditions': 1,\n",
    "    'crowd_dynamics': 1,\n",
    "    'traffic_management': 1,\n",
    "    'surveillance_coverage': 1,\n",
    "    'zoning_laws': 1,\n",
    "    'bike_lane_availability': 1,\n",
    "    'street_lighting': 1,\n",
    "    'shade_availability': 1,\n",
    "    'gps_signal_strength': 1,\n",
    "    'pedestrian_flow': -1,\n",
    "    'bicycle_traffic': -1,\n",
    "    'vehicle_traffic': -1,\n",
    "    'digital_map_existence': 1,\n",
    "    # num incidents, so more is worse\n",
    "    'intersection_safety': -1,\n",
    "}"
   ]
  },
  {
   "cell_type": "code",
   "execution_count": 68,
   "metadata": {},
   "outputs": [],
   "source": [
    "# score is the aggregation of all features \n",
    "features['score'] = features.drop(columns=['geometry', 'point_index']).mul(pd.Series(POLARITIES)).sum(axis=1)\n",
    "\n"
   ]
  },
  {
   "cell_type": "code",
   "execution_count": 69,
   "metadata": {},
   "outputs": [
    {
     "data": {
      "text/html": [
       "<div>\n",
       "<style scoped>\n",
       "    .dataframe tbody tr th:only-of-type {\n",
       "        vertical-align: middle;\n",
       "    }\n",
       "\n",
       "    .dataframe tbody tr th {\n",
       "        vertical-align: top;\n",
       "    }\n",
       "\n",
       "    .dataframe thead th {\n",
       "        text-align: right;\n",
       "    }\n",
       "</style>\n",
       "<table border=\"1\" class=\"dataframe\">\n",
       "  <thead>\n",
       "    <tr style=\"text-align: right;\">\n",
       "      <th></th>\n",
       "      <th>point_index</th>\n",
       "      <th>sidewalk_width</th>\n",
       "      <th>pedestrian_density</th>\n",
       "      <th>street_furniture_density</th>\n",
       "      <th>sidewalk_roughness</th>\n",
       "      <th>surface_condition</th>\n",
       "      <th>communication_infrastructure</th>\n",
       "      <th>slope_gradient</th>\n",
       "      <th>charging_station_proximity</th>\n",
       "      <th>curb_ramp_availability</th>\n",
       "      <th>...</th>\n",
       "      <th>traffic_management</th>\n",
       "      <th>surveillance_coverage</th>\n",
       "      <th>zoning_laws</th>\n",
       "      <th>bike_lane_availability</th>\n",
       "      <th>gps_signal_strength</th>\n",
       "      <th>bicycle_traffic</th>\n",
       "      <th>vehicle_traffic</th>\n",
       "      <th>digital_map_existence</th>\n",
       "      <th>intersection_safety</th>\n",
       "      <th>score</th>\n",
       "    </tr>\n",
       "  </thead>\n",
       "  <tbody>\n",
       "    <tr>\n",
       "      <th>count</th>\n",
       "      <td>2.553615e+06</td>\n",
       "      <td>2.553615e+06</td>\n",
       "      <td>2.164645e+06</td>\n",
       "      <td>2.553608e+06</td>\n",
       "      <td>2.553615e+06</td>\n",
       "      <td>2.553615e+06</td>\n",
       "      <td>2.553615e+06</td>\n",
       "      <td>2.553615e+06</td>\n",
       "      <td>2.553615e+06</td>\n",
       "      <td>2.553615e+06</td>\n",
       "      <td>...</td>\n",
       "      <td>2.553615e+06</td>\n",
       "      <td>2.553615e+06</td>\n",
       "      <td>2.553615e+06</td>\n",
       "      <td>2.553615e+06</td>\n",
       "      <td>2.553615e+06</td>\n",
       "      <td>2.164645e+06</td>\n",
       "      <td>2.164645e+06</td>\n",
       "      <td>2.553615e+06</td>\n",
       "      <td>2.553615e+06</td>\n",
       "      <td>2.553615e+06</td>\n",
       "    </tr>\n",
       "    <tr>\n",
       "      <th>mean</th>\n",
       "      <td>1.275310e+06</td>\n",
       "      <td>8.515820e-03</td>\n",
       "      <td>3.513633e-03</td>\n",
       "      <td>5.065583e-03</td>\n",
       "      <td>4.763011e-02</td>\n",
       "      <td>7.025676e-02</td>\n",
       "      <td>6.095522e-02</td>\n",
       "      <td>3.909275e-04</td>\n",
       "      <td>2.125028e-02</td>\n",
       "      <td>1.693575e-03</td>\n",
       "      <td>...</td>\n",
       "      <td>6.592913e-04</td>\n",
       "      <td>7.015008e-04</td>\n",
       "      <td>1.965975e-02</td>\n",
       "      <td>1.782016e-03</td>\n",
       "      <td>4.811444e-02</td>\n",
       "      <td>1.585611e-04</td>\n",
       "      <td>1.365708e-02</td>\n",
       "      <td>4.605786e-02</td>\n",
       "      <td>7.056343e-05</td>\n",
       "      <td>2.474326e-01</td>\n",
       "    </tr>\n",
       "    <tr>\n",
       "      <th>std</th>\n",
       "      <td>7.365337e+05</td>\n",
       "      <td>2.471739e-03</td>\n",
       "      <td>5.948671e-03</td>\n",
       "      <td>1.138780e-02</td>\n",
       "      <td>2.844947e-16</td>\n",
       "      <td>8.887597e-03</td>\n",
       "      <td>2.709598e-03</td>\n",
       "      <td>5.352830e-04</td>\n",
       "      <td>5.040983e-03</td>\n",
       "      <td>4.877835e-03</td>\n",
       "      <td>...</td>\n",
       "      <td>1.705515e-03</td>\n",
       "      <td>2.043351e-03</td>\n",
       "      <td>8.168743e-03</td>\n",
       "      <td>4.727454e-03</td>\n",
       "      <td>1.804113e-16</td>\n",
       "      <td>4.886325e-04</td>\n",
       "      <td>4.842012e-03</td>\n",
       "      <td>3.191892e-16</td>\n",
       "      <td>6.270052e-04</td>\n",
       "      <td>2.610688e-02</td>\n",
       "    </tr>\n",
       "    <tr>\n",
       "      <th>min</th>\n",
       "      <td>0.000000e+00</td>\n",
       "      <td>0.000000e+00</td>\n",
       "      <td>0.000000e+00</td>\n",
       "      <td>0.000000e+00</td>\n",
       "      <td>4.763011e-02</td>\n",
       "      <td>0.000000e+00</td>\n",
       "      <td>0.000000e+00</td>\n",
       "      <td>0.000000e+00</td>\n",
       "      <td>0.000000e+00</td>\n",
       "      <td>0.000000e+00</td>\n",
       "      <td>...</td>\n",
       "      <td>0.000000e+00</td>\n",
       "      <td>0.000000e+00</td>\n",
       "      <td>0.000000e+00</td>\n",
       "      <td>0.000000e+00</td>\n",
       "      <td>4.811444e-02</td>\n",
       "      <td>0.000000e+00</td>\n",
       "      <td>0.000000e+00</td>\n",
       "      <td>4.605786e-02</td>\n",
       "      <td>0.000000e+00</td>\n",
       "      <td>6.572753e-02</td>\n",
       "    </tr>\n",
       "    <tr>\n",
       "      <th>0.1%</th>\n",
       "      <td>2.553614e+03</td>\n",
       "      <td>2.282018e-03</td>\n",
       "      <td>0.000000e+00</td>\n",
       "      <td>0.000000e+00</td>\n",
       "      <td>4.763011e-02</td>\n",
       "      <td>0.000000e+00</td>\n",
       "      <td>0.000000e+00</td>\n",
       "      <td>0.000000e+00</td>\n",
       "      <td>6.934848e-04</td>\n",
       "      <td>0.000000e+00</td>\n",
       "      <td>...</td>\n",
       "      <td>0.000000e+00</td>\n",
       "      <td>0.000000e+00</td>\n",
       "      <td>0.000000e+00</td>\n",
       "      <td>0.000000e+00</td>\n",
       "      <td>4.811444e-02</td>\n",
       "      <td>0.000000e+00</td>\n",
       "      <td>0.000000e+00</td>\n",
       "      <td>4.605786e-02</td>\n",
       "      <td>0.000000e+00</td>\n",
       "      <td>1.324890e-01</td>\n",
       "    </tr>\n",
       "    <tr>\n",
       "      <th>1%</th>\n",
       "      <td>2.553514e+04</td>\n",
       "      <td>3.315140e-03</td>\n",
       "      <td>0.000000e+00</td>\n",
       "      <td>0.000000e+00</td>\n",
       "      <td>4.763011e-02</td>\n",
       "      <td>3.062223e-02</td>\n",
       "      <td>6.107567e-02</td>\n",
       "      <td>0.000000e+00</td>\n",
       "      <td>5.381231e-03</td>\n",
       "      <td>0.000000e+00</td>\n",
       "      <td>...</td>\n",
       "      <td>0.000000e+00</td>\n",
       "      <td>0.000000e+00</td>\n",
       "      <td>0.000000e+00</td>\n",
       "      <td>0.000000e+00</td>\n",
       "      <td>4.811444e-02</td>\n",
       "      <td>0.000000e+00</td>\n",
       "      <td>1.931656e-03</td>\n",
       "      <td>4.605786e-02</td>\n",
       "      <td>0.000000e+00</td>\n",
       "      <td>1.646795e-01</td>\n",
       "    </tr>\n",
       "    <tr>\n",
       "      <th>2.5%</th>\n",
       "      <td>6.379535e+04</td>\n",
       "      <td>4.094715e-03</td>\n",
       "      <td>0.000000e+00</td>\n",
       "      <td>0.000000e+00</td>\n",
       "      <td>4.763011e-02</td>\n",
       "      <td>5.447908e-02</td>\n",
       "      <td>6.107567e-02</td>\n",
       "      <td>0.000000e+00</td>\n",
       "      <td>8.447401e-03</td>\n",
       "      <td>0.000000e+00</td>\n",
       "      <td>...</td>\n",
       "      <td>0.000000e+00</td>\n",
       "      <td>0.000000e+00</td>\n",
       "      <td>0.000000e+00</td>\n",
       "      <td>0.000000e+00</td>\n",
       "      <td>4.811444e-02</td>\n",
       "      <td>0.000000e+00</td>\n",
       "      <td>3.863313e-03</td>\n",
       "      <td>4.605786e-02</td>\n",
       "      <td>0.000000e+00</td>\n",
       "      <td>1.834912e-01</td>\n",
       "    </tr>\n",
       "    <tr>\n",
       "      <th>5%</th>\n",
       "      <td>1.275747e+05</td>\n",
       "      <td>5.086502e-03</td>\n",
       "      <td>0.000000e+00</td>\n",
       "      <td>0.000000e+00</td>\n",
       "      <td>4.763011e-02</td>\n",
       "      <td>5.763922e-02</td>\n",
       "      <td>6.107567e-02</td>\n",
       "      <td>0.000000e+00</td>\n",
       "      <td>1.123241e-02</td>\n",
       "      <td>0.000000e+00</td>\n",
       "      <td>...</td>\n",
       "      <td>0.000000e+00</td>\n",
       "      <td>0.000000e+00</td>\n",
       "      <td>0.000000e+00</td>\n",
       "      <td>0.000000e+00</td>\n",
       "      <td>4.811444e-02</td>\n",
       "      <td>0.000000e+00</td>\n",
       "      <td>5.207073e-03</td>\n",
       "      <td>4.605786e-02</td>\n",
       "      <td>0.000000e+00</td>\n",
       "      <td>1.996729e-01</td>\n",
       "    </tr>\n",
       "    <tr>\n",
       "      <th>10%</th>\n",
       "      <td>2.550944e+05</td>\n",
       "      <td>5.919378e-03</td>\n",
       "      <td>0.000000e+00</td>\n",
       "      <td>0.000000e+00</td>\n",
       "      <td>4.763011e-02</td>\n",
       "      <td>6.133347e-02</td>\n",
       "      <td>6.107567e-02</td>\n",
       "      <td>4.878254e-05</td>\n",
       "      <td>1.399586e-02</td>\n",
       "      <td>0.000000e+00</td>\n",
       "      <td>...</td>\n",
       "      <td>0.000000e+00</td>\n",
       "      <td>0.000000e+00</td>\n",
       "      <td>0.000000e+00</td>\n",
       "      <td>0.000000e+00</td>\n",
       "      <td>4.811444e-02</td>\n",
       "      <td>0.000000e+00</td>\n",
       "      <td>7.082740e-03</td>\n",
       "      <td>4.605786e-02</td>\n",
       "      <td>0.000000e+00</td>\n",
       "      <td>2.150663e-01</td>\n",
       "    </tr>\n",
       "    <tr>\n",
       "      <th>25%</th>\n",
       "      <td>6.371125e+05</td>\n",
       "      <td>6.988123e-03</td>\n",
       "      <td>1.202628e-04</td>\n",
       "      <td>0.000000e+00</td>\n",
       "      <td>4.763011e-02</td>\n",
       "      <td>6.816561e-02</td>\n",
       "      <td>6.107567e-02</td>\n",
       "      <td>1.217538e-04</td>\n",
       "      <td>1.852979e-02</td>\n",
       "      <td>0.000000e+00</td>\n",
       "      <td>...</td>\n",
       "      <td>0.000000e+00</td>\n",
       "      <td>0.000000e+00</td>\n",
       "      <td>2.283993e-02</td>\n",
       "      <td>0.000000e+00</td>\n",
       "      <td>4.811444e-02</td>\n",
       "      <td>0.000000e+00</td>\n",
       "      <td>1.043094e-02</td>\n",
       "      <td>4.605786e-02</td>\n",
       "      <td>0.000000e+00</td>\n",
       "      <td>2.368136e-01</td>\n",
       "    </tr>\n",
       "    <tr>\n",
       "      <th>50%</th>\n",
       "      <td>1.275067e+06</td>\n",
       "      <td>8.141406e-03</td>\n",
       "      <td>1.578450e-03</td>\n",
       "      <td>1.332084e-03</td>\n",
       "      <td>4.763011e-02</td>\n",
       "      <td>7.197113e-02</td>\n",
       "      <td>6.107567e-02</td>\n",
       "      <td>2.742660e-04</td>\n",
       "      <td>2.289978e-02</td>\n",
       "      <td>0.000000e+00</td>\n",
       "      <td>...</td>\n",
       "      <td>0.000000e+00</td>\n",
       "      <td>0.000000e+00</td>\n",
       "      <td>2.283993e-02</td>\n",
       "      <td>0.000000e+00</td>\n",
       "      <td>4.811444e-02</td>\n",
       "      <td>0.000000e+00</td>\n",
       "      <td>1.396061e-02</td>\n",
       "      <td>4.605786e-02</td>\n",
       "      <td>0.000000e+00</td>\n",
       "      <td>2.500766e-01</td>\n",
       "    </tr>\n",
       "    <tr>\n",
       "      <th>75%</th>\n",
       "      <td>1.913158e+06</td>\n",
       "      <td>9.857925e-03</td>\n",
       "      <td>3.924793e-03</td>\n",
       "      <td>3.079587e-03</td>\n",
       "      <td>4.763011e-02</td>\n",
       "      <td>7.533156e-02</td>\n",
       "      <td>6.107567e-02</td>\n",
       "      <td>4.796815e-04</td>\n",
       "      <td>2.556758e-02</td>\n",
       "      <td>0.000000e+00</td>\n",
       "      <td>...</td>\n",
       "      <td>0.000000e+00</td>\n",
       "      <td>0.000000e+00</td>\n",
       "      <td>2.283993e-02</td>\n",
       "      <td>0.000000e+00</td>\n",
       "      <td>4.811444e-02</td>\n",
       "      <td>1.364649e-04</td>\n",
       "      <td>1.704973e-02</td>\n",
       "      <td>4.605786e-02</td>\n",
       "      <td>0.000000e+00</td>\n",
       "      <td>2.608658e-01</td>\n",
       "    </tr>\n",
       "    <tr>\n",
       "      <th>90%</th>\n",
       "      <td>2.296134e+06</td>\n",
       "      <td>1.161651e-02</td>\n",
       "      <td>8.972239e-03</td>\n",
       "      <td>1.767792e-02</td>\n",
       "      <td>4.763011e-02</td>\n",
       "      <td>7.651105e-02</td>\n",
       "      <td>6.107567e-02</td>\n",
       "      <td>7.805222e-04</td>\n",
       "      <td>2.565138e-02</td>\n",
       "      <td>5.497820e-03</td>\n",
       "      <td>...</td>\n",
       "      <td>3.190858e-03</td>\n",
       "      <td>6.414035e-03</td>\n",
       "      <td>2.283993e-02</td>\n",
       "      <td>6.621435e-03</td>\n",
       "      <td>4.811444e-02</td>\n",
       "      <td>4.408866e-04</td>\n",
       "      <td>1.951989e-02</td>\n",
       "      <td>4.605786e-02</td>\n",
       "      <td>0.000000e+00</td>\n",
       "      <td>2.752573e-01</td>\n",
       "    </tr>\n",
       "    <tr>\n",
       "      <th>95%</th>\n",
       "      <td>2.423745e+06</td>\n",
       "      <td>1.277867e-02</td>\n",
       "      <td>1.455497e-02</td>\n",
       "      <td>2.879996e-02</td>\n",
       "      <td>4.763011e-02</td>\n",
       "      <td>7.651105e-02</td>\n",
       "      <td>6.107567e-02</td>\n",
       "      <td>1.114941e-03</td>\n",
       "      <td>2.568293e-02</td>\n",
       "      <td>1.099564e-02</td>\n",
       "      <td>...</td>\n",
       "      <td>3.190858e-03</td>\n",
       "      <td>6.414035e-03</td>\n",
       "      <td>2.283993e-02</td>\n",
       "      <td>1.324287e-02</td>\n",
       "      <td>4.811444e-02</td>\n",
       "      <td>7.579355e-04</td>\n",
       "      <td>2.124822e-02</td>\n",
       "      <td>4.605786e-02</td>\n",
       "      <td>0.000000e+00</td>\n",
       "      <td>2.889292e-01</td>\n",
       "    </tr>\n",
       "    <tr>\n",
       "      <th>97.5%</th>\n",
       "      <td>2.487563e+06</td>\n",
       "      <td>1.379498e-02</td>\n",
       "      <td>2.100444e-02</td>\n",
       "      <td>4.367552e-02</td>\n",
       "      <td>4.763011e-02</td>\n",
       "      <td>7.651105e-02</td>\n",
       "      <td>6.107567e-02</td>\n",
       "      <td>1.583914e-03</td>\n",
       "      <td>2.570618e-02</td>\n",
       "      <td>1.649346e-02</td>\n",
       "      <td>...</td>\n",
       "      <td>6.381715e-03</td>\n",
       "      <td>6.414035e-03</td>\n",
       "      <td>2.283993e-02</td>\n",
       "      <td>1.986431e-02</td>\n",
       "      <td>4.811444e-02</td>\n",
       "      <td>1.155938e-03</td>\n",
       "      <td>2.253599e-02</td>\n",
       "      <td>4.605786e-02</td>\n",
       "      <td>0.000000e+00</td>\n",
       "      <td>2.983587e-01</td>\n",
       "    </tr>\n",
       "    <tr>\n",
       "      <th>99%</th>\n",
       "      <td>2.525812e+06</td>\n",
       "      <td>1.565845e-02</td>\n",
       "      <td>3.039339e-02</td>\n",
       "      <td>6.648286e-02</td>\n",
       "      <td>4.763011e-02</td>\n",
       "      <td>7.651105e-02</td>\n",
       "      <td>6.107567e-02</td>\n",
       "      <td>2.453920e-03</td>\n",
       "      <td>2.572274e-02</td>\n",
       "      <td>2.199128e-02</td>\n",
       "      <td>...</td>\n",
       "      <td>6.381715e-03</td>\n",
       "      <td>6.414035e-03</td>\n",
       "      <td>2.740791e-02</td>\n",
       "      <td>1.986431e-02</td>\n",
       "      <td>4.811444e-02</td>\n",
       "      <td>1.910509e-03</td>\n",
       "      <td>2.438283e-02</td>\n",
       "      <td>4.605786e-02</td>\n",
       "      <td>3.414276e-03</td>\n",
       "      <td>3.079952e-01</td>\n",
       "    </tr>\n",
       "    <tr>\n",
       "      <th>99.9%</th>\n",
       "      <td>2.548677e+06</td>\n",
       "      <td>2.281150e-02</td>\n",
       "      <td>5.211389e-02</td>\n",
       "      <td>6.648286e-02</td>\n",
       "      <td>4.763011e-02</td>\n",
       "      <td>7.651105e-02</td>\n",
       "      <td>6.107567e-02</td>\n",
       "      <td>5.884556e-03</td>\n",
       "      <td>2.573968e-02</td>\n",
       "      <td>3.298692e-02</td>\n",
       "      <td>...</td>\n",
       "      <td>1.276343e-02</td>\n",
       "      <td>1.282807e-02</td>\n",
       "      <td>4.567985e-02</td>\n",
       "      <td>1.986431e-02</td>\n",
       "      <td>4.811444e-02</td>\n",
       "      <td>6.304679e-03</td>\n",
       "      <td>2.897484e-02</td>\n",
       "      <td>4.605786e-02</td>\n",
       "      <td>6.828552e-03</td>\n",
       "      <td>3.264789e-01</td>\n",
       "    </tr>\n",
       "    <tr>\n",
       "      <th>max</th>\n",
       "      <td>2.551220e+06</td>\n",
       "      <td>6.665224e-02</td>\n",
       "      <td>9.470697e-02</td>\n",
       "      <td>6.648286e-02</td>\n",
       "      <td>4.763011e-02</td>\n",
       "      <td>7.651105e-02</td>\n",
       "      <td>6.107567e-02</td>\n",
       "      <td>5.458338e-02</td>\n",
       "      <td>2.574578e-02</td>\n",
       "      <td>6.047602e-02</td>\n",
       "      <td>...</td>\n",
       "      <td>4.467201e-02</td>\n",
       "      <td>2.565614e-02</td>\n",
       "      <td>4.567985e-02</td>\n",
       "      <td>1.986431e-02</td>\n",
       "      <td>4.811444e-02</td>\n",
       "      <td>3.056814e-02</td>\n",
       "      <td>4.442809e-02</td>\n",
       "      <td>4.605786e-02</td>\n",
       "      <td>6.828552e-02</td>\n",
       "      <td>3.663277e-01</td>\n",
       "    </tr>\n",
       "  </tbody>\n",
       "</table>\n",
       "<p>18 rows × 21 columns</p>\n",
       "</div>"
      ],
      "text/plain": [
       "        point_index  sidewalk_width  pedestrian_density  \\\n",
       "count  2.553615e+06    2.553615e+06        2.164645e+06   \n",
       "mean   1.275310e+06    8.515820e-03        3.513633e-03   \n",
       "std    7.365337e+05    2.471739e-03        5.948671e-03   \n",
       "min    0.000000e+00    0.000000e+00        0.000000e+00   \n",
       "0.1%   2.553614e+03    2.282018e-03        0.000000e+00   \n",
       "1%     2.553514e+04    3.315140e-03        0.000000e+00   \n",
       "2.5%   6.379535e+04    4.094715e-03        0.000000e+00   \n",
       "5%     1.275747e+05    5.086502e-03        0.000000e+00   \n",
       "10%    2.550944e+05    5.919378e-03        0.000000e+00   \n",
       "25%    6.371125e+05    6.988123e-03        1.202628e-04   \n",
       "50%    1.275067e+06    8.141406e-03        1.578450e-03   \n",
       "75%    1.913158e+06    9.857925e-03        3.924793e-03   \n",
       "90%    2.296134e+06    1.161651e-02        8.972239e-03   \n",
       "95%    2.423745e+06    1.277867e-02        1.455497e-02   \n",
       "97.5%  2.487563e+06    1.379498e-02        2.100444e-02   \n",
       "99%    2.525812e+06    1.565845e-02        3.039339e-02   \n",
       "99.9%  2.548677e+06    2.281150e-02        5.211389e-02   \n",
       "max    2.551220e+06    6.665224e-02        9.470697e-02   \n",
       "\n",
       "       street_furniture_density  sidewalk_roughness  surface_condition  \\\n",
       "count              2.553608e+06        2.553615e+06       2.553615e+06   \n",
       "mean               5.065583e-03        4.763011e-02       7.025676e-02   \n",
       "std                1.138780e-02        2.844947e-16       8.887597e-03   \n",
       "min                0.000000e+00        4.763011e-02       0.000000e+00   \n",
       "0.1%               0.000000e+00        4.763011e-02       0.000000e+00   \n",
       "1%                 0.000000e+00        4.763011e-02       3.062223e-02   \n",
       "2.5%               0.000000e+00        4.763011e-02       5.447908e-02   \n",
       "5%                 0.000000e+00        4.763011e-02       5.763922e-02   \n",
       "10%                0.000000e+00        4.763011e-02       6.133347e-02   \n",
       "25%                0.000000e+00        4.763011e-02       6.816561e-02   \n",
       "50%                1.332084e-03        4.763011e-02       7.197113e-02   \n",
       "75%                3.079587e-03        4.763011e-02       7.533156e-02   \n",
       "90%                1.767792e-02        4.763011e-02       7.651105e-02   \n",
       "95%                2.879996e-02        4.763011e-02       7.651105e-02   \n",
       "97.5%              4.367552e-02        4.763011e-02       7.651105e-02   \n",
       "99%                6.648286e-02        4.763011e-02       7.651105e-02   \n",
       "99.9%              6.648286e-02        4.763011e-02       7.651105e-02   \n",
       "max                6.648286e-02        4.763011e-02       7.651105e-02   \n",
       "\n",
       "       communication_infrastructure  slope_gradient  \\\n",
       "count                  2.553615e+06    2.553615e+06   \n",
       "mean                   6.095522e-02    3.909275e-04   \n",
       "std                    2.709598e-03    5.352830e-04   \n",
       "min                    0.000000e+00    0.000000e+00   \n",
       "0.1%                   0.000000e+00    0.000000e+00   \n",
       "1%                     6.107567e-02    0.000000e+00   \n",
       "2.5%                   6.107567e-02    0.000000e+00   \n",
       "5%                     6.107567e-02    0.000000e+00   \n",
       "10%                    6.107567e-02    4.878254e-05   \n",
       "25%                    6.107567e-02    1.217538e-04   \n",
       "50%                    6.107567e-02    2.742660e-04   \n",
       "75%                    6.107567e-02    4.796815e-04   \n",
       "90%                    6.107567e-02    7.805222e-04   \n",
       "95%                    6.107567e-02    1.114941e-03   \n",
       "97.5%                  6.107567e-02    1.583914e-03   \n",
       "99%                    6.107567e-02    2.453920e-03   \n",
       "99.9%                  6.107567e-02    5.884556e-03   \n",
       "max                    6.107567e-02    5.458338e-02   \n",
       "\n",
       "       charging_station_proximity  curb_ramp_availability  ...  \\\n",
       "count                2.553615e+06            2.553615e+06  ...   \n",
       "mean                 2.125028e-02            1.693575e-03  ...   \n",
       "std                  5.040983e-03            4.877835e-03  ...   \n",
       "min                  0.000000e+00            0.000000e+00  ...   \n",
       "0.1%                 6.934848e-04            0.000000e+00  ...   \n",
       "1%                   5.381231e-03            0.000000e+00  ...   \n",
       "2.5%                 8.447401e-03            0.000000e+00  ...   \n",
       "5%                   1.123241e-02            0.000000e+00  ...   \n",
       "10%                  1.399586e-02            0.000000e+00  ...   \n",
       "25%                  1.852979e-02            0.000000e+00  ...   \n",
       "50%                  2.289978e-02            0.000000e+00  ...   \n",
       "75%                  2.556758e-02            0.000000e+00  ...   \n",
       "90%                  2.565138e-02            5.497820e-03  ...   \n",
       "95%                  2.568293e-02            1.099564e-02  ...   \n",
       "97.5%                2.570618e-02            1.649346e-02  ...   \n",
       "99%                  2.572274e-02            2.199128e-02  ...   \n",
       "99.9%                2.573968e-02            3.298692e-02  ...   \n",
       "max                  2.574578e-02            6.047602e-02  ...   \n",
       "\n",
       "       traffic_management  surveillance_coverage   zoning_laws  \\\n",
       "count        2.553615e+06           2.553615e+06  2.553615e+06   \n",
       "mean         6.592913e-04           7.015008e-04  1.965975e-02   \n",
       "std          1.705515e-03           2.043351e-03  8.168743e-03   \n",
       "min          0.000000e+00           0.000000e+00  0.000000e+00   \n",
       "0.1%         0.000000e+00           0.000000e+00  0.000000e+00   \n",
       "1%           0.000000e+00           0.000000e+00  0.000000e+00   \n",
       "2.5%         0.000000e+00           0.000000e+00  0.000000e+00   \n",
       "5%           0.000000e+00           0.000000e+00  0.000000e+00   \n",
       "10%          0.000000e+00           0.000000e+00  0.000000e+00   \n",
       "25%          0.000000e+00           0.000000e+00  2.283993e-02   \n",
       "50%          0.000000e+00           0.000000e+00  2.283993e-02   \n",
       "75%          0.000000e+00           0.000000e+00  2.283993e-02   \n",
       "90%          3.190858e-03           6.414035e-03  2.283993e-02   \n",
       "95%          3.190858e-03           6.414035e-03  2.283993e-02   \n",
       "97.5%        6.381715e-03           6.414035e-03  2.283993e-02   \n",
       "99%          6.381715e-03           6.414035e-03  2.740791e-02   \n",
       "99.9%        1.276343e-02           1.282807e-02  4.567985e-02   \n",
       "max          4.467201e-02           2.565614e-02  4.567985e-02   \n",
       "\n",
       "       bike_lane_availability  gps_signal_strength  bicycle_traffic  \\\n",
       "count            2.553615e+06         2.553615e+06     2.164645e+06   \n",
       "mean             1.782016e-03         4.811444e-02     1.585611e-04   \n",
       "std              4.727454e-03         1.804113e-16     4.886325e-04   \n",
       "min              0.000000e+00         4.811444e-02     0.000000e+00   \n",
       "0.1%             0.000000e+00         4.811444e-02     0.000000e+00   \n",
       "1%               0.000000e+00         4.811444e-02     0.000000e+00   \n",
       "2.5%             0.000000e+00         4.811444e-02     0.000000e+00   \n",
       "5%               0.000000e+00         4.811444e-02     0.000000e+00   \n",
       "10%              0.000000e+00         4.811444e-02     0.000000e+00   \n",
       "25%              0.000000e+00         4.811444e-02     0.000000e+00   \n",
       "50%              0.000000e+00         4.811444e-02     0.000000e+00   \n",
       "75%              0.000000e+00         4.811444e-02     1.364649e-04   \n",
       "90%              6.621435e-03         4.811444e-02     4.408866e-04   \n",
       "95%              1.324287e-02         4.811444e-02     7.579355e-04   \n",
       "97.5%            1.986431e-02         4.811444e-02     1.155938e-03   \n",
       "99%              1.986431e-02         4.811444e-02     1.910509e-03   \n",
       "99.9%            1.986431e-02         4.811444e-02     6.304679e-03   \n",
       "max              1.986431e-02         4.811444e-02     3.056814e-02   \n",
       "\n",
       "       vehicle_traffic  digital_map_existence  intersection_safety  \\\n",
       "count     2.164645e+06           2.553615e+06         2.553615e+06   \n",
       "mean      1.365708e-02           4.605786e-02         7.056343e-05   \n",
       "std       4.842012e-03           3.191892e-16         6.270052e-04   \n",
       "min       0.000000e+00           4.605786e-02         0.000000e+00   \n",
       "0.1%      0.000000e+00           4.605786e-02         0.000000e+00   \n",
       "1%        1.931656e-03           4.605786e-02         0.000000e+00   \n",
       "2.5%      3.863313e-03           4.605786e-02         0.000000e+00   \n",
       "5%        5.207073e-03           4.605786e-02         0.000000e+00   \n",
       "10%       7.082740e-03           4.605786e-02         0.000000e+00   \n",
       "25%       1.043094e-02           4.605786e-02         0.000000e+00   \n",
       "50%       1.396061e-02           4.605786e-02         0.000000e+00   \n",
       "75%       1.704973e-02           4.605786e-02         0.000000e+00   \n",
       "90%       1.951989e-02           4.605786e-02         0.000000e+00   \n",
       "95%       2.124822e-02           4.605786e-02         0.000000e+00   \n",
       "97.5%     2.253599e-02           4.605786e-02         0.000000e+00   \n",
       "99%       2.438283e-02           4.605786e-02         3.414276e-03   \n",
       "99.9%     2.897484e-02           4.605786e-02         6.828552e-03   \n",
       "max       4.442809e-02           4.605786e-02         6.828552e-02   \n",
       "\n",
       "              score  \n",
       "count  2.553615e+06  \n",
       "mean   2.474326e-01  \n",
       "std    2.610688e-02  \n",
       "min    6.572753e-02  \n",
       "0.1%   1.324890e-01  \n",
       "1%     1.646795e-01  \n",
       "2.5%   1.834912e-01  \n",
       "5%     1.996729e-01  \n",
       "10%    2.150663e-01  \n",
       "25%    2.368136e-01  \n",
       "50%    2.500766e-01  \n",
       "75%    2.608658e-01  \n",
       "90%    2.752573e-01  \n",
       "95%    2.889292e-01  \n",
       "97.5%  2.983587e-01  \n",
       "99%    3.079952e-01  \n",
       "99.9%  3.264789e-01  \n",
       "max    3.663277e-01  \n",
       "\n",
       "[18 rows x 21 columns]"
      ]
     },
     "execution_count": 69,
     "metadata": {},
     "output_type": "execute_result"
    }
   ],
   "source": [
    "features.describe([0.001, 0.01, 0.025, 0.05, 0.1, 0.25, 0.5, 0.75, 0.9, 0.95, 0.975, 0.99, 0.999]) "
   ]
  },
  {
   "cell_type": "code",
   "execution_count": 70,
   "metadata": {},
   "outputs": [],
   "source": [
    "features[['point_index','geometry','score']].to_csv(\"../data/processed/score_nyc.csv\")"
   ]
  },
  {
   "cell_type": "code",
   "execution_count": null,
   "metadata": {},
   "outputs": [],
   "source": [
    "features.to_csv(\"../data/processed/robotability_features.csv\", index=False)"
   ]
  },
  {
   "cell_type": "code",
   "execution_count": null,
   "metadata": {},
   "outputs": [],
   "source": []
  }
 ],
 "metadata": {
  "kernelspec": {
   "display_name": "Python 3",
   "language": "python",
   "name": "python3"
  },
  "language_info": {
   "codemirror_mode": {
    "name": "ipython",
    "version": 3
   },
   "file_extension": ".py",
   "mimetype": "text/x-python",
   "name": "python",
   "nbconvert_exporter": "python",
   "pygments_lexer": "ipython3",
   "version": "3.11.9"
  }
 },
 "nbformat": 4,
 "nbformat_minor": 2
}
