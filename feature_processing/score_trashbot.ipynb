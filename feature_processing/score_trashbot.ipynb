{
 "cells": [
  {
   "cell_type": "code",
   "execution_count": 1,
   "metadata": {},
   "outputs": [
    {
     "name": "stderr",
     "output_type": "stream",
     "text": [
      "\u001b[34m2024-09-04 21:15:01 - robotability-score - INFO - Modules initialized.\u001b[0m\n"
     ]
    }
   ],
   "source": [
    "# class RobotabilityGraph that inherits from Graph class \n",
    "import os\n",
    "import sys \n",
    "sys.path.append(\"/share/ju/urban-fingerprinting\")\n",
    "\n",
    "import osmnx as ox \n",
    "import geopandas as gpd \n",
    "import pandas as pd \n",
    "import numpy as np \n",
    "\n",
    "import matplotlib.pyplot as plt \n",
    "# enable latex plotting \n",
    "plt.rc('text', usetex=True)\n",
    "plt.rc('font', family='serif')\n",
    "\n",
    "from glob import glob \n",
    "from tqdm import tqdm \n",
    "\n",
    "from shapely import wkt, LineString \n",
    "\n",
    "import rasterio\n",
    "from rasterio.enums import Resampling\n",
    "from rasterio.plot import show \n",
    "\n",
    "\n",
    "from src.utils.logger import setup_logger \n",
    "\n",
    "logger = setup_logger('robotability-score')\n",
    "logger.setLevel(\"INFO\")\n",
    "logger.info(\"Modules initialized.\")\n",
    "\n",
    "WGS='EPSG:4326'\n",
    "PROJ='EPSG:2263'\n",
    "\n"
   ]
  },
  {
   "cell_type": "code",
   "execution_count": 2,
   "metadata": {},
   "outputs": [],
   "source": [
    "def min_max_normalize(series: pd.Series) -> pd.Series:\n",
    "    \"\"\"\n",
    "    Normalize the input pandas Series using min-max normalization.\n",
    "\n",
    "    Parameters:\n",
    "    series (pd.Series): The pandas Series to normalize.\n",
    "\n",
    "    Returns:\n",
    "    pd.Series: A new pandas Series with values normalized between 0 and 1.\n",
    "    \"\"\"\n",
    "    min_val = series.min()\n",
    "    max_val = series.max()\n",
    "    \n",
    "    if min_val == max_val:\n",
    "        # Avoid division by zero; if all values are the same, return 0 for all elements\n",
    "        return pd.Series([0.0] * len(series), index=series.index)\n",
    "    \n",
    "    return (series - min_val) / (max_val - min_val)"
   ]
  },
  {
   "cell_type": "code",
   "execution_count": 3,
   "metadata": {},
   "outputs": [],
   "source": [
    "dataset = pd.read_csv(\"../data/processed/score_dataset.csv\", engine='pyarrow')\n",
    "dataset = gpd.GeoDataFrame(dataset, geometry=dataset['geometry'].apply(wkt.loads), crs=PROJ)"
   ]
  },
  {
   "cell_type": "code",
   "execution_count": 4,
   "metadata": {},
   "outputs": [
    {
     "data": {
      "text/plain": [
       "array(['', '5g_technology', '5g_mindown', '5g_minup', '5g_environmnt',\n",
       "       '5g_h3_res9_id', '4g_technology', '4g_mindown', '4g_minup',\n",
       "       '4g_environmnt', '4g_h3_res9_id', 'SOURCE_ID', 'SHAPE_Leng',\n",
       "       'SHAPE_Area', 'SHAPE_Width', 'geometry', 'point_index',\n",
       "       'ft_above_sea', 'n_cameras_median', 'Unnamed: 0',\n",
       "       'SOURCE_ID_street_furniture', 'SHAPE_Leng_street_furniture',\n",
       "       'SHAPE_Area_street_furniture', 'SHAPE_Width_street_furniture',\n",
       "       'geometry_street_furniture', 'bus_stop_count', 'trash_can_count',\n",
       "       'linknyc_count', 'citybench_count',\n",
       "       'bicycle_parking_shelter_count', 'bicycle_rack_count',\n",
       "       'tree_count', 'newsstand_count', 'parking_meter_count',\n",
       "       'hydrant_count', 'street_sign_count', 'alarm_call_box_count',\n",
       "       'scaffolding_permit_count', 'clutter', 'ZONEDIST', 'Shape_Leng',\n",
       "       'Shape_Area', 'distance_to_nearest_station', 'CURBRAMP_count',\n",
       "       'RAISEDCROSSWALK_count', 'boro_cd', 'shape_area', 'shape_leng',\n",
       "       'cd_code', 'sidewalk_quality', 'POI_the_geom', 'POI_SEGMENTID',\n",
       "       'POI_COMPLEXID', 'POI_SAFTYPE', 'POI_SOS', 'POI_PLACEID',\n",
       "       'POI_FACI_DOM', 'POI_BIN', 'POI_BOROUGH', 'POI_CREATED',\n",
       "       'POI_MODIFIED', 'POI_FACILITY_T', 'POI_SOURCE', 'POI_B7SC',\n",
       "       'POI_PRI_ADD', 'POI_NAME', 'TRAFFIC_Pedestrian', 'TRAFFIC_Bike',\n",
       "       'TRAFFIC_Car', 'avg_speed_limit', 'in_slow_zone',\n",
       "       'turn_traffic_calming_count', 'sip_intersections_count',\n",
       "       'sip_corridors_count', 'barnes_intersections_count',\n",
       "       'leading_ped_intervals_count', 'highest_bike_lane_facility_class',\n",
       "       'num_peds_involved_in_collision'], dtype=object)"
      ]
     },
     "execution_count": 4,
     "metadata": {},
     "output_type": "execute_result"
    }
   ],
   "source": [
    "dataset.columns.values"
   ]
  },
  {
   "cell_type": "code",
   "execution_count": 5,
   "metadata": {},
   "outputs": [
    {
     "data": {
      "text/plain": [
       "                                       0\n",
       "5g_technology                       1331\n",
       "5g_mindown                          1331\n",
       "5g_minup                            1331\n",
       "5g_environmnt                       1331\n",
       "                                    ... \n",
       "sip_corridors_count                 2394\n",
       "barnes_intersections_count          2394\n",
       "leading_ped_intervals_count         2394\n",
       "highest_bike_lane_facility_class    2394\n",
       "num_peds_involved_in_collision      2394\n",
       "Length: 78, dtype: int64"
      ]
     },
     "execution_count": 5,
     "metadata": {},
     "output_type": "execute_result"
    }
   ],
   "source": [
    "dataset.isna().sum()  "
   ]
  },
  {
   "cell_type": "code",
   "execution_count": 6,
   "metadata": {},
   "outputs": [],
   "source": [
    "FEATURES = { \n",
    "    'sidewalk_width': 'Sidewalk Width',\n",
    "    'pedestrian_density': 'Pedestrian Density',\n",
    "    'street_furniture_density': 'Density of Street Furniture',\n",
    "    'sidewalk_roughness': 'Sidewalk Roughness',\n",
    "    'surface_condition': 'Surface Condition',\n",
    "    'communication_infrastructure': 'Wireless Communication Infrastructure',\n",
    "    'slope_gradient': 'Slope Gradient',\n",
    "    'charging_station_proximity': 'Proximity to Charging Stations',\n",
    "    'local_attitudes': 'Local Attitudes Towards Robots',\n",
    "    'curb_ramp_availability': 'Curb Ramp Availability',\n",
    "    'weather_conditions': 'Weather Conditions',\n",
    "    'crowd_dynamics': 'Crowd Dynamics',\n",
    "    'traffic_management': 'Traffic Management Systems',\n",
    "    'surveillance_coverage': 'Surveillance Coverage',\n",
    "    'zoning_laws': 'Zoning Laws and Regulation',\n",
    "    'bike_lane_availability': 'Bike Lane Availability',\n",
    "    'street_lighting': 'Street Lighting',\n",
    "    'shade_availability': 'Existence of Shade',\n",
    "    'gps_signal_strength': 'GPS Signal Strength',\n",
    "    'pedestrian_flow': 'Pedestrian Flow',\n",
    "    'bicycle_traffic': 'Bicycle Traffic',\n",
    "    'vehicle_traffic': 'Vehicle Traffic',\n",
    "    'digital_map_existence': 'Existence of Detailed Digital Maps',\n",
    "    'intersection_safety': 'Intersection Safety'\n",
    "}\n",
    "\n"
   ]
  },
  {
   "cell_type": "code",
   "execution_count": 7,
   "metadata": {},
   "outputs": [
    {
     "data": {
      "text/plain": [
       "24"
      ]
     },
     "execution_count": 7,
     "metadata": {},
     "output_type": "execute_result"
    }
   ],
   "source": [
    "len(FEATURES)"
   ]
  },
  {
   "cell_type": "code",
   "execution_count": 8,
   "metadata": {},
   "outputs": [],
   "source": [
    "# which "
   ]
  },
  {
   "cell_type": "code",
   "execution_count": 9,
   "metadata": {},
   "outputs": [
    {
     "data": {
      "text/plain": [
       "{'sidewalk_width': 0.0798512336171247,\n",
       " 'pedestrian_density': 0.1266139910025677,\n",
       " 'street_furniture_density': 0.0859081738637647,\n",
       " 'sidewalk_roughness': 0.0548412725267867,\n",
       " 'surface_condition': 0.099784598376526,\n",
       " 'communication_infrastructure': 0.0733220725975419,\n",
       " 'slope_gradient': 0.0740019913252667,\n",
       " 'charging_station_proximity': 0.0327816859550523,\n",
       " 'curb_ramp_availability': 0.0868359306503421,\n",
       " 'crowd_dynamics': 0.0957479046517305,\n",
       " 'surveillance_coverage': 0.035999479808745,\n",
       " 'gps_signal_strength': 0.062601853017336,\n",
       " 'bicycle_traffic': 0.0359734304191346,\n",
       " 'digital_map_existence': 0.0557363821880805}"
      ]
     },
     "execution_count": 9,
     "metadata": {},
     "output_type": "execute_result"
    }
   ],
   "source": [
    "# read csv as dict and store in WEIGHTS \n",
    "WEIGHTS = pd.read_csv(\"../survey_processing/feature_weights_trashbot.csv\", index_col=0).to_dict()['Weight']\n",
    "WEIGHTS"
   ]
  },
  {
   "cell_type": "code",
   "execution_count": 10,
   "metadata": {},
   "outputs": [
    {
     "data": {
      "text/plain": [
       "0.9999999999999994"
      ]
     },
     "execution_count": 10,
     "metadata": {},
     "output_type": "execute_result"
    }
   ],
   "source": [
    "# get sum of weights \n",
    "sum(WEIGHTS.values())"
   ]
  },
  {
   "cell_type": "code",
   "execution_count": 11,
   "metadata": {},
   "outputs": [],
   "source": [
    "features = pd.DataFrame()"
   ]
  },
  {
   "cell_type": "code",
   "execution_count": 12,
   "metadata": {},
   "outputs": [],
   "source": [
    "# add geometry to features\n",
    "features['geometry'] = dataset['geometry']\n",
    "# add point index to features \n",
    "features['point_index'] = dataset['point_index']"
   ]
  },
  {
   "cell_type": "markdown",
   "metadata": {},
   "source": [
    "### Sidewalk Width "
   ]
  },
  {
   "cell_type": "code",
   "execution_count": 13,
   "metadata": {},
   "outputs": [],
   "source": [
    "def PREPROCESS_sidewalk_width(col): \n",
    "    # softmax the sidewalk width so that it is between 0 and 1\n",
    "    col = min_max_normalize(col)\n",
    "\n",
    "    return col\n",
    "\n",
    "dataset['sidewalk_width'] = PREPROCESS_sidewalk_width(dataset['SHAPE_Width'])"
   ]
  },
  {
   "cell_type": "code",
   "execution_count": 14,
   "metadata": {},
   "outputs": [],
   "source": [
    "def COMPUTE_sidewalk_width(col, WEIGHTS=WEIGHTS): \n",
    "    return col * WEIGHTS['sidewalk_width']\n"
   ]
  },
  {
   "cell_type": "code",
   "execution_count": 15,
   "metadata": {},
   "outputs": [],
   "source": [
    "features['sidewalk_width'] = COMPUTE_sidewalk_width(dataset['sidewalk_width'])"
   ]
  },
  {
   "cell_type": "markdown",
   "metadata": {},
   "source": [
    "### Pedestrian Density "
   ]
  },
  {
   "cell_type": "code",
   "execution_count": 16,
   "metadata": {},
   "outputs": [],
   "source": [
    "def PREPROCESS_pedestrian_density(col):\n",
    "    # softmax the pedestrian density so that it is between 0 and 1\n",
    "    col = min_max_normalize(col)\n",
    "    return col\n",
    "\n",
    "dataset['pedestrian_density'] = PREPROCESS_pedestrian_density(dataset['TRAFFIC_Pedestrian'])"
   ]
  },
  {
   "cell_type": "code",
   "execution_count": 17,
   "metadata": {},
   "outputs": [],
   "source": [
    "def COMPUTE_pedestrian_density(col, WEIGHTS=WEIGHTS):\n",
    "    return col * WEIGHTS['pedestrian_density']"
   ]
  },
  {
   "cell_type": "code",
   "execution_count": 18,
   "metadata": {},
   "outputs": [],
   "source": [
    "features['pedestrian_density'] = COMPUTE_pedestrian_density(dataset['pedestrian_density'])"
   ]
  },
  {
   "cell_type": "markdown",
   "metadata": {},
   "source": [
    "### Street Furniture Density "
   ]
  },
  {
   "cell_type": "code",
   "execution_count": 19,
   "metadata": {},
   "outputs": [],
   "source": [
    "def PREPROCESS_street_furniture_density(col):\n",
    "    # softmax the street furniture density so that it is between 0 and 1\n",
    "    col = min_max_normalize(col)\n",
    "    return col\n",
    "\n",
    "dataset['street_furniture_density'] = PREPROCESS_street_furniture_density(dataset['clutter'])"
   ]
  },
  {
   "cell_type": "code",
   "execution_count": 20,
   "metadata": {},
   "outputs": [],
   "source": [
    "def COMPUTE_street_furniture_density(col, WEIGHTS=WEIGHTS):\n",
    "    return col * WEIGHTS['street_furniture_density']\n",
    "\n",
    "features['street_furniture_density'] = COMPUTE_street_furniture_density(dataset['street_furniture_density'])"
   ]
  },
  {
   "cell_type": "markdown",
   "metadata": {},
   "source": [
    "### Sidewalk Roughness "
   ]
  },
  {
   "cell_type": "code",
   "execution_count": 21,
   "metadata": {},
   "outputs": [],
   "source": [
    "# SKIP preprocessing, as all values are already 1"
   ]
  },
  {
   "cell_type": "code",
   "execution_count": 22,
   "metadata": {},
   "outputs": [],
   "source": [
    " def COMPUTE_sidewalk_roughness(col=None, WEIGHTS=WEIGHTS): \n",
    "    return 1 * WEIGHTS['sidewalk_roughness']\n"
   ]
  },
  {
   "cell_type": "code",
   "execution_count": 23,
   "metadata": {},
   "outputs": [],
   "source": [
    "features['sidewalk_roughness'] = COMPUTE_sidewalk_roughness()\n",
    "\n",
    "# check out accessmap for this "
   ]
  },
  {
   "cell_type": "markdown",
   "metadata": {},
   "source": [
    "### Surface Condition "
   ]
  },
  {
   "cell_type": "code",
   "execution_count": 24,
   "metadata": {},
   "outputs": [],
   "source": [
    "def PREPROCESS_surface_condition(col):\n",
    "    col = min_max_normalize(col)\n",
    "    col = col.fillna(col.mean())\n",
    "    return col\n",
    "\n",
    "dataset['surface_condition'] = PREPROCESS_surface_condition(dataset['sidewalk_quality'])"
   ]
  },
  {
   "cell_type": "code",
   "execution_count": 25,
   "metadata": {},
   "outputs": [],
   "source": [
    "def COMPUTE_surface_condition(col, WEIGHTS=WEIGHTS):\n",
    "    return col * WEIGHTS['surface_condition']\n",
    "\n",
    "features['surface_condition'] = COMPUTE_surface_condition(dataset['surface_condition'])"
   ]
  },
  {
   "cell_type": "markdown",
   "metadata": {},
   "source": [
    "### Wireless Communication Infrastructure "
   ]
  },
  {
   "cell_type": "code",
   "execution_count": 26,
   "metadata": {},
   "outputs": [],
   "source": [
    "# SKIP preprocessing, as all values are already 0 or 1"
   ]
  },
  {
   "cell_type": "code",
   "execution_count": 27,
   "metadata": {},
   "outputs": [],
   "source": [
    "def COMPUTE_communication_infrastructure(row, WEIGHTS=WEIGHTS): \n",
    "    return (1 if (row['4g_minup'] > 0 and row['4g_mindown'] > 0) else 0) * WEIGHTS['communication_infrastructure']"
   ]
  },
  {
   "cell_type": "code",
   "execution_count": 28,
   "metadata": {},
   "outputs": [],
   "source": [
    "features['communication_infrastructure'] = dataset.apply(lambda row: COMPUTE_communication_infrastructure(row), axis=1)"
   ]
  },
  {
   "cell_type": "markdown",
   "metadata": {},
   "source": [
    "### Slope Gradient "
   ]
  },
  {
   "cell_type": "code",
   "execution_count": 29,
   "metadata": {},
   "outputs": [
    {
     "name": "stderr",
     "output_type": "stream",
     "text": [
      "  1%|          | 23630/2553615 [00:18<19:12, 2195.72it/s]"
     ]
    }
   ],
   "source": [
    "from scipy.spatial import cKDTree\n",
    "import numpy as np\n",
    "from tqdm import tqdm\n",
    "\n",
    "def POPULATE_slope_gradient_optimized_with_progress(dataset, WEIGHTS=WEIGHTS):\n",
    "    # Convert geometries to numpy arrays for faster distance computation\n",
    "    coords = np.array([[geom.x, geom.y] for geom in dataset['geometry']])\n",
    "    tree = cKDTree(coords)\n",
    "\n",
    "    # Initialize an array for slope gradients\n",
    "    slope_gradients = np.zeros(len(dataset))\n",
    "\n",
    "    # Precompute distances for each point\n",
    "    for i, row in tqdm(dataset.iterrows(), total=len(dataset)):\n",
    "        # Get indices of nearest neighbors within 50 units, excluding the point itself\n",
    "        distances, indices = tree.query(coords[i], k=5, distance_upper_bound=50)\n",
    "        \n",
    "        # Remove invalid indices (those equal to len(coords))\n",
    "        valid_mask = (indices != len(coords)) & (indices != i)\n",
    "        valid_indices = indices[valid_mask]\n",
    "        valid_distances = distances[valid_mask]\n",
    "        \n",
    "        # Compute slope gradients\n",
    "        if len(valid_indices) > 0:\n",
    "            height_diffs = np.abs(dataset['ft_above_sea'].iloc[valid_indices] - row['ft_above_sea'])\n",
    "            slopes = height_diffs / valid_distances\n",
    "            # take absolute value of slope\n",
    "            slopes = np.abs(slopes)\n",
    "            slope_gradients[i] = slopes.mean() * WEIGHTS['slope_gradient']\n",
    "\n",
    "    return slope_gradients\n",
    "\n",
    "# Apply the optimized function with progress monitoring\n",
    "dataset['slope_gradient'] = POPULATE_slope_gradient_optimized_with_progress(dataset)\n",
    "\n",
    "# write slope gradient to disk \n",
    "dataset[['point_index', 'slope_gradient']].to_csv(\"../data/processed/slope_gradient.csv\", index=False)\n",
    "\n",
    "# take the absolute value of the slope"
   ]
  },
  {
   "cell_type": "code",
   "execution_count": null,
   "metadata": {},
   "outputs": [],
   "source": [
    "def POSTPROCESS_slope_gradient(col): \n",
    "    # softmax the slope gradient so that it is between 0 and 1\n",
    "    col = min_max_normalize(col)\n",
    "    return col\n",
    "\n",
    "dataset['slope_gradient'] = POSTPROCESS_slope_gradient(dataset['slope_gradient'])"
   ]
  },
  {
   "cell_type": "code",
   "execution_count": null,
   "metadata": {},
   "outputs": [],
   "source": [
    "def COMPUTE_slope_gradient(col, WEIGHTS=WEIGHTS): \n",
    "    return col * WEIGHTS['slope_gradient']\n"
   ]
  },
  {
   "cell_type": "code",
   "execution_count": null,
   "metadata": {},
   "outputs": [],
   "source": [
    "features['slope_gradient'] = COMPUTE_slope_gradient(dataset['slope_gradient'])"
   ]
  },
  {
   "cell_type": "markdown",
   "metadata": {},
   "source": [
    "### Charging Station Proximity "
   ]
  },
  {
   "cell_type": "code",
   "execution_count": null,
   "metadata": {},
   "outputs": [],
   "source": [
    "# convert to col-level function \n",
    "def POPULATE_charging_station_proximity(col, RANGE=max(dataset['distance_to_nearest_station'])): \n",
    "    return (RANGE-col)/RANGE"
   ]
  },
  {
   "cell_type": "code",
   "execution_count": null,
   "metadata": {},
   "outputs": [],
   "source": [
    "dataset['charging_station_proximity'] = POPULATE_charging_station_proximity(dataset['distance_to_nearest_station'])"
   ]
  },
  {
   "cell_type": "code",
   "execution_count": null,
   "metadata": {},
   "outputs": [],
   "source": [
    "def POSTPROCESS_charging_station_proximity(col):\n",
    "    # softmax the charging station proximity so that it is between 0 and 1\n",
    "    col = min_max_normalize(col)\n",
    "    return col\n",
    "\n",
    "dataset['charging_station_proximity'] = POSTPROCESS_charging_station_proximity(dataset['charging_station_proximity'])"
   ]
  },
  {
   "cell_type": "code",
   "execution_count": null,
   "metadata": {},
   "outputs": [],
   "source": [
    "def COMPUTE_charging_station_proximity(col, WEIGHTS=WEIGHTS): \n",
    "    return col * WEIGHTS['charging_station_proximity']\n",
    "\n",
    "features['charging_station_proximity'] = COMPUTE_charging_station_proximity(dataset['charging_station_proximity'])"
   ]
  },
  {
   "cell_type": "markdown",
   "metadata": {},
   "source": [
    "### Local Attitudes Towards Robots "
   ]
  },
  {
   "cell_type": "markdown",
   "metadata": {},
   "source": [
    "**SKIP DUE TO LACK OF DATA** "
   ]
  },
  {
   "cell_type": "markdown",
   "metadata": {},
   "source": [
    "### Curb Ramp Availability "
   ]
  },
  {
   "cell_type": "code",
   "execution_count": null,
   "metadata": {},
   "outputs": [],
   "source": [
    "def PREPROCESS_curb_ramp_availability(col): \n",
    "    col = min_max_normalize(col)\n",
    "    return col\n",
    "\n",
    "dataset['curb_ramp_availability'] = PREPROCESS_curb_ramp_availability(dataset['CURBRAMP_count'])"
   ]
  },
  {
   "cell_type": "code",
   "execution_count": null,
   "metadata": {},
   "outputs": [],
   "source": [
    "def COMPUTE_curb_ramp_availability(col, WEIGHTS=WEIGHTS): \n",
    "    return col * WEIGHTS['curb_ramp_availability']\n",
    "\n",
    "features['curb_ramp_availability'] = COMPUTE_curb_ramp_availability(dataset['curb_ramp_availability'])"
   ]
  },
  {
   "cell_type": "markdown",
   "metadata": {},
   "source": [
    "### Weather Conditions "
   ]
  },
  {
   "cell_type": "markdown",
   "metadata": {},
   "source": [
    "** Skip due to hyperlocal/temporal nature of weather conditions ** "
   ]
  },
  {
   "cell_type": "markdown",
   "metadata": {},
   "source": [
    "### Crowd Dynamics "
   ]
  },
  {
   "cell_type": "code",
   "execution_count": null,
   "metadata": {},
   "outputs": [],
   "source": [
    "def zonedist_to_indicator(row): \n",
    "    \n",
    "    if row:\n",
    "\n",
    "        if row.startswith('M'): \n",
    "            return 10\n",
    "        elif row.startswith('R'):\n",
    "            return 5\n",
    "        elif row.startswith('C'): \n",
    "            return 0\n",
    "        else: \n",
    "            return 2 \n",
    "    else:\n",
    "        return 0\n",
    "\n",
    "\n",
    "def POPULATE_crowd_dynamics(col): \n",
    "    return col.apply(zonedist_to_indicator)\n",
    "\n",
    "dataset['crowd_dynamics'] = POPULATE_crowd_dynamics(dataset['ZONEDIST'])"
   ]
  },
  {
   "cell_type": "code",
   "execution_count": null,
   "metadata": {},
   "outputs": [],
   "source": [
    "def POSTPROCESS_crowd_dynamics(col):\n",
    "    # softmax the crowd dynamics so that it is between 0 and 1\n",
    "    col = min_max_normalize(col)\n",
    "    return col\n",
    "\n",
    "dataset['crowd_dynamics'] = POSTPROCESS_crowd_dynamics(dataset['crowd_dynamics'])"
   ]
  },
  {
   "cell_type": "code",
   "execution_count": null,
   "metadata": {},
   "outputs": [],
   "source": [
    "def COMPUTE_crowd_dynamics(col, WEIGHTS=WEIGHTS):\n",
    "    return col * WEIGHTS['crowd_dynamics']\n",
    "\n",
    "features['crowd_dynamics'] = COMPUTE_crowd_dynamics(dataset['crowd_dynamics'])"
   ]
  },
  {
   "cell_type": "markdown",
   "metadata": {},
   "source": [
    "### Traffic Management "
   ]
  },
  {
   "cell_type": "code",
   "execution_count": null,
   "metadata": {},
   "outputs": [],
   "source": [
    "def POPULATE_traffic_management(df, WEIGHTS=WEIGHTS): \n",
    "    return  (df['in_slow_zone'] + df['turn_traffic_calming_count'] + df['sip_intersections_count'] + df['sip_corridors_count'] + df['barnes_intersections_count'] + df['leading_ped_intervals_count']).fillna(0)\n",
    "\n",
    "#dataset['traffic_management'] = POPULATE_traffic_management(dataset)\n",
    "\n",
    "\n",
    "\n"
   ]
  },
  {
   "cell_type": "code",
   "execution_count": null,
   "metadata": {},
   "outputs": [],
   "source": [
    "def POSTPROCESS_traffic_management(col): \n",
    "    # softmax the traffic management so that it is between 0 and 1\n",
    "    col = min_max_normalize(col)\n",
    "    return col\n",
    "\n",
    "#dataset['traffic_management'] = POSTPROCESS_traffic_management(dataset['traffic_management'])\n",
    "    "
   ]
  },
  {
   "cell_type": "code",
   "execution_count": null,
   "metadata": {},
   "outputs": [],
   "source": [
    "def COMPUTE_traffic_management(col, WEIGHTS=WEIGHTS):\n",
    "    return col * WEIGHTS['traffic_management']\n",
    "\n",
    "#features['traffic_management'] = COMPUTE_traffic_management(dataset['traffic_management'])\n"
   ]
  },
  {
   "cell_type": "markdown",
   "metadata": {},
   "source": [
    "### Surveillance Coverage "
   ]
  },
  {
   "cell_type": "code",
   "execution_count": null,
   "metadata": {},
   "outputs": [],
   "source": [
    "def PREPROCESS_surveillance_coverage(col): \n",
    "    # softmax the surveillance coverage so that it is between 0 and 1\n",
    "    col = min_max_normalize(col)\n",
    "    return col\n",
    "\n",
    "dataset['surveillance_coverage'] = PREPROCESS_surveillance_coverage(dataset['n_cameras_median'])"
   ]
  },
  {
   "cell_type": "code",
   "execution_count": null,
   "metadata": {},
   "outputs": [],
   "source": [
    "def COMPUTE_surveillance_coverage(col, WEIGHTS=WEIGHTS):\n",
    "    return col * WEIGHTS['surveillance_coverage']\n",
    "\n",
    "features['surveillance_coverage'] = COMPUTE_surveillance_coverage(dataset['surveillance_coverage'])\n",
    "    "
   ]
  },
  {
   "cell_type": "markdown",
   "metadata": {},
   "source": [
    "### Zoning Laws & Regulations"
   ]
  },
  {
   "cell_type": "code",
   "execution_count": null,
   "metadata": {},
   "outputs": [],
   "source": [
    "def PREPROCESS_zoning_laws(col): \n",
    "    # softmax the zoning laws so that it is between 0 and 1\n",
    "    col = min_max_normalize(col)\n",
    "    col = col.fillna(0)\n",
    "    return col\n",
    "\n",
    "#dataset['zoning_laws'] = PREPROCESS_zoning_laws(dataset['avg_speed_limit'])\n",
    "\n"
   ]
  },
  {
   "cell_type": "code",
   "execution_count": null,
   "metadata": {},
   "outputs": [],
   "source": [
    "def COMPUTE_zoning_laws(col, WEIGHTS=WEIGHTS):\n",
    "    return col * WEIGHTS['zoning_laws']\n",
    "\n",
    "#features['zoning_laws'] = COMPUTE_zoning_laws(dataset['zoning_laws'])"
   ]
  },
  {
   "cell_type": "markdown",
   "metadata": {},
   "source": [
    "### Bike Lane Availability "
   ]
  },
  {
   "cell_type": "code",
   "execution_count": null,
   "metadata": {},
   "outputs": [],
   "source": [
    "def PREPROCESS_bike_lane_availability(col):\n",
    "    # softmax the bike lane availability so that it is between 0 and 1\n",
    "    col = min_max_normalize(col)\n",
    "    col = col.fillna(0)\n",
    "    return col\n",
    "\n",
    "#dataset['bike_lane_availability'] = PREPROCESS_bike_lane_availability(dataset['highest_bike_lane_facility_class'])"
   ]
  },
  {
   "cell_type": "code",
   "execution_count": null,
   "metadata": {},
   "outputs": [],
   "source": [
    "def COMPUTE_bike_lane_availability(col, WEIGHTS=WEIGHTS):\n",
    "    return col * WEIGHTS['bike_lane_availability']\n",
    "\n",
    "#features['bike_lane_availability'] = COMPUTE_bike_lane_availability(dataset['bike_lane_availability'])\n"
   ]
  },
  {
   "cell_type": "markdown",
   "metadata": {},
   "source": [
    "### Street Lighting"
   ]
  },
  {
   "cell_type": "markdown",
   "metadata": {},
   "source": [
    "** Skip due to lack of data ** "
   ]
  },
  {
   "cell_type": "markdown",
   "metadata": {},
   "source": [
    "### Shade Availability "
   ]
  },
  {
   "cell_type": "markdown",
   "metadata": {},
   "source": [
    "**Come Back**"
   ]
  },
  {
   "cell_type": "markdown",
   "metadata": {},
   "source": [
    "### GPS Signal Strength"
   ]
  },
  {
   "cell_type": "code",
   "execution_count": null,
   "metadata": {},
   "outputs": [],
   "source": [
    "# SKIP preprocessing, as all values are already 0 or 1"
   ]
  },
  {
   "cell_type": "code",
   "execution_count": null,
   "metadata": {},
   "outputs": [],
   "source": [
    "def COMPUTE_gps_signal_strenth(col=None, WEIGHTS=WEIGHTS): \n",
    "    return 1 * WEIGHTS['gps_signal_strength']\n",
    "\n",
    "features['gps_signal_strength'] = COMPUTE_gps_signal_strenth()"
   ]
  },
  {
   "cell_type": "markdown",
   "metadata": {},
   "source": [
    "### Pedestrian Flow "
   ]
  },
  {
   "cell_type": "markdown",
   "metadata": {},
   "source": [
    "** Skip due to lack of data ** "
   ]
  },
  {
   "cell_type": "markdown",
   "metadata": {},
   "source": [
    "### Bicycle Traffic "
   ]
  },
  {
   "cell_type": "code",
   "execution_count": null,
   "metadata": {},
   "outputs": [],
   "source": [
    "def PREPROCESS_bicycle_traffic(col):\n",
    "    # softmax the bicycle traffic so that it is between 0 and 1\n",
    "    col = min_max_normalize(col)\n",
    "    return col\n",
    "\n",
    "dataset['bicycle_traffic'] = PREPROCESS_bicycle_traffic(dataset['TRAFFIC_Bike'])\n"
   ]
  },
  {
   "cell_type": "code",
   "execution_count": null,
   "metadata": {},
   "outputs": [],
   "source": [
    "def COMPUTE_bicycle_traffic(col, WEIGHTS=WEIGHTS):\n",
    "    return col * WEIGHTS['bicycle_traffic']\n",
    "\n",
    "features['bicycle_traffic'] = COMPUTE_bicycle_traffic(dataset['bicycle_traffic'])"
   ]
  },
  {
   "cell_type": "markdown",
   "metadata": {},
   "source": [
    "### Vehicle Traffic "
   ]
  },
  {
   "cell_type": "code",
   "execution_count": null,
   "metadata": {},
   "outputs": [],
   "source": [
    "def PREPROCESS_vehicle_traffic(col):\n",
    "    # softmax the vehicle traffic so that it is between 0 and 1\n",
    "    col = min_max_normalize(col)\n",
    "    return col\n",
    "\n",
    "#dataset['vehicle_traffic'] = PREPROCESS_vehicle_traffic(dataset['TRAFFIC_Car'])\n"
   ]
  },
  {
   "cell_type": "code",
   "execution_count": null,
   "metadata": {},
   "outputs": [],
   "source": [
    "def COMPUTE_vehicle_traffic(col, WEIGHTS=WEIGHTS):\n",
    "    return col * WEIGHTS['vehicle_traffic']\n",
    "\n",
    "#features['vehicle_traffic'] = COMPUTE_vehicle_traffic(dataset['vehicle_traffic'])"
   ]
  },
  {
   "cell_type": "markdown",
   "metadata": {},
   "source": [
    "### Existence of Detailed Digital Map "
   ]
  },
  {
   "cell_type": "code",
   "execution_count": null,
   "metadata": {},
   "outputs": [],
   "source": [
    "def COMPUTE_ddm():\n",
    "    return 1 * WEIGHTS['digital_map_existence']"
   ]
  },
  {
   "cell_type": "code",
   "execution_count": null,
   "metadata": {},
   "outputs": [],
   "source": [
    "features['digital_map_existence'] = COMPUTE_ddm()"
   ]
  },
  {
   "cell_type": "markdown",
   "metadata": {},
   "source": [
    "### Intersection Safety "
   ]
  },
  {
   "cell_type": "code",
   "execution_count": null,
   "metadata": {},
   "outputs": [],
   "source": [
    "def PREPROCESS_intersection_safety(col):\n",
    "    # softmax the intersection safety so that it is between 0 and 1\n",
    "    col = col.fillna(0).astype(int)\n",
    "    col = min_max_normalize(col)\n",
    "    return col\n",
    "\n",
    "#dataset['intersection_safety'] = PREPROCESS_intersection_safety(dataset['num_peds_involved_in_collision'])"
   ]
  },
  {
   "cell_type": "code",
   "execution_count": null,
   "metadata": {},
   "outputs": [],
   "source": [
    "def COMPUTE_intersection_safety(col, WEIGHTS=WEIGHTS):\n",
    "\n",
    "    return col * WEIGHTS['intersection_safety']\n",
    "\n",
    "#features['intersection_safety'] = COMPUTE_intersection_safety(dataset['intersection_safety'])"
   ]
  },
  {
   "cell_type": "markdown",
   "metadata": {},
   "source": [
    "## SANITY CHECKS"
   ]
  },
  {
   "cell_type": "code",
   "execution_count": null,
   "metadata": {},
   "outputs": [],
   "source": [
    "# assert that all values of all columns except geometry and pouint_index are 0-1\n",
    "for col in features.columns: \n",
    "    if col not in ['geometry', 'point_index']: \n",
    "        assert features[col].min() >= 0 and features[col].max() <= 1"
   ]
  },
  {
   "cell_type": "code",
   "execution_count": null,
   "metadata": {},
   "outputs": [
    {
     "data": {
      "text/plain": [
       "geometry                             0\n",
       "point_index                          0\n",
       "sidewalk_width                       0\n",
       "pedestrian_density              388970\n",
       "street_furniture_density             7\n",
       "sidewalk_roughness                   0\n",
       "surface_condition                    0\n",
       "communication_infrastructure         0\n",
       "slope_gradient                     189\n",
       "charging_station_proximity           0\n",
       "curb_ramp_availability               0\n",
       "crowd_dynamics                       0\n",
       "surveillance_coverage                0\n",
       "gps_signal_strength                  0\n",
       "bicycle_traffic                 388970\n",
       "digital_map_existence                0\n",
       "dtype: int64"
      ]
     },
     "execution_count": 62,
     "metadata": {},
     "output_type": "execute_result"
    }
   ],
   "source": [
    "features.isna().sum() "
   ]
  },
  {
   "cell_type": "code",
   "execution_count": null,
   "metadata": {},
   "outputs": [],
   "source": [
    "# drop na values\n",
    "features = features.dropna()"
   ]
  },
  {
   "cell_type": "code",
   "execution_count": null,
   "metadata": {},
   "outputs": [
    {
     "data": {
      "text/plain": [
       "16"
      ]
     },
     "execution_count": 64,
     "metadata": {},
     "output_type": "execute_result"
    }
   ],
   "source": [
    "len(features.columns)"
   ]
  },
  {
   "cell_type": "code",
   "execution_count": null,
   "metadata": {},
   "outputs": [
    {
     "name": "stdout",
     "output_type": "stream",
     "text": [
      "{'shade_availability', 'intersection_safety', 'zoning_laws', 'street_lighting', 'vehicle_traffic', 'weather_conditions', 'traffic_management', 'pedestrian_flow', 'bike_lane_availability', 'local_attitudes'}\n"
     ]
    }
   ],
   "source": [
    "# which FEATURES aren't a column in features? \n",
    "print(set(FEATURES.keys()) - set(features.columns))\n"
   ]
  },
  {
   "cell_type": "code",
   "execution_count": null,
   "metadata": {},
   "outputs": [],
   "source": [
    "POLARITIES = { \n",
    "    'sidewalk_width': 1,\n",
    "    'pedestrian_density': -1,\n",
    "    'street_furniture_density': -1, \n",
    "    'sidewalk_roughness': -1,\n",
    "    'surface_condition': 1,\n",
    "    'communication_infrastructure': 1,\n",
    "    'slope_gradient': -1,\n",
    "    'charging_station_proximity': 1,\n",
    "    'local_attitudes': 1,\n",
    "    'curb_ramp_availability': 1,\n",
    "    'weather_conditions': 1,\n",
    "    'crowd_dynamics': 1,\n",
    "    'traffic_management': 1,\n",
    "    'surveillance_coverage': 1,\n",
    "    'zoning_laws': 1,\n",
    "    'bike_lane_availability': 1,\n",
    "    'street_lighting': 1,\n",
    "    'shade_availability': 1,\n",
    "    'gps_signal_strength': 1,\n",
    "    'pedestrian_flow': -1,\n",
    "    'bicycle_traffic': -1,\n",
    "    'vehicle_traffic': -1,\n",
    "    'digital_map_existence': 1,\n",
    "    # num incidents, so more is worse\n",
    "    'intersection_safety': -1,\n",
    "}"
   ]
  },
  {
   "cell_type": "code",
   "execution_count": null,
   "metadata": {},
   "outputs": [],
   "source": [
    "# score is the aggregation of all features \n",
    "features['score'] = features.drop(columns=['geometry', 'point_index']).mul(pd.Series(POLARITIES)).sum(axis=1)\n",
    "\n"
   ]
  },
  {
   "cell_type": "code",
   "execution_count": null,
   "metadata": {},
   "outputs": [
    {
     "data": {
      "text/plain": [
       "count    2.164456e+06\n",
       "mean     3.048401e-01\n",
       "std      3.241400e-02\n",
       "min      5.488225e-02\n",
       "25%      2.967147e-01\n",
       "50%      3.095456e-01\n",
       "75%      3.185174e-01\n",
       "max      4.451537e-01\n",
       "Name: score, dtype: float64"
      ]
     },
     "execution_count": 68,
     "metadata": {},
     "output_type": "execute_result"
    }
   ],
   "source": [
    "features['score'].describe()"
   ]
  },
  {
   "cell_type": "code",
   "execution_count": null,
   "metadata": {},
   "outputs": [],
   "source": [
    "features[['point_index','geometry','score']].to_csv(\"../data/processed/score_nyc_trashbot.csv\")"
   ]
  },
  {
   "cell_type": "code",
   "execution_count": null,
   "metadata": {},
   "outputs": [],
   "source": [
    "features.to_csv(\"../data/processed/robotability_features_trashbot.csv\", index=False)"
   ]
  },
  {
   "cell_type": "code",
   "execution_count": null,
   "metadata": {},
   "outputs": [],
   "source": []
  }
 ],
 "metadata": {
  "kernelspec": {
   "display_name": "Python 3",
   "language": "python",
   "name": "python3"
  },
  "language_info": {
   "codemirror_mode": {
    "name": "ipython",
    "version": 3
   },
   "file_extension": ".py",
   "mimetype": "text/x-python",
   "name": "python",
   "nbconvert_exporter": "python",
   "pygments_lexer": "ipython3",
   "version": "3.11.9"
  }
 },
 "nbformat": 4,
 "nbformat_minor": 2
}
