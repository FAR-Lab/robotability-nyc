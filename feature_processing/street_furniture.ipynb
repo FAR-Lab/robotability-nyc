{
 "cells": [
  {
   "cell_type": "code",
   "execution_count": 4,
   "metadata": {},
   "outputs": [
    {
     "name": "stderr",
     "output_type": "stream",
     "text": [
      "\u001b[34m2024-12-10 00:32:00 - rs-street-furniture - INFO - Modules initialized.\u001b[0m\n"
     ]
    }
   ],
   "source": [
    "# class RobotabilityGraph that inherits from Graph class \n",
    "import os\n",
    "import sys \n",
    "sys.path.append(\"/share/ju/urban-fingerprinting\")\n",
    "\n",
    "import osmnx as ox \n",
    "import geopandas as gpd \n",
    "import pandas as pd \n",
    "import numpy as np \n",
    "\n",
    "import matplotlib.pyplot as plt \n",
    "# enable latex plotting \n",
    "plt.rc('text', usetex=True)\n",
    "plt.rc('font', family='serif')\n",
    "\n",
    "from glob import glob \n",
    "from tqdm import tqdm \n",
    "\n",
    "from shapely import wkt, LineString \n",
    "\n",
    "import rasterio\n",
    "from rasterio.enums import Resampling\n",
    "from rasterio.plot import show \n",
    "\n",
    "\n",
    "from src.utils.logger import setup_logger \n",
    "\n",
    "logger = setup_logger('rs-street-furniture')\n",
    "logger.setLevel(\"INFO\")\n",
    "logger.info(\"Modules initialized.\")\n",
    "\n",
    "WGS='EPSG:4326'\n",
    "PROJ='EPSG:2263'\n",
    "\n",
    "REGEN_SEGMENTIZATION=False\n",
    "REGEN_TOPOLOGY=True\n",
    "\n",
    "GEN_INSPECTION_PLOTS=True\n",
    "INSPECTION_PLOTS=\"figures/inspection_plots\"\n",
    "\n",
    "os.makedirs(INSPECTION_PLOTS, exist_ok=True)\n"
   ]
  },
  {
   "cell_type": "markdown",
   "metadata": {},
   "source": [
    "## Loading and Preprocessing Data Features "
   ]
  },
  {
   "cell_type": "markdown",
   "metadata": {},
   "source": [
    "### Sidewalk Basemap (NYC)"
   ]
  },
  {
   "cell_type": "code",
   "execution_count": 5,
   "metadata": {},
   "outputs": [
    {
     "name": "stderr",
     "output_type": "stream",
     "text": [
      "\u001b[34m2024-12-10 00:32:13 - rs-street-furniture - INFO - Segmentized sidewalk basemap loaded.\u001b[0m\n",
      "\u001b[32m2024-12-10 00:32:13 - rs-street-furniture - SUCCESS - NYC sidewalk basemap loaded.\u001b[0m\n",
      "\u001b[34m2024-12-10 00:32:13 - rs-street-furniture - INFO - Distribution of sidewalk widths [ft]: \n",
      "count    1.874608e+06\n",
      "mean     1.001624e+01\n",
      "std      5.892543e+00\n",
      "min      3.717949e-02\n",
      "25%      6.797932e+00\n",
      "50%      8.901577e+00\n",
      "75%      1.186210e+01\n",
      "max      1.652698e+02\n",
      "Name: width, dtype: float64\u001b[0m\n"
     ]
    }
   ],
   "source": [
    "segmentized = pd.read_csv(\"../data/sidewalks_nyc_segmentized.csv\")\n",
    "segmentized = gpd.GeoDataFrame(segmentized, geometry=segmentized['geometry'].apply(wkt.loads), crs=PROJ)\n",
    "logger.info(\"Segmentized sidewalk basemap loaded.\")\n",
    "\n",
    "\n",
    "sidewalk_nyc = segmentized\n",
    "\n",
    "logger.success(\"NYC sidewalk basemap loaded.\")\n",
    "logger.info(f\"Distribution of sidewalk widths [ft]: \\n{sidewalk_nyc['width'].describe()}\")"
   ]
  },
  {
   "cell_type": "code",
   "execution_count": 6,
   "metadata": {},
   "outputs": [],
   "source": [
    "# the maximum distance to search for a nearby street segment. Since we segmentize by 50 feet, we can search within 25 feet\n",
    "MAX_DISTANCE=25\n",
    "\n",
    "CUTOFF= pd.to_datetime(\"2023-08-31\")\n"
   ]
  },
  {
   "cell_type": "code",
   "execution_count": 7,
   "metadata": {},
   "outputs": [],
   "source": [
    "\n",
    "# we buffer each point by 25 feet, creating a 50-diameter circle centered at the point. This captures nearby clutter. \n",
    "sidewalk_nyc['geometry'] = sidewalk_nyc['geometry'].buffer(MAX_DISTANCE)"
   ]
  },
  {
   "cell_type": "markdown",
   "metadata": {},
   "source": [
    "### Bus Stop Shelters "
   ]
  },
  {
   "cell_type": "code",
   "execution_count": 8,
   "metadata": {},
   "outputs": [],
   "source": [
    "# read bus stop shelters \n",
    "bus_stop_shelters = gpd.read_file(\"../data/street_furniture/bus_stop_shelters_nyc.csv\")\n",
    "bus_stop_shelters = gpd.GeoDataFrame(bus_stop_shelters, geometry=wkt.loads(bus_stop_shelters['the_geom']), crs=WGS).to_crs(PROJ)\n",
    "\n",
    "# Bus stop installation date is not present, so filtering is out-of-scoped."
   ]
  },
  {
   "cell_type": "markdown",
   "metadata": {},
   "source": [
    "### Trash Cans / Waste Baskets "
   ]
  },
  {
   "cell_type": "code",
   "execution_count": 9,
   "metadata": {},
   "outputs": [],
   "source": [
    "# load trash cans \n",
    "trash_cans = pd.read_csv(\"../data/street_furniture/dsny_litter_baskets_nyc.csv\")\n",
    "trash_cans = gpd.GeoDataFrame(trash_cans, geometry=wkt.loads(trash_cans['point']), crs=WGS).to_crs(PROJ)\n",
    "\n",
    "# trash can installation date is not present, so filtering is out-of-scope"
   ]
  },
  {
   "cell_type": "markdown",
   "metadata": {},
   "source": [
    "### LinkNYC Kiosks "
   ]
  },
  {
   "cell_type": "code",
   "execution_count": 10,
   "metadata": {},
   "outputs": [
    {
     "data": {
      "text/plain": [
       "count                             2134\n",
       "mean     2017-12-14 14:37:54.039362816\n",
       "min                1971-12-01 00:00:00\n",
       "25%                2016-11-12 00:00:00\n",
       "50%                2017-07-18 00:00:00\n",
       "75%                2018-02-17 00:00:00\n",
       "max                2023-07-27 00:00:00\n",
       "Name: Installation Complete, dtype: object"
      ]
     },
     "execution_count": 10,
     "metadata": {},
     "output_type": "execute_result"
    }
   ],
   "source": [
    "# load linknyc\n",
    "linknyc = pd.read_csv(\"../data/street_furniture/LinkNYC_Kiosk_Locations_20240816.csv\")\n",
    "linknyc = gpd.GeoDataFrame(linknyc, geometry=gpd.points_from_xy(linknyc['Longitude'], linknyc['Latitude']), crs='EPSG:4326').to_crs(PROJ)\n",
    "\n",
    "linknyc['Installation Complete'] = pd.to_datetime(linknyc['Installation Complete'])\n",
    "linknyc = linknyc[linknyc['Installation Complete'] <= CUTOFF]\n",
    "linknyc['Installation Complete'].describe()"
   ]
  },
  {
   "cell_type": "markdown",
   "metadata": {},
   "source": [
    "### Bicycle Parking Shelters "
   ]
  },
  {
   "cell_type": "code",
   "execution_count": 11,
   "metadata": {},
   "outputs": [
    {
     "name": "stderr",
     "output_type": "stream",
     "text": [
      "/tmp/ipykernel_3372968/4045691724.py:4: UserWarning: Could not infer format, so each element will be parsed individually, falling back to `dateutil`. To ensure parsing is consistent and as-expected, please specify a format.\n",
      "  bicycle_parking_shelters['Build_date'] = pd.to_datetime(bicycle_parking_shelters['Build_date'])\n"
     ]
    },
    {
     "data": {
      "text/plain": [
       "count                               17\n",
       "mean     2008-07-26 18:21:10.588235264\n",
       "min                2007-12-17 00:00:00\n",
       "25%                2008-07-01 00:00:00\n",
       "50%                2008-09-12 00:00:00\n",
       "75%                2008-10-13 00:00:00\n",
       "max                2008-12-17 00:00:00\n",
       "Name: Build_date, dtype: object"
      ]
     },
     "execution_count": 11,
     "metadata": {},
     "output_type": "execute_result"
    }
   ],
   "source": [
    "# load bicycle parking shelters \n",
    "bicycle_parking_shelters = pd.read_csv(\"../data/street_furniture/bicycle_parking_shelters_nyc.csv\")\n",
    "bicycle_parking_shelters = gpd.GeoDataFrame(bicycle_parking_shelters, geometry=wkt.loads(bicycle_parking_shelters['the_geom']), crs=WGS).to_crs(PROJ)\n",
    "bicycle_parking_shelters['Build_date'] = pd.to_datetime(bicycle_parking_shelters['Build_date'])\n",
    "bicycle_parking_shelters = bicycle_parking_shelters[bicycle_parking_shelters['Build_date'] <= CUTOFF]\n",
    "bicycle_parking_shelters['Build_date'].describe()"
   ]
  },
  {
   "cell_type": "markdown",
   "metadata": {},
   "source": [
    "### Bicycle Racks "
   ]
  },
  {
   "cell_type": "code",
   "execution_count": 12,
   "metadata": {},
   "outputs": [
    {
     "data": {
      "text/plain": [
       "count                            31585\n",
       "mean     2011-06-02 09:53:44.100047616\n",
       "min                1900-01-01 00:00:00\n",
       "25%                2010-06-14 00:00:00\n",
       "50%                2013-05-31 00:00:00\n",
       "75%                2017-03-02 00:00:00\n",
       "max                2023-05-02 00:00:00\n",
       "Name: Date_Inst, dtype: object"
      ]
     },
     "execution_count": 12,
     "metadata": {},
     "output_type": "execute_result"
    }
   ],
   "source": [
    "# load bicycle racks \n",
    "bicycle_racks = gpd.read_file(\"../data/street_furniture/bicycle_racks_nyc/Bycycle_Parking_2023_07/Bicycle_Parking_2023_07.shp\").to_crs(PROJ)\n",
    "bicycle_racks['Date_Inst'] = pd.to_datetime(bicycle_racks['Date_Inst'])\n",
    "bicycle_racks = bicycle_racks[bicycle_racks['Date_Inst'] <= CUTOFF]\n",
    "bicycle_racks['Date_Inst'].describe()"
   ]
  },
  {
   "cell_type": "markdown",
   "metadata": {},
   "source": [
    "### CityBench "
   ]
  },
  {
   "cell_type": "code",
   "execution_count": 13,
   "metadata": {},
   "outputs": [
    {
     "data": {
      "text/plain": [
       "count                             2141\n",
       "mean     2015-04-09 03:36:34.301728256\n",
       "min                2012-04-01 00:00:00\n",
       "25%                2013-07-10 00:00:00\n",
       "50%                2014-11-18 00:00:00\n",
       "75%                2017-02-04 00:00:00\n",
       "max                2019-09-30 00:00:00\n",
       "Name: Installati, dtype: object"
      ]
     },
     "execution_count": 13,
     "metadata": {},
     "output_type": "execute_result"
    }
   ],
   "source": [
    "# load citybench\n",
    "citybench = pd.read_csv(\"../data/street_furniture/citybench_nyc.csv\")\n",
    "citybench = gpd.GeoDataFrame(citybench, geometry=gpd.points_from_xy(citybench['Longitude'], citybench['Latitude']), crs='EPSG:4326').to_crs(PROJ)\n",
    "citybench['Installati'] = pd.to_datetime(citybench['Installati'])\n",
    "citybench = citybench[citybench['Installati'] <= CUTOFF]\n",
    "citybench['Installati'].describe()"
   ]
  },
  {
   "cell_type": "markdown",
   "metadata": {},
   "source": [
    "### Street Trees "
   ]
  },
  {
   "cell_type": "code",
   "execution_count": 14,
   "metadata": {},
   "outputs": [
    {
     "data": {
      "text/plain": [
       "count                           683788\n",
       "mean     2015-12-06 07:18:59.574254592\n",
       "min                2015-05-19 00:00:00\n",
       "25%                2015-08-29 00:00:00\n",
       "50%                2015-10-23 00:00:00\n",
       "75%                2016-02-06 00:00:00\n",
       "max                2016-10-05 00:00:00\n",
       "Name: created_at, dtype: object"
      ]
     },
     "execution_count": 14,
     "metadata": {},
     "output_type": "execute_result"
    }
   ],
   "source": [
    "# load trees \n",
    "trees = pd.read_csv(\"../data/street_furniture/forestry_tree_points_nyc.csv\", engine='pyarrow')\n",
    "trees = gpd.GeoDataFrame(trees, geometry=gpd.points_from_xy(trees['longitude'], trees['latitude']), crs='EPSG:4326').to_crs(PROJ)\n",
    "trees['created_at'] = pd.to_datetime(trees['created_at'])\n",
    "trees = trees[trees['created_at'] <= CUTOFF]\n",
    "trees['created_at'].describe()"
   ]
  },
  {
   "cell_type": "markdown",
   "metadata": {},
   "source": [
    "### News Stands "
   ]
  },
  {
   "cell_type": "code",
   "execution_count": 15,
   "metadata": {},
   "outputs": [
    {
     "data": {
      "text/plain": [
       "count                              357\n",
       "mean     2011-09-04 23:31:45.882352896\n",
       "min                2007-09-03 00:00:00\n",
       "25%                2008-07-30 00:00:00\n",
       "50%                2010-11-08 00:00:00\n",
       "75%                2013-06-04 00:00:00\n",
       "max                2021-12-22 00:00:00\n",
       "Name: Built_Date, dtype: object"
      ]
     },
     "execution_count": 15,
     "metadata": {},
     "output_type": "execute_result"
    }
   ],
   "source": [
    "# load newsstands \n",
    "newsstands = pd.read_csv(\"../data/street_furniture/newsstands_nyc.csv\", engine='pyarrow')\n",
    "newsstands = gpd.GeoDataFrame(newsstands, geometry=wkt.loads(newsstands['the_geom']), crs='EPSG:4326').to_crs(PROJ)\n",
    "newsstands['Built_Date'] = pd.to_datetime(newsstands['Built_Date'])\n",
    "newsstands = newsstands[newsstands['Built_Date'] <= CUTOFF]\n",
    "newsstands['Built_Date'].describe() "
   ]
  },
  {
   "cell_type": "markdown",
   "metadata": {},
   "source": [
    "### Parking Meters "
   ]
  },
  {
   "cell_type": "code",
   "execution_count": 16,
   "metadata": {},
   "outputs": [],
   "source": [
    "# load parking meters \n",
    "parking_meters = pd.read_csv(\"../data/street_furniture/parking_meters_nyc.csv\")\n",
    "parking_meters = gpd.GeoDataFrame(parking_meters, geometry=wkt.loads(parking_meters['Location']), crs='EPSG:4326').to_crs(PROJ)\n",
    "\n",
    "# parking meter installation date is not present, so filtering is out-of-scope"
   ]
  },
  {
   "cell_type": "markdown",
   "metadata": {},
   "source": [
    "### Fire Hydrants "
   ]
  },
  {
   "cell_type": "code",
   "execution_count": 17,
   "metadata": {},
   "outputs": [],
   "source": [
    "# load hydrants \n",
    "hydrants = pd.read_csv(\"../data/street_furniture/fire_hydrants_nyc.csv\")\n",
    "hydrants = gpd.GeoDataFrame(hydrants, geometry=wkt.loads(hydrants['the_geom']), crs='EPSG:4326').to_crs(PROJ)\n",
    "\n",
    "# hydrant installation date is not present, so filtering is out-of-scope"
   ]
  },
  {
   "cell_type": "markdown",
   "metadata": {},
   "source": [
    "### Street Signs "
   ]
  },
  {
   "cell_type": "code",
   "execution_count": 18,
   "metadata": {},
   "outputs": [
    {
     "data": {
      "text/plain": [
       "count                          1032022\n",
       "mean     2018-07-23 05:09:47.827003648\n",
       "min                1953-08-07 00:00:00\n",
       "25%                2017-07-20 00:00:00\n",
       "50%                2019-11-04 00:00:00\n",
       "75%                2021-04-14 00:00:00\n",
       "max                2023-08-31 00:00:00\n",
       "Name: order_completed_on_date, dtype: object"
      ]
     },
     "execution_count": 18,
     "metadata": {},
     "output_type": "execute_result"
    }
   ],
   "source": [
    "# load street signs \n",
    "street_signs = pd.read_csv(\"../data/street_furniture/Street_Sign_Work_Orders_20240816.csv\", engine='pyarrow')\n",
    "\n",
    "# only keep 'Current' record type \n",
    "street_signs = street_signs[street_signs['record_type'] == 'Current']\n",
    "street_signs['order_completed_on_date'] = pd.to_datetime(street_signs['order_completed_on_date'])\n",
    "street_signs = street_signs[street_signs['order_completed_on_date'] <= CUTOFF]\n",
    "street_signs = gpd.GeoDataFrame(street_signs, geometry=gpd.points_from_xy(street_signs['sign_x_coord'], street_signs['sign_y_coord']), crs=PROJ)\n",
    "street_signs['order_completed_on_date'].describe()"
   ]
  },
  {
   "cell_type": "markdown",
   "metadata": {},
   "source": [
    "### Bollards "
   ]
  },
  {
   "cell_type": "code",
   "execution_count": 19,
   "metadata": {},
   "outputs": [
    {
     "data": {
      "text/plain": [
       "count                            54665\n",
       "mean     2016-05-17 19:10:59.939632384\n",
       "min                2005-01-10 00:00:00\n",
       "25%                2012-09-10 00:00:00\n",
       "50%                2017-07-12 00:00:00\n",
       "75%                2020-06-25 00:00:00\n",
       "max                2023-08-31 00:00:00\n",
       "Name: Date, dtype: object"
      ]
     },
     "execution_count": 19,
     "metadata": {},
     "output_type": "execute_result"
    }
   ],
   "source": [
    "# load bollards \n",
    "bollards = pd.read_csv(\"../data/street_furniture/Traffic_Bollards_Tracking_and_Installations_20240816.csv\", engine='pyarrow')\n",
    "\n",
    "bollards['Date'] = pd.to_datetime(bollards['Date'])\n",
    "bollards = bollards[bollards['Date'] <= CUTOFF]\n",
    "bollards['Date'].describe()\n",
    "\n",
    "# we choose not to process bollards, as locations need to be geocoded. Latitude/Longitude is not present in the dataset."
   ]
  },
  {
   "cell_type": "markdown",
   "metadata": {},
   "source": [
    "### In-Service Fire Alarm Call Boxes "
   ]
  },
  {
   "cell_type": "code",
   "execution_count": 20,
   "metadata": {},
   "outputs": [],
   "source": [
    "alarm_call_boxes = pd.read_csv(\"../data/street_furniture/In-Service_Alarm_Box_Locations_20240816.csv\")\n",
    "alarm_call_boxes = gpd.GeoDataFrame(alarm_call_boxes, geometry=wkt.loads(alarm_call_boxes['Location Point']), crs='EPSG:4326').to_crs(PROJ)"
   ]
  },
  {
   "cell_type": "markdown",
   "metadata": {},
   "source": [
    "### Scaffolding "
   ]
  },
  {
   "cell_type": "code",
   "execution_count": 21,
   "metadata": {},
   "outputs": [],
   "source": [
    "# read DoB active scaffolding permits \n",
    "scaffolding_permits = pd.read_csv(\"../data/dob_active_sheds.csv\", engine='pyarrow')\n",
    "scaffolding_permits = gpd.GeoDataFrame(scaffolding_permits, geometry=gpd.points_from_xy(scaffolding_permits['Longitude Point'], scaffolding_permits['Latitude Point']), crs='EPSG:4326')\n",
    "scaffolding_permits = scaffolding_permits.to_crs(PROJ)"
   ]
  },
  {
   "cell_type": "code",
   "execution_count": 22,
   "metadata": {},
   "outputs": [
    {
     "data": {
      "text/plain": [
       "count                             6470\n",
       "mean     2022-04-19 04:09:56.476043264\n",
       "min                2006-04-27 00:00:00\n",
       "25%                2021-11-05 00:00:00\n",
       "50%                2022-10-25 00:00:00\n",
       "75%                2023-04-27 00:00:00\n",
       "max                2023-08-31 00:00:00\n",
       "Name: First Permit Date, dtype: object"
      ]
     },
     "execution_count": 22,
     "metadata": {},
     "output_type": "execute_result"
    }
   ],
   "source": [
    "scaffolding_permits['First Permit Date']  = pd.to_datetime(scaffolding_permits['First Permit Date'])\n",
    "\n",
    "scaffolding_permits = scaffolding_permits[scaffolding_permits['First Permit Date'] <= CUTOFF]\n",
    "scaffolding_permits['First Permit Date'].describe()"
   ]
  },
  {
   "cell_type": "markdown",
   "metadata": {},
   "source": [
    "## Spatial Joining of Street Furnitures to Sidewalk Graph "
   ]
  },
  {
   "cell_type": "code",
   "execution_count": 23,
   "metadata": {},
   "outputs": [
    {
     "name": "stderr",
     "output_type": "stream",
     "text": [
      "\u001b[34m2024-12-10 00:32:52 - rs-street-furniture - INFO - Missing 0 bus stop shelters.\u001b[0m\n"
     ]
    }
   ],
   "source": [
    "# sjoin nearest bus stops and trash cans to sidewalk\n",
    "len_before = len(sidewalk_nyc)\n",
    "bus_stop_shelters = gpd.sjoin(sidewalk_nyc, bus_stop_shelters, )\n",
    "logger.info(f\"Missing {len(bus_stop_shelters[bus_stop_shelters['index_right'].isna()])} bus stop shelters.\")"
   ]
  },
  {
   "cell_type": "code",
   "execution_count": 24,
   "metadata": {},
   "outputs": [
    {
     "name": "stderr",
     "output_type": "stream",
     "text": [
      "\u001b[34m2024-12-10 00:32:52 - rs-street-furniture - INFO - Removed 2649 trash cans that are not on sidewalks.\u001b[0m\n"
     ]
    }
   ],
   "source": [
    "# sjoin nearest trash cans to sidewalk\n",
    "len_before = len(trash_cans)\n",
    "trash_cans = gpd.sjoin(sidewalk_nyc, trash_cans, )\n",
    "logger.info(f\"Removed {len_before - len(trash_cans)} trash cans that are not on sidewalks.\")"
   ]
  },
  {
   "cell_type": "code",
   "execution_count": 25,
   "metadata": {},
   "outputs": [
    {
     "name": "stderr",
     "output_type": "stream",
     "text": [
      "\u001b[34m2024-12-10 00:32:53 - rs-street-furniture - INFO - LinkNYC: 2134 -> 5315\u001b[0m\n"
     ]
    }
   ],
   "source": [
    "# sjoin nearest linknyc to sidewalk\n",
    "len_before = len(linknyc)\n",
    "linknyc = gpd.sjoin(sidewalk_nyc, linknyc, )\n",
    "logger.info(f\"LinkNYC: {len_before} -> {len(linknyc)}\")"
   ]
  },
  {
   "cell_type": "code",
   "execution_count": 26,
   "metadata": {},
   "outputs": [
    {
     "name": "stderr",
     "output_type": "stream",
     "text": [
      "\u001b[34m2024-12-10 00:32:53 - rs-street-furniture - INFO - Citybench: 2141 -> 724\u001b[0m\n"
     ]
    }
   ],
   "source": [
    "# sjoin nearest citybench \n",
    "len_before = len(citybench)\n",
    "citybench = gpd.sjoin(sidewalk_nyc, citybench, )\n",
    "logger.info(f\"Citybench: {len_before} -> {len(citybench)}\")"
   ]
  },
  {
   "cell_type": "code",
   "execution_count": 27,
   "metadata": {},
   "outputs": [
    {
     "name": "stderr",
     "output_type": "stream",
     "text": [
      "\u001b[34m2024-12-10 00:32:54 - rs-street-furniture - INFO - Bicycle Parking Shelters: 17 -> 28\u001b[0m\n"
     ]
    }
   ],
   "source": [
    "# sjoint nearest bicycle parking shelters to sidewalk\n",
    "len_before = len(bicycle_parking_shelters)\n",
    "bicycle_parking_shelters = gpd.sjoin(sidewalk_nyc, bicycle_parking_shelters, )\n",
    "logger.info(f\"Bicycle Parking Shelters: {len_before} -> {len(bicycle_parking_shelters)}\")"
   ]
  },
  {
   "cell_type": "code",
   "execution_count": 28,
   "metadata": {},
   "outputs": [
    {
     "name": "stderr",
     "output_type": "stream",
     "text": [
      "\u001b[34m2024-12-10 00:32:54 - rs-street-furniture - INFO - Bicycle Racks: 31585 -> 43334\u001b[0m\n"
     ]
    }
   ],
   "source": [
    "\n",
    "# sjoin nearest bicycle racks to sidewalk\n",
    "len_before = len(bicycle_racks)\n",
    "bicycle_racks = gpd.sjoin(sidewalk_nyc, bicycle_racks, )\n",
    "logger.info(f\"Bicycle Racks: {len_before} -> {len(bicycle_racks)}\")"
   ]
  },
  {
   "cell_type": "code",
   "execution_count": 29,
   "metadata": {},
   "outputs": [
    {
     "name": "stderr",
     "output_type": "stream",
     "text": [
      "\u001b[34m2024-12-10 00:32:59 - rs-street-furniture - INFO - Trees: 683788 -> 888996\u001b[0m\n"
     ]
    }
   ],
   "source": [
    "# sjoin nearest trees to sidewalk\n",
    "len_before = len(trees)\n",
    "trees = gpd.sjoin(sidewalk_nyc, trees, )\n",
    "logger.info(f\"Trees: {len_before} -> {len(trees)}\")"
   ]
  },
  {
   "cell_type": "code",
   "execution_count": 30,
   "metadata": {},
   "outputs": [
    {
     "name": "stderr",
     "output_type": "stream",
     "text": [
      "\u001b[34m2024-12-10 00:33:00 - rs-street-furniture - INFO - Newsstands: 357 -> 462\u001b[0m\n"
     ]
    }
   ],
   "source": [
    "# sjoin nearest newsstands to sidewalk\n",
    "len_before = len(newsstands)\n",
    "newsstands = gpd.sjoin(sidewalk_nyc, newsstands, )\n",
    "logger.info(f\"Newsstands: {len_before} -> {len(newsstands)}\")"
   ]
  },
  {
   "cell_type": "code",
   "execution_count": 31,
   "metadata": {},
   "outputs": [
    {
     "name": "stderr",
     "output_type": "stream",
     "text": [
      "\u001b[34m2024-12-10 00:33:01 - rs-street-furniture - INFO - Parking Meters: 13336 -> 16305\u001b[0m\n"
     ]
    }
   ],
   "source": [
    "# sjoin nearest parking meters to sidewalk\n",
    "len_before = len(parking_meters)\n",
    "parking_meters = gpd.sjoin(sidewalk_nyc, parking_meters, )\n",
    "logger.info(f\"Parking Meters: {len_before} -> {len(parking_meters)}\")"
   ]
  },
  {
   "cell_type": "code",
   "execution_count": 32,
   "metadata": {},
   "outputs": [
    {
     "name": "stderr",
     "output_type": "stream",
     "text": [
      "\u001b[34m2024-12-10 00:33:02 - rs-street-furniture - INFO - Hydrants: 109410 -> 165327\u001b[0m\n"
     ]
    }
   ],
   "source": [
    "# sjoin nearest hydrants to sidewalk\n",
    "len_before = len(hydrants)\n",
    "hydrants = gpd.sjoin(sidewalk_nyc, hydrants, )\n",
    "logger.info(f\"Hydrants: {len_before} -> {len(hydrants)}\")"
   ]
  },
  {
   "cell_type": "code",
   "execution_count": 33,
   "metadata": {},
   "outputs": [
    {
     "name": "stderr",
     "output_type": "stream",
     "text": [
      "\u001b[34m2024-12-10 00:33:06 - rs-street-furniture - INFO - Street Signs: 1032022 -> 714036\u001b[0m\n"
     ]
    }
   ],
   "source": [
    "# sjoin nearest street signs to sidewalk\n",
    "len_before = len(street_signs)\n",
    "street_signs = gpd.sjoin(sidewalk_nyc, street_signs, )\n",
    "logger.info(f\"Street Signs: {len_before} -> {len(street_signs)}\")"
   ]
  },
  {
   "cell_type": "code",
   "execution_count": 34,
   "metadata": {},
   "outputs": [],
   "source": [
    "# sjoin nearest bollards to sidewalk\n",
    "#len_before = len(bollards)\n",
    "#bollards = gpd.sjoin(sidewalk_nyc, bollards )\n",
    "#logger.info(f\"Bollards: {len_before} -> {len(bollards)}\")\n"
   ]
  },
  {
   "cell_type": "code",
   "execution_count": 35,
   "metadata": {},
   "outputs": [
    {
     "name": "stderr",
     "output_type": "stream",
     "text": [
      "\u001b[34m2024-12-10 00:33:06 - rs-street-furniture - INFO - Alarm Call Boxes: 13008 -> 8135\u001b[0m\n"
     ]
    }
   ],
   "source": [
    "# sjoin nearest alarm call boxes to sidewalk\n",
    "len_before = len(alarm_call_boxes)\n",
    "alarm_call_boxes = gpd.sjoin(sidewalk_nyc, alarm_call_boxes, )\n",
    "logger.info(f\"Alarm Call Boxes: {len_before} -> {len(alarm_call_boxes)}\")"
   ]
  },
  {
   "cell_type": "code",
   "execution_count": 36,
   "metadata": {},
   "outputs": [],
   "source": [
    "BUFFER=100 \n",
    "# buffer scaffolding_permits points, then sjoin to sidewalks\n",
    "scaffolding_permits.geometry = scaffolding_permits.geometry.buffer(BUFFER)\n",
    "scaffolding_permits = gpd.sjoin(sidewalk_nyc, scaffolding_permits, predicate='intersects')"
   ]
  },
  {
   "cell_type": "code",
   "execution_count": 37,
   "metadata": {},
   "outputs": [],
   "source": [
    "\n",
    "# now, get number of bus stops, trash cans, linknyc, citybench, bicycle parking shelters, and bicycle racks per sidewalk\n",
    "bus_stop_counts = bus_stop_shelters.groupby('point_index').size().reset_index(name='bus_stop_count').fillna(0)\n",
    "trash_can_counts = trash_cans.groupby('point_index').size().reset_index(name='trash_can_count').fillna(0)\n",
    "linknyc_counts = linknyc.groupby('point_index').size().reset_index(name='linknyc_count').fillna(0)\n",
    "citybench_counts = citybench.groupby('point_index').size().reset_index(name='citybench_count').fillna(0)\n",
    "bicycle_parking_shelter_counts = bicycle_parking_shelters.groupby('point_index').size().reset_index(name='bicycle_parking_shelter_count').fillna(0)\n",
    "bicycle_rack_counts = bicycle_racks.groupby('point_index').size().reset_index(name='bicycle_rack_count').fillna(0)\n",
    "tree_counts = trees.groupby('point_index').size().reset_index(name='tree_count').fillna(0)\n",
    "newsstand_counts = newsstands.groupby('point_index').size().reset_index(name='newsstand_count').fillna(0)\n",
    "parking_meter_counts = parking_meters.groupby('point_index').size().reset_index(name='parking_meter_count').fillna(0)\n",
    "hydrant_counts = hydrants.groupby('point_index').size().reset_index(name='hydrant_count').fillna(0)\n",
    "street_sign_counts = street_signs.groupby('point_index').size().reset_index(name='street_sign_count').fillna(0)\n",
    "#bollard_counts = bollards.groupby('point_index').size().reset_index(name='bollard_count').fillna(0)\n",
    "alarm_call_box_counts = alarm_call_boxes.groupby('point_index').size().reset_index(name='alarm_call_box_count').fillna(0)"
   ]
  },
  {
   "cell_type": "code",
   "execution_count": 38,
   "metadata": {},
   "outputs": [],
   "source": [
    "# merge scaffolding in \n",
    "scaffolding_counts = scaffolding_permits.groupby('point_index').size().reset_index(name='scaffolding_permit_count').fillna(0)"
   ]
  },
  {
   "cell_type": "code",
   "execution_count": 39,
   "metadata": {},
   "outputs": [],
   "source": [
    "\n",
    "# merge counts to sidewalk_nyc\n",
    "sidewalk_nyc = sidewalk_nyc.merge(bus_stop_counts, on='point_index', how='left')\n",
    "sidewalk_nyc = sidewalk_nyc.merge(trash_can_counts, on='point_index', how='left')\n",
    "sidewalk_nyc = sidewalk_nyc.merge(linknyc_counts, on='point_index', how='left')\n",
    "sidewalk_nyc = sidewalk_nyc.merge(citybench_counts, on='point_index', how='left')\n",
    "sidewalk_nyc = sidewalk_nyc.merge(bicycle_parking_shelter_counts, on='point_index', how='left')\n",
    "sidewalk_nyc = sidewalk_nyc.merge(bicycle_rack_counts, on='point_index', how='left')\n",
    "sidewalk_nyc = sidewalk_nyc.merge(tree_counts, on='point_index', how='left')\n",
    "sidewalk_nyc = sidewalk_nyc.merge(newsstand_counts, on='point_index', how='left')\n",
    "sidewalk_nyc = sidewalk_nyc.merge(parking_meter_counts, on='point_index', how='left')\n",
    "sidewalk_nyc = sidewalk_nyc.merge(hydrant_counts, on='point_index', how='left')\n",
    "sidewalk_nyc = sidewalk_nyc.merge(street_sign_counts, on='point_index', how='left')\n",
    "#sidewalk_nyc = sidewalk_nyc.merge(bollard_counts, on='point_index', how='left')\n",
    "sidewalk_nyc = sidewalk_nyc.merge(alarm_call_box_counts, on='point_index', how='left')"
   ]
  },
  {
   "cell_type": "code",
   "execution_count": 40,
   "metadata": {},
   "outputs": [],
   "source": [
    "# merge scaffolding in \n",
    "sidewalk_nyc = sidewalk_nyc.merge(scaffolding_counts, on='point_index', how='left')"
   ]
  },
  {
   "cell_type": "code",
   "execution_count": 41,
   "metadata": {},
   "outputs": [],
   "source": [
    "\n",
    "sidewalk_nyc = sidewalk_nyc.fillna(0)"
   ]
  },
  {
   "cell_type": "code",
   "execution_count": 42,
   "metadata": {},
   "outputs": [
    {
     "data": {
      "text/html": [
       "<div>\n",
       "<style scoped>\n",
       "    .dataframe tbody tr th:only-of-type {\n",
       "        vertical-align: middle;\n",
       "    }\n",
       "\n",
       "    .dataframe tbody tr th {\n",
       "        vertical-align: top;\n",
       "    }\n",
       "\n",
       "    .dataframe thead th {\n",
       "        text-align: right;\n",
       "    }\n",
       "</style>\n",
       "<table border=\"1\" class=\"dataframe\">\n",
       "  <thead>\n",
       "    <tr style=\"text-align: right;\">\n",
       "      <th></th>\n",
       "      <th>Unnamed: 0</th>\n",
       "      <th>width</th>\n",
       "      <th>point_index</th>\n",
       "      <th>bus_stop_count</th>\n",
       "      <th>trash_can_count</th>\n",
       "      <th>linknyc_count</th>\n",
       "      <th>citybench_count</th>\n",
       "      <th>bicycle_parking_shelter_count</th>\n",
       "      <th>bicycle_rack_count</th>\n",
       "      <th>tree_count</th>\n",
       "      <th>newsstand_count</th>\n",
       "      <th>parking_meter_count</th>\n",
       "      <th>hydrant_count</th>\n",
       "      <th>street_sign_count</th>\n",
       "      <th>alarm_call_box_count</th>\n",
       "      <th>scaffolding_permit_count</th>\n",
       "    </tr>\n",
       "  </thead>\n",
       "  <tbody>\n",
       "    <tr>\n",
       "      <th>count</th>\n",
       "      <td>1.874608e+06</td>\n",
       "      <td>1.874608e+06</td>\n",
       "      <td>1.874608e+06</td>\n",
       "      <td>1.874608e+06</td>\n",
       "      <td>1.874608e+06</td>\n",
       "      <td>1.874608e+06</td>\n",
       "      <td>1.874608e+06</td>\n",
       "      <td>1.874608e+06</td>\n",
       "      <td>1.874608e+06</td>\n",
       "      <td>1.874608e+06</td>\n",
       "      <td>1.874608e+06</td>\n",
       "      <td>1.874608e+06</td>\n",
       "      <td>1.874608e+06</td>\n",
       "      <td>1.874608e+06</td>\n",
       "      <td>1.874608e+06</td>\n",
       "      <td>1.874608e+06</td>\n",
       "    </tr>\n",
       "    <tr>\n",
       "      <th>mean</th>\n",
       "      <td>9.373035e+05</td>\n",
       "      <td>1.001624e+01</td>\n",
       "      <td>9.373035e+05</td>\n",
       "      <td>2.742440e-03</td>\n",
       "      <td>1.175286e-02</td>\n",
       "      <td>2.835259e-03</td>\n",
       "      <td>3.862141e-04</td>\n",
       "      <td>1.493646e-05</td>\n",
       "      <td>2.311630e-02</td>\n",
       "      <td>4.742303e-01</td>\n",
       "      <td>2.464515e-04</td>\n",
       "      <td>8.697818e-03</td>\n",
       "      <td>8.819284e-02</td>\n",
       "      <td>3.808988e-01</td>\n",
       "      <td>4.339574e-03</td>\n",
       "      <td>5.140541e-02</td>\n",
       "    </tr>\n",
       "    <tr>\n",
       "      <th>std</th>\n",
       "      <td>5.411529e+05</td>\n",
       "      <td>5.892543e+00</td>\n",
       "      <td>5.411529e+05</td>\n",
       "      <td>5.310623e-02</td>\n",
       "      <td>1.079645e-01</td>\n",
       "      <td>5.323179e-02</td>\n",
       "      <td>3.062103e-02</td>\n",
       "      <td>3.864743e-03</td>\n",
       "      <td>2.294375e-01</td>\n",
       "      <td>7.146751e-01</td>\n",
       "      <td>1.576467e-02</td>\n",
       "      <td>9.296473e-02</td>\n",
       "      <td>2.854838e-01</td>\n",
       "      <td>1.120235e+00</td>\n",
       "      <td>6.678703e-02</td>\n",
       "      <td>3.804588e-01</td>\n",
       "    </tr>\n",
       "    <tr>\n",
       "      <th>min</th>\n",
       "      <td>0.000000e+00</td>\n",
       "      <td>3.717949e-02</td>\n",
       "      <td>0.000000e+00</td>\n",
       "      <td>0.000000e+00</td>\n",
       "      <td>0.000000e+00</td>\n",
       "      <td>0.000000e+00</td>\n",
       "      <td>0.000000e+00</td>\n",
       "      <td>0.000000e+00</td>\n",
       "      <td>0.000000e+00</td>\n",
       "      <td>0.000000e+00</td>\n",
       "      <td>0.000000e+00</td>\n",
       "      <td>0.000000e+00</td>\n",
       "      <td>0.000000e+00</td>\n",
       "      <td>0.000000e+00</td>\n",
       "      <td>0.000000e+00</td>\n",
       "      <td>0.000000e+00</td>\n",
       "    </tr>\n",
       "    <tr>\n",
       "      <th>1%</th>\n",
       "      <td>1.874607e+04</td>\n",
       "      <td>2.308659e+00</td>\n",
       "      <td>1.874607e+04</td>\n",
       "      <td>0.000000e+00</td>\n",
       "      <td>0.000000e+00</td>\n",
       "      <td>0.000000e+00</td>\n",
       "      <td>0.000000e+00</td>\n",
       "      <td>0.000000e+00</td>\n",
       "      <td>0.000000e+00</td>\n",
       "      <td>0.000000e+00</td>\n",
       "      <td>0.000000e+00</td>\n",
       "      <td>0.000000e+00</td>\n",
       "      <td>0.000000e+00</td>\n",
       "      <td>0.000000e+00</td>\n",
       "      <td>0.000000e+00</td>\n",
       "      <td>0.000000e+00</td>\n",
       "    </tr>\n",
       "    <tr>\n",
       "      <th>2.5%</th>\n",
       "      <td>4.686518e+04</td>\n",
       "      <td>3.136487e+00</td>\n",
       "      <td>4.686518e+04</td>\n",
       "      <td>0.000000e+00</td>\n",
       "      <td>0.000000e+00</td>\n",
       "      <td>0.000000e+00</td>\n",
       "      <td>0.000000e+00</td>\n",
       "      <td>0.000000e+00</td>\n",
       "      <td>0.000000e+00</td>\n",
       "      <td>0.000000e+00</td>\n",
       "      <td>0.000000e+00</td>\n",
       "      <td>0.000000e+00</td>\n",
       "      <td>0.000000e+00</td>\n",
       "      <td>0.000000e+00</td>\n",
       "      <td>0.000000e+00</td>\n",
       "      <td>0.000000e+00</td>\n",
       "    </tr>\n",
       "    <tr>\n",
       "      <th>5%</th>\n",
       "      <td>9.373035e+04</td>\n",
       "      <td>3.941932e+00</td>\n",
       "      <td>9.373035e+04</td>\n",
       "      <td>0.000000e+00</td>\n",
       "      <td>0.000000e+00</td>\n",
       "      <td>0.000000e+00</td>\n",
       "      <td>0.000000e+00</td>\n",
       "      <td>0.000000e+00</td>\n",
       "      <td>0.000000e+00</td>\n",
       "      <td>0.000000e+00</td>\n",
       "      <td>0.000000e+00</td>\n",
       "      <td>0.000000e+00</td>\n",
       "      <td>0.000000e+00</td>\n",
       "      <td>0.000000e+00</td>\n",
       "      <td>0.000000e+00</td>\n",
       "      <td>0.000000e+00</td>\n",
       "    </tr>\n",
       "    <tr>\n",
       "      <th>10%</th>\n",
       "      <td>1.874607e+05</td>\n",
       "      <td>4.957700e+00</td>\n",
       "      <td>1.874607e+05</td>\n",
       "      <td>0.000000e+00</td>\n",
       "      <td>0.000000e+00</td>\n",
       "      <td>0.000000e+00</td>\n",
       "      <td>0.000000e+00</td>\n",
       "      <td>0.000000e+00</td>\n",
       "      <td>0.000000e+00</td>\n",
       "      <td>0.000000e+00</td>\n",
       "      <td>0.000000e+00</td>\n",
       "      <td>0.000000e+00</td>\n",
       "      <td>0.000000e+00</td>\n",
       "      <td>0.000000e+00</td>\n",
       "      <td>0.000000e+00</td>\n",
       "      <td>0.000000e+00</td>\n",
       "    </tr>\n",
       "    <tr>\n",
       "      <th>25%</th>\n",
       "      <td>4.686518e+05</td>\n",
       "      <td>6.797932e+00</td>\n",
       "      <td>4.686518e+05</td>\n",
       "      <td>0.000000e+00</td>\n",
       "      <td>0.000000e+00</td>\n",
       "      <td>0.000000e+00</td>\n",
       "      <td>0.000000e+00</td>\n",
       "      <td>0.000000e+00</td>\n",
       "      <td>0.000000e+00</td>\n",
       "      <td>0.000000e+00</td>\n",
       "      <td>0.000000e+00</td>\n",
       "      <td>0.000000e+00</td>\n",
       "      <td>0.000000e+00</td>\n",
       "      <td>0.000000e+00</td>\n",
       "      <td>0.000000e+00</td>\n",
       "      <td>0.000000e+00</td>\n",
       "    </tr>\n",
       "    <tr>\n",
       "      <th>50%</th>\n",
       "      <td>9.373035e+05</td>\n",
       "      <td>8.901577e+00</td>\n",
       "      <td>9.373035e+05</td>\n",
       "      <td>0.000000e+00</td>\n",
       "      <td>0.000000e+00</td>\n",
       "      <td>0.000000e+00</td>\n",
       "      <td>0.000000e+00</td>\n",
       "      <td>0.000000e+00</td>\n",
       "      <td>0.000000e+00</td>\n",
       "      <td>0.000000e+00</td>\n",
       "      <td>0.000000e+00</td>\n",
       "      <td>0.000000e+00</td>\n",
       "      <td>0.000000e+00</td>\n",
       "      <td>0.000000e+00</td>\n",
       "      <td>0.000000e+00</td>\n",
       "      <td>0.000000e+00</td>\n",
       "    </tr>\n",
       "    <tr>\n",
       "      <th>75%</th>\n",
       "      <td>1.405955e+06</td>\n",
       "      <td>1.186210e+01</td>\n",
       "      <td>1.405955e+06</td>\n",
       "      <td>0.000000e+00</td>\n",
       "      <td>0.000000e+00</td>\n",
       "      <td>0.000000e+00</td>\n",
       "      <td>0.000000e+00</td>\n",
       "      <td>0.000000e+00</td>\n",
       "      <td>0.000000e+00</td>\n",
       "      <td>1.000000e+00</td>\n",
       "      <td>0.000000e+00</td>\n",
       "      <td>0.000000e+00</td>\n",
       "      <td>0.000000e+00</td>\n",
       "      <td>0.000000e+00</td>\n",
       "      <td>0.000000e+00</td>\n",
       "      <td>0.000000e+00</td>\n",
       "    </tr>\n",
       "    <tr>\n",
       "      <th>90%</th>\n",
       "      <td>1.687146e+06</td>\n",
       "      <td>1.570392e+01</td>\n",
       "      <td>1.687146e+06</td>\n",
       "      <td>0.000000e+00</td>\n",
       "      <td>0.000000e+00</td>\n",
       "      <td>0.000000e+00</td>\n",
       "      <td>0.000000e+00</td>\n",
       "      <td>0.000000e+00</td>\n",
       "      <td>0.000000e+00</td>\n",
       "      <td>2.000000e+00</td>\n",
       "      <td>0.000000e+00</td>\n",
       "      <td>0.000000e+00</td>\n",
       "      <td>0.000000e+00</td>\n",
       "      <td>1.000000e+00</td>\n",
       "      <td>0.000000e+00</td>\n",
       "      <td>0.000000e+00</td>\n",
       "    </tr>\n",
       "    <tr>\n",
       "      <th>95%</th>\n",
       "      <td>1.780877e+06</td>\n",
       "      <td>1.901777e+01</td>\n",
       "      <td>1.780877e+06</td>\n",
       "      <td>0.000000e+00</td>\n",
       "      <td>0.000000e+00</td>\n",
       "      <td>0.000000e+00</td>\n",
       "      <td>0.000000e+00</td>\n",
       "      <td>0.000000e+00</td>\n",
       "      <td>0.000000e+00</td>\n",
       "      <td>2.000000e+00</td>\n",
       "      <td>0.000000e+00</td>\n",
       "      <td>0.000000e+00</td>\n",
       "      <td>1.000000e+00</td>\n",
       "      <td>2.000000e+00</td>\n",
       "      <td>0.000000e+00</td>\n",
       "      <td>0.000000e+00</td>\n",
       "    </tr>\n",
       "    <tr>\n",
       "      <th>97.5%</th>\n",
       "      <td>1.827742e+06</td>\n",
       "      <td>2.302086e+01</td>\n",
       "      <td>1.827742e+06</td>\n",
       "      <td>0.000000e+00</td>\n",
       "      <td>0.000000e+00</td>\n",
       "      <td>0.000000e+00</td>\n",
       "      <td>0.000000e+00</td>\n",
       "      <td>0.000000e+00</td>\n",
       "      <td>0.000000e+00</td>\n",
       "      <td>2.000000e+00</td>\n",
       "      <td>0.000000e+00</td>\n",
       "      <td>0.000000e+00</td>\n",
       "      <td>1.000000e+00</td>\n",
       "      <td>3.000000e+00</td>\n",
       "      <td>0.000000e+00</td>\n",
       "      <td>1.000000e+00</td>\n",
       "    </tr>\n",
       "    <tr>\n",
       "      <th>99%</th>\n",
       "      <td>1.855861e+06</td>\n",
       "      <td>3.027153e+01</td>\n",
       "      <td>1.855861e+06</td>\n",
       "      <td>0.000000e+00</td>\n",
       "      <td>1.000000e+00</td>\n",
       "      <td>0.000000e+00</td>\n",
       "      <td>0.000000e+00</td>\n",
       "      <td>0.000000e+00</td>\n",
       "      <td>1.000000e+00</td>\n",
       "      <td>3.000000e+00</td>\n",
       "      <td>0.000000e+00</td>\n",
       "      <td>0.000000e+00</td>\n",
       "      <td>1.000000e+00</td>\n",
       "      <td>4.000000e+00</td>\n",
       "      <td>0.000000e+00</td>\n",
       "      <td>1.000000e+00</td>\n",
       "    </tr>\n",
       "    <tr>\n",
       "      <th>max</th>\n",
       "      <td>1.874607e+06</td>\n",
       "      <td>1.652698e+02</td>\n",
       "      <td>1.874607e+06</td>\n",
       "      <td>2.000000e+00</td>\n",
       "      <td>2.000000e+00</td>\n",
       "      <td>2.000000e+00</td>\n",
       "      <td>1.300000e+01</td>\n",
       "      <td>1.000000e+00</td>\n",
       "      <td>2.900000e+01</td>\n",
       "      <td>1.900000e+01</td>\n",
       "      <td>2.000000e+00</td>\n",
       "      <td>3.000000e+00</td>\n",
       "      <td>3.000000e+00</td>\n",
       "      <td>1.090000e+02</td>\n",
       "      <td>4.000000e+00</td>\n",
       "      <td>1.800000e+01</td>\n",
       "    </tr>\n",
       "  </tbody>\n",
       "</table>\n",
       "</div>"
      ],
      "text/plain": [
       "         Unnamed: 0         width   point_index  bus_stop_count  \\\n",
       "count  1.874608e+06  1.874608e+06  1.874608e+06    1.874608e+06   \n",
       "mean   9.373035e+05  1.001624e+01  9.373035e+05    2.742440e-03   \n",
       "std    5.411529e+05  5.892543e+00  5.411529e+05    5.310623e-02   \n",
       "min    0.000000e+00  3.717949e-02  0.000000e+00    0.000000e+00   \n",
       "1%     1.874607e+04  2.308659e+00  1.874607e+04    0.000000e+00   \n",
       "2.5%   4.686518e+04  3.136487e+00  4.686518e+04    0.000000e+00   \n",
       "5%     9.373035e+04  3.941932e+00  9.373035e+04    0.000000e+00   \n",
       "10%    1.874607e+05  4.957700e+00  1.874607e+05    0.000000e+00   \n",
       "25%    4.686518e+05  6.797932e+00  4.686518e+05    0.000000e+00   \n",
       "50%    9.373035e+05  8.901577e+00  9.373035e+05    0.000000e+00   \n",
       "75%    1.405955e+06  1.186210e+01  1.405955e+06    0.000000e+00   \n",
       "90%    1.687146e+06  1.570392e+01  1.687146e+06    0.000000e+00   \n",
       "95%    1.780877e+06  1.901777e+01  1.780877e+06    0.000000e+00   \n",
       "97.5%  1.827742e+06  2.302086e+01  1.827742e+06    0.000000e+00   \n",
       "99%    1.855861e+06  3.027153e+01  1.855861e+06    0.000000e+00   \n",
       "max    1.874607e+06  1.652698e+02  1.874607e+06    2.000000e+00   \n",
       "\n",
       "       trash_can_count  linknyc_count  citybench_count  \\\n",
       "count     1.874608e+06   1.874608e+06     1.874608e+06   \n",
       "mean      1.175286e-02   2.835259e-03     3.862141e-04   \n",
       "std       1.079645e-01   5.323179e-02     3.062103e-02   \n",
       "min       0.000000e+00   0.000000e+00     0.000000e+00   \n",
       "1%        0.000000e+00   0.000000e+00     0.000000e+00   \n",
       "2.5%      0.000000e+00   0.000000e+00     0.000000e+00   \n",
       "5%        0.000000e+00   0.000000e+00     0.000000e+00   \n",
       "10%       0.000000e+00   0.000000e+00     0.000000e+00   \n",
       "25%       0.000000e+00   0.000000e+00     0.000000e+00   \n",
       "50%       0.000000e+00   0.000000e+00     0.000000e+00   \n",
       "75%       0.000000e+00   0.000000e+00     0.000000e+00   \n",
       "90%       0.000000e+00   0.000000e+00     0.000000e+00   \n",
       "95%       0.000000e+00   0.000000e+00     0.000000e+00   \n",
       "97.5%     0.000000e+00   0.000000e+00     0.000000e+00   \n",
       "99%       1.000000e+00   0.000000e+00     0.000000e+00   \n",
       "max       2.000000e+00   2.000000e+00     1.300000e+01   \n",
       "\n",
       "       bicycle_parking_shelter_count  bicycle_rack_count    tree_count  \\\n",
       "count                   1.874608e+06        1.874608e+06  1.874608e+06   \n",
       "mean                    1.493646e-05        2.311630e-02  4.742303e-01   \n",
       "std                     3.864743e-03        2.294375e-01  7.146751e-01   \n",
       "min                     0.000000e+00        0.000000e+00  0.000000e+00   \n",
       "1%                      0.000000e+00        0.000000e+00  0.000000e+00   \n",
       "2.5%                    0.000000e+00        0.000000e+00  0.000000e+00   \n",
       "5%                      0.000000e+00        0.000000e+00  0.000000e+00   \n",
       "10%                     0.000000e+00        0.000000e+00  0.000000e+00   \n",
       "25%                     0.000000e+00        0.000000e+00  0.000000e+00   \n",
       "50%                     0.000000e+00        0.000000e+00  0.000000e+00   \n",
       "75%                     0.000000e+00        0.000000e+00  1.000000e+00   \n",
       "90%                     0.000000e+00        0.000000e+00  2.000000e+00   \n",
       "95%                     0.000000e+00        0.000000e+00  2.000000e+00   \n",
       "97.5%                   0.000000e+00        0.000000e+00  2.000000e+00   \n",
       "99%                     0.000000e+00        1.000000e+00  3.000000e+00   \n",
       "max                     1.000000e+00        2.900000e+01  1.900000e+01   \n",
       "\n",
       "       newsstand_count  parking_meter_count  hydrant_count  street_sign_count  \\\n",
       "count     1.874608e+06         1.874608e+06   1.874608e+06       1.874608e+06   \n",
       "mean      2.464515e-04         8.697818e-03   8.819284e-02       3.808988e-01   \n",
       "std       1.576467e-02         9.296473e-02   2.854838e-01       1.120235e+00   \n",
       "min       0.000000e+00         0.000000e+00   0.000000e+00       0.000000e+00   \n",
       "1%        0.000000e+00         0.000000e+00   0.000000e+00       0.000000e+00   \n",
       "2.5%      0.000000e+00         0.000000e+00   0.000000e+00       0.000000e+00   \n",
       "5%        0.000000e+00         0.000000e+00   0.000000e+00       0.000000e+00   \n",
       "10%       0.000000e+00         0.000000e+00   0.000000e+00       0.000000e+00   \n",
       "25%       0.000000e+00         0.000000e+00   0.000000e+00       0.000000e+00   \n",
       "50%       0.000000e+00         0.000000e+00   0.000000e+00       0.000000e+00   \n",
       "75%       0.000000e+00         0.000000e+00   0.000000e+00       0.000000e+00   \n",
       "90%       0.000000e+00         0.000000e+00   0.000000e+00       1.000000e+00   \n",
       "95%       0.000000e+00         0.000000e+00   1.000000e+00       2.000000e+00   \n",
       "97.5%     0.000000e+00         0.000000e+00   1.000000e+00       3.000000e+00   \n",
       "99%       0.000000e+00         0.000000e+00   1.000000e+00       4.000000e+00   \n",
       "max       2.000000e+00         3.000000e+00   3.000000e+00       1.090000e+02   \n",
       "\n",
       "       alarm_call_box_count  scaffolding_permit_count  \n",
       "count          1.874608e+06              1.874608e+06  \n",
       "mean           4.339574e-03              5.140541e-02  \n",
       "std            6.678703e-02              3.804588e-01  \n",
       "min            0.000000e+00              0.000000e+00  \n",
       "1%             0.000000e+00              0.000000e+00  \n",
       "2.5%           0.000000e+00              0.000000e+00  \n",
       "5%             0.000000e+00              0.000000e+00  \n",
       "10%            0.000000e+00              0.000000e+00  \n",
       "25%            0.000000e+00              0.000000e+00  \n",
       "50%            0.000000e+00              0.000000e+00  \n",
       "75%            0.000000e+00              0.000000e+00  \n",
       "90%            0.000000e+00              0.000000e+00  \n",
       "95%            0.000000e+00              0.000000e+00  \n",
       "97.5%          0.000000e+00              1.000000e+00  \n",
       "99%            0.000000e+00              1.000000e+00  \n",
       "max            4.000000e+00              1.800000e+01  "
      ]
     },
     "execution_count": 42,
     "metadata": {},
     "output_type": "execute_result"
    }
   ],
   "source": [
    "sidewalk_nyc.describe([0.01, 0.025, 0.05, 0.1, 0.25, 0.5, 0.75, 0.9, 0.95, 0.975, 0.99])"
   ]
  },
  {
   "cell_type": "code",
   "execution_count": 43,
   "metadata": {},
   "outputs": [],
   "source": [
    "# naive weights based on predicted area of different clutters \n",
    "weights = { \n",
    "    'bus_stop_count': 2,\n",
    "    'trash_can_count': 0.5, \n",
    "    'linknyc_count': 2, \n",
    "    'citybench_count': 1.5,\n",
    "    'bicycle_parking_shelter_count': 2,\n",
    "    'bicycle_rack_count': 1.5,\n",
    "    'tree_count': .15,\n",
    "    'newsstand_count': 3, \n",
    "    'parking_meter_count': .15,\n",
    "    'scaffolding_permit_count': 2,\n",
    "    'hydrant_count': 0.25,\n",
    "    'street_sign_count': 0.05,\n",
    "    #'bollard_count': 0.05,\n",
    "    'alarm_call_box_count': .15\n",
    "}"
   ]
  },
  {
   "cell_type": "code",
   "execution_count": 44,
   "metadata": {},
   "outputs": [
    {
     "data": {
      "text/plain": [
       "count    1.874608e+06\n",
       "mean     2.700490e-01\n",
       "std      8.801910e-01\n",
       "min      0.000000e+00\n",
       "1%       0.000000e+00\n",
       "2.5%     0.000000e+00\n",
       "5%       0.000000e+00\n",
       "10%      0.000000e+00\n",
       "25%      0.000000e+00\n",
       "50%      5.000000e-02\n",
       "75%      2.500000e-01\n",
       "90%      4.000000e-01\n",
       "95%      1.650000e+00\n",
       "97.5%    2.200000e+00\n",
       "99%      4.000000e+00\n",
       "max      4.350000e+01\n",
       "Name: clutter, dtype: float64"
      ]
     },
     "execution_count": 44,
     "metadata": {},
     "output_type": "execute_result"
    }
   ],
   "source": [
    "\n",
    "# create a 'clutter' metric that is the sum of all street clutter features\n",
    "sidewalk_nyc['clutter'] = 0\n",
    "for feature, weight in weights.items():\n",
    "    sidewalk_nyc['clutter'] += sidewalk_nyc[feature] * weight\n",
    "\n",
    "sidewalk_nyc['clutter'].describe([0.01, 0.025, 0.05, 0.1, 0.25, 0.5, 0.75, 0.9, 0.95, 0.975, 0.99])"
   ]
  },
  {
   "cell_type": "code",
   "execution_count": 45,
   "metadata": {},
   "outputs": [],
   "source": [
    "# Now, weighted clutter by sidewalk width \n",
    "sidewalk_nyc['clutter'] = sidewalk_nyc['clutter'] / sidewalk_nyc['width']"
   ]
  },
  {
   "cell_type": "code",
   "execution_count": 46,
   "metadata": {},
   "outputs": [],
   "source": [
    "# clamp distribution to 1st and 99th percentile\n",
    "sidewalk_nyc['clutter'] = sidewalk_nyc['clutter'].clip(lower=sidewalk_nyc['clutter'].quantile(0.01), upper=sidewalk_nyc['clutter'].quantile(0.99))"
   ]
  },
  {
   "cell_type": "code",
   "execution_count": 47,
   "metadata": {},
   "outputs": [
    {
     "data": {
      "text/plain": [
       "count    1.874608e+06\n",
       "mean     2.559677e-02\n",
       "std      5.650779e-02\n",
       "min      0.000000e+00\n",
       "1%       0.000000e+00\n",
       "2.5%     0.000000e+00\n",
       "5%       0.000000e+00\n",
       "10%      0.000000e+00\n",
       "25%      0.000000e+00\n",
       "50%      7.485189e-03\n",
       "75%      2.555691e-02\n",
       "90%      5.176617e-02\n",
       "95%      1.245167e-01\n",
       "97.5%    2.213307e-01\n",
       "99%      3.668437e-01\n",
       "max      3.668446e-01\n",
       "Name: clutter, dtype: float64"
      ]
     },
     "execution_count": 47,
     "metadata": {},
     "output_type": "execute_result"
    }
   ],
   "source": [
    "# final describe \n",
    "sidewalk_nyc['clutter'].describe([0.01, 0.025, 0.05, 0.1, 0.25, 0.5, 0.75, 0.9, 0.95, 0.975, 0.99])"
   ]
  },
  {
   "cell_type": "code",
   "execution_count": 48,
   "metadata": {},
   "outputs": [],
   "source": [
    "# write street furniture density to csv \n",
    "os.makedirs(\"../data/processed\", exist_ok=True)\n",
    "sidewalk_nyc.to_csv(\"../data/processed/street_furniture_density.csv\", index=False)"
   ]
  },
  {
   "cell_type": "code",
   "execution_count": 49,
   "metadata": {},
   "outputs": [],
   "source": [
    "# map sidewalk and color by clutter \n",
    "fig, ax = plt.subplots(figsize=(20, 20))\n",
    "sidewalk_nyc.plot(column='clutter', ax=ax, legend=True, cmap='cividis', markersize=0.25, legend_kwds={'label': \"Weighted Street Clutter\", 'orientation': 'horizontal', 'shrink': 0.5, 'pad': 0.01})\n",
    "ax.set_axis_off()\n",
    "\n",
    "plt.savefig(\"figures/street_furniture_density.png\", dpi=300, bbox_inches='tight', pad_inches=0)\n",
    "plt.close()"
   ]
  },
  {
   "cell_type": "code",
   "execution_count": null,
   "metadata": {},
   "outputs": [],
   "source": []
  }
 ],
 "metadata": {
  "kernelspec": {
   "display_name": "Python 3",
   "language": "python",
   "name": "python3"
  },
  "language_info": {
   "codemirror_mode": {
    "name": "ipython",
    "version": 3
   },
   "file_extension": ".py",
   "mimetype": "text/x-python",
   "name": "python",
   "nbconvert_exporter": "python",
   "pygments_lexer": "ipython3",
   "version": "3.11.9"
  }
 },
 "nbformat": 4,
 "nbformat_minor": 2
}
