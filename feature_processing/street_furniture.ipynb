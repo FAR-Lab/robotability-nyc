{
 "cells": [
  {
   "cell_type": "markdown",
   "metadata": {},
   "source": [
    "# FARLAB - The Robotability Score \n",
    "Developer: @mattwfranchi\n",
    "\n",
    "In this notebook, we load, preprocess, and aggregate different types of street furniture to come up with a 'street clutter' metric, at the per-sidewalk level.\n",
    "\n",
    "Project Members: Matt Franchi, Maria-Teresa Parreira, Frank Bu, Wendy Ju "
   ]
  },
  {
   "cell_type": "code",
   "execution_count": 1,
   "metadata": {},
   "outputs": [
    {
     "name": "stderr",
     "output_type": "stream",
     "text": [
      "\u001b[34m2024-08-29 11:42:53 - rs-street-furniture - INFO - Modules initialized.\u001b[0m\n"
     ]
    }
   ],
   "source": [
    "# class RobotabilityGraph that inherits from Graph class \n",
    "import os\n",
    "import sys \n",
    "sys.path.append(\"/share/ju/urban-fingerprinting\")\n",
    "\n",
    "import osmnx as ox \n",
    "import geopandas as gpd \n",
    "import pandas as pd \n",
    "import numpy as np \n",
    "\n",
    "import matplotlib.pyplot as plt \n",
    "# enable latex plotting \n",
    "plt.rc('text', usetex=True)\n",
    "plt.rc('font', family='serif')\n",
    "\n",
    "from glob import glob \n",
    "from tqdm import tqdm \n",
    "\n",
    "from shapely import wkt, LineString \n",
    "\n",
    "import rasterio\n",
    "from rasterio.enums import Resampling\n",
    "from rasterio.plot import show \n",
    "\n",
    "\n",
    "from src.utils.logger import setup_logger \n",
    "\n",
    "logger = setup_logger('rs-street-furniture')\n",
    "logger.setLevel(\"INFO\")\n",
    "logger.info(\"Modules initialized.\")\n",
    "\n",
    "WGS='EPSG:4326'\n",
    "PROJ='EPSG:2263'\n",
    "\n",
    "REGEN_SEGMENTIZATION=False\n",
    "REGEN_TOPOLOGY=True\n",
    "\n",
    "GEN_INSPECTION_PLOTS=True\n",
    "INSPECTION_PLOTS=\"figures/inspection_plots\"\n",
    "\n",
    "os.makedirs(INSPECTION_PLOTS, exist_ok=True)\n"
   ]
  },
  {
   "cell_type": "markdown",
   "metadata": {},
   "source": [
    "## Loading and Preprocessing Data Features "
   ]
  },
  {
   "cell_type": "markdown",
   "metadata": {},
   "source": [
    "### Sidewalk Basemap (NYC)"
   ]
  },
  {
   "cell_type": "code",
   "execution_count": 2,
   "metadata": {},
   "outputs": [
    {
     "name": "stderr",
     "output_type": "stream",
     "text": [
      "\u001b[34m2024-08-29 11:43:15 - rs-street-furniture - INFO - Segmentized sidewalk basemap loaded.\u001b[0m\n",
      "\u001b[32m2024-08-29 11:43:15 - rs-street-furniture - SUCCESS - NYC sidewalk basemap loaded.\u001b[0m\n",
      "\u001b[34m2024-08-29 11:43:15 - rs-street-furniture - INFO - Distribution of sidewalk widths [ft]: \n",
      "count    2.551214e+06\n",
      "mean     5.373539e+00\n",
      "std      1.480773e+00\n",
      "min      2.710948e-01\n",
      "25%      4.458703e+00\n",
      "50%      5.149090e+00\n",
      "75%      6.177234e+00\n",
      "max      4.021491e+01\n",
      "Name: SHAPE_Width, dtype: float64\u001b[0m\n"
     ]
    }
   ],
   "source": [
    "segmentized = pd.read_csv(\"../data/sidewalks_nyc_segmentized.csv\")\n",
    "segmentized = gpd.GeoDataFrame(segmentized, geometry=segmentized['geometry'].apply(wkt.loads), crs=PROJ)\n",
    "logger.info(\"Segmentized sidewalk basemap loaded.\")\n",
    "\n",
    "\n",
    "sidewalk_nyc = segmentized\n",
    "\n",
    "logger.success(\"NYC sidewalk basemap loaded.\")\n",
    "logger.info(f\"Distribution of sidewalk widths [ft]: \\n{sidewalk_nyc['SHAPE_Width'].describe()}\")"
   ]
  },
  {
   "cell_type": "code",
   "execution_count": 3,
   "metadata": {},
   "outputs": [],
   "source": [
    "# the maximum distance to search for a nearby street segment. Since we segmentize by 50 feet, we can search within 25 feet\n",
    "MAX_DISTANCE=25\n",
    "\n",
    "CUTOFF= pd.to_datetime(\"2023-08-31\")\n"
   ]
  },
  {
   "cell_type": "code",
   "execution_count": 4,
   "metadata": {},
   "outputs": [],
   "source": [
    "\n",
    "# we buffer each point by 25 feet, creating a 50-diameter circle centered at the point. This captures nearby clutter. \n",
    "sidewalk_nyc['geometry'] = sidewalk_nyc['geometry'].buffer(MAX_DISTANCE)"
   ]
  },
  {
   "cell_type": "markdown",
   "metadata": {},
   "source": [
    "### Bus Stop Shelters "
   ]
  },
  {
   "cell_type": "code",
   "execution_count": 5,
   "metadata": {},
   "outputs": [],
   "source": [
    "# read bus stop shelters \n",
    "bus_stop_shelters = gpd.read_file(\"../data/street_furniture/bus_stop_shelters_nyc.csv\")\n",
    "bus_stop_shelters = gpd.GeoDataFrame(bus_stop_shelters, geometry=wkt.loads(bus_stop_shelters['the_geom']), crs=WGS).to_crs(PROJ)\n",
    "\n",
    "# Bus stop installation date is not present, so filtering is out-of-scoped."
   ]
  },
  {
   "cell_type": "markdown",
   "metadata": {},
   "source": [
    "### Trash Cans / Waste Baskets "
   ]
  },
  {
   "cell_type": "code",
   "execution_count": 6,
   "metadata": {},
   "outputs": [],
   "source": [
    "# load trash cans \n",
    "trash_cans = pd.read_csv(\"../data/street_furniture/dsny_litter_baskets_nyc.csv\")\n",
    "trash_cans = gpd.GeoDataFrame(trash_cans, geometry=wkt.loads(trash_cans['point']), crs=WGS).to_crs(PROJ)\n",
    "\n",
    "# trash can installation date is not present, so filtering is out-of-scope"
   ]
  },
  {
   "cell_type": "markdown",
   "metadata": {},
   "source": [
    "### LinkNYC Kiosks "
   ]
  },
  {
   "cell_type": "code",
   "execution_count": 7,
   "metadata": {},
   "outputs": [
    {
     "data": {
      "text/plain": [
       "count                             2137\n",
       "mean     2017-12-17 15:39:20.131024896\n",
       "min                1971-12-01 00:00:00\n",
       "25%                2016-11-12 00:00:00\n",
       "50%                2017-07-19 00:00:00\n",
       "75%                2018-02-17 00:00:00\n",
       "max                2023-11-30 00:00:00\n",
       "Name: Installation Complete, dtype: object"
      ]
     },
     "execution_count": 7,
     "metadata": {},
     "output_type": "execute_result"
    }
   ],
   "source": [
    "# load linknyc\n",
    "linknyc = pd.read_csv(\"../data/street_furniture/LinkNYC_Kiosk_Locations_20240816.csv\")\n",
    "linknyc = gpd.GeoDataFrame(linknyc, geometry=gpd.points_from_xy(linknyc['Longitude'], linknyc['Latitude']), crs='EPSG:4326').to_crs(PROJ)\n",
    "\n",
    "linknyc['Installation Complete'] = pd.to_datetime(linknyc['Installation Complete'])\n",
    "linknyc = linknyc[linknyc['Installation Complete'] <= CUTOFF]\n",
    "linknyc['Installation Complete'].describe()"
   ]
  },
  {
   "cell_type": "markdown",
   "metadata": {},
   "source": [
    "### Bicycle Parking Shelters "
   ]
  },
  {
   "cell_type": "code",
   "execution_count": 8,
   "metadata": {},
   "outputs": [
    {
     "name": "stderr",
     "output_type": "stream",
     "text": [
      "/tmp/ipykernel_4166785/4045691724.py:4: UserWarning: Could not infer format, so each element will be parsed individually, falling back to `dateutil`. To ensure parsing is consistent and as-expected, please specify a format.\n",
      "  bicycle_parking_shelters['Build_date'] = pd.to_datetime(bicycle_parking_shelters['Build_date'])\n"
     ]
    },
    {
     "data": {
      "text/plain": [
       "count                               17\n",
       "mean     2008-07-26 18:21:10.588235264\n",
       "min                2007-12-17 00:00:00\n",
       "25%                2008-07-01 00:00:00\n",
       "50%                2008-09-12 00:00:00\n",
       "75%                2008-10-13 00:00:00\n",
       "max                2008-12-17 00:00:00\n",
       "Name: Build_date, dtype: object"
      ]
     },
     "execution_count": 8,
     "metadata": {},
     "output_type": "execute_result"
    }
   ],
   "source": [
    "# load bicycle parking shelters \n",
    "bicycle_parking_shelters = pd.read_csv(\"../data/street_furniture/bicycle_parking_shelters_nyc.csv\")\n",
    "bicycle_parking_shelters = gpd.GeoDataFrame(bicycle_parking_shelters, geometry=wkt.loads(bicycle_parking_shelters['the_geom']), crs=WGS).to_crs(PROJ)\n",
    "bicycle_parking_shelters['Build_date'] = pd.to_datetime(bicycle_parking_shelters['Build_date'])\n",
    "bicycle_parking_shelters = bicycle_parking_shelters[bicycle_parking_shelters['Build_date'] <= CUTOFF]\n",
    "bicycle_parking_shelters['Build_date'].describe()"
   ]
  },
  {
   "cell_type": "markdown",
   "metadata": {},
   "source": [
    "### Bicycle Racks "
   ]
  },
  {
   "cell_type": "code",
   "execution_count": 9,
   "metadata": {},
   "outputs": [
    {
     "data": {
      "text/plain": [
       "count                            31585\n",
       "mean     2011-06-02 09:53:44.100047616\n",
       "min                1900-01-01 00:00:00\n",
       "25%                2010-06-14 00:00:00\n",
       "50%                2013-05-31 00:00:00\n",
       "75%                2017-03-02 00:00:00\n",
       "max                2023-05-02 00:00:00\n",
       "Name: Date_Inst, dtype: object"
      ]
     },
     "execution_count": 9,
     "metadata": {},
     "output_type": "execute_result"
    }
   ],
   "source": [
    "# load bicycle racks \n",
    "bicycle_racks = gpd.read_file(\"../data/street_furniture/bicycle_racks_nyc/Bycycle_Parking_2023_07/Bicycle_Parking_2023_07.shp\").to_crs(PROJ)\n",
    "bicycle_racks['Date_Inst'] = pd.to_datetime(bicycle_racks['Date_Inst'])\n",
    "bicycle_racks = bicycle_racks[bicycle_racks['Date_Inst'] <= CUTOFF]\n",
    "bicycle_racks['Date_Inst'].describe()"
   ]
  },
  {
   "cell_type": "markdown",
   "metadata": {},
   "source": [
    "### CityBench "
   ]
  },
  {
   "cell_type": "code",
   "execution_count": 10,
   "metadata": {},
   "outputs": [
    {
     "data": {
      "text/plain": [
       "count                             2141\n",
       "mean     2015-04-09 03:36:34.301728256\n",
       "min                2012-04-01 00:00:00\n",
       "25%                2013-07-10 00:00:00\n",
       "50%                2014-11-18 00:00:00\n",
       "75%                2017-02-04 00:00:00\n",
       "max                2019-09-30 00:00:00\n",
       "Name: Installati, dtype: object"
      ]
     },
     "execution_count": 10,
     "metadata": {},
     "output_type": "execute_result"
    }
   ],
   "source": [
    "# load citybench\n",
    "citybench = pd.read_csv(\"../data/street_furniture/citybench_nyc.csv\")\n",
    "citybench = gpd.GeoDataFrame(citybench, geometry=gpd.points_from_xy(citybench['Longitude'], citybench['Latitude']), crs='EPSG:4326').to_crs(PROJ)\n",
    "citybench['Installati'] = pd.to_datetime(citybench['Installati'])\n",
    "citybench = citybench[citybench['Installati'] <= CUTOFF]\n",
    "citybench['Installati'].describe()"
   ]
  },
  {
   "cell_type": "markdown",
   "metadata": {},
   "source": [
    "### Street Trees "
   ]
  },
  {
   "cell_type": "code",
   "execution_count": 11,
   "metadata": {},
   "outputs": [
    {
     "data": {
      "text/plain": [
       "count                           683788\n",
       "mean     2015-12-06 07:18:59.574254592\n",
       "min                2015-05-19 00:00:00\n",
       "25%                2015-08-29 00:00:00\n",
       "50%                2015-10-23 00:00:00\n",
       "75%                2016-02-06 00:00:00\n",
       "max                2016-10-05 00:00:00\n",
       "Name: created_at, dtype: object"
      ]
     },
     "execution_count": 11,
     "metadata": {},
     "output_type": "execute_result"
    }
   ],
   "source": [
    "# load trees \n",
    "trees = pd.read_csv(\"../data/street_furniture/forestry_tree_points_nyc.csv\", engine='pyarrow')\n",
    "trees = gpd.GeoDataFrame(trees, geometry=gpd.points_from_xy(trees['longitude'], trees['latitude']), crs='EPSG:4326').to_crs(PROJ)\n",
    "trees['created_at'] = pd.to_datetime(trees['created_at'])\n",
    "trees = trees[trees['created_at'] <= CUTOFF]\n",
    "trees['created_at'].describe()"
   ]
  },
  {
   "cell_type": "markdown",
   "metadata": {},
   "source": [
    "### News Stands "
   ]
  },
  {
   "cell_type": "code",
   "execution_count": 12,
   "metadata": {},
   "outputs": [
    {
     "data": {
      "text/plain": [
       "count                              357\n",
       "mean     2011-09-04 23:31:45.882352896\n",
       "min                2007-09-03 00:00:00\n",
       "25%                2008-07-30 00:00:00\n",
       "50%                2010-11-08 00:00:00\n",
       "75%                2013-06-04 00:00:00\n",
       "max                2021-12-22 00:00:00\n",
       "Name: Built_Date, dtype: object"
      ]
     },
     "execution_count": 12,
     "metadata": {},
     "output_type": "execute_result"
    }
   ],
   "source": [
    "# load newsstands \n",
    "newsstands = pd.read_csv(\"../data/street_furniture/newsstands_nyc.csv\", engine='pyarrow')\n",
    "newsstands = gpd.GeoDataFrame(newsstands, geometry=wkt.loads(newsstands['the_geom']), crs='EPSG:4326').to_crs(PROJ)\n",
    "newsstands['Built_Date'] = pd.to_datetime(newsstands['Built_Date'])\n",
    "newsstands = newsstands[newsstands['Built_Date'] <= CUTOFF]\n",
    "newsstands['Built_Date'].describe() "
   ]
  },
  {
   "cell_type": "markdown",
   "metadata": {},
   "source": [
    "### Parking Meters "
   ]
  },
  {
   "cell_type": "code",
   "execution_count": 13,
   "metadata": {},
   "outputs": [],
   "source": [
    "# load parking meters \n",
    "parking_meters = pd.read_csv(\"../data/street_furniture/parking_meters_nyc.csv\")\n",
    "parking_meters = gpd.GeoDataFrame(parking_meters, geometry=wkt.loads(parking_meters['Location']), crs='EPSG:4326').to_crs(PROJ)\n",
    "\n",
    "# parking meter installation date is not present, so filtering is out-of-scope"
   ]
  },
  {
   "cell_type": "markdown",
   "metadata": {},
   "source": [
    "### Fire Hydrants "
   ]
  },
  {
   "cell_type": "code",
   "execution_count": 14,
   "metadata": {},
   "outputs": [],
   "source": [
    "# load hydrants \n",
    "hydrants = pd.read_csv(\"../data/street_furniture/fire_hydrants_nyc.csv\")\n",
    "hydrants = gpd.GeoDataFrame(hydrants, geometry=wkt.loads(hydrants['the_geom']), crs='EPSG:4326').to_crs(PROJ)\n",
    "\n",
    "# hydrant installation date is not present, so filtering is out-of-scope"
   ]
  },
  {
   "cell_type": "markdown",
   "metadata": {},
   "source": [
    "### Street Signs "
   ]
  },
  {
   "cell_type": "code",
   "execution_count": 15,
   "metadata": {},
   "outputs": [
    {
     "data": {
      "text/plain": [
       "count                          1071145\n",
       "mean     2018-10-01 02:10:48.026551040\n",
       "min                1953-08-07 00:00:00\n",
       "25%                2017-08-23 00:00:00\n",
       "50%                2020-01-07 00:00:00\n",
       "75%                2021-07-15 00:00:00\n",
       "max                2023-12-02 00:00:00\n",
       "Name: order_completed_on_date, dtype: object"
      ]
     },
     "execution_count": 15,
     "metadata": {},
     "output_type": "execute_result"
    }
   ],
   "source": [
    "# load street signs \n",
    "street_signs = pd.read_csv(\"../data/street_furniture/Street_Sign_Work_Orders_20240816.csv\", engine='pyarrow')\n",
    "\n",
    "# only keep 'Current' record type \n",
    "street_signs = street_signs[street_signs['record_type'] == 'Current']\n",
    "street_signs['order_completed_on_date'] = pd.to_datetime(street_signs['order_completed_on_date'])\n",
    "street_signs = street_signs[street_signs['order_completed_on_date'] <= CUTOFF]\n",
    "street_signs = gpd.GeoDataFrame(street_signs, geometry=gpd.points_from_xy(street_signs['sign_x_coord'], street_signs['sign_y_coord']), crs=PROJ)\n",
    "street_signs['order_completed_on_date'].describe()"
   ]
  },
  {
   "cell_type": "markdown",
   "metadata": {},
   "source": [
    "### Bollards "
   ]
  },
  {
   "cell_type": "code",
   "execution_count": 16,
   "metadata": {},
   "outputs": [
    {
     "data": {
      "text/plain": [
       "count                            54665\n",
       "mean     2016-05-17 19:10:59.939632384\n",
       "min                2005-01-10 00:00:00\n",
       "25%                2012-09-10 00:00:00\n",
       "50%                2017-07-12 00:00:00\n",
       "75%                2020-06-25 00:00:00\n",
       "max                2023-08-31 00:00:00\n",
       "Name: Date, dtype: object"
      ]
     },
     "execution_count": 16,
     "metadata": {},
     "output_type": "execute_result"
    }
   ],
   "source": [
    "# load bollards \n",
    "bollards = pd.read_csv(\"../data/street_furniture/Traffic_Bollards_Tracking_and_Installations_20240816.csv\", engine='pyarrow')\n",
    "\n",
    "bollards['Date'] = pd.to_datetime(bollards['Date'])\n",
    "bollards = bollards[bollards['Date'] <= CUTOFF]\n",
    "bollards['Date'].describe()\n",
    "\n",
    "# we choose not to process bollards, as locations need to be geocoded. Latitude/Longitude is not present in the dataset."
   ]
  },
  {
   "cell_type": "markdown",
   "metadata": {},
   "source": [
    "### In-Service Fire Alarm Call Boxes "
   ]
  },
  {
   "cell_type": "code",
   "execution_count": 17,
   "metadata": {},
   "outputs": [],
   "source": [
    "alarm_call_boxes = pd.read_csv(\"../data/street_furniture/In-Service_Alarm_Box_Locations_20240816.csv\")\n",
    "alarm_call_boxes = gpd.GeoDataFrame(alarm_call_boxes, geometry=wkt.loads(alarm_call_boxes['Location Point']), crs='EPSG:4326').to_crs(PROJ)"
   ]
  },
  {
   "cell_type": "markdown",
   "metadata": {},
   "source": [
    "### Scaffolding "
   ]
  },
  {
   "cell_type": "code",
   "execution_count": 19,
   "metadata": {},
   "outputs": [],
   "source": [
    "# read DoB active scaffolding permits \n",
    "scaffolding_permits = pd.read_csv(\"../data/dob_active_sheds.csv\", engine='pyarrow')\n",
    "scaffolding_permits = gpd.GeoDataFrame(scaffolding_permits, geometry=gpd.points_from_xy(scaffolding_permits['Longitude Point'], scaffolding_permits['Latitude Point']), crs='EPSG:4326')\n",
    "scaffolding_permits = scaffolding_permits.to_crs(PROJ)"
   ]
  },
  {
   "cell_type": "code",
   "execution_count": 20,
   "metadata": {},
   "outputs": [
    {
     "data": {
      "text/plain": [
       "count                             7771\n",
       "mean     2022-07-19 11:03:34.489769728\n",
       "min                2006-04-27 00:00:00\n",
       "25%                2022-02-10 00:00:00\n",
       "50%                2023-02-08 00:00:00\n",
       "75%                2023-07-17 00:00:00\n",
       "max                2023-12-01 00:00:00\n",
       "Name: First Permit Date, dtype: object"
      ]
     },
     "execution_count": 20,
     "metadata": {},
     "output_type": "execute_result"
    }
   ],
   "source": [
    "scaffolding_permits['First Permit Date']  = pd.to_datetime(scaffolding_permits['First Permit Date'])\n",
    "\n",
    "scaffolding_permits = scaffolding_permits[scaffolding_permits['First Permit Date'] <= CUTOFF]\n",
    "scaffolding_permits['First Permit Date'].describe()"
   ]
  },
  {
   "cell_type": "markdown",
   "metadata": {},
   "source": [
    "## Spatial Joining of Street Furnitures to Sidewalk Graph "
   ]
  },
  {
   "cell_type": "code",
   "execution_count": 21,
   "metadata": {},
   "outputs": [
    {
     "name": "stderr",
     "output_type": "stream",
     "text": [
      "\u001b[34m2024-08-29 11:45:05 - rs-street-furniture - INFO - Missing 0 bus stop shelters.\u001b[0m\n"
     ]
    }
   ],
   "source": [
    "# sjoin nearest bus stops and trash cans to sidewalk\n",
    "len_before = len(sidewalk_nyc)\n",
    "bus_stop_shelters = gpd.sjoin(sidewalk_nyc, bus_stop_shelters, )\n",
    "logger.info(f\"Missing {len(bus_stop_shelters[bus_stop_shelters['index_right'].isna()])} bus stop shelters.\")"
   ]
  },
  {
   "cell_type": "code",
   "execution_count": 22,
   "metadata": {},
   "outputs": [
    {
     "name": "stderr",
     "output_type": "stream",
     "text": [
      "\u001b[34m2024-08-29 11:45:06 - rs-street-furniture - INFO - Removed 1514 trash cans that are not on sidewalks.\u001b[0m\n"
     ]
    }
   ],
   "source": [
    "# sjoin nearest trash cans to sidewalk\n",
    "len_before = len(trash_cans)\n",
    "trash_cans = gpd.sjoin(sidewalk_nyc, trash_cans, )\n",
    "logger.info(f\"Removed {len_before - len(trash_cans)} trash cans that are not on sidewalks.\")"
   ]
  },
  {
   "cell_type": "code",
   "execution_count": 23,
   "metadata": {},
   "outputs": [
    {
     "name": "stderr",
     "output_type": "stream",
     "text": [
      "\u001b[34m2024-08-29 11:45:07 - rs-street-furniture - INFO - LinkNYC: 2137 -> 4529\u001b[0m\n"
     ]
    }
   ],
   "source": [
    "# sjoin nearest linknyc to sidewalk\n",
    "len_before = len(linknyc)\n",
    "linknyc = gpd.sjoin(sidewalk_nyc, linknyc, )\n",
    "logger.info(f\"LinkNYC: {len_before} -> {len(linknyc)}\")"
   ]
  },
  {
   "cell_type": "code",
   "execution_count": 24,
   "metadata": {},
   "outputs": [
    {
     "name": "stderr",
     "output_type": "stream",
     "text": [
      "\u001b[34m2024-08-29 11:45:08 - rs-street-furniture - INFO - Citybench: 2141 -> 1336\u001b[0m\n"
     ]
    }
   ],
   "source": [
    "# sjoin nearest citybench \n",
    "len_before = len(citybench)\n",
    "citybench = gpd.sjoin(sidewalk_nyc, citybench, )\n",
    "logger.info(f\"Citybench: {len_before} -> {len(citybench)}\")"
   ]
  },
  {
   "cell_type": "code",
   "execution_count": 25,
   "metadata": {},
   "outputs": [
    {
     "name": "stderr",
     "output_type": "stream",
     "text": [
      "\u001b[34m2024-08-29 11:45:08 - rs-street-furniture - INFO - Bicycle Parking Shelters: 17 -> 35\u001b[0m\n"
     ]
    }
   ],
   "source": [
    "# sjoint nearest bicycle parking shelters to sidewalk\n",
    "len_before = len(bicycle_parking_shelters)\n",
    "bicycle_parking_shelters = gpd.sjoin(sidewalk_nyc, bicycle_parking_shelters, )\n",
    "logger.info(f\"Bicycle Parking Shelters: {len_before} -> {len(bicycle_parking_shelters)}\")"
   ]
  },
  {
   "cell_type": "code",
   "execution_count": 26,
   "metadata": {},
   "outputs": [
    {
     "name": "stderr",
     "output_type": "stream",
     "text": [
      "\u001b[34m2024-08-29 11:45:10 - rs-street-furniture - INFO - Bicycle Racks: 31585 -> 57730\u001b[0m\n"
     ]
    }
   ],
   "source": [
    "\n",
    "# sjoin nearest bicycle racks to sidewalk\n",
    "len_before = len(bicycle_racks)\n",
    "bicycle_racks = gpd.sjoin(sidewalk_nyc, bicycle_racks, )\n",
    "logger.info(f\"Bicycle Racks: {len_before} -> {len(bicycle_racks)}\")"
   ]
  },
  {
   "cell_type": "code",
   "execution_count": 27,
   "metadata": {},
   "outputs": [
    {
     "name": "stderr",
     "output_type": "stream",
     "text": [
      "\u001b[34m2024-08-29 11:45:17 - rs-street-furniture - INFO - Trees: 683788 -> 1369979\u001b[0m\n"
     ]
    }
   ],
   "source": [
    "# sjoin nearest trees to sidewalk\n",
    "len_before = len(trees)\n",
    "trees = gpd.sjoin(sidewalk_nyc, trees, )\n",
    "logger.info(f\"Trees: {len_before} -> {len(trees)}\")"
   ]
  },
  {
   "cell_type": "code",
   "execution_count": 28,
   "metadata": {},
   "outputs": [
    {
     "name": "stderr",
     "output_type": "stream",
     "text": [
      "\u001b[34m2024-08-29 11:45:18 - rs-street-furniture - INFO - Newsstands: 357 -> 537\u001b[0m\n"
     ]
    }
   ],
   "source": [
    "# sjoin nearest newsstands to sidewalk\n",
    "len_before = len(newsstands)\n",
    "newsstands = gpd.sjoin(sidewalk_nyc, newsstands, )\n",
    "logger.info(f\"Newsstands: {len_before} -> {len(newsstands)}\")"
   ]
  },
  {
   "cell_type": "code",
   "execution_count": 29,
   "metadata": {},
   "outputs": [
    {
     "name": "stderr",
     "output_type": "stream",
     "text": [
      "\u001b[34m2024-08-29 11:45:19 - rs-street-furniture - INFO - Parking Meters: 13336 -> 25913\u001b[0m\n"
     ]
    }
   ],
   "source": [
    "# sjoin nearest parking meters to sidewalk\n",
    "len_before = len(parking_meters)\n",
    "parking_meters = gpd.sjoin(sidewalk_nyc, parking_meters, )\n",
    "logger.info(f\"Parking Meters: {len_before} -> {len(parking_meters)}\")"
   ]
  },
  {
   "cell_type": "code",
   "execution_count": 30,
   "metadata": {},
   "outputs": [
    {
     "name": "stderr",
     "output_type": "stream",
     "text": [
      "\u001b[34m2024-08-29 11:45:20 - rs-street-furniture - INFO - Hydrants: 109410 -> 215766\u001b[0m\n"
     ]
    }
   ],
   "source": [
    "# sjoin nearest hydrants to sidewalk\n",
    "len_before = len(hydrants)\n",
    "hydrants = gpd.sjoin(sidewalk_nyc, hydrants, )\n",
    "logger.info(f\"Hydrants: {len_before} -> {len(hydrants)}\")"
   ]
  },
  {
   "cell_type": "code",
   "execution_count": 31,
   "metadata": {},
   "outputs": [
    {
     "name": "stderr",
     "output_type": "stream",
     "text": [
      "\u001b[34m2024-08-29 11:45:26 - rs-street-furniture - INFO - Street Signs: 1071145 -> 845353\u001b[0m\n"
     ]
    }
   ],
   "source": [
    "# sjoin nearest street signs to sidewalk\n",
    "len_before = len(street_signs)\n",
    "street_signs = gpd.sjoin(sidewalk_nyc, street_signs, )\n",
    "logger.info(f\"Street Signs: {len_before} -> {len(street_signs)}\")"
   ]
  },
  {
   "cell_type": "code",
   "execution_count": 32,
   "metadata": {},
   "outputs": [],
   "source": [
    "# sjoin nearest bollards to sidewalk\n",
    "#len_before = len(bollards)\n",
    "#bollards = gpd.sjoin(sidewalk_nyc, bollards )\n",
    "#logger.info(f\"Bollards: {len_before} -> {len(bollards)}\")\n"
   ]
  },
  {
   "cell_type": "code",
   "execution_count": 33,
   "metadata": {},
   "outputs": [
    {
     "name": "stderr",
     "output_type": "stream",
     "text": [
      "\u001b[34m2024-08-29 11:45:27 - rs-street-furniture - INFO - Alarm Call Boxes: 13008 -> 9746\u001b[0m\n"
     ]
    }
   ],
   "source": [
    "# sjoin nearest alarm call boxes to sidewalk\n",
    "len_before = len(alarm_call_boxes)\n",
    "alarm_call_boxes = gpd.sjoin(sidewalk_nyc, alarm_call_boxes, )\n",
    "logger.info(f\"Alarm Call Boxes: {len_before} -> {len(alarm_call_boxes)}\")"
   ]
  },
  {
   "cell_type": "code",
   "execution_count": 35,
   "metadata": {},
   "outputs": [
    {
     "name": "stderr",
     "output_type": "stream",
     "text": [
      "/share/ju/conda_virtualenvs/urbanekg/lib/python3.11/site-packages/IPython/core/interactiveshell.py:3517: FutureWarning: The `op` parameter is deprecated and will be removed in a future release. Please use the `predicate` parameter instead.\n",
      "  if await self.run_code(code, result, async_=asy):\n"
     ]
    }
   ],
   "source": [
    "BUFFER=100 \n",
    "# buffer scaffolding_permits points, then sjoin to sidewalks\n",
    "scaffolding_permits.geometry = scaffolding_permits.geometry.buffer(BUFFER)\n",
    "scaffolding_permits = gpd.sjoin(sidewalk_nyc, scaffolding_permits, predicate='intersects')"
   ]
  },
  {
   "cell_type": "code",
   "execution_count": 36,
   "metadata": {},
   "outputs": [],
   "source": [
    "\n",
    "# now, get number of bus stops, trash cans, linknyc, citybench, bicycle parking shelters, and bicycle racks per sidewalk\n",
    "bus_stop_counts = bus_stop_shelters.groupby('point_index').size().reset_index(name='bus_stop_count').fillna(0)\n",
    "trash_can_counts = trash_cans.groupby('point_index').size().reset_index(name='trash_can_count').fillna(0)\n",
    "linknyc_counts = linknyc.groupby('point_index').size().reset_index(name='linknyc_count').fillna(0)\n",
    "citybench_counts = citybench.groupby('point_index').size().reset_index(name='citybench_count').fillna(0)\n",
    "bicycle_parking_shelter_counts = bicycle_parking_shelters.groupby('point_index').size().reset_index(name='bicycle_parking_shelter_count').fillna(0)\n",
    "bicycle_rack_counts = bicycle_racks.groupby('point_index').size().reset_index(name='bicycle_rack_count').fillna(0)\n",
    "tree_counts = trees.groupby('point_index').size().reset_index(name='tree_count').fillna(0)\n",
    "newsstand_counts = newsstands.groupby('point_index').size().reset_index(name='newsstand_count').fillna(0)\n",
    "parking_meter_counts = parking_meters.groupby('point_index').size().reset_index(name='parking_meter_count').fillna(0)\n",
    "hydrant_counts = hydrants.groupby('point_index').size().reset_index(name='hydrant_count').fillna(0)\n",
    "street_sign_counts = street_signs.groupby('point_index').size().reset_index(name='street_sign_count').fillna(0)\n",
    "#bollard_counts = bollards.groupby('point_index').size().reset_index(name='bollard_count').fillna(0)\n",
    "alarm_call_box_counts = alarm_call_boxes.groupby('point_index').size().reset_index(name='alarm_call_box_count').fillna(0)"
   ]
  },
  {
   "cell_type": "code",
   "execution_count": 37,
   "metadata": {},
   "outputs": [],
   "source": [
    "# merge scaffolding in \n",
    "scaffolding_counts = scaffolding_permits.groupby('point_index').size().reset_index(name='scaffolding_permit_count').fillna(0)"
   ]
  },
  {
   "cell_type": "code",
   "execution_count": 38,
   "metadata": {},
   "outputs": [],
   "source": [
    "\n",
    "# merge counts to sidewalk_nyc\n",
    "sidewalk_nyc = sidewalk_nyc.merge(bus_stop_counts, on='point_index', how='left')\n",
    "sidewalk_nyc = sidewalk_nyc.merge(trash_can_counts, on='point_index', how='left')\n",
    "sidewalk_nyc = sidewalk_nyc.merge(linknyc_counts, on='point_index', how='left')\n",
    "sidewalk_nyc = sidewalk_nyc.merge(citybench_counts, on='point_index', how='left')\n",
    "sidewalk_nyc = sidewalk_nyc.merge(bicycle_parking_shelter_counts, on='point_index', how='left')\n",
    "sidewalk_nyc = sidewalk_nyc.merge(bicycle_rack_counts, on='point_index', how='left')\n",
    "sidewalk_nyc = sidewalk_nyc.merge(tree_counts, on='point_index', how='left')\n",
    "sidewalk_nyc = sidewalk_nyc.merge(newsstand_counts, on='point_index', how='left')\n",
    "sidewalk_nyc = sidewalk_nyc.merge(parking_meter_counts, on='point_index', how='left')\n",
    "sidewalk_nyc = sidewalk_nyc.merge(hydrant_counts, on='point_index', how='left')\n",
    "sidewalk_nyc = sidewalk_nyc.merge(street_sign_counts, on='point_index', how='left')\n",
    "#sidewalk_nyc = sidewalk_nyc.merge(bollard_counts, on='point_index', how='left')\n",
    "sidewalk_nyc = sidewalk_nyc.merge(alarm_call_box_counts, on='point_index', how='left')"
   ]
  },
  {
   "cell_type": "code",
   "execution_count": 40,
   "metadata": {},
   "outputs": [],
   "source": [
    "# merge scaffolding in \n",
    "sidewalk_nyc = sidewalk_nyc.merge(scaffolding_counts, on='point_index', how='left')"
   ]
  },
  {
   "cell_type": "code",
   "execution_count": 41,
   "metadata": {},
   "outputs": [],
   "source": [
    "\n",
    "sidewalk_nyc = sidewalk_nyc.fillna(0)"
   ]
  },
  {
   "cell_type": "code",
   "execution_count": 42,
   "metadata": {},
   "outputs": [
    {
     "data": {
      "text/html": [
       "<div>\n",
       "<style scoped>\n",
       "    .dataframe tbody tr th:only-of-type {\n",
       "        vertical-align: middle;\n",
       "    }\n",
       "\n",
       "    .dataframe tbody tr th {\n",
       "        vertical-align: top;\n",
       "    }\n",
       "\n",
       "    .dataframe thead th {\n",
       "        text-align: right;\n",
       "    }\n",
       "</style>\n",
       "<table border=\"1\" class=\"dataframe\">\n",
       "  <thead>\n",
       "    <tr style=\"text-align: right;\">\n",
       "      <th></th>\n",
       "      <th>Unnamed: 0</th>\n",
       "      <th>SOURCE_ID</th>\n",
       "      <th>SHAPE_Leng</th>\n",
       "      <th>SHAPE_Area</th>\n",
       "      <th>SHAPE_Width</th>\n",
       "      <th>point_index</th>\n",
       "      <th>bus_stop_count</th>\n",
       "      <th>trash_can_count</th>\n",
       "      <th>linknyc_count</th>\n",
       "      <th>citybench_count</th>\n",
       "      <th>bicycle_parking_shelter_count</th>\n",
       "      <th>bicycle_rack_count</th>\n",
       "      <th>tree_count</th>\n",
       "      <th>newsstand_count</th>\n",
       "      <th>parking_meter_count</th>\n",
       "      <th>hydrant_count</th>\n",
       "      <th>street_sign_count</th>\n",
       "      <th>alarm_call_box_count</th>\n",
       "      <th>scaffolding_permit_count</th>\n",
       "    </tr>\n",
       "  </thead>\n",
       "  <tbody>\n",
       "    <tr>\n",
       "      <th>count</th>\n",
       "      <td>2.551214e+06</td>\n",
       "      <td>2.551214e+06</td>\n",
       "      <td>2.551214e+06</td>\n",
       "      <td>2.551214e+06</td>\n",
       "      <td>2.551214e+06</td>\n",
       "      <td>2.551214e+06</td>\n",
       "      <td>2.551214e+06</td>\n",
       "      <td>2.551214e+06</td>\n",
       "      <td>2.551214e+06</td>\n",
       "      <td>2.551214e+06</td>\n",
       "      <td>2.551214e+06</td>\n",
       "      <td>2.551214e+06</td>\n",
       "      <td>2.551214e+06</td>\n",
       "      <td>2.551214e+06</td>\n",
       "      <td>2.551214e+06</td>\n",
       "      <td>2.551214e+06</td>\n",
       "      <td>2.551214e+06</td>\n",
       "      <td>2.551214e+06</td>\n",
       "      <td>2.551214e+06</td>\n",
       "    </tr>\n",
       "    <tr>\n",
       "      <th>mean</th>\n",
       "      <td>1.275606e+06</td>\n",
       "      <td>1.331676e+10</td>\n",
       "      <td>5.353440e+03</td>\n",
       "      <td>3.053169e+04</td>\n",
       "      <td>5.373539e+00</td>\n",
       "      <td>1.275606e+06</td>\n",
       "      <td>2.705771e-03</td>\n",
       "      <td>9.080775e-03</td>\n",
       "      <td>1.775233e-03</td>\n",
       "      <td>5.236723e-04</td>\n",
       "      <td>1.371896e-05</td>\n",
       "      <td>2.262844e-02</td>\n",
       "      <td>5.369910e-01</td>\n",
       "      <td>2.104880e-04</td>\n",
       "      <td>1.015713e-02</td>\n",
       "      <td>8.457385e-02</td>\n",
       "      <td>3.313532e-01</td>\n",
       "      <td>3.820142e-03</td>\n",
       "      <td>2.144434e-01</td>\n",
       "    </tr>\n",
       "    <tr>\n",
       "      <th>std</th>\n",
       "      <td>7.364722e+05</td>\n",
       "      <td>5.368509e+09</td>\n",
       "      <td>1.268543e+04</td>\n",
       "      <td>8.059542e+04</td>\n",
       "      <td>1.480773e+00</td>\n",
       "      <td>7.364722e+05</td>\n",
       "      <td>5.272552e-02</td>\n",
       "      <td>9.501635e-02</td>\n",
       "      <td>4.213334e-02</td>\n",
       "      <td>3.807908e-02</td>\n",
       "      <td>3.703887e-03</td>\n",
       "      <td>2.311208e-01</td>\n",
       "      <td>7.353800e-01</td>\n",
       "      <td>1.458752e-02</td>\n",
       "      <td>1.003554e-01</td>\n",
       "      <td>2.793039e-01</td>\n",
       "      <td>1.178561e+00</td>\n",
       "      <td>6.571934e-02</td>\n",
       "      <td>7.596916e-01</td>\n",
       "    </tr>\n",
       "    <tr>\n",
       "      <th>min</th>\n",
       "      <td>0.000000e+00</td>\n",
       "      <td>0.000000e+00</td>\n",
       "      <td>1.388815e+01</td>\n",
       "      <td>1.018359e+01</td>\n",
       "      <td>2.710948e-01</td>\n",
       "      <td>0.000000e+00</td>\n",
       "      <td>0.000000e+00</td>\n",
       "      <td>0.000000e+00</td>\n",
       "      <td>0.000000e+00</td>\n",
       "      <td>0.000000e+00</td>\n",
       "      <td>0.000000e+00</td>\n",
       "      <td>0.000000e+00</td>\n",
       "      <td>0.000000e+00</td>\n",
       "      <td>0.000000e+00</td>\n",
       "      <td>0.000000e+00</td>\n",
       "      <td>0.000000e+00</td>\n",
       "      <td>0.000000e+00</td>\n",
       "      <td>0.000000e+00</td>\n",
       "      <td>0.000000e+00</td>\n",
       "    </tr>\n",
       "    <tr>\n",
       "      <th>1%</th>\n",
       "      <td>2.551213e+04</td>\n",
       "      <td>1.380000e+09</td>\n",
       "      <td>2.233946e+02</td>\n",
       "      <td>7.566396e+02</td>\n",
       "      <td>2.257815e+00</td>\n",
       "      <td>2.551213e+04</td>\n",
       "      <td>0.000000e+00</td>\n",
       "      <td>0.000000e+00</td>\n",
       "      <td>0.000000e+00</td>\n",
       "      <td>0.000000e+00</td>\n",
       "      <td>0.000000e+00</td>\n",
       "      <td>0.000000e+00</td>\n",
       "      <td>0.000000e+00</td>\n",
       "      <td>0.000000e+00</td>\n",
       "      <td>0.000000e+00</td>\n",
       "      <td>0.000000e+00</td>\n",
       "      <td>0.000000e+00</td>\n",
       "      <td>0.000000e+00</td>\n",
       "      <td>0.000000e+00</td>\n",
       "    </tr>\n",
       "    <tr>\n",
       "      <th>2.5%</th>\n",
       "      <td>6.378033e+04</td>\n",
       "      <td>1.380001e+09</td>\n",
       "      <td>4.735645e+02</td>\n",
       "      <td>1.814837e+03</td>\n",
       "      <td>2.724753e+00</td>\n",
       "      <td>6.378033e+04</td>\n",
       "      <td>0.000000e+00</td>\n",
       "      <td>0.000000e+00</td>\n",
       "      <td>0.000000e+00</td>\n",
       "      <td>0.000000e+00</td>\n",
       "      <td>0.000000e+00</td>\n",
       "      <td>0.000000e+00</td>\n",
       "      <td>0.000000e+00</td>\n",
       "      <td>0.000000e+00</td>\n",
       "      <td>0.000000e+00</td>\n",
       "      <td>0.000000e+00</td>\n",
       "      <td>0.000000e+00</td>\n",
       "      <td>0.000000e+00</td>\n",
       "      <td>0.000000e+00</td>\n",
       "    </tr>\n",
       "    <tr>\n",
       "      <th>5%</th>\n",
       "      <td>1.275607e+05</td>\n",
       "      <td>3.380000e+09</td>\n",
       "      <td>8.330682e+02</td>\n",
       "      <td>3.479572e+03</td>\n",
       "      <td>3.319015e+00</td>\n",
       "      <td>1.275607e+05</td>\n",
       "      <td>0.000000e+00</td>\n",
       "      <td>0.000000e+00</td>\n",
       "      <td>0.000000e+00</td>\n",
       "      <td>0.000000e+00</td>\n",
       "      <td>0.000000e+00</td>\n",
       "      <td>0.000000e+00</td>\n",
       "      <td>0.000000e+00</td>\n",
       "      <td>0.000000e+00</td>\n",
       "      <td>0.000000e+00</td>\n",
       "      <td>0.000000e+00</td>\n",
       "      <td>0.000000e+00</td>\n",
       "      <td>0.000000e+00</td>\n",
       "      <td>0.000000e+00</td>\n",
       "    </tr>\n",
       "    <tr>\n",
       "      <th>10%</th>\n",
       "      <td>2.551213e+05</td>\n",
       "      <td>5.380001e+09</td>\n",
       "      <td>1.453053e+03</td>\n",
       "      <td>6.537684e+03</td>\n",
       "      <td>3.818261e+00</td>\n",
       "      <td>2.551213e+05</td>\n",
       "      <td>0.000000e+00</td>\n",
       "      <td>0.000000e+00</td>\n",
       "      <td>0.000000e+00</td>\n",
       "      <td>0.000000e+00</td>\n",
       "      <td>0.000000e+00</td>\n",
       "      <td>0.000000e+00</td>\n",
       "      <td>0.000000e+00</td>\n",
       "      <td>0.000000e+00</td>\n",
       "      <td>0.000000e+00</td>\n",
       "      <td>0.000000e+00</td>\n",
       "      <td>0.000000e+00</td>\n",
       "      <td>0.000000e+00</td>\n",
       "      <td>0.000000e+00</td>\n",
       "    </tr>\n",
       "    <tr>\n",
       "      <th>25%</th>\n",
       "      <td>6.378032e+05</td>\n",
       "      <td>9.380001e+09</td>\n",
       "      <td>2.449058e+03</td>\n",
       "      <td>1.202621e+04</td>\n",
       "      <td>4.458703e+00</td>\n",
       "      <td>6.378032e+05</td>\n",
       "      <td>0.000000e+00</td>\n",
       "      <td>0.000000e+00</td>\n",
       "      <td>0.000000e+00</td>\n",
       "      <td>0.000000e+00</td>\n",
       "      <td>0.000000e+00</td>\n",
       "      <td>0.000000e+00</td>\n",
       "      <td>0.000000e+00</td>\n",
       "      <td>0.000000e+00</td>\n",
       "      <td>0.000000e+00</td>\n",
       "      <td>0.000000e+00</td>\n",
       "      <td>0.000000e+00</td>\n",
       "      <td>0.000000e+00</td>\n",
       "      <td>0.000000e+00</td>\n",
       "    </tr>\n",
       "    <tr>\n",
       "      <th>50%</th>\n",
       "      <td>1.275606e+06</td>\n",
       "      <td>1.438000e+10</td>\n",
       "      <td>3.306964e+03</td>\n",
       "      <td>1.699473e+04</td>\n",
       "      <td>5.149090e+00</td>\n",
       "      <td>1.275606e+06</td>\n",
       "      <td>0.000000e+00</td>\n",
       "      <td>0.000000e+00</td>\n",
       "      <td>0.000000e+00</td>\n",
       "      <td>0.000000e+00</td>\n",
       "      <td>0.000000e+00</td>\n",
       "      <td>0.000000e+00</td>\n",
       "      <td>0.000000e+00</td>\n",
       "      <td>0.000000e+00</td>\n",
       "      <td>0.000000e+00</td>\n",
       "      <td>0.000000e+00</td>\n",
       "      <td>0.000000e+00</td>\n",
       "      <td>0.000000e+00</td>\n",
       "      <td>0.000000e+00</td>\n",
       "    </tr>\n",
       "    <tr>\n",
       "      <th>75%</th>\n",
       "      <td>1.913410e+06</td>\n",
       "      <td>1.838000e+10</td>\n",
       "      <td>4.118132e+03</td>\n",
       "      <td>2.358696e+04</td>\n",
       "      <td>6.177234e+00</td>\n",
       "      <td>1.913410e+06</td>\n",
       "      <td>0.000000e+00</td>\n",
       "      <td>0.000000e+00</td>\n",
       "      <td>0.000000e+00</td>\n",
       "      <td>0.000000e+00</td>\n",
       "      <td>0.000000e+00</td>\n",
       "      <td>0.000000e+00</td>\n",
       "      <td>1.000000e+00</td>\n",
       "      <td>0.000000e+00</td>\n",
       "      <td>0.000000e+00</td>\n",
       "      <td>0.000000e+00</td>\n",
       "      <td>0.000000e+00</td>\n",
       "      <td>0.000000e+00</td>\n",
       "      <td>0.000000e+00</td>\n",
       "    </tr>\n",
       "    <tr>\n",
       "      <th>90%</th>\n",
       "      <td>2.296092e+06</td>\n",
       "      <td>1.938000e+10</td>\n",
       "      <td>6.786029e+03</td>\n",
       "      <td>3.970825e+04</td>\n",
       "      <td>7.230711e+00</td>\n",
       "      <td>2.296092e+06</td>\n",
       "      <td>0.000000e+00</td>\n",
       "      <td>0.000000e+00</td>\n",
       "      <td>0.000000e+00</td>\n",
       "      <td>0.000000e+00</td>\n",
       "      <td>0.000000e+00</td>\n",
       "      <td>0.000000e+00</td>\n",
       "      <td>2.000000e+00</td>\n",
       "      <td>0.000000e+00</td>\n",
       "      <td>0.000000e+00</td>\n",
       "      <td>0.000000e+00</td>\n",
       "      <td>1.000000e+00</td>\n",
       "      <td>0.000000e+00</td>\n",
       "      <td>1.000000e+00</td>\n",
       "    </tr>\n",
       "    <tr>\n",
       "      <th>95%</th>\n",
       "      <td>2.423652e+06</td>\n",
       "      <td>2.038000e+10</td>\n",
       "      <td>1.186969e+04</td>\n",
       "      <td>7.265095e+04</td>\n",
       "      <td>7.928344e+00</td>\n",
       "      <td>2.423652e+06</td>\n",
       "      <td>0.000000e+00</td>\n",
       "      <td>0.000000e+00</td>\n",
       "      <td>0.000000e+00</td>\n",
       "      <td>0.000000e+00</td>\n",
       "      <td>0.000000e+00</td>\n",
       "      <td>0.000000e+00</td>\n",
       "      <td>2.000000e+00</td>\n",
       "      <td>0.000000e+00</td>\n",
       "      <td>0.000000e+00</td>\n",
       "      <td>1.000000e+00</td>\n",
       "      <td>2.000000e+00</td>\n",
       "      <td>0.000000e+00</td>\n",
       "      <td>1.000000e+00</td>\n",
       "    </tr>\n",
       "    <tr>\n",
       "      <th>97.5%</th>\n",
       "      <td>2.487433e+06</td>\n",
       "      <td>2.038000e+10</td>\n",
       "      <td>2.331716e+04</td>\n",
       "      <td>1.577023e+05</td>\n",
       "      <td>8.536053e+00</td>\n",
       "      <td>2.487433e+06</td>\n",
       "      <td>0.000000e+00</td>\n",
       "      <td>0.000000e+00</td>\n",
       "      <td>0.000000e+00</td>\n",
       "      <td>0.000000e+00</td>\n",
       "      <td>0.000000e+00</td>\n",
       "      <td>0.000000e+00</td>\n",
       "      <td>2.000000e+00</td>\n",
       "      <td>0.000000e+00</td>\n",
       "      <td>0.000000e+00</td>\n",
       "      <td>1.000000e+00</td>\n",
       "      <td>3.000000e+00</td>\n",
       "      <td>0.000000e+00</td>\n",
       "      <td>2.000000e+00</td>\n",
       "    </tr>\n",
       "    <tr>\n",
       "      <th>99%</th>\n",
       "      <td>2.525701e+06</td>\n",
       "      <td>2.138000e+10</td>\n",
       "      <td>7.384319e+04</td>\n",
       "      <td>4.020508e+05</td>\n",
       "      <td>9.643663e+00</td>\n",
       "      <td>2.525701e+06</td>\n",
       "      <td>0.000000e+00</td>\n",
       "      <td>0.000000e+00</td>\n",
       "      <td>0.000000e+00</td>\n",
       "      <td>0.000000e+00</td>\n",
       "      <td>0.000000e+00</td>\n",
       "      <td>1.000000e+00</td>\n",
       "      <td>3.000000e+00</td>\n",
       "      <td>0.000000e+00</td>\n",
       "      <td>1.000000e+00</td>\n",
       "      <td>1.000000e+00</td>\n",
       "      <td>4.000000e+00</td>\n",
       "      <td>0.000000e+00</td>\n",
       "      <td>3.000000e+00</td>\n",
       "    </tr>\n",
       "    <tr>\n",
       "      <th>max</th>\n",
       "      <td>2.551213e+06</td>\n",
       "      <td>2.138005e+10</td>\n",
       "      <td>1.703262e+05</td>\n",
       "      <td>1.238858e+06</td>\n",
       "      <td>4.021491e+01</td>\n",
       "      <td>2.551213e+06</td>\n",
       "      <td>2.000000e+00</td>\n",
       "      <td>2.000000e+00</td>\n",
       "      <td>2.000000e+00</td>\n",
       "      <td>2.300000e+01</td>\n",
       "      <td>1.000000e+00</td>\n",
       "      <td>2.900000e+01</td>\n",
       "      <td>3.600000e+01</td>\n",
       "      <td>2.000000e+00</td>\n",
       "      <td>2.000000e+00</td>\n",
       "      <td>3.000000e+00</td>\n",
       "      <td>1.440000e+02</td>\n",
       "      <td>8.000000e+00</td>\n",
       "      <td>2.200000e+01</td>\n",
       "    </tr>\n",
       "  </tbody>\n",
       "</table>\n",
       "</div>"
      ],
      "text/plain": [
       "         Unnamed: 0     SOURCE_ID    SHAPE_Leng    SHAPE_Area   SHAPE_Width  \\\n",
       "count  2.551214e+06  2.551214e+06  2.551214e+06  2.551214e+06  2.551214e+06   \n",
       "mean   1.275606e+06  1.331676e+10  5.353440e+03  3.053169e+04  5.373539e+00   \n",
       "std    7.364722e+05  5.368509e+09  1.268543e+04  8.059542e+04  1.480773e+00   \n",
       "min    0.000000e+00  0.000000e+00  1.388815e+01  1.018359e+01  2.710948e-01   \n",
       "1%     2.551213e+04  1.380000e+09  2.233946e+02  7.566396e+02  2.257815e+00   \n",
       "2.5%   6.378033e+04  1.380001e+09  4.735645e+02  1.814837e+03  2.724753e+00   \n",
       "5%     1.275607e+05  3.380000e+09  8.330682e+02  3.479572e+03  3.319015e+00   \n",
       "10%    2.551213e+05  5.380001e+09  1.453053e+03  6.537684e+03  3.818261e+00   \n",
       "25%    6.378032e+05  9.380001e+09  2.449058e+03  1.202621e+04  4.458703e+00   \n",
       "50%    1.275606e+06  1.438000e+10  3.306964e+03  1.699473e+04  5.149090e+00   \n",
       "75%    1.913410e+06  1.838000e+10  4.118132e+03  2.358696e+04  6.177234e+00   \n",
       "90%    2.296092e+06  1.938000e+10  6.786029e+03  3.970825e+04  7.230711e+00   \n",
       "95%    2.423652e+06  2.038000e+10  1.186969e+04  7.265095e+04  7.928344e+00   \n",
       "97.5%  2.487433e+06  2.038000e+10  2.331716e+04  1.577023e+05  8.536053e+00   \n",
       "99%    2.525701e+06  2.138000e+10  7.384319e+04  4.020508e+05  9.643663e+00   \n",
       "max    2.551213e+06  2.138005e+10  1.703262e+05  1.238858e+06  4.021491e+01   \n",
       "\n",
       "        point_index  bus_stop_count  trash_can_count  linknyc_count  \\\n",
       "count  2.551214e+06    2.551214e+06     2.551214e+06   2.551214e+06   \n",
       "mean   1.275606e+06    2.705771e-03     9.080775e-03   1.775233e-03   \n",
       "std    7.364722e+05    5.272552e-02     9.501635e-02   4.213334e-02   \n",
       "min    0.000000e+00    0.000000e+00     0.000000e+00   0.000000e+00   \n",
       "1%     2.551213e+04    0.000000e+00     0.000000e+00   0.000000e+00   \n",
       "2.5%   6.378033e+04    0.000000e+00     0.000000e+00   0.000000e+00   \n",
       "5%     1.275607e+05    0.000000e+00     0.000000e+00   0.000000e+00   \n",
       "10%    2.551213e+05    0.000000e+00     0.000000e+00   0.000000e+00   \n",
       "25%    6.378032e+05    0.000000e+00     0.000000e+00   0.000000e+00   \n",
       "50%    1.275606e+06    0.000000e+00     0.000000e+00   0.000000e+00   \n",
       "75%    1.913410e+06    0.000000e+00     0.000000e+00   0.000000e+00   \n",
       "90%    2.296092e+06    0.000000e+00     0.000000e+00   0.000000e+00   \n",
       "95%    2.423652e+06    0.000000e+00     0.000000e+00   0.000000e+00   \n",
       "97.5%  2.487433e+06    0.000000e+00     0.000000e+00   0.000000e+00   \n",
       "99%    2.525701e+06    0.000000e+00     0.000000e+00   0.000000e+00   \n",
       "max    2.551213e+06    2.000000e+00     2.000000e+00   2.000000e+00   \n",
       "\n",
       "       citybench_count  bicycle_parking_shelter_count  bicycle_rack_count  \\\n",
       "count     2.551214e+06                   2.551214e+06        2.551214e+06   \n",
       "mean      5.236723e-04                   1.371896e-05        2.262844e-02   \n",
       "std       3.807908e-02                   3.703887e-03        2.311208e-01   \n",
       "min       0.000000e+00                   0.000000e+00        0.000000e+00   \n",
       "1%        0.000000e+00                   0.000000e+00        0.000000e+00   \n",
       "2.5%      0.000000e+00                   0.000000e+00        0.000000e+00   \n",
       "5%        0.000000e+00                   0.000000e+00        0.000000e+00   \n",
       "10%       0.000000e+00                   0.000000e+00        0.000000e+00   \n",
       "25%       0.000000e+00                   0.000000e+00        0.000000e+00   \n",
       "50%       0.000000e+00                   0.000000e+00        0.000000e+00   \n",
       "75%       0.000000e+00                   0.000000e+00        0.000000e+00   \n",
       "90%       0.000000e+00                   0.000000e+00        0.000000e+00   \n",
       "95%       0.000000e+00                   0.000000e+00        0.000000e+00   \n",
       "97.5%     0.000000e+00                   0.000000e+00        0.000000e+00   \n",
       "99%       0.000000e+00                   0.000000e+00        1.000000e+00   \n",
       "max       2.300000e+01                   1.000000e+00        2.900000e+01   \n",
       "\n",
       "         tree_count  newsstand_count  parking_meter_count  hydrant_count  \\\n",
       "count  2.551214e+06     2.551214e+06         2.551214e+06   2.551214e+06   \n",
       "mean   5.369910e-01     2.104880e-04         1.015713e-02   8.457385e-02   \n",
       "std    7.353800e-01     1.458752e-02         1.003554e-01   2.793039e-01   \n",
       "min    0.000000e+00     0.000000e+00         0.000000e+00   0.000000e+00   \n",
       "1%     0.000000e+00     0.000000e+00         0.000000e+00   0.000000e+00   \n",
       "2.5%   0.000000e+00     0.000000e+00         0.000000e+00   0.000000e+00   \n",
       "5%     0.000000e+00     0.000000e+00         0.000000e+00   0.000000e+00   \n",
       "10%    0.000000e+00     0.000000e+00         0.000000e+00   0.000000e+00   \n",
       "25%    0.000000e+00     0.000000e+00         0.000000e+00   0.000000e+00   \n",
       "50%    0.000000e+00     0.000000e+00         0.000000e+00   0.000000e+00   \n",
       "75%    1.000000e+00     0.000000e+00         0.000000e+00   0.000000e+00   \n",
       "90%    2.000000e+00     0.000000e+00         0.000000e+00   0.000000e+00   \n",
       "95%    2.000000e+00     0.000000e+00         0.000000e+00   1.000000e+00   \n",
       "97.5%  2.000000e+00     0.000000e+00         0.000000e+00   1.000000e+00   \n",
       "99%    3.000000e+00     0.000000e+00         1.000000e+00   1.000000e+00   \n",
       "max    3.600000e+01     2.000000e+00         2.000000e+00   3.000000e+00   \n",
       "\n",
       "       street_sign_count  alarm_call_box_count  scaffolding_permit_count  \n",
       "count       2.551214e+06          2.551214e+06              2.551214e+06  \n",
       "mean        3.313532e-01          3.820142e-03              2.144434e-01  \n",
       "std         1.178561e+00          6.571934e-02              7.596916e-01  \n",
       "min         0.000000e+00          0.000000e+00              0.000000e+00  \n",
       "1%          0.000000e+00          0.000000e+00              0.000000e+00  \n",
       "2.5%        0.000000e+00          0.000000e+00              0.000000e+00  \n",
       "5%          0.000000e+00          0.000000e+00              0.000000e+00  \n",
       "10%         0.000000e+00          0.000000e+00              0.000000e+00  \n",
       "25%         0.000000e+00          0.000000e+00              0.000000e+00  \n",
       "50%         0.000000e+00          0.000000e+00              0.000000e+00  \n",
       "75%         0.000000e+00          0.000000e+00              0.000000e+00  \n",
       "90%         1.000000e+00          0.000000e+00              1.000000e+00  \n",
       "95%         2.000000e+00          0.000000e+00              1.000000e+00  \n",
       "97.5%       3.000000e+00          0.000000e+00              2.000000e+00  \n",
       "99%         4.000000e+00          0.000000e+00              3.000000e+00  \n",
       "max         1.440000e+02          8.000000e+00              2.200000e+01  "
      ]
     },
     "execution_count": 42,
     "metadata": {},
     "output_type": "execute_result"
    }
   ],
   "source": [
    "sidewalk_nyc.describe([0.01, 0.025, 0.05, 0.1, 0.25, 0.5, 0.75, 0.9, 0.95, 0.975, 0.99])"
   ]
  },
  {
   "cell_type": "code",
   "execution_count": 43,
   "metadata": {},
   "outputs": [],
   "source": [
    "# naive weights based on predicted area of different clutters \n",
    "weights = { \n",
    "    'bus_stop_count': 2,\n",
    "    'trash_can_count': 0.5, \n",
    "    'linknyc_count': 2, \n",
    "    'citybench_count': 1.5,\n",
    "    'bicycle_parking_shelter_count': 2,\n",
    "    'bicycle_rack_count': 1.5,\n",
    "    'tree_count': .15,\n",
    "    'newsstand_count': 3, \n",
    "    'parking_meter_count': .15,\n",
    "    'scaffolding_permit_count': 2,\n",
    "    'hydrant_count': 0.25,\n",
    "    'street_sign_count': 0.05,\n",
    "    #'bollard_count': 0.05,\n",
    "    'alarm_call_box_count': .15\n",
    "}"
   ]
  },
  {
   "cell_type": "code",
   "execution_count": 44,
   "metadata": {},
   "outputs": [
    {
     "data": {
      "text/plain": [
       "count    2.551214e+06\n",
       "mean     5.981326e-01\n",
       "std      1.606934e+00\n",
       "min      0.000000e+00\n",
       "1%       0.000000e+00\n",
       "2.5%     0.000000e+00\n",
       "5%       0.000000e+00\n",
       "10%      0.000000e+00\n",
       "25%      0.000000e+00\n",
       "50%      1.500000e-01\n",
       "75%      3.000000e-01\n",
       "90%      2.050000e+00\n",
       "95%      3.650000e+00\n",
       "97.5%    4.500000e+00\n",
       "99%      8.000000e+00\n",
       "max      4.450000e+01\n",
       "Name: clutter, dtype: float64"
      ]
     },
     "execution_count": 44,
     "metadata": {},
     "output_type": "execute_result"
    }
   ],
   "source": [
    "\n",
    "# create a 'clutter' metric that is the sum of all street clutter features\n",
    "sidewalk_nyc['clutter'] = 0\n",
    "for feature, weight in weights.items():\n",
    "    sidewalk_nyc['clutter'] += sidewalk_nyc[feature] * weight\n",
    "\n",
    "sidewalk_nyc['clutter'].describe([0.01, 0.025, 0.05, 0.1, 0.25, 0.5, 0.75, 0.9, 0.95, 0.975, 0.99])"
   ]
  },
  {
   "cell_type": "code",
   "execution_count": 45,
   "metadata": {},
   "outputs": [],
   "source": [
    "# Now, weighted clutter by sidewalk width \n",
    "sidewalk_nyc['clutter'] = sidewalk_nyc['clutter'] / sidewalk_nyc['SHAPE_Width']"
   ]
  },
  {
   "cell_type": "code",
   "execution_count": 46,
   "metadata": {},
   "outputs": [],
   "source": [
    "# clamp distribution to 1st and 99th percentile\n",
    "sidewalk_nyc['clutter'] = sidewalk_nyc['clutter'].clip(lower=sidewalk_nyc['clutter'].quantile(0.01), upper=sidewalk_nyc['clutter'].quantile(0.99))"
   ]
  },
  {
   "cell_type": "code",
   "execution_count": 47,
   "metadata": {},
   "outputs": [
    {
     "data": {
      "text/plain": [
       "count    2.551214e+06\n",
       "mean     9.642424e-02\n",
       "std      2.168543e-01\n",
       "min      0.000000e+00\n",
       "1%       0.000000e+00\n",
       "2.5%     0.000000e+00\n",
       "5%       0.000000e+00\n",
       "10%      0.000000e+00\n",
       "25%      0.000000e+00\n",
       "50%      2.539171e-02\n",
       "75%      5.867995e-02\n",
       "90%      3.366669e-01\n",
       "95%      5.479976e-01\n",
       "97.5%    8.310632e-01\n",
       "99%      1.267572e+00\n",
       "max      1.267572e+00\n",
       "Name: clutter, dtype: float64"
      ]
     },
     "execution_count": 47,
     "metadata": {},
     "output_type": "execute_result"
    }
   ],
   "source": [
    "# final describe \n",
    "sidewalk_nyc['clutter'].describe([0.01, 0.025, 0.05, 0.1, 0.25, 0.5, 0.75, 0.9, 0.95, 0.975, 0.99])"
   ]
  },
  {
   "cell_type": "code",
   "execution_count": 48,
   "metadata": {},
   "outputs": [],
   "source": [
    "# write street furniture density to csv \n",
    "os.makedirs(\"../data/processed\", exist_ok=True)\n",
    "sidewalk_nyc.to_csv(\"../data/processed/street_furniture_density.csv\", index=False)"
   ]
  },
  {
   "cell_type": "code",
   "execution_count": 49,
   "metadata": {},
   "outputs": [],
   "source": [
    "# map sidewalk and color by clutter \n",
    "fig, ax = plt.subplots(figsize=(20, 20))\n",
    "sidewalk_nyc.plot(column='clutter', ax=ax, legend=True, cmap='cividis', markersize=0.25, legend_kwds={'label': \"Weighted Street Clutter\", 'orientation': 'horizontal', 'shrink': 0.5, 'pad': 0.01})\n",
    "ax.set_axis_off()\n",
    "\n",
    "plt.savefig(\"figures/street_furniture_density.png\", dpi=300, bbox_inches='tight', pad_inches=0)\n",
    "plt.close()"
   ]
  },
  {
   "cell_type": "code",
   "execution_count": null,
   "metadata": {},
   "outputs": [],
   "source": []
  }
 ],
 "metadata": {
  "kernelspec": {
   "display_name": "Python 3",
   "language": "python",
   "name": "python3"
  },
  "language_info": {
   "codemirror_mode": {
    "name": "ipython",
    "version": 3
   },
   "file_extension": ".py",
   "mimetype": "text/x-python",
   "name": "python",
   "nbconvert_exporter": "python",
   "pygments_lexer": "ipython3",
   "version": "3.11.9"
  }
 },
 "nbformat": 4,
 "nbformat_minor": 2
}
