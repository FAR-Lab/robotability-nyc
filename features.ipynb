{
 "cells": [
  {
   "cell_type": "code",
   "execution_count": 2,
   "metadata": {},
   "outputs": [
    {
     "name": "stderr",
     "output_type": "stream",
     "text": [
      "\u001b[34m2024-08-22 10:20:40 - robotability-score - INFO - Modules initialized.\u001b[0m\n"
     ]
    }
   ],
   "source": [
    "# class RobotabilityGraph that inherits from Graph class \n",
    "import os\n",
    "import sys \n",
    "sys.path.append(\"/share/ju/urban-fingerprinting\")\n",
    "\n",
    "import osmnx as ox \n",
    "import geopandas as gpd \n",
    "import pandas as pd \n",
    "import numpy as np \n",
    "\n",
    "import matplotlib.pyplot as plt \n",
    "# enable latex plotting \n",
    "plt.rc('text', usetex=True)\n",
    "plt.rc('font', family='serif')\n",
    "\n",
    "from glob import glob \n",
    "from tqdm import tqdm \n",
    "\n",
    "from shapely import wkt, LineString \n",
    "\n",
    "import rasterio\n",
    "from rasterio.enums import Resampling\n",
    "from rasterio.plot import show \n",
    "\n",
    "\n",
    "from src.utils.logger import setup_logger \n",
    "\n",
    "logger = setup_logger('robotability-score')\n",
    "logger.setLevel(\"INFO\")\n",
    "logger.info(\"Modules initialized.\")\n",
    "\n",
    "WGS='EPSG:4326'\n",
    "PROJ='EPSG:2263'\n",
    "\n"
   ]
  },
  {
   "cell_type": "code",
   "execution_count": 3,
   "metadata": {},
   "outputs": [],
   "source": [
    "dataset = pd.read_csv(\"data/processed/score_dataset.csv\", engine='pyarrow')"
   ]
  },
  {
   "cell_type": "code",
   "execution_count": 5,
   "metadata": {},
   "outputs": [
    {
     "data": {
      "text/plain": [
       "                                                                    0\n",
       "point_index                                                         0\n",
       "SOURCE_ID                                                           0\n",
       "SHAPE_Leng                                                          0\n",
       "SHAPE_Area                                                          0\n",
       "SHAPE_Width                                                         0\n",
       "geometry                                                            0\n",
       "point_index_x                                                       0\n",
       "ft_above_sea                                                        0\n",
       "point_index_y                                                       0\n",
       "n_cameras_median                                                    0\n",
       "ZONEDIST                                                        10401\n",
       "Shape_Leng                                                      10401\n",
       "Shape_Area                                                      10401\n",
       "lat                                                                 0\n",
       "short_name                                                          0\n",
       "station_id                                                          0\n",
       "name                                                                0\n",
       "region_id                                                     1097575\n",
       "capacity                                                            0\n",
       "lon                                                                 0\n",
       "rental_uris.android                                                 0\n",
       "rental_uris.ios                                                     0\n",
       "CURBRAMP_count                                                      0\n",
       "RAISEDCROSSWALK_count                                               0\n",
       "boro_cd                                                         10325\n",
       "shape_area                                                      10325\n",
       "shape_leng                                                      10325\n",
       "cd_code                                                         81068\n",
       "SCORECARD_Acceptable Streets %                                 609339\n",
       "SCORECARD_Acceptable Sidewalks %                               609339\n",
       "SCORECARD_Acceptable Streets % - Previous Month                 81068\n",
       "SCORECARD_Acceptable Sidewalks % - Previous Month               81068\n",
       "SCORECARD_Acceptable Streets % - Previous Year                 261209\n",
       "SCORECARD_Acceptable Sidewalks % - Previous Year               261209\n",
       "SCORECARD_Acceptable Streets % - Previous Fiscal Quarter        81068\n",
       "SCORECARD_Acceptable Sidewalks % - Previous Fiscal Quarter      81068\n",
       "POI_the_geom                                                  2512970\n",
       "POI_SEGMENTID                                                 2512970\n",
       "POI_COMPLEXID                                                 2512970\n",
       "POI_SAFTYPE                                                   2532241\n",
       "POI_SOS                                                       2513450\n",
       "POI_PLACEID                                                   2512970\n",
       "POI_FACI_DOM                                                  2512970\n",
       "POI_BIN                                                       2512970\n",
       "POI_BOROUGH                                                   2512970\n",
       "POI_CREATED                                                   2512970\n",
       "POI_MODIFIED                                                  2515818\n",
       "POI_FACILITY_T                                                2512970\n",
       "POI_SOURCE                                                    2512970\n",
       "POI_B7SC                                                      2532244\n",
       "POI_PRI_ADD                                                   2512970\n",
       "POI_NAME                                                      2512970\n",
       "TRAFFIC_Pedestrian                                                  0\n",
       "TRAFFIC_Bike                                                        0\n",
       "TRAFFIC_Car                                                         0\n",
       "dtype: int64"
      ]
     },
     "execution_count": 5,
     "metadata": {},
     "output_type": "execute_result"
    }
   ],
   "source": [
    "dataset.isna().sum() "
   ]
  },
  {
   "cell_type": "code",
   "execution_count": null,
   "metadata": {},
   "outputs": [],
   "source": [
    "FEATURES = { \n",
    "    'sidewalk_width': 'Sidewalk Width',\n",
    "    'pedestrian_density': 'Pedestrian Density',\n",
    "    'street_furniture_density': 'Density of Street Furniture',\n",
    "    'sidewalk_roughness': 'Sidewalk Roughness',\n",
    "    'surface_condition': 'Surface Condition',\n",
    "    'communication_infrastructure': 'Wireless Communication Infrastructure',\n",
    "    'slope_gradient': 'Slope Gradient',\n",
    "    'charging_station_proximity': 'Proximity to Charging Stations',\n",
    "    'local_attitudes': 'Local Attitudes Towards Robots',\n",
    "    'curb_ramp_availability': 'Curb Ramp Availability',\n",
    "    'scaffolding': 'Scaffolding',\n",
    "    'weather_conditions': 'Weather Conditions',\n",
    "    'crowd_dynamics': 'Crowd Dynamics',\n",
    "    'traffic_management': 'Traffic Management Systems',\n",
    "    'surveillance_coverage': 'Surveillance Coverage',\n",
    "    'zoning_laws': 'Zoning Laws and Regulation',\n",
    "    'bike_lane_availability': 'Bike Lane Availability',\n",
    "    'street_lighting': 'Street Lighting',\n",
    "    'shade_availability': 'Existence of Shade',\n",
    "    'land_use': 'Land Use',\n",
    "    'gps_signal_strength': 'GPS Signal Strength',\n",
    "    'pedestrian_flow': 'Pedestrian Flow',\n",
    "    'poi_density': 'Density of Points of Interest',\n",
    "    'bicycle_traffic': 'Bicycle Traffic',\n",
    "    'vehicle_traffic': 'Vehicle Traffic',\n",
    "    'digital_map_existence': 'Existence of Detailed Digital Maps',\n",
    "    'intersection_safety': 'Intersection Safety'\n",
    "}\n"
   ]
  },
  {
   "cell_type": "code",
   "execution_count": null,
   "metadata": {},
   "outputs": [],
   "source": [
    "WEIGHTS = { \n",
    "    'sidewalk_width': 1, \n",
    "    'pedestrian_density': 1,\n",
    "    'street_furniture_density': 1,\n",
    "    'sidewalk_roughness': 1,\n",
    "    'surface_condition': 1,\n",
    "    'communication_infrastructure': 1,\n",
    "    'slope_gradient': 1,\n",
    "    'charging_station_proximity': 1,\n",
    "    'local_attitudes': 1,\n",
    "    'curb_ramp_availability': 1,\n",
    "    'scaffolding': 1,\n",
    "    'weather_conditions': 1,\n",
    "    'crowd_dynamics': 1,\n",
    "    'traffic_management': 1,\n",
    "    'surveillance_coverage': 1,\n",
    "    'zoning_laws': 1,\n",
    "    'bike_lane_availability': 1,\n",
    "    'street_lighting': 1,\n",
    "    'shade_availability': 1,\n",
    "    'land_use': 1,\n",
    "    'gps_signal_strength': 1,\n",
    "    'pedestrian_flow': 1,\n",
    "    'poi_density': 1,\n",
    "    'bicycle_traffic': 1,\n",
    "    'vehicle_traffic': 1,\n",
    "    'digital_map_existence': 1,\n",
    "    'intersection_safety': 1\n",
    "    \n",
    "}"
   ]
  }
 ],
 "metadata": {
  "kernelspec": {
   "display_name": "Python 3",
   "language": "python",
   "name": "python3"
  },
  "language_info": {
   "codemirror_mode": {
    "name": "ipython",
    "version": 3
   },
   "file_extension": ".py",
   "mimetype": "text/x-python",
   "name": "python",
   "nbconvert_exporter": "python",
   "pygments_lexer": "ipython3",
   "version": "3.11.9"
  }
 },
 "nbformat": 4,
 "nbformat_minor": 2
}
