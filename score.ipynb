{
 "cells": [
  {
   "cell_type": "markdown",
   "metadata": {},
   "source": [
    "# FARLAB - Robotable Streets Project \n",
    "Developer: @mattwfranchi\n",
    "\n",
    "Project Members: Matt Franchi, Maria-Teresa Parreira, Frank Bu, Wendy Ju "
   ]
  },
  {
   "cell_type": "markdown",
   "metadata": {
    "vscode": {
     "languageId": "plaintext"
    }
   },
   "source": [
    "As robots deployments become more common, they will become yet another dancer in the sidewalk ballet. Within urban mapping, transit mobility and walkability scores have emerged as a way to measure the quality of a city's infrastructure for a specific medium of traffic. However, there is no such metric for robots! Here, we aim to envision what a 'robotability' score might look like, and how it might be used to inform urban planning and policy. "
   ]
  },
  {
   "cell_type": "markdown",
   "metadata": {},
   "source": [
    "We utilize the following data features in computing a *robotability score*: \n",
    "- Sidewalk width \n",
    "- Sidewalk quality proxied by 311 complaints \n",
    "- Pedestrian density, computed via aggregated dashcam data\n",
    "- Sidewalk material (concrete, asphalt, cobblestone, etc.) \n",
    "- Connectivity: cellular coverage, WiFi availbility, IoT network coverage, and GPS coverage \n",
    "- Elevation change from beginning to end of road segment \n",
    "- Solar radiation levels, for potential solar charging and for potential overheating. \n",
    "- Proximity to hypothetical charging stations \n",
    "- Grating on sidewalk (ie in NYC, the subway grates) that might be problematic for robots to navigate \n",
    "- Snow buildup \n",
    "- Local attitudes towards robots \n",
    "- Average illegal parking levels, ie cars parked on sidewalks \n",
    "- Shade / shadows \n",
    "- Overhead covering (scaffolding, awnings, etc., in the case of non-waterproof bots)\n",
    "- Zoning. My hypothesis: robots are more acceptable in commercial-zoned areas, and less acceptable in majority-residential zoned areas. \n",
    "\n",
    "### Other Things to Lock In (4/25/24): \n",
    "- Study period. Some of this data (311 complaints, pedestrian densities, etc., should be constrained within a time range. **Limitation: we don't have new, free dashcam data presently**)\n",
    "\n"
   ]
  },
  {
   "cell_type": "markdown",
   "metadata": {},
   "source": []
  },
  {
   "cell_type": "code",
   "execution_count": 44,
   "metadata": {},
   "outputs": [
    {
     "name": "stderr",
     "output_type": "stream",
     "text": [
      "\u001b[34m2024-08-15 18:56:15 - robotability-score - INFO - Modules initialized.\u001b[0m\n"
     ]
    }
   ],
   "source": [
    "# class RobotabilityGraph that inherits from Graph class \n",
    "import os\n",
    "import sys \n",
    "sys.path.append(\"/share/ju/urban-fingerprinting\")\n",
    "\n",
    "import osmnx as ox \n",
    "import geopandas as gpd \n",
    "import pandas as pd \n",
    "import numpy as np \n",
    "\n",
    "import matplotlib.pyplot as plt \n",
    "# enable latex plotting \n",
    "plt.rc('text', usetex=True)\n",
    "plt.rc('font', family='serif')\n",
    "\n",
    "from glob import glob \n",
    "from tqdm import tqdm \n",
    "\n",
    "from shapely import wkt, LineString \n",
    "\n",
    "import rasterio\n",
    "from rasterio.enums import Resampling\n",
    "from rasterio.plot import show \n",
    "\n",
    "\n",
    "from src.utils.logger import setup_logger \n",
    "\n",
    "logger = setup_logger('robotability-score')\n",
    "logger.setLevel(\"INFO\")\n",
    "logger.info(\"Modules initialized.\")\n",
    "\n",
    "WGS='EPSG:4326'\n",
    "PROJ='EPSG:2263'\n",
    "\n",
    "REGEN_SEGMENTIZATION=False\n",
    "REGEN_TOPOLOGY=True\n",
    "\n",
    "GEN_INSPECTION_PLOTS=True\n",
    "INSPECTION_PLOTS=\"figures/inspection_plots\"\n",
    "\n",
    "os.makedirs(INSPECTION_PLOTS, exist_ok=True)\n"
   ]
  },
  {
   "cell_type": "markdown",
   "metadata": {},
   "source": [
    "## Loading and Preprocessing Data Features "
   ]
  },
  {
   "cell_type": "markdown",
   "metadata": {},
   "source": [
    "### Neighborhood Tabulation Areas (NYC)"
   ]
  },
  {
   "cell_type": "code",
   "execution_count": 20,
   "metadata": {},
   "outputs": [],
   "source": [
    "# Load the Neighborhood Tabulation Areas (NTAs) dataset \n",
    "ntas_nyc = pd.read_csv(\"data/ntas_nyc.csv\")\n",
    "ntas_nyc = gpd.GeoDataFrame(ntas_nyc, geometry=wkt.loads(ntas_nyc['the_geom']), crs=WGS).to_crs(PROJ)"
   ]
  },
  {
   "cell_type": "code",
   "execution_count": 21,
   "metadata": {},
   "outputs": [
    {
     "name": "stderr",
     "output_type": "stream",
     "text": [
      "\u001b[32m2024-08-15 18:42:12 - robotability-score - SUCCESS - NTAs loaded.\u001b[0m\n"
     ]
    }
   ],
   "source": [
    "# Remove redundant columns \n",
    "TO_DROP = ['BoroCode','CountyFIPS','NTA2020','NTAAbbrev','CDTA2020','CDTAName']\n",
    "ntas_nyc = ntas_nyc.drop(columns=TO_DROP)\n",
    "\n",
    "logger.success(\"NTAs loaded.\")"
   ]
  },
  {
   "cell_type": "markdown",
   "metadata": {},
   "source": [
    "### Census Blocks (NYC)"
   ]
  },
  {
   "cell_type": "code",
   "execution_count": 63,
   "metadata": {},
   "outputs": [
    {
     "name": "stderr",
     "output_type": "stream",
     "text": [
      "\u001b[32m2024-08-15 19:07:20 - robotability-score - SUCCESS - Census Blocks loaded.\u001b[0m\n"
     ]
    }
   ],
   "source": [
    "cbs_nyc = gpd.read_file(\"data/nycb2020_24c/nycb2020.shp\")\n",
    "\n",
    "TO_DROP = ['BoroCode', 'CT2020', 'BCTCB2020']\n",
    "\n",
    "cbs_nyc = cbs_nyc.drop(columns=TO_DROP)\n",
    "cbs_nyc = cbs_nyc.to_crs(PROJ)\n",
    "\n",
    "logger.success(\"Census Blocks loaded.\")"
   ]
  },
  {
   "cell_type": "markdown",
   "metadata": {},
   "source": [
    "### Sidewalk Basemap (NYC)"
   ]
  },
  {
   "cell_type": "code",
   "execution_count": 22,
   "metadata": {},
   "outputs": [],
   "source": [
    "# Load the NYC sidewalk basemap \n",
    "sidewalk_nyc = pd.read_csv(\"data/sidewalks_nyc.csv\")\n",
    "sidewalk_nyc = gpd.GeoDataFrame(sidewalk_nyc, geometry=wkt.loads(sidewalk_nyc['the_geom']), crs=WGS).to_crs(PROJ)"
   ]
  },
  {
   "cell_type": "code",
   "execution_count": 23,
   "metadata": {},
   "outputs": [
    {
     "name": "stderr",
     "output_type": "stream",
     "text": [
      "\u001b[34m2024-08-15 18:44:37 - robotability-score - INFO - Segmentized sidewalk basemap loaded.\u001b[0m\n",
      "\u001b[32m2024-08-15 18:44:37 - robotability-score - SUCCESS - NYC sidewalk basemap loaded.\u001b[0m\n",
      "\u001b[34m2024-08-15 18:44:37 - robotability-score - INFO - Distribution of sidewalk widths [ft]: \n",
      "count    2.551208e+06\n",
      "mean     5.373540e+00\n",
      "std      1.480766e+00\n",
      "min      2.710948e-01\n",
      "25%      4.458703e+00\n",
      "50%      5.149090e+00\n",
      "75%      6.177234e+00\n",
      "max      4.021491e+01\n",
      "Name: SHAPE_Width, dtype: float64\u001b[0m\n"
     ]
    }
   ],
   "source": [
    "# Take out features we don't need, and add a width column \n",
    "TO_DROP = ['SUB_CODE', 'FEAT_CODE', 'STATUS', 'the_geom']\n",
    "sidewalk_nyc = sidewalk_nyc.drop(columns=TO_DROP)\n",
    "sidewalk_nyc['SHAPE_Width'] = sidewalk_nyc['SHAPE_Area'] / sidewalk_nyc['SHAPE_Leng']\n",
    "\n",
    "# Simplify \n",
    "sidewalk_nyc['geometry'] = sidewalk_nyc['geometry'].simplify(10)\n",
    "\n",
    "# write to disk \n",
    "if REGEN_SEGMENTIZATION:\n",
    "    # segmentize \n",
    "    segmentized = sidewalk_nyc.segmentize(50).extract_unique_points().explode(index_parts=True)\n",
    "\n",
    "    segmentized = gpd.GeoDataFrame(segmentized).reset_index() \n",
    "\n",
    "    segmentized = segmentized.merge(sidewalk_nyc,left_on='level_0',right_index=True).drop(columns=['level_0','level_1','geometry'])\n",
    "    segmentized['geometry'] = segmentized.iloc[:,0]\n",
    "    segmentized.drop(segmentized.columns[0],axis=1, inplace=True)\n",
    "    segmentized = gpd.GeoDataFrame(segmentized, crs=PROJ)\n",
    "\n",
    "    segmentized.to_file(\"data/sidewalks_nyc_segmentized.geojson\", driver='GeoJSON')\n",
    "    logger.success(\"Segmentized sidewalk basemap written to disk.\")\n",
    "\n",
    "else: \n",
    "    segmentized = gpd.read_file(\"data/sidewalks_nyc_segmentized.geojson\")\n",
    "    logger.info(\"Segmentized sidewalk basemap loaded.\")\n",
    "\n",
    "\n",
    "sidewalk_nyc = segmentized\n",
    "\n",
    "logger.success(\"NYC sidewalk basemap loaded.\")\n",
    "logger.info(f\"Distribution of sidewalk widths [ft]: \\n{sidewalk_nyc['SHAPE_Width'].describe()}\")"
   ]
  },
  {
   "cell_type": "code",
   "execution_count": 45,
   "metadata": {},
   "outputs": [],
   "source": [
    "if GEN_INSPECTION_PLOTS:\n",
    "    fig, ax = plt.subplots(1,1,figsize=(10,10))\n",
    "\n",
    "    ntas_nyc.plot(ax=ax, color='lightgrey', edgecolor='black', alpha=0.5)\n",
    "    sidewalk_nyc.sample(frac=0.1).plot(ax=ax, color='black', alpha=0.5, markersize=0.5)\n",
    "\n",
    "    plt.title(\"NYC Sidewalk Basemap\")\n",
    "    plt.axis('off')\n",
    "    plt.tight_layout()\n",
    "    plt.savefig(f\"{INSPECTION_PLOTS}/nyc_sidewalk_basemap.png\")\n",
    "    plt.close()"
   ]
  },
  {
   "cell_type": "markdown",
   "metadata": {},
   "source": [
    "###  Topology "
   ]
  },
  {
   "cell_type": "code",
   "execution_count": 36,
   "metadata": {},
   "outputs": [],
   "source": [
    "TOPOGRAPHY_NYC = \"data/1ft_dem_nyc/DEM_LiDAR_1ft_2010_Improved_NYC_int.tif\"\n",
    "\n",
    "downsample_factor = 10\n",
    "\n",
    "# Open the raster\n",
    "with rasterio.open(TOPOGRAPHY_NYC) as src:\n",
    "    # Calculate new transform and dimensions\n",
    "    new_transform = src.transform * src.transform.scale(\n",
    "        downsample_factor,\n",
    "        downsample_factor\n",
    "    )\n",
    "    new_width = src.width // downsample_factor\n",
    "    new_height = src.height // downsample_factor\n",
    "    \n",
    "    # Resample the raster\n",
    "    topology = src.read(\n",
    "        out_shape=(src.count, new_height, new_width),\n",
    "        resampling=Resampling.bilinear\n",
    "    )\n",
    "\n",
    "    # Create a new rasterio-like object with updated metadata\n",
    "    new_meta = src.meta.copy()\n",
    "    new_meta.update({\n",
    "        \"driver\": \"GTiff\",\n",
    "        \"height\": new_height,\n",
    "        \"width\": new_width,\n",
    "        \"transform\": new_transform\n",
    "    })\n",
    "\n",
    "    # Write the new raster to disk\n",
    "    if REGEN_TOPOLOGY: \n",
    "        with rasterio.open(\"data/1ft_dem_nyc/downsampled_topography.tif\", \"w\", **new_meta) as dst:\n",
    "            dst.write(topology)\n",
    "\n"
   ]
  },
  {
   "cell_type": "code",
   "execution_count": 46,
   "metadata": {},
   "outputs": [],
   "source": [
    "# plot topology \n",
    "if GEN_INSPECTION_PLOTS:\n",
    "    fig, ax = plt.subplots(figsize=(10, 10))\n",
    "    fig.suptitle(r\"\\bf Elevation in New York City\", fontsize=20)\n",
    "\n",
    "    # elevation is a 2D array, so we can plot it directly\n",
    "    show(topology, ax=ax, cmap='terrain', transform=new_transform, )\n",
    "    #nyc_ct.plot(ax=ax, facecolor='white', edgecolor='black', linewidth=0.5, alpha=0.25)\n",
    "\n",
    "    ax.set_axis_off()\n",
    "    plt.savefig(f\"{INSPECTION_PLOTS}/topology_nyc.png\", dpi=300)\n",
    "    plt.close()"
   ]
  },
  {
   "cell_type": "markdown",
   "metadata": {},
   "source": [
    "### Satellite Availability "
   ]
  },
  {
   "cell_type": "code",
   "execution_count": 97,
   "metadata": {},
   "outputs": [],
   "source": [
    "gso_satellite = pd.read_csv(\"data/bdc_36_GSOSatellite_fixed_broadband_D23_06aug2024.csv\", engine='pyarrow')\n",
    "\n",
    "gso_satellite['block_geoid'] = gso_satellite['block_geoid'].astype(str)"
   ]
  },
  {
   "cell_type": "code",
   "execution_count": 99,
   "metadata": {},
   "outputs": [
    {
     "name": "stderr",
     "output_type": "stream",
     "text": [
      "\u001b[34m2024-08-15 19:19:59 - robotability-score - INFO - GSOSatellite data merged with Census Blocks. \n",
      "None\u001b[0m\n"
     ]
    },
    {
     "name": "stdout",
     "output_type": "stream",
     "text": [
      "<class 'geopandas.geodataframe.GeoDataFrame'>\n",
      "RangeIndex: 2470523 entries, 0 to 2470522\n",
      "Data columns (total 18 columns):\n",
      " #   Column                         Dtype   \n",
      "---  ------                         -----   \n",
      " 0   CB2020                         object  \n",
      " 1   BoroName                       object  \n",
      " 2   GEOID                          object  \n",
      " 3   Shape_Leng                     float64 \n",
      " 4   Shape_Area                     float64 \n",
      " 5   geometry                       geometry\n",
      " 6   frn                            float64 \n",
      " 7   provider_id                    float64 \n",
      " 8   brand_name                     object  \n",
      " 9   location_id                    float64 \n",
      " 10  technology                     float64 \n",
      " 11  max_advertised_download_speed  float64 \n",
      " 12  max_advertised_upload_speed    float64 \n",
      " 13  low_latency                    float64 \n",
      " 14  business_residential_code      object  \n",
      " 15  state_usps                     object  \n",
      " 16  block_geoid                    object  \n",
      " 17  h3_res8_id                     object  \n",
      "dtypes: float64(9), geometry(1), object(8)\n",
      "memory usage: 339.3+ MB\n"
     ]
    }
   ],
   "source": [
    "# merge gso_satellite with cbs_nyc \n",
    "gso_satellite = cbs_nyc.merge(gso_satellite, right_on='block_geoid', left_on='GEOID', how='left')\n",
    "gso_satellite = gpd.GeoDataFrame(gso_satellite, crs=PROJ)\n",
    "logger.info(f\"GSOSatellite data merged with Census Blocks. \\n{gso_satellite.info()}\")"
   ]
  }
 ],
 "metadata": {
  "kernelspec": {
   "display_name": "Python 3",
   "language": "python",
   "name": "python3"
  },
  "language_info": {
   "codemirror_mode": {
    "name": "ipython",
    "version": 3
   },
   "file_extension": ".py",
   "mimetype": "text/x-python",
   "name": "python",
   "nbconvert_exporter": "python",
   "pygments_lexer": "ipython3",
   "version": "3.11.9"
  }
 },
 "nbformat": 4,
 "nbformat_minor": 2
}
