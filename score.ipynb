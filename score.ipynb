{
 "cells": [
  {
   "cell_type": "markdown",
   "metadata": {},
   "source": [
    "# FARLAB - Robotable Streets Project \n",
    "Developer: @mattwfranchi\n",
    "\n",
    "Project Members: Matt Franchi, Maria-Teresa Parreira, Frank Bu, Wendy Ju "
   ]
  },
  {
   "cell_type": "markdown",
   "metadata": {
    "vscode": {
     "languageId": "plaintext"
    }
   },
   "source": [
    "As robots deployments become more common, they will become yet another dancer in the sidewalk ballet. Within urban mapping, transit mobility and walkability scores have emerged as a way to measure the quality of a city's infrastructure for a specific medium of traffic. However, there is no such metric for robots! Here, we aim to envision what a 'robotability' score might look like, and how it might be used to inform urban planning and policy. "
   ]
  },
  {
   "cell_type": "markdown",
   "metadata": {},
   "source": [
    "We utilize the following data features in computing a *robotability score*: \n",
    "- Sidewalk width \n",
    "- Sidewalk quality proxied by 311 complaints \n",
    "- Pedestrian density, computed via aggregated dashcam data\n",
    "- Sidewalk material (concrete, asphalt, cobblestone, etc.) \n",
    "- Connectivity: cellular coverage, WiFi availbility, IoT network coverage, and GPS coverage \n",
    "- Elevation change from beginning to end of road segment \n",
    "- Solar radiation levels, for potential solar charging and for potential overheating. \n",
    "- Proximity to hypothetical charging stations \n",
    "- Grating on sidewalk (ie in NYC, the subway grates) that might be problematic for robots to navigate \n",
    "- Snow buildup \n",
    "- Local attitudes towards robots \n",
    "- Average illegal parking levels, ie cars parked on sidewalks \n",
    "- Shade / shadows \n",
    "- Overhead covering (scaffolding, awnings, etc., in the case of non-waterproof bots)\n",
    "- Zoning. My hypothesis: robots are more acceptable in commercial-zoned areas, and less acceptable in majority-residential zoned areas. \n",
    "\n",
    "### Other Things to Lock In (4/25/24): \n",
    "- Study period. Some of this data (311 complaints, pedestrian densities, etc., should be constrained within a time range. **Limitation: we don't have new, free dashcam data presently**)\n",
    "\n"
   ]
  },
  {
   "cell_type": "markdown",
   "metadata": {},
   "source": []
  },
  {
   "cell_type": "code",
   "execution_count": 44,
   "metadata": {},
   "outputs": [
    {
     "name": "stderr",
     "output_type": "stream",
     "text": [
      "\u001b[34m2024-08-15 18:56:15 - robotability-score - INFO - Modules initialized.\u001b[0m\n"
     ]
    }
   ],
   "source": [
    "# class RobotabilityGraph that inherits from Graph class \n",
    "import os\n",
    "import sys \n",
    "sys.path.append(\"/share/ju/urban-fingerprinting\")\n",
    "\n",
    "import osmnx as ox \n",
    "import geopandas as gpd \n",
    "import pandas as pd \n",
    "import numpy as np \n",
    "\n",
    "import matplotlib.pyplot as plt \n",
    "# enable latex plotting \n",
    "plt.rc('text', usetex=True)\n",
    "plt.rc('font', family='serif')\n",
    "\n",
    "from glob import glob \n",
    "from tqdm import tqdm \n",
    "\n",
    "from shapely import wkt, LineString \n",
    "\n",
    "import rasterio\n",
    "from rasterio.enums import Resampling\n",
    "from rasterio.plot import show \n",
    "\n",
    "\n",
    "from src.utils.logger import setup_logger \n",
    "\n",
    "logger = setup_logger('robotability-score')\n",
    "logger.setLevel(\"INFO\")\n",
    "logger.info(\"Modules initialized.\")\n",
    "\n",
    "WGS='EPSG:4326'\n",
    "PROJ='EPSG:2263'\n",
    "\n",
    "REGEN_SEGMENTIZATION=False\n",
    "REGEN_TOPOLOGY=True\n",
    "\n",
    "GEN_INSPECTION_PLOTS=True\n",
    "INSPECTION_PLOTS=\"figures/inspection_plots\"\n",
    "\n",
    "os.makedirs(INSPECTION_PLOTS, exist_ok=True)\n"
   ]
  },
  {
   "cell_type": "markdown",
   "metadata": {},
   "source": [
    "## Loading and Preprocessing Data Features "
   ]
  },
  {
   "cell_type": "markdown",
   "metadata": {},
   "source": [
    "### Neighborhood Tabulation Areas (NYC)"
   ]
  },
  {
   "cell_type": "code",
   "execution_count": 20,
   "metadata": {},
   "outputs": [],
   "source": [
    "# Load the Neighborhood Tabulation Areas (NTAs) dataset \n",
    "ntas_nyc = pd.read_csv(\"data/ntas_nyc.csv\")\n",
    "ntas_nyc = gpd.GeoDataFrame(ntas_nyc, geometry=wkt.loads(ntas_nyc['the_geom']), crs=WGS).to_crs(PROJ)"
   ]
  },
  {
   "cell_type": "code",
   "execution_count": 21,
   "metadata": {},
   "outputs": [
    {
     "name": "stderr",
     "output_type": "stream",
     "text": [
      "\u001b[32m2024-08-15 18:42:12 - robotability-score - SUCCESS - NTAs loaded.\u001b[0m\n"
     ]
    }
   ],
   "source": [
    "# Remove redundant columns \n",
    "TO_DROP = ['BoroCode','CountyFIPS','NTA2020','NTAAbbrev','CDTA2020','CDTAName']\n",
    "ntas_nyc = ntas_nyc.drop(columns=TO_DROP)\n",
    "\n",
    "logger.success(\"NTAs loaded.\")"
   ]
  },
  {
   "cell_type": "markdown",
   "metadata": {},
   "source": [
    "### Census Blocks (NYC)"
   ]
  },
  {
   "cell_type": "code",
   "execution_count": 63,
   "metadata": {},
   "outputs": [
    {
     "name": "stderr",
     "output_type": "stream",
     "text": [
      "\u001b[32m2024-08-15 19:07:20 - robotability-score - SUCCESS - Census Blocks loaded.\u001b[0m\n"
     ]
    }
   ],
   "source": [
    "cbs_nyc = gpd.read_file(\"data/nycb2020_24c/nycb2020.shp\")\n",
    "\n",
    "TO_DROP = ['BoroCode', 'CT2020', 'BCTCB2020']\n",
    "\n",
    "cbs_nyc = cbs_nyc.drop(columns=TO_DROP)\n",
    "cbs_nyc = cbs_nyc.to_crs(PROJ)\n",
    "\n",
    "logger.success(\"Census Blocks loaded.\")"
   ]
  },
  {
   "cell_type": "markdown",
   "metadata": {},
   "source": [
    "### Sidewalk Basemap (NYC)"
   ]
  },
  {
   "cell_type": "code",
   "execution_count": 22,
   "metadata": {},
   "outputs": [],
   "source": [
    "# Load the NYC sidewalk basemap \n",
    "sidewalk_nyc = pd.read_csv(\"data/sidewalks_nyc.csv\")\n",
    "sidewalk_nyc = gpd.GeoDataFrame(sidewalk_nyc, geometry=wkt.loads(sidewalk_nyc['the_geom']), crs=WGS).to_crs(PROJ)"
   ]
  },
  {
   "cell_type": "code",
   "execution_count": 23,
   "metadata": {},
   "outputs": [
    {
     "name": "stderr",
     "output_type": "stream",
     "text": [
      "\u001b[34m2024-08-15 18:44:37 - robotability-score - INFO - Segmentized sidewalk basemap loaded.\u001b[0m\n",
      "\u001b[32m2024-08-15 18:44:37 - robotability-score - SUCCESS - NYC sidewalk basemap loaded.\u001b[0m\n",
      "\u001b[34m2024-08-15 18:44:37 - robotability-score - INFO - Distribution of sidewalk widths [ft]: \n",
      "count    2.551208e+06\n",
      "mean     5.373540e+00\n",
      "std      1.480766e+00\n",
      "min      2.710948e-01\n",
      "25%      4.458703e+00\n",
      "50%      5.149090e+00\n",
      "75%      6.177234e+00\n",
      "max      4.021491e+01\n",
      "Name: SHAPE_Width, dtype: float64\u001b[0m\n"
     ]
    }
   ],
   "source": [
    "# Take out features we don't need, and add a width column \n",
    "TO_DROP = ['SUB_CODE', 'FEAT_CODE', 'STATUS', 'the_geom']\n",
    "sidewalk_nyc = sidewalk_nyc.drop(columns=TO_DROP)\n",
    "sidewalk_nyc['SHAPE_Width'] = sidewalk_nyc['SHAPE_Area'] / sidewalk_nyc['SHAPE_Leng']\n",
    "\n",
    "# Simplify \n",
    "sidewalk_nyc['geometry'] = sidewalk_nyc['geometry'].simplify(10)\n",
    "\n",
    "# write to disk \n",
    "if REGEN_SEGMENTIZATION:\n",
    "    # segmentize \n",
    "    segmentized = sidewalk_nyc.segmentize(50).extract_unique_points().explode(index_parts=True)\n",
    "\n",
    "    segmentized = gpd.GeoDataFrame(segmentized).reset_index() \n",
    "\n",
    "    segmentized = segmentized.merge(sidewalk_nyc,left_on='level_0',right_index=True).drop(columns=['level_0','level_1','geometry'])\n",
    "    segmentized['geometry'] = segmentized.iloc[:,0]\n",
    "    segmentized.drop(segmentized.columns[0],axis=1, inplace=True)\n",
    "    segmentized = gpd.GeoDataFrame(segmentized, crs=PROJ)\n",
    "\n",
    "    segmentized.to_file(\"data/sidewalks_nyc_segmentized.geojson\", driver='GeoJSON')\n",
    "    logger.success(\"Segmentized sidewalk basemap written to disk.\")\n",
    "\n",
    "else: \n",
    "    segmentized = gpd.read_file(\"data/sidewalks_nyc_segmentized.geojson\")\n",
    "    logger.info(\"Segmentized sidewalk basemap loaded.\")\n",
    "\n",
    "\n",
    "sidewalk_nyc = segmentized\n",
    "\n",
    "logger.success(\"NYC sidewalk basemap loaded.\")\n",
    "logger.info(f\"Distribution of sidewalk widths [ft]: \\n{sidewalk_nyc['SHAPE_Width'].describe()}\")"
   ]
  },
  {
   "cell_type": "code",
   "execution_count": 45,
   "metadata": {},
   "outputs": [],
   "source": [
    "if GEN_INSPECTION_PLOTS:\n",
    "    fig, ax = plt.subplots(1,1,figsize=(10,10))\n",
    "\n",
    "    ntas_nyc.plot(ax=ax, color='lightgrey', edgecolor='black', alpha=0.5)\n",
    "    sidewalk_nyc.sample(frac=0.1).plot(ax=ax, color='black', alpha=0.5, markersize=0.5)\n",
    "\n",
    "    plt.title(\"NYC Sidewalk Basemap\")\n",
    "    plt.axis('off')\n",
    "    plt.tight_layout()\n",
    "    plt.savefig(f\"{INSPECTION_PLOTS}/nyc_sidewalk_basemap.png\")\n",
    "    plt.close()"
   ]
  },
  {
   "cell_type": "markdown",
   "metadata": {},
   "source": [
    "###  Topology "
   ]
  },
  {
   "cell_type": "code",
   "execution_count": 36,
   "metadata": {},
   "outputs": [],
   "source": [
    "TOPOGRAPHY_NYC = \"data/1ft_dem_nyc/DEM_LiDAR_1ft_2010_Improved_NYC_int.tif\"\n",
    "\n",
    "downsample_factor = 10\n",
    "\n",
    "# Open the raster\n",
    "with rasterio.open(TOPOGRAPHY_NYC) as src:\n",
    "    # Calculate new transform and dimensions\n",
    "    new_transform = src.transform * src.transform.scale(\n",
    "        downsample_factor,\n",
    "        downsample_factor\n",
    "    )\n",
    "    new_width = src.width // downsample_factor\n",
    "    new_height = src.height // downsample_factor\n",
    "    \n",
    "    # Resample the raster\n",
    "    topology = src.read(\n",
    "        out_shape=(src.count, new_height, new_width),\n",
    "        resampling=Resampling.bilinear\n",
    "    )\n",
    "\n",
    "    # Create a new rasterio-like object with updated metadata\n",
    "    new_meta = src.meta.copy()\n",
    "    new_meta.update({\n",
    "        \"driver\": \"GTiff\",\n",
    "        \"height\": new_height,\n",
    "        \"width\": new_width,\n",
    "        \"transform\": new_transform\n",
    "    })\n",
    "\n",
    "    # Write the new raster to disk\n",
    "    if REGEN_TOPOLOGY: \n",
    "        with rasterio.open(\"data/1ft_dem_nyc/downsampled_topography.tif\", \"w\", **new_meta) as dst:\n",
    "            dst.write(topology)\n",
    "\n"
   ]
  },
  {
   "cell_type": "code",
   "execution_count": 46,
   "metadata": {},
   "outputs": [],
   "source": [
    "# plot topology \n",
    "if GEN_INSPECTION_PLOTS:\n",
    "    fig, ax = plt.subplots(figsize=(10, 10))\n",
    "    fig.suptitle(r\"\\bf Elevation in New York City\", fontsize=20)\n",
    "\n",
    "    # elevation is a 2D array, so we can plot it directly\n",
    "    show(topology, ax=ax, cmap='terrain', transform=new_transform, )\n",
    "    #nyc_ct.plot(ax=ax, facecolor='white', edgecolor='black', linewidth=0.5, alpha=0.25)\n",
    "\n",
    "    ax.set_axis_off()\n",
    "    plt.savefig(f\"{INSPECTION_PLOTS}/topology_nyc.png\", dpi=300)\n",
    "    plt.close()"
   ]
  },
  {
   "cell_type": "markdown",
   "metadata": {},
   "source": [
    "### Satellite Availability "
   ]
  },
  {
   "cell_type": "code",
   "execution_count": 58,
   "metadata": {},
   "outputs": [],
   "source": [
    "gso_satellite = pd.read_csv(\"data/bdc_36_GSOSatellite_fixed_broadband_D23_06aug2024.csv\", engine='pyarrow')"
   ]
  },
  {
   "cell_type": "code",
   "execution_count": 59,
   "metadata": {},
   "outputs": [
    {
     "data": {
      "text/html": [
       "<div>\n",
       "<style scoped>\n",
       "    .dataframe tbody tr th:only-of-type {\n",
       "        vertical-align: middle;\n",
       "    }\n",
       "\n",
       "    .dataframe tbody tr th {\n",
       "        vertical-align: top;\n",
       "    }\n",
       "\n",
       "    .dataframe thead th {\n",
       "        text-align: right;\n",
       "    }\n",
       "</style>\n",
       "<table border=\"1\" class=\"dataframe\">\n",
       "  <thead>\n",
       "    <tr style=\"text-align: right;\">\n",
       "      <th></th>\n",
       "      <th>frn</th>\n",
       "      <th>provider_id</th>\n",
       "      <th>brand_name</th>\n",
       "      <th>location_id</th>\n",
       "      <th>technology</th>\n",
       "      <th>max_advertised_download_speed</th>\n",
       "      <th>max_advertised_upload_speed</th>\n",
       "      <th>low_latency</th>\n",
       "      <th>business_residential_code</th>\n",
       "      <th>state_usps</th>\n",
       "      <th>block_geoid</th>\n",
       "      <th>h3_res8_id</th>\n",
       "    </tr>\n",
       "  </thead>\n",
       "  <tbody>\n",
       "    <tr>\n",
       "      <th>0</th>\n",
       "      <td>4963088</td>\n",
       "      <td>290111</td>\n",
       "      <td>Viasat</td>\n",
       "      <td>1012939158</td>\n",
       "      <td>60</td>\n",
       "      <td>30</td>\n",
       "      <td>3</td>\n",
       "      <td>0</td>\n",
       "      <td>R</td>\n",
       "      <td>NY</td>\n",
       "      <td>360259707004000</td>\n",
       "      <td>882a16d8dbfffff</td>\n",
       "    </tr>\n",
       "    <tr>\n",
       "      <th>1</th>\n",
       "      <td>4963088</td>\n",
       "      <td>290111</td>\n",
       "      <td>Viasat</td>\n",
       "      <td>1012940523</td>\n",
       "      <td>60</td>\n",
       "      <td>50</td>\n",
       "      <td>4</td>\n",
       "      <td>0</td>\n",
       "      <td>B</td>\n",
       "      <td>NY</td>\n",
       "      <td>360259707004024</td>\n",
       "      <td>882a16c143fffff</td>\n",
       "    </tr>\n",
       "    <tr>\n",
       "      <th>2</th>\n",
       "      <td>4963088</td>\n",
       "      <td>290111</td>\n",
       "      <td>Viasat</td>\n",
       "      <td>1012940523</td>\n",
       "      <td>60</td>\n",
       "      <td>30</td>\n",
       "      <td>3</td>\n",
       "      <td>0</td>\n",
       "      <td>R</td>\n",
       "      <td>NY</td>\n",
       "      <td>360259707004024</td>\n",
       "      <td>882a16c143fffff</td>\n",
       "    </tr>\n",
       "    <tr>\n",
       "      <th>3</th>\n",
       "      <td>4963088</td>\n",
       "      <td>290111</td>\n",
       "      <td>Viasat</td>\n",
       "      <td>1012943637</td>\n",
       "      <td>60</td>\n",
       "      <td>50</td>\n",
       "      <td>4</td>\n",
       "      <td>0</td>\n",
       "      <td>B</td>\n",
       "      <td>NY</td>\n",
       "      <td>360259707003013</td>\n",
       "      <td>882a16ca31fffff</td>\n",
       "    </tr>\n",
       "    <tr>\n",
       "      <th>4</th>\n",
       "      <td>4963088</td>\n",
       "      <td>290111</td>\n",
       "      <td>Viasat</td>\n",
       "      <td>1012943637</td>\n",
       "      <td>60</td>\n",
       "      <td>30</td>\n",
       "      <td>3</td>\n",
       "      <td>0</td>\n",
       "      <td>R</td>\n",
       "      <td>NY</td>\n",
       "      <td>360259707003013</td>\n",
       "      <td>882a16ca31fffff</td>\n",
       "    </tr>\n",
       "    <tr>\n",
       "      <th>...</th>\n",
       "      <td>...</td>\n",
       "      <td>...</td>\n",
       "      <td>...</td>\n",
       "      <td>...</td>\n",
       "      <td>...</td>\n",
       "      <td>...</td>\n",
       "      <td>...</td>\n",
       "      <td>...</td>\n",
       "      <td>...</td>\n",
       "      <td>...</td>\n",
       "      <td>...</td>\n",
       "      <td>...</td>\n",
       "    </tr>\n",
       "    <tr>\n",
       "      <th>14116900</th>\n",
       "      <td>12369286</td>\n",
       "      <td>130627</td>\n",
       "      <td>HughesNet</td>\n",
       "      <td>1303492702</td>\n",
       "      <td>60</td>\n",
       "      <td>100</td>\n",
       "      <td>5</td>\n",
       "      <td>0</td>\n",
       "      <td>X</td>\n",
       "      <td>NY</td>\n",
       "      <td>360710146021004</td>\n",
       "      <td>882a162731fffff</td>\n",
       "    </tr>\n",
       "    <tr>\n",
       "      <th>14116901</th>\n",
       "      <td>12369286</td>\n",
       "      <td>130627</td>\n",
       "      <td>HughesNet</td>\n",
       "      <td>1303493567</td>\n",
       "      <td>60</td>\n",
       "      <td>100</td>\n",
       "      <td>5</td>\n",
       "      <td>0</td>\n",
       "      <td>X</td>\n",
       "      <td>NY</td>\n",
       "      <td>360710105012004</td>\n",
       "      <td>882a16ae31fffff</td>\n",
       "    </tr>\n",
       "    <tr>\n",
       "      <th>14116902</th>\n",
       "      <td>12369286</td>\n",
       "      <td>130627</td>\n",
       "      <td>HughesNet</td>\n",
       "      <td>1303495731</td>\n",
       "      <td>60</td>\n",
       "      <td>100</td>\n",
       "      <td>5</td>\n",
       "      <td>0</td>\n",
       "      <td>X</td>\n",
       "      <td>NY</td>\n",
       "      <td>360710143024005</td>\n",
       "      <td>882a162649fffff</td>\n",
       "    </tr>\n",
       "    <tr>\n",
       "      <th>14116903</th>\n",
       "      <td>12369286</td>\n",
       "      <td>130627</td>\n",
       "      <td>HughesNet</td>\n",
       "      <td>1303497619</td>\n",
       "      <td>60</td>\n",
       "      <td>100</td>\n",
       "      <td>5</td>\n",
       "      <td>0</td>\n",
       "      <td>X</td>\n",
       "      <td>NY</td>\n",
       "      <td>360710123003019</td>\n",
       "      <td>882a16adb7fffff</td>\n",
       "    </tr>\n",
       "    <tr>\n",
       "      <th>14116904</th>\n",
       "      <td>12369286</td>\n",
       "      <td>130627</td>\n",
       "      <td>HughesNet</td>\n",
       "      <td>1303499943</td>\n",
       "      <td>60</td>\n",
       "      <td>100</td>\n",
       "      <td>5</td>\n",
       "      <td>0</td>\n",
       "      <td>X</td>\n",
       "      <td>NY</td>\n",
       "      <td>360710108013000</td>\n",
       "      <td>882a16ade5fffff</td>\n",
       "    </tr>\n",
       "  </tbody>\n",
       "</table>\n",
       "<p>14116905 rows × 12 columns</p>\n",
       "</div>"
      ],
      "text/plain": [
       "               frn  provider_id brand_name  location_id  technology  \\\n",
       "0          4963088       290111     Viasat   1012939158          60   \n",
       "1          4963088       290111     Viasat   1012940523          60   \n",
       "2          4963088       290111     Viasat   1012940523          60   \n",
       "3          4963088       290111     Viasat   1012943637          60   \n",
       "4          4963088       290111     Viasat   1012943637          60   \n",
       "...            ...          ...        ...          ...         ...   \n",
       "14116900  12369286       130627  HughesNet   1303492702          60   \n",
       "14116901  12369286       130627  HughesNet   1303493567          60   \n",
       "14116902  12369286       130627  HughesNet   1303495731          60   \n",
       "14116903  12369286       130627  HughesNet   1303497619          60   \n",
       "14116904  12369286       130627  HughesNet   1303499943          60   \n",
       "\n",
       "          max_advertised_download_speed  max_advertised_upload_speed  \\\n",
       "0                                    30                            3   \n",
       "1                                    50                            4   \n",
       "2                                    30                            3   \n",
       "3                                    50                            4   \n",
       "4                                    30                            3   \n",
       "...                                 ...                          ...   \n",
       "14116900                            100                            5   \n",
       "14116901                            100                            5   \n",
       "14116902                            100                            5   \n",
       "14116903                            100                            5   \n",
       "14116904                            100                            5   \n",
       "\n",
       "          low_latency business_residential_code state_usps      block_geoid  \\\n",
       "0                   0                         R         NY  360259707004000   \n",
       "1                   0                         B         NY  360259707004024   \n",
       "2                   0                         R         NY  360259707004024   \n",
       "3                   0                         B         NY  360259707003013   \n",
       "4                   0                         R         NY  360259707003013   \n",
       "...               ...                       ...        ...              ...   \n",
       "14116900            0                         X         NY  360710146021004   \n",
       "14116901            0                         X         NY  360710105012004   \n",
       "14116902            0                         X         NY  360710143024005   \n",
       "14116903            0                         X         NY  360710123003019   \n",
       "14116904            0                         X         NY  360710108013000   \n",
       "\n",
       "               h3_res8_id  \n",
       "0         882a16d8dbfffff  \n",
       "1         882a16c143fffff  \n",
       "2         882a16c143fffff  \n",
       "3         882a16ca31fffff  \n",
       "4         882a16ca31fffff  \n",
       "...                   ...  \n",
       "14116900  882a162731fffff  \n",
       "14116901  882a16ae31fffff  \n",
       "14116902  882a162649fffff  \n",
       "14116903  882a16adb7fffff  \n",
       "14116904  882a16ade5fffff  \n",
       "\n",
       "[14116905 rows x 12 columns]"
      ]
     },
     "execution_count": 59,
     "metadata": {},
     "output_type": "execute_result"
    }
   ],
   "source": [
    "gso_satellite"
   ]
  },
  {
   "cell_type": "code",
   "execution_count": null,
   "metadata": {},
   "outputs": [],
   "source": []
  }
 ],
 "metadata": {
  "kernelspec": {
   "display_name": "Python 3",
   "language": "python",
   "name": "python3"
  },
  "language_info": {
   "codemirror_mode": {
    "name": "ipython",
    "version": 3
   },
   "file_extension": ".py",
   "mimetype": "text/x-python",
   "name": "python",
   "nbconvert_exporter": "python",
   "pygments_lexer": "ipython3",
   "version": "3.11.9"
  }
 },
 "nbformat": 4,
 "nbformat_minor": 2
}
