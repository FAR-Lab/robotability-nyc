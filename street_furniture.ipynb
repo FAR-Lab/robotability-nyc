{
 "cells": [
  {
   "cell_type": "markdown",
   "metadata": {},
   "source": [
    "# FARLAB - Robotable Streets Project \n",
    "Developer: @mattwfranchi\n",
    "\n",
    "Project Members: Matt Franchi, Maria-Teresa Parreira, Frank Bu, Wendy Ju "
   ]
  },
  {
   "cell_type": "markdown",
   "metadata": {
    "vscode": {
     "languageId": "plaintext"
    }
   },
   "source": [
    "As robots deployments become more common, they will become yet another dancer in the sidewalk ballet. Within urban mapping, transit mobility and walkability scores have emerged as a way to measure the quality of a city's infrastructure for a specific medium of traffic. However, there is no such metric for robots! Here, we aim to envision what a 'robotability' score might look like, and how it might be used to inform urban planning and policy. "
   ]
  },
  {
   "cell_type": "markdown",
   "metadata": {},
   "source": [
    "We utilize the following data features in computing a *robotability score*: \n",
    "- Sidewalk width \n",
    "- Sidewalk quality proxied by 311 complaints \n",
    "- Pedestrian density, computed via aggregated dashcam data\n",
    "- Sidewalk material (concrete, asphalt, cobblestone, etc.) \n",
    "- Connectivity: cellular coverage, WiFi availbility, IoT network coverage, and GPS coverage \n",
    "- Elevation change from beginning to end of road segment \n",
    "- Solar radiation levels, for potential solar charging and for potential overheating. \n",
    "- Proximity to hypothetical charging stations \n",
    "- Grating on sidewalk (ie in NYC, the subway grates) that might be problematic for robots to navigate \n",
    "- Snow buildup \n",
    "- Local attitudes towards robots \n",
    "- Average illegal parking levels, ie cars parked on sidewalks \n",
    "- Shade / shadows \n",
    "- Overhead covering (scaffolding, awnings, etc., in the case of non-waterproof bots)\n",
    "- Zoning. My hypothesis: robots are more acceptable in commercial-zoned areas, and less acceptable in majority-residential zoned areas. \n",
    "\n",
    "### Other Things to Lock In (4/25/24): \n",
    "- Study period. Some of this data (311 complaints, pedestrian densities, etc., should be constrained within a time range. **Limitation: we don't have new, free dashcam data presently**)\n",
    "\n"
   ]
  },
  {
   "cell_type": "markdown",
   "metadata": {},
   "source": []
  },
  {
   "cell_type": "code",
   "execution_count": null,
   "metadata": {},
   "outputs": [],
   "source": [
    "# class RobotabilityGraph that inherits from Graph class \n",
    "import os\n",
    "import sys \n",
    "sys.path.append(\"/share/ju/urban-fingerprinting\")\n",
    "\n",
    "import osmnx as ox \n",
    "import geopandas as gpd \n",
    "import pandas as pd \n",
    "import numpy as np \n",
    "\n",
    "import matplotlib.pyplot as plt \n",
    "# enable latex plotting \n",
    "plt.rc('text', usetex=True)\n",
    "plt.rc('font', family='serif')\n",
    "\n",
    "from glob import glob \n",
    "from tqdm import tqdm \n",
    "\n",
    "from shapely import wkt, LineString \n",
    "\n",
    "import rasterio\n",
    "from rasterio.enums import Resampling\n",
    "from rasterio.plot import show \n",
    "\n",
    "\n",
    "from src.utils.logger import setup_logger \n",
    "\n",
    "logger = setup_logger('rs-street-furniture')\n",
    "logger.setLevel(\"INFO\")\n",
    "logger.info(\"Modules initialized.\")\n",
    "\n",
    "WGS='EPSG:4326'\n",
    "PROJ='EPSG:2263'\n",
    "\n",
    "REGEN_SEGMENTIZATION=False\n",
    "REGEN_TOPOLOGY=True\n",
    "\n",
    "GEN_INSPECTION_PLOTS=True\n",
    "INSPECTION_PLOTS=\"figures/inspection_plots\"\n",
    "\n",
    "os.makedirs(INSPECTION_PLOTS, exist_ok=True)\n"
   ]
  },
  {
   "cell_type": "markdown",
   "metadata": {},
   "source": [
    "## Loading and Preprocessing Data Features "
   ]
  },
  {
   "cell_type": "markdown",
   "metadata": {},
   "source": [
    "### Sidewalk Basemap (NYC)"
   ]
  },
  {
   "cell_type": "code",
   "execution_count": null,
   "metadata": {},
   "outputs": [],
   "source": [
    "# Load the NYC sidewalk basemap \n",
    "sidewalk_nyc = pd.read_csv(\"data/sidewalks_nyc.csv\")\n",
    "sidewalk_nyc = gpd.GeoDataFrame(sidewalk_nyc, geometry=wkt.loads(sidewalk_nyc['the_geom']), crs=WGS).to_crs(PROJ)"
   ]
  },
  {
   "cell_type": "code",
   "execution_count": null,
   "metadata": {},
   "outputs": [],
   "source": [
    "# Take out features we don't need, and add a width column \n",
    "TO_DROP = ['SUB_CODE', 'FEAT_CODE', 'STATUS', 'the_geom']\n",
    "sidewalk_nyc = sidewalk_nyc.drop(columns=TO_DROP)\n",
    "sidewalk_nyc['SHAPE_Width'] = sidewalk_nyc['SHAPE_Area'] / sidewalk_nyc['SHAPE_Leng']\n",
    "\n",
    "# Simplify \n",
    "sidewalk_nyc['geometry'] = sidewalk_nyc['geometry'].simplify(10)\n",
    "\n",
    "# write to disk \n",
    "if REGEN_SEGMENTIZATION:\n",
    "    # segmentize \n",
    "    segmentized = sidewalk_nyc.segmentize(50).extract_unique_points().explode(index_parts=True)\n",
    "\n",
    "    segmentized = gpd.GeoDataFrame(segmentized).reset_index() \n",
    "\n",
    "    segmentized = segmentized.merge(sidewalk_nyc,left_on='level_0',right_index=True).drop(columns=['level_0','level_1','geometry'])\n",
    "    segmentized['geometry'] = segmentized.iloc[:,0]\n",
    "    segmentized.drop(segmentized.columns[0],axis=1, inplace=True)\n",
    "    segmentized = gpd.GeoDataFrame(segmentized, crs=PROJ)\n",
    "\n",
    "    segmentized.to_file(\"data/sidewalks_nyc_segmentized.geojson\", driver='GeoJSON')\n",
    "    logger.success(\"Segmentized sidewalk basemap written to disk.\")\n",
    "\n",
    "else: \n",
    "    segmentized = gpd.read_file(\"data/sidewalks_nyc_segmentized.geojson\")\n",
    "    logger.info(\"Segmentized sidewalk basemap loaded.\")\n",
    "\n",
    "\n",
    "sidewalk_nyc = segmentized\n",
    "\n",
    "logger.success(\"NYC sidewalk basemap loaded.\")\n",
    "logger.info(f\"Distribution of sidewalk widths [ft]: \\n{sidewalk_nyc['SHAPE_Width'].describe()}\")"
   ]
  },
  {
   "cell_type": "code",
   "execution_count": null,
   "metadata": {},
   "outputs": [],
   "source": [
    "# the projected CRS to convert coordinates into much more accurate positioning data, using the Long Island State Plane\n",
    "PROJ_CRS = 'EPSG:2263'\n",
    "\n",
    "# the maximum distance to search for a nearby street segment. Since we segmentize by 50 feet, we can search within 25 feet\n",
    "MAX_DISTANCE=25\n",
    "\n",
    "CUTOFF= pd.to_datetime(\"2023-12-02\")\n"
   ]
  },
  {
   "cell_type": "code",
   "execution_count": null,
   "metadata": {},
   "outputs": [],
   "source": [
    "\n",
    "# we buffer each point by 25 feet, creating a 50-diameter circle centered at the point. This captures nearby clutter. \n",
    "sidewalk_nyc['geometry'] = sidewalk_nyc['geometry'].buffer(MAX_DISTANCE)"
   ]
  },
  {
   "cell_type": "markdown",
   "metadata": {},
   "source": [
    "### Bus Stop Shelters "
   ]
  },
  {
   "cell_type": "code",
   "execution_count": null,
   "metadata": {},
   "outputs": [],
   "source": [
    "# read bus stop shelters \n",
    "bus_stop_shelters = gpd.read_file(\"../data/street_funiture/bus_stop_shelters.csv\")\n",
    "bus_stop_sheltetrs = gpd.GeoDataFrame(bus_stop_shelters, geometry=bus_stop_shelters['the_geom'], crs=WGS).to_crs(PROJ)\n",
    "bus_stop_shelters['latitude'] = bus_stop_shelters['latitude'].astype(float)\n",
    "bus_stop_shelters['longitude'] = bus_stop_shelters['longitude'].astype(float)\n",
    "\n",
    "# Bus stop installation date is not present, so filtering is out-of-scoped."
   ]
  },
  {
   "cell_type": "markdown",
   "metadata": {},
   "source": [
    "### Trash Cans / Waste Baskets "
   ]
  },
  {
   "cell_type": "code",
   "execution_count": null,
   "metadata": {},
   "outputs": [],
   "source": [
    "# load trash cans \n",
    "trash_cans = gpd.read_file(\"../data/DSNY Litter Basket Inventory_20240525.geojson\").to_crs(PROJ_CRS)\n",
    "trash_cans['longitude'] = trash_cans.geometry.centroid.to_crs('EPSG:4326').x\n",
    "trash_cans['latitude'] = trash_cans.geometry.centroid.to_crs('EPSG:4326').y\n",
    "\n",
    "# trash can installation date is not present, so filtering is out-of-scope"
   ]
  },
  {
   "cell_type": "markdown",
   "metadata": {},
   "source": [
    "### LinkNYC Kiosks "
   ]
  },
  {
   "cell_type": "code",
   "execution_count": null,
   "metadata": {},
   "outputs": [],
   "source": [
    "# load linknyc\n",
    "linknyc = gpd.read_file(\"../data/LinkNYC_Kiosk_Locations_20240525.csv\")\n",
    "linknyc = gpd.GeoDataFrame(linknyc, geometry=gpd.points_from_xy(linknyc['Longitude'], linknyc['Latitude']), crs='EPSG:4326').to_crs(PROJ_CRS)\n",
    "\n",
    "linknyc['Installation Complete'] = pd.to_datetime(linknyc['Installation Complete'])\n",
    "linknyc = linknyc[linknyc['Installation Complete'] <= CUTOFF]\n",
    "linknyc['Installation Complete'].describe()"
   ]
  },
  {
   "cell_type": "markdown",
   "metadata": {},
   "source": [
    "### Bicycle Parking Shelters "
   ]
  },
  {
   "cell_type": "code",
   "execution_count": null,
   "metadata": {},
   "outputs": [],
   "source": [
    "# load bicycle parking shelters \n",
    "bicycle_parking_shelters = gpd.read_file(\"../data/Bicycle Parking Shelters.geojson\").to_crs(PROJ_CRS)\n",
    "bicycle_parking_shelters['build_date'] = pd.to_datetime(bicycle_parking_shelters['build_date'])\n",
    "bicycle_parking_shelters = bicycle_parking_shelters[bicycle_parking_shelters['build_date'] <= CUTOFF]\n",
    "bicycle_parking_shelters['build_date'].describe()"
   ]
  },
  {
   "cell_type": "markdown",
   "metadata": {},
   "source": [
    "### Bicycle Racks "
   ]
  },
  {
   "cell_type": "code",
   "execution_count": null,
   "metadata": {},
   "outputs": [],
   "source": [
    "# load bicycle racks \n",
    "bicycle_racks = gpd.read_file(\"../data/Bicycle Parking.geojson\").to_crs(PROJ_CRS)\n",
    "bicycle_racks['date_inst'] = pd.to_datetime(bicycle_racks['date_inst'])\n",
    "bicycle_racks = bicycle_racks[bicycle_racks['date_inst'] <= CUTOFF]\n",
    "bicycle_racks['date_inst'].describe()"
   ]
  },
  {
   "cell_type": "markdown",
   "metadata": {},
   "source": [
    "### CityBench "
   ]
  },
  {
   "cell_type": "code",
   "execution_count": null,
   "metadata": {},
   "outputs": [],
   "source": [
    "# load citybench\n",
    "citybench = pd.read_csv(\"../data/City_Bench_Locations__Historical__20240525.csv\")\n",
    "citybench = gpd.GeoDataFrame(citybench, geometry=gpd.points_from_xy(citybench['Longitude'], citybench['Latitude']), crs='EPSG:4326').to_crs(PROJ_CRS)\n",
    "citybench['Installati'] = pd.to_datetime(citybench['Installati'])\n",
    "citybench = citybench[citybench['Installati'] <= CUTOFF]\n",
    "citybench['Installati'].describe()"
   ]
  },
  {
   "cell_type": "markdown",
   "metadata": {},
   "source": [
    "### Street Trees "
   ]
  },
  {
   "cell_type": "code",
   "execution_count": null,
   "metadata": {},
   "outputs": [],
   "source": [
    "# load trees \n",
    "trees = pd.read_csv(\"../data/Forestry_Tree_Points.csv\", engine='pyarrow')\n",
    "trees = gpd.GeoDataFrame(trees, geometry=wkt.loads(trees['Geometry']), crs='EPSG:4326').to_crs(PROJ_CRS)\n",
    "trees['CreatedDate'] = pd.to_datetime(trees['CreatedDate'])\n",
    "trees = trees[trees['CreatedDate'] <= CUTOFF]\n",
    "trees['CreatedDate'].describe()"
   ]
  },
  {
   "cell_type": "markdown",
   "metadata": {},
   "source": [
    "### News Stands "
   ]
  },
  {
   "cell_type": "code",
   "execution_count": null,
   "metadata": {},
   "outputs": [],
   "source": [
    "# load newsstands \n",
    "newsstands = pd.read_csv(\"../data/NewsStands.csv\", engine='pyarrow')\n",
    "newsstands = gpd.GeoDataFrame(newsstands, geometry=wkt.loads(newsstands['the_geom']), crs='EPSG:4326').to_crs(PROJ_CRS)\n",
    "newsstands['Built_Date'] = pd.to_datetime(newsstands['Built_Date'])\n",
    "newsstands = newsstands[newsstands['Built_Date'] <= CUTOFF]\n",
    "newsstands['Built_Date'].describe() "
   ]
  },
  {
   "cell_type": "markdown",
   "metadata": {},
   "source": [
    "### Parking Meters "
   ]
  },
  {
   "cell_type": "code",
   "execution_count": null,
   "metadata": {},
   "outputs": [],
   "source": [
    "# load parking meters \n",
    "parking_meters = pd.read_csv(\"../data/Parking_Meters_Locations_and_Status_20240604.csv\")\n",
    "parking_meters = gpd.GeoDataFrame(parking_meters, geometry=wkt.loads(parking_meters['Location']), crs='EPSG:4326').to_crs(PROJ_CRS)\n",
    "\n",
    "# parking meter installation date is not present, so filtering is out-of-scope"
   ]
  },
  {
   "cell_type": "markdown",
   "metadata": {},
   "source": [
    "### Fire Hydrants "
   ]
  },
  {
   "cell_type": "code",
   "execution_count": null,
   "metadata": {},
   "outputs": [],
   "source": [
    "# load hydrants \n",
    "hydrants = gpd.read_file(\"../data/NYCDEP Citywide Hydrants.geojson\").to_crs(PROJ_CRS) \n",
    "\n",
    "# hydrant installation date is not present, so filtering is out-of-scope"
   ]
  },
  {
   "cell_type": "markdown",
   "metadata": {},
   "source": [
    "### Street Signs "
   ]
  },
  {
   "cell_type": "code",
   "execution_count": null,
   "metadata": {},
   "outputs": [],
   "source": [
    "# load street signs \n",
    "street_signs = pd.read_csv(\"../data/Street_Sign_Work_Orders_20240721.csv\", engine='pyarrow')\n",
    "\n",
    "# only keep 'Current' record type \n",
    "street_signs = street_signs[street_signs['record_type'] == 'Current']\n",
    "street_signs['order_completed_on_date'] = pd.to_datetime(street_signs['order_completed_on_date'])\n",
    "street_signs = street_signs[street_signs['order_completed_on_date'] <= CUTOFF]\n",
    "street_signs = gpd.GeoDataFrame(street_signs, geometry=gpd.points_from_xy(street_signs['sign_x_coord'], street_signs['sign_y_coord']), crs='EPSG:2263')\n",
    "street_signs['order_completed_on_date'].describe()"
   ]
  },
  {
   "cell_type": "markdown",
   "metadata": {},
   "source": [
    "### Bollards "
   ]
  },
  {
   "cell_type": "code",
   "execution_count": null,
   "metadata": {},
   "outputs": [],
   "source": [
    "# load bollards \n",
    "bollards = pd.read_csv(\"../data/Traffic_Bollards_Tracking_and_Installations_20240721.csv\", engine='pyarrow')\n",
    "bollards['Date'] = pd.to_datetime(bollards['Date'])\n",
    "bollards = bollards[bollards['Date'] <= CUTOFF]\n",
    "bollards['Date'].describe()\n",
    "\n",
    "# we choose not to process bollards, as locations need to be geocoded. Latitude/Longitude is not present in the dataset."
   ]
  },
  {
   "cell_type": "markdown",
   "metadata": {},
   "source": [
    "## Spatial Joining of Street Furnitures to Sidewalk Graph "
   ]
  },
  {
   "cell_type": "code",
   "execution_count": null,
   "metadata": {},
   "outputs": [],
   "source": [
    "# sjoin nearest bus stops and trash cans to sidewalk\n",
    "len_before = len(sidewalk_nyc)\n",
    "bus_stop_shelters = gpd.sjoin(sidewalk_nyc, bus_stop_shelters, )\n",
    "logger.info(f\"Missing {len(bus_stop_shelters[bus_stop_shelters['index_right'].isna()])} bus stop shelters.\")"
   ]
  },
  {
   "cell_type": "code",
   "execution_count": null,
   "metadata": {},
   "outputs": [],
   "source": [
    "# sjoin nearest trash cans to sidewalk\n",
    "len_before = len(trash_cans)\n",
    "trash_cans = gpd.sjoin(sidewalk_nyc, trash_cans, )\n",
    "logger.info(f\"Removed {len_before - len(trash_cans)} trash cans that are not on sidewalks.\")"
   ]
  },
  {
   "cell_type": "code",
   "execution_count": null,
   "metadata": {},
   "outputs": [],
   "source": [
    "# sjoin nearest linknyc to sidewalk\n",
    "len_before = len(linknyc)\n",
    "linknyc = gpd.sjoin(sidewalk_nyc, linknyc, )\n",
    "logger.info(f\"LinkNYC: {len_before} -> {len(linknyc)}\")"
   ]
  },
  {
   "cell_type": "code",
   "execution_count": null,
   "metadata": {},
   "outputs": [],
   "source": [
    "# sjoin nearest citybench \n",
    "len_before = len(citybench)\n",
    "citybench = gpd.sjoin(sidewalk_nyc, citybench, )\n",
    "logger.info(f\"Citybench: {len_before} -> {len(citybench)}\")"
   ]
  },
  {
   "cell_type": "code",
   "execution_count": null,
   "metadata": {},
   "outputs": [],
   "source": [
    "# sjoint nearest bicycle parking shelters to sidewalk\n",
    "len_before = len(bicycle_parking_shelters)\n",
    "bicycle_parking_shelters = gpd.sjoin(sidewalk_nyc, bicycle_parking_shelters, )\n",
    "logger.info(f\"Bicycle Parking Shelters: {len_before} -> {len(bicycle_parking_shelters)}\")"
   ]
  },
  {
   "cell_type": "code",
   "execution_count": null,
   "metadata": {},
   "outputs": [],
   "source": [
    "\n",
    "# sjoin nearest bicycle racks to sidewalk\n",
    "len_before = len(bicycle_racks)\n",
    "bicycle_racks = gpd.sjoin(sidewalk_nyc, bicycle_racks, )\n",
    "logger.info(f\"Bicycle Racks: {len_before} -> {len(bicycle_racks)}\")"
   ]
  },
  {
   "cell_type": "code",
   "execution_count": null,
   "metadata": {},
   "outputs": [],
   "source": [
    "# sjoin nearest trees to sidewalk\n",
    "len_before = len(trees)\n",
    "trees = gpd.sjoin(sidewalk_nyc, trees, )\n",
    "logger.info(f\"Trees: {len_before} -> {len(trees)}\")"
   ]
  },
  {
   "cell_type": "code",
   "execution_count": null,
   "metadata": {},
   "outputs": [],
   "source": [
    "# sjoin nearest newsstands to sidewalk\n",
    "len_before = len(newsstands)\n",
    "newsstands = gpd.sjoin(sidewalk_nyc, newsstands, )\n",
    "logger.info(f\"Newsstands: {len_before} -> {len(newsstands)}\")"
   ]
  },
  {
   "cell_type": "code",
   "execution_count": null,
   "metadata": {},
   "outputs": [],
   "source": [
    "BUFFER=100 \n",
    "# buffer scaffolding_permits points, then sjoin to sidewalks\n",
    "scaffolding_permits.geometry = scaffolding_permits.geometry.buffer(BUFFER)\n",
    "scaffolding_permits = gpd.sjoin(sidewalk_nyc, scaffolding_permits, op='intersects')"
   ]
  },
  {
   "cell_type": "code",
   "execution_count": null,
   "metadata": {},
   "outputs": [],
   "source": [
    "# sjoin nearest parking meters to sidewalk\n",
    "len_before = len(parking_meters)\n",
    "parking_meters = gpd.sjoin(sidewalk_nyc, parking_meters, )\n",
    "logger.info(f\"Parking Meters: {len_before} -> {len(parking_meters)}\")"
   ]
  },
  {
   "cell_type": "code",
   "execution_count": null,
   "metadata": {},
   "outputs": [],
   "source": [
    "# sjoin nearest hydrants to sidewalk\n",
    "len_before = len(hydrants)\n",
    "hydrants = gpd.sjoin(sidewalk_nyc, hydrants, )\n",
    "logger.info(f\"Hydrants: {len_before} -> {len(hydrants)}\")"
   ]
  },
  {
   "cell_type": "code",
   "execution_count": null,
   "metadata": {},
   "outputs": [],
   "source": [
    "# sjoin nearest street signs to sidewalk\n",
    "len_before = len(street_signs)\n",
    "street_signs = gpd.sjoin(sidewalk_nyc, street_signs, )\n",
    "logger.info(f\"Street Signs: {len_before} -> {len(street_signs)}\")"
   ]
  },
  {
   "cell_type": "code",
   "execution_count": null,
   "metadata": {},
   "outputs": [],
   "source": [
    "\n",
    "# now, get number of bus stops, trash cans, linknyc, citybench, bicycle parking shelters, and bicycle racks per sidewalk\n",
    "bus_stop_counts = bus_stop_shelters.groupby('point_index').size().reset_index(name='bus_stop_count').fillna(0)\n",
    "trash_can_counts = trash_cans.groupby('point_index').size().reset_index(name='trash_can_count').fillna(0)\n",
    "linknyc_counts = linknyc.groupby('point_index').size().reset_index(name='linknyc_count').fillna(0)\n",
    "citybench_counts = citybench.groupby('point_index').size().reset_index(name='citybench_count').fillna(0)\n",
    "bicycle_parking_shelter_counts = bicycle_parking_shelters.groupby('point_index').size().reset_index(name='bicycle_parking_shelter_count').fillna(0)\n",
    "bicycle_rack_counts = bicycle_racks.groupby('point_index').size().reset_index(name='bicycle_rack_count').fillna(0)\n",
    "tree_counts = trees.groupby('point_index').size().reset_index(name='tree_count').fillna(0)\n",
    "newsstand_counts = newsstands.groupby('point_index').size().reset_index(name='newsstand_count').fillna(0)\n",
    "parking_meter_counts = parking_meters.groupby('point_index').size().reset_index(name='parking_meter_count').fillna(0)\n",
    "hydrant_counts = hydrants.groupby('point_index').size().reset_index(name='hydrant_count').fillna(0)\n",
    "street_sign_counts = street_signs.groupby('point_index').size().reset_index(name='street_sign_count').fillna(0)"
   ]
  },
  {
   "cell_type": "code",
   "execution_count": null,
   "metadata": {},
   "outputs": [],
   "source": [
    "\n",
    "# merge counts to sidewalk_nyc\n",
    "sidewalk_nyc = sidewalk_nyc.merge(bus_stop_counts, on='point_index', how='left')\n",
    "sidewalk_nyc = sidewalk_nyc.merge(trash_can_counts, on='point_index', how='left')\n",
    "sidewalk_nyc = sidewalk_nyc.merge(linknyc_counts, on='point_index', how='left')\n",
    "sidewalk_nyc = sidewalk_nyc.merge(citybench_counts, on='point_index', how='left')\n",
    "sidewalk_nyc = sidewalk_nyc.merge(bicycle_parking_shelter_counts, on='point_index', how='left')\n",
    "sidewalk_nyc = sidewalk_nyc.merge(bicycle_rack_counts, on='point_index', how='left')\n",
    "sidewalk_nyc = sidewalk_nyc.merge(tree_counts, on='point_index', how='left')\n",
    "sidewalk_nyc = sidewalk_nyc.merge(newsstand_counts, on='point_index', how='left')\n",
    "sidewalk_nyc = sidewalk_nyc.merge(parking_meter_counts, on='point_index', how='left')\n",
    "sidewalk_nyc = sidewalk_nyc.merge(hydrant_counts, on='point_index', how='left')\n",
    "sidewalk_nyc = sidewalk_nyc.merge(street_sign_counts, on='point_index', how='left')"
   ]
  },
  {
   "cell_type": "code",
   "execution_count": null,
   "metadata": {},
   "outputs": [],
   "source": [
    "\n",
    "sidewalk_nyc = sidewalk_nyc.fillna(0)"
   ]
  },
  {
   "cell_type": "code",
   "execution_count": null,
   "metadata": {},
   "outputs": [],
   "source": [
    "sidewalk_nyc.describe([0.01, 0.025, 0.05, 0.1, 0.25, 0.5, 0.75, 0.9, 0.95, 0.975, 0.99])"
   ]
  },
  {
   "cell_type": "code",
   "execution_count": null,
   "metadata": {},
   "outputs": [],
   "source": [
    "# naive weights based on predicted area of different clutters \n",
    "weights = { \n",
    "    'bus_stop_count': 2,\n",
    "    'trash_can_count': 0.5, \n",
    "    'linknyc_count': 2, \n",
    "    'citybench_count': 1.5,\n",
    "    'bicycle_parking_shelter_count': 2,\n",
    "    'bicycle_rack_count': 1.5,\n",
    "    'tree_count': .15,\n",
    "    'newsstand_count': 3, \n",
    "    'parking_meter_count': .15,\n",
    "    'scaffolding_permit_count': 2,\n",
    "    'hydrant_count': 0.25,\n",
    "    'street_sign_count': 0.05,\n",
    "}"
   ]
  },
  {
   "cell_type": "code",
   "execution_count": null,
   "metadata": {},
   "outputs": [],
   "source": [
    "\n",
    "# create a 'clutter' metric that is the sum of all street clutter features\n",
    "sidewalk_nyc['clutter'] = 0\n",
    "for feature, weight in weights.items():\n",
    "    sidewalk_nyc['clutter'] += sidewalk_nyc[feature] * weight\n",
    "\n",
    "sidewalk_nyc['clutter'].describe([0.01, 0.025, 0.05, 0.1, 0.25, 0.5, 0.75, 0.9, 0.95, 0.975, 0.99])"
   ]
  },
  {
   "cell_type": "code",
   "execution_count": null,
   "metadata": {},
   "outputs": [],
   "source": [
    "# Now, weighted clutter by sidewalk width \n",
    "sidewalk_nyc['clutter'] = sidewalk_nyc['clutter'] / sidewalk_nyc['shape_width']"
   ]
  },
  {
   "cell_type": "code",
   "execution_count": null,
   "metadata": {},
   "outputs": [],
   "source": [
    "# clamp distribution to 5th and 95th percentile\n",
    "sidewalk_nyc['clutter'] = sidewalk_nyc['clutter'].clip(lower=sidewalk_nyc['clutter'].quantile(0.01), upper=sidewalk_nyc['clutter'].quantile(0.99)"
   ]
  },
  {
   "cell_type": "code",
   "execution_count": null,
   "metadata": {},
   "outputs": [],
   "source": [
    "\n",
    "# final describe \n",
    "sidewalk_nyc['clutter'].describe([0.01, 0.025, 0.05, 0.1, 0.25, 0.5, 0.75, 0.9, 0.95, 0.975, 0.99])"
   ]
  },
  {
   "cell_type": "code",
   "execution_count": null,
   "metadata": {},
   "outputs": [],
   "source": [
    "# map sidewalk and color by clutter \n",
    "fig, ax = plt.subplots(figsize=(20, 20))\n",
    "sidewalk_nyc.plot(column='clutter', ax=ax, legend=True, cmap='cividis', markersize=0.25, legend_kwds={'label': \"Weighted Street Clutter\", 'orientation': 'horizontal', 'shrink': 0.5, 'pad': 0.01})\n",
    "ax.set_axis_off()\n",
    "\n",
    "plt.savefig(\"../figures/street_clutter.png\", dpi=300, bbox_inches='tight', pad_inches=0)"
   ]
  }
 ],
 "metadata": {
  "kernelspec": {
   "display_name": "Python 3",
   "language": "python",
   "name": "python3"
  },
  "language_info": {
   "codemirror_mode": {
    "name": "ipython",
    "version": 3
   },
   "file_extension": ".py",
   "mimetype": "text/x-python",
   "name": "python",
   "nbconvert_exporter": "python",
   "pygments_lexer": "ipython3",
   "version": "3.11.9"
  }
 },
 "nbformat": 4,
 "nbformat_minor": 2
}
