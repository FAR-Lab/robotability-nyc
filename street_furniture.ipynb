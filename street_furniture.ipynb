{
 "cells": [
  {
   "cell_type": "markdown",
   "metadata": {},
   "source": [
    "# FARLAB - The Robotability Score \n",
    "Developer: @mattwfranchi\n",
    "\n",
    "In this notebook, we load, preprocess, and aggregate different types of street furniture to come up with a 'street clutter' metric, at the per-sidewalk level.\n",
    "\n",
    "Project Members: Matt Franchi, Maria-Teresa Parreira, Frank Bu, Wendy Ju "
   ]
  },
  {
   "cell_type": "code",
   "execution_count": 1,
   "metadata": {},
   "outputs": [
    {
     "name": "stderr",
     "output_type": "stream",
     "text": [
      "\u001b[34m2024-08-16 16:02:45 - rs-street-furniture - INFO - Modules initialized.\u001b[0m\n"
     ]
    }
   ],
   "source": [
    "# class RobotabilityGraph that inherits from Graph class \n",
    "import os\n",
    "import sys \n",
    "sys.path.append(\"/share/ju/urban-fingerprinting\")\n",
    "\n",
    "import osmnx as ox \n",
    "import geopandas as gpd \n",
    "import pandas as pd \n",
    "import numpy as np \n",
    "\n",
    "import matplotlib.pyplot as plt \n",
    "# enable latex plotting \n",
    "plt.rc('text', usetex=True)\n",
    "plt.rc('font', family='serif')\n",
    "\n",
    "from glob import glob \n",
    "from tqdm import tqdm \n",
    "\n",
    "from shapely import wkt, LineString \n",
    "\n",
    "import rasterio\n",
    "from rasterio.enums import Resampling\n",
    "from rasterio.plot import show \n",
    "\n",
    "\n",
    "from src.utils.logger import setup_logger \n",
    "\n",
    "logger = setup_logger('rs-street-furniture')\n",
    "logger.setLevel(\"INFO\")\n",
    "logger.info(\"Modules initialized.\")\n",
    "\n",
    "WGS='EPSG:4326'\n",
    "PROJ='EPSG:2263'\n",
    "\n",
    "REGEN_SEGMENTIZATION=False\n",
    "REGEN_TOPOLOGY=True\n",
    "\n",
    "GEN_INSPECTION_PLOTS=True\n",
    "INSPECTION_PLOTS=\"figures/inspection_plots\"\n",
    "\n",
    "os.makedirs(INSPECTION_PLOTS, exist_ok=True)\n"
   ]
  },
  {
   "cell_type": "markdown",
   "metadata": {},
   "source": [
    "## Loading and Preprocessing Data Features "
   ]
  },
  {
   "cell_type": "markdown",
   "metadata": {},
   "source": [
    "### Sidewalk Basemap (NYC)"
   ]
  },
  {
   "cell_type": "code",
   "execution_count": 2,
   "metadata": {},
   "outputs": [],
   "source": [
    "# Load the NYC sidewalk basemap \n",
    "sidewalk_nyc = pd.read_csv(\"data/sidewalks_nyc.csv\")\n",
    "sidewalk_nyc = gpd.GeoDataFrame(sidewalk_nyc, geometry=wkt.loads(sidewalk_nyc['the_geom']), crs=WGS).to_crs(PROJ)"
   ]
  },
  {
   "cell_type": "code",
   "execution_count": 3,
   "metadata": {},
   "outputs": [
    {
     "name": "stderr",
     "output_type": "stream",
     "text": [
      "\u001b[34m2024-08-16 16:05:10 - rs-street-furniture - INFO - Segmentized sidewalk basemap loaded.\u001b[0m\n",
      "\u001b[32m2024-08-16 16:05:10 - rs-street-furniture - SUCCESS - NYC sidewalk basemap loaded.\u001b[0m\n",
      "\u001b[34m2024-08-16 16:05:10 - rs-street-furniture - INFO - Distribution of sidewalk widths [ft]: \n",
      "count    2.551208e+06\n",
      "mean     5.373540e+00\n",
      "std      1.480766e+00\n",
      "min      2.710948e-01\n",
      "25%      4.458703e+00\n",
      "50%      5.149090e+00\n",
      "75%      6.177234e+00\n",
      "max      4.021491e+01\n",
      "Name: SHAPE_Width, dtype: float64\u001b[0m\n"
     ]
    }
   ],
   "source": [
    "# Take out features we don't need, and add a width column \n",
    "TO_DROP = ['SUB_CODE', 'FEAT_CODE', 'STATUS', 'the_geom']\n",
    "sidewalk_nyc = sidewalk_nyc.drop(columns=TO_DROP)\n",
    "sidewalk_nyc['SHAPE_Width'] = sidewalk_nyc['SHAPE_Area'] / sidewalk_nyc['SHAPE_Leng']\n",
    "\n",
    "# Simplify \n",
    "sidewalk_nyc['geometry'] = sidewalk_nyc['geometry'].simplify(10)\n",
    "\n",
    "# write to disk \n",
    "if REGEN_SEGMENTIZATION:\n",
    "    # segmentize \n",
    "    segmentized = sidewalk_nyc.segmentize(50).extract_unique_points().explode(index_parts=True)\n",
    "\n",
    "    segmentized = gpd.GeoDataFrame(segmentized).reset_index() \n",
    "\n",
    "    segmentized = segmentized.merge(sidewalk_nyc,left_on='level_0',right_index=True).drop(columns=['level_0','level_1','geometry'])\n",
    "    segmentized['geometry'] = segmentized.iloc[:,0]\n",
    "    segmentized.drop(segmentized.columns[0],axis=1, inplace=True)\n",
    "    segmentized = gpd.GeoDataFrame(segmentized, crs=PROJ)\n",
    "\n",
    "    segmentized.to_file(\"data/sidewalks_nyc_segmentized.geojson\", driver='GeoJSON')\n",
    "    logger.success(\"Segmentized sidewalk basemap written to disk.\")\n",
    "\n",
    "else: \n",
    "    segmentized = gpd.read_file(\"data/sidewalks_nyc_segmentized.geojson\")\n",
    "    logger.info(\"Segmentized sidewalk basemap loaded.\")\n",
    "\n",
    "\n",
    "sidewalk_nyc = segmentized\n",
    "\n",
    "logger.success(\"NYC sidewalk basemap loaded.\")\n",
    "logger.info(f\"Distribution of sidewalk widths [ft]: \\n{sidewalk_nyc['SHAPE_Width'].describe()}\")"
   ]
  },
  {
   "cell_type": "code",
   "execution_count": 4,
   "metadata": {},
   "outputs": [],
   "source": [
    "# set first column to be named 'point index' \n",
    "sidewalk_nyc.columns = ['point_index'] + list(sidewalk_nyc.columns[1:])"
   ]
  },
  {
   "cell_type": "code",
   "execution_count": 5,
   "metadata": {},
   "outputs": [],
   "source": [
    "# the maximum distance to search for a nearby street segment. Since we segmentize by 50 feet, we can search within 25 feet\n",
    "MAX_DISTANCE=25\n",
    "\n",
    "CUTOFF= pd.to_datetime(\"2023-12-02\")\n"
   ]
  },
  {
   "cell_type": "code",
   "execution_count": 6,
   "metadata": {},
   "outputs": [],
   "source": [
    "\n",
    "# we buffer each point by 25 feet, creating a 50-diameter circle centered at the point. This captures nearby clutter. \n",
    "sidewalk_nyc['geometry'] = sidewalk_nyc['geometry'].buffer(MAX_DISTANCE)"
   ]
  },
  {
   "cell_type": "markdown",
   "metadata": {},
   "source": [
    "### Bus Stop Shelters "
   ]
  },
  {
   "cell_type": "code",
   "execution_count": 7,
   "metadata": {},
   "outputs": [],
   "source": [
    "# read bus stop shelters \n",
    "bus_stop_shelters = gpd.read_file(\"data/street_furniture/bus_stop_shelters_nyc.csv\")\n",
    "bus_stop_shelters = gpd.GeoDataFrame(bus_stop_shelters, geometry=wkt.loads(bus_stop_shelters['the_geom']), crs=WGS).to_crs(PROJ)\n",
    "\n",
    "# Bus stop installation date is not present, so filtering is out-of-scoped."
   ]
  },
  {
   "cell_type": "markdown",
   "metadata": {},
   "source": [
    "### Trash Cans / Waste Baskets "
   ]
  },
  {
   "cell_type": "code",
   "execution_count": 8,
   "metadata": {},
   "outputs": [],
   "source": [
    "# load trash cans \n",
    "trash_cans = pd.read_csv(\"data/street_furniture/dsny_litter_baskets_nyc.csv\")\n",
    "trash_cans = gpd.GeoDataFrame(trash_cans, geometry=wkt.loads(trash_cans['point']), crs=WGS).to_crs(PROJ)\n",
    "\n",
    "# trash can installation date is not present, so filtering is out-of-scope"
   ]
  },
  {
   "cell_type": "markdown",
   "metadata": {},
   "source": [
    "### LinkNYC Kiosks "
   ]
  },
  {
   "cell_type": "code",
   "execution_count": 9,
   "metadata": {},
   "outputs": [
    {
     "data": {
      "text/plain": [
       "count                             2137\n",
       "mean     2017-12-17 15:39:20.131024896\n",
       "min                1971-12-01 00:00:00\n",
       "25%                2016-11-12 00:00:00\n",
       "50%                2017-07-19 00:00:00\n",
       "75%                2018-02-17 00:00:00\n",
       "max                2023-11-30 00:00:00\n",
       "Name: Installation Complete, dtype: object"
      ]
     },
     "execution_count": 9,
     "metadata": {},
     "output_type": "execute_result"
    }
   ],
   "source": [
    "# load linknyc\n",
    "linknyc = pd.read_csv(\"data/street_furniture/LinkNYC_Kiosk_Locations_20240816.csv\")\n",
    "linknyc = gpd.GeoDataFrame(linknyc, geometry=gpd.points_from_xy(linknyc['Longitude'], linknyc['Latitude']), crs='EPSG:4326').to_crs(PROJ)\n",
    "\n",
    "linknyc['Installation Complete'] = pd.to_datetime(linknyc['Installation Complete'])\n",
    "linknyc = linknyc[linknyc['Installation Complete'] <= CUTOFF]\n",
    "linknyc['Installation Complete'].describe()"
   ]
  },
  {
   "cell_type": "markdown",
   "metadata": {},
   "source": [
    "### Bicycle Parking Shelters "
   ]
  },
  {
   "cell_type": "code",
   "execution_count": 10,
   "metadata": {},
   "outputs": [
    {
     "name": "stderr",
     "output_type": "stream",
     "text": [
      "/tmp/ipykernel_110378/602664558.py:4: UserWarning: Could not infer format, so each element will be parsed individually, falling back to `dateutil`. To ensure parsing is consistent and as-expected, please specify a format.\n",
      "  bicycle_parking_shelters['Build_date'] = pd.to_datetime(bicycle_parking_shelters['Build_date'])\n"
     ]
    },
    {
     "data": {
      "text/plain": [
       "count                               17\n",
       "mean     2008-07-26 18:21:10.588235264\n",
       "min                2007-12-17 00:00:00\n",
       "25%                2008-07-01 00:00:00\n",
       "50%                2008-09-12 00:00:00\n",
       "75%                2008-10-13 00:00:00\n",
       "max                2008-12-17 00:00:00\n",
       "Name: Build_date, dtype: object"
      ]
     },
     "execution_count": 10,
     "metadata": {},
     "output_type": "execute_result"
    }
   ],
   "source": [
    "# load bicycle parking shelters \n",
    "bicycle_parking_shelters = pd.read_csv(\"data/street_furniture/bicycle_parking_shelters_nyc.csv\")\n",
    "bicycle_parking_shelters = gpd.GeoDataFrame(bicycle_parking_shelters, geometry=wkt.loads(bicycle_parking_shelters['the_geom']), crs=WGS).to_crs(PROJ)\n",
    "bicycle_parking_shelters['Build_date'] = pd.to_datetime(bicycle_parking_shelters['Build_date'])\n",
    "bicycle_parking_shelters = bicycle_parking_shelters[bicycle_parking_shelters['Build_date'] <= CUTOFF]\n",
    "bicycle_parking_shelters['Build_date'].describe()"
   ]
  },
  {
   "cell_type": "markdown",
   "metadata": {},
   "source": [
    "### Bicycle Racks "
   ]
  },
  {
   "cell_type": "code",
   "execution_count": 11,
   "metadata": {},
   "outputs": [
    {
     "data": {
      "text/plain": [
       "count                            31585\n",
       "mean     2011-06-02 09:53:44.100047616\n",
       "min                1900-01-01 00:00:00\n",
       "25%                2010-06-14 00:00:00\n",
       "50%                2013-05-31 00:00:00\n",
       "75%                2017-03-02 00:00:00\n",
       "max                2023-05-02 00:00:00\n",
       "Name: Date_Inst, dtype: object"
      ]
     },
     "execution_count": 11,
     "metadata": {},
     "output_type": "execute_result"
    }
   ],
   "source": [
    "# load bicycle racks \n",
    "bicycle_racks = gpd.read_file(\"data/street_furniture/bicycle_racks_nyc/Bycycle_Parking_2023_07/Bicycle_Parking_2023_07.shp\").to_crs(PROJ)\n",
    "bicycle_racks['Date_Inst'] = pd.to_datetime(bicycle_racks['Date_Inst'])\n",
    "bicycle_racks = bicycle_racks[bicycle_racks['Date_Inst'] <= CUTOFF]\n",
    "bicycle_racks['Date_Inst'].describe()"
   ]
  },
  {
   "cell_type": "markdown",
   "metadata": {},
   "source": [
    "### CityBench "
   ]
  },
  {
   "cell_type": "code",
   "execution_count": 12,
   "metadata": {},
   "outputs": [
    {
     "data": {
      "text/plain": [
       "count                             2141\n",
       "mean     2015-04-09 03:36:34.301728256\n",
       "min                2012-04-01 00:00:00\n",
       "25%                2013-07-10 00:00:00\n",
       "50%                2014-11-18 00:00:00\n",
       "75%                2017-02-04 00:00:00\n",
       "max                2019-09-30 00:00:00\n",
       "Name: Installati, dtype: object"
      ]
     },
     "execution_count": 12,
     "metadata": {},
     "output_type": "execute_result"
    }
   ],
   "source": [
    "# load citybench\n",
    "citybench = pd.read_csv(\"data/street_furniture/citybench_nyc.csv\")\n",
    "citybench = gpd.GeoDataFrame(citybench, geometry=gpd.points_from_xy(citybench['Longitude'], citybench['Latitude']), crs='EPSG:4326').to_crs(PROJ)\n",
    "citybench['Installati'] = pd.to_datetime(citybench['Installati'])\n",
    "citybench = citybench[citybench['Installati'] <= CUTOFF]\n",
    "citybench['Installati'].describe()"
   ]
  },
  {
   "cell_type": "markdown",
   "metadata": {},
   "source": [
    "### Street Trees "
   ]
  },
  {
   "cell_type": "code",
   "execution_count": 13,
   "metadata": {},
   "outputs": [
    {
     "data": {
      "text/plain": [
       "count                           683788\n",
       "mean     2015-12-06 07:18:59.574254592\n",
       "min                2015-05-19 00:00:00\n",
       "25%                2015-08-29 00:00:00\n",
       "50%                2015-10-23 00:00:00\n",
       "75%                2016-02-06 00:00:00\n",
       "max                2016-10-05 00:00:00\n",
       "Name: created_at, dtype: object"
      ]
     },
     "execution_count": 13,
     "metadata": {},
     "output_type": "execute_result"
    }
   ],
   "source": [
    "# load trees \n",
    "trees = pd.read_csv(\"data/street_furniture/forestry_tree_points_nyc.csv\", engine='pyarrow')\n",
    "trees = gpd.GeoDataFrame(trees, geometry=gpd.points_from_xy(trees['longitude'], trees['latitude']), crs='EPSG:4326').to_crs(PROJ)\n",
    "trees['created_at'] = pd.to_datetime(trees['created_at'])\n",
    "trees = trees[trees['created_at'] <= CUTOFF]\n",
    "trees['created_at'].describe()"
   ]
  },
  {
   "cell_type": "markdown",
   "metadata": {},
   "source": [
    "### News Stands "
   ]
  },
  {
   "cell_type": "code",
   "execution_count": 14,
   "metadata": {},
   "outputs": [
    {
     "data": {
      "text/plain": [
       "count                              357\n",
       "mean     2011-09-04 23:31:45.882352896\n",
       "min                2007-09-03 00:00:00\n",
       "25%                2008-07-30 00:00:00\n",
       "50%                2010-11-08 00:00:00\n",
       "75%                2013-06-04 00:00:00\n",
       "max                2021-12-22 00:00:00\n",
       "Name: Built_Date, dtype: object"
      ]
     },
     "execution_count": 14,
     "metadata": {},
     "output_type": "execute_result"
    }
   ],
   "source": [
    "# load newsstands \n",
    "newsstands = pd.read_csv(\"data/street_furniture/newsstands_nyc.csv\", engine='pyarrow')\n",
    "newsstands = gpd.GeoDataFrame(newsstands, geometry=wkt.loads(newsstands['the_geom']), crs='EPSG:4326').to_crs(PROJ)\n",
    "newsstands['Built_Date'] = pd.to_datetime(newsstands['Built_Date'])\n",
    "newsstands = newsstands[newsstands['Built_Date'] <= CUTOFF]\n",
    "newsstands['Built_Date'].describe() "
   ]
  },
  {
   "cell_type": "markdown",
   "metadata": {},
   "source": [
    "### Parking Meters "
   ]
  },
  {
   "cell_type": "code",
   "execution_count": 15,
   "metadata": {},
   "outputs": [],
   "source": [
    "# load parking meters \n",
    "parking_meters = pd.read_csv(\"data/street_furniture/parking_meters_nyc.csv\")\n",
    "parking_meters = gpd.GeoDataFrame(parking_meters, geometry=wkt.loads(parking_meters['Location']), crs='EPSG:4326').to_crs(PROJ)\n",
    "\n",
    "# parking meter installation date is not present, so filtering is out-of-scope"
   ]
  },
  {
   "cell_type": "markdown",
   "metadata": {},
   "source": [
    "### Fire Hydrants "
   ]
  },
  {
   "cell_type": "code",
   "execution_count": 16,
   "metadata": {},
   "outputs": [],
   "source": [
    "# load hydrants \n",
    "hydrants = pd.read_csv(\"data/street_furniture/fire_hydrants_nyc.csv\")\n",
    "hydrants = gpd.GeoDataFrame(hydrants, geometry=wkt.loads(hydrants['the_geom']), crs='EPSG:4326').to_crs(PROJ)\n",
    "\n",
    "# hydrant installation date is not present, so filtering is out-of-scope"
   ]
  },
  {
   "cell_type": "markdown",
   "metadata": {},
   "source": [
    "### Street Signs "
   ]
  },
  {
   "cell_type": "code",
   "execution_count": 17,
   "metadata": {},
   "outputs": [
    {
     "data": {
      "text/plain": [
       "count                          1071145\n",
       "mean     2018-10-01 02:10:48.026551040\n",
       "min                1953-08-07 00:00:00\n",
       "25%                2017-08-23 00:00:00\n",
       "50%                2020-01-07 00:00:00\n",
       "75%                2021-07-15 00:00:00\n",
       "max                2023-12-02 00:00:00\n",
       "Name: order_completed_on_date, dtype: object"
      ]
     },
     "execution_count": 17,
     "metadata": {},
     "output_type": "execute_result"
    }
   ],
   "source": [
    "# load street signs \n",
    "street_signs = pd.read_csv(\"data/street_furniture/Street_Sign_Work_Orders_20240816.csv\", engine='pyarrow')\n",
    "\n",
    "# only keep 'Current' record type \n",
    "street_signs = street_signs[street_signs['record_type'] == 'Current']\n",
    "street_signs['order_completed_on_date'] = pd.to_datetime(street_signs['order_completed_on_date'])\n",
    "street_signs = street_signs[street_signs['order_completed_on_date'] <= CUTOFF]\n",
    "street_signs = gpd.GeoDataFrame(street_signs, geometry=gpd.points_from_xy(street_signs['sign_x_coord'], street_signs['sign_y_coord']), crs=PROJ)\n",
    "street_signs['order_completed_on_date'].describe()"
   ]
  },
  {
   "cell_type": "markdown",
   "metadata": {},
   "source": [
    "### Bollards "
   ]
  },
  {
   "cell_type": "code",
   "execution_count": 18,
   "metadata": {},
   "outputs": [
    {
     "data": {
      "text/plain": [
       "count                            54665\n",
       "mean     2016-05-17 19:10:59.939632384\n",
       "min                2005-01-10 00:00:00\n",
       "25%                2012-09-10 00:00:00\n",
       "50%                2017-07-12 00:00:00\n",
       "75%                2020-06-25 00:00:00\n",
       "max                2023-08-31 00:00:00\n",
       "Name: Date, dtype: object"
      ]
     },
     "execution_count": 18,
     "metadata": {},
     "output_type": "execute_result"
    }
   ],
   "source": [
    "# load bollards \n",
    "bollards = pd.read_csv(\"data/street_furniture/Traffic_Bollards_Tracking_and_Installations_20240816.csv\", engine='pyarrow')\n",
    "\n",
    "bollards['Date'] = pd.to_datetime(bollards['Date'])\n",
    "bollards = bollards[bollards['Date'] <= CUTOFF]\n",
    "bollards['Date'].describe()\n",
    "\n",
    "# we choose not to process bollards, as locations need to be geocoded. Latitude/Longitude is not present in the dataset."
   ]
  },
  {
   "cell_type": "markdown",
   "metadata": {},
   "source": [
    "### In-Service Fire Alarm Call Boxes "
   ]
  },
  {
   "cell_type": "code",
   "execution_count": 19,
   "metadata": {},
   "outputs": [],
   "source": [
    "alarm_call_boxes = pd.read_csv(\"data/street_furniture/In-Service_Alarm_Box_Locations_20240816.csv\")\n",
    "alarm_call_boxes = gpd.GeoDataFrame(alarm_call_boxes, geometry=wkt.loads(alarm_call_boxes['Location Point']), crs='EPSG:4326').to_crs(PROJ)"
   ]
  },
  {
   "cell_type": "markdown",
   "metadata": {},
   "source": [
    "## Spatial Joining of Street Furnitures to Sidewalk Graph "
   ]
  },
  {
   "cell_type": "code",
   "execution_count": 20,
   "metadata": {},
   "outputs": [
    {
     "name": "stderr",
     "output_type": "stream",
     "text": [
      "\u001b[34m2024-08-16 16:05:49 - rs-street-furniture - INFO - Missing 0 bus stop shelters.\u001b[0m\n"
     ]
    }
   ],
   "source": [
    "# sjoin nearest bus stops and trash cans to sidewalk\n",
    "len_before = len(sidewalk_nyc)\n",
    "bus_stop_shelters = gpd.sjoin(sidewalk_nyc, bus_stop_shelters, )\n",
    "logger.info(f\"Missing {len(bus_stop_shelters[bus_stop_shelters['index_right'].isna()])} bus stop shelters.\")"
   ]
  },
  {
   "cell_type": "code",
   "execution_count": 21,
   "metadata": {},
   "outputs": [
    {
     "name": "stderr",
     "output_type": "stream",
     "text": [
      "\u001b[34m2024-08-16 16:05:50 - rs-street-furniture - INFO - Removed 1512 trash cans that are not on sidewalks.\u001b[0m\n"
     ]
    }
   ],
   "source": [
    "# sjoin nearest trash cans to sidewalk\n",
    "len_before = len(trash_cans)\n",
    "trash_cans = gpd.sjoin(sidewalk_nyc, trash_cans, )\n",
    "logger.info(f\"Removed {len_before - len(trash_cans)} trash cans that are not on sidewalks.\")"
   ]
  },
  {
   "cell_type": "code",
   "execution_count": 22,
   "metadata": {},
   "outputs": [
    {
     "name": "stderr",
     "output_type": "stream",
     "text": [
      "\u001b[34m2024-08-16 16:05:50 - rs-street-furniture - INFO - LinkNYC: 2137 -> 4530\u001b[0m\n"
     ]
    }
   ],
   "source": [
    "# sjoin nearest linknyc to sidewalk\n",
    "len_before = len(linknyc)\n",
    "linknyc = gpd.sjoin(sidewalk_nyc, linknyc, )\n",
    "logger.info(f\"LinkNYC: {len_before} -> {len(linknyc)}\")"
   ]
  },
  {
   "cell_type": "code",
   "execution_count": 23,
   "metadata": {},
   "outputs": [
    {
     "name": "stderr",
     "output_type": "stream",
     "text": [
      "\u001b[34m2024-08-16 16:05:51 - rs-street-furniture - INFO - Citybench: 2141 -> 1336\u001b[0m\n"
     ]
    }
   ],
   "source": [
    "# sjoin nearest citybench \n",
    "len_before = len(citybench)\n",
    "citybench = gpd.sjoin(sidewalk_nyc, citybench, )\n",
    "logger.info(f\"Citybench: {len_before} -> {len(citybench)}\")"
   ]
  },
  {
   "cell_type": "code",
   "execution_count": 24,
   "metadata": {},
   "outputs": [
    {
     "name": "stderr",
     "output_type": "stream",
     "text": [
      "\u001b[34m2024-08-16 16:05:51 - rs-street-furniture - INFO - Bicycle Parking Shelters: 17 -> 35\u001b[0m\n"
     ]
    }
   ],
   "source": [
    "# sjoint nearest bicycle parking shelters to sidewalk\n",
    "len_before = len(bicycle_parking_shelters)\n",
    "bicycle_parking_shelters = gpd.sjoin(sidewalk_nyc, bicycle_parking_shelters, )\n",
    "logger.info(f\"Bicycle Parking Shelters: {len_before} -> {len(bicycle_parking_shelters)}\")"
   ]
  },
  {
   "cell_type": "code",
   "execution_count": 25,
   "metadata": {},
   "outputs": [
    {
     "name": "stderr",
     "output_type": "stream",
     "text": [
      "\u001b[34m2024-08-16 16:05:52 - rs-street-furniture - INFO - Bicycle Racks: 31585 -> 57734\u001b[0m\n"
     ]
    }
   ],
   "source": [
    "\n",
    "# sjoin nearest bicycle racks to sidewalk\n",
    "len_before = len(bicycle_racks)\n",
    "bicycle_racks = gpd.sjoin(sidewalk_nyc, bicycle_racks, )\n",
    "logger.info(f\"Bicycle Racks: {len_before} -> {len(bicycle_racks)}\")"
   ]
  },
  {
   "cell_type": "code",
   "execution_count": 26,
   "metadata": {},
   "outputs": [
    {
     "name": "stderr",
     "output_type": "stream",
     "text": [
      "\u001b[34m2024-08-16 16:05:56 - rs-street-furniture - INFO - Trees: 683788 -> 1369978\u001b[0m\n"
     ]
    }
   ],
   "source": [
    "# sjoin nearest trees to sidewalk\n",
    "len_before = len(trees)\n",
    "trees = gpd.sjoin(sidewalk_nyc, trees, )\n",
    "logger.info(f\"Trees: {len_before} -> {len(trees)}\")"
   ]
  },
  {
   "cell_type": "code",
   "execution_count": 27,
   "metadata": {},
   "outputs": [
    {
     "name": "stderr",
     "output_type": "stream",
     "text": [
      "\u001b[34m2024-08-16 16:05:56 - rs-street-furniture - INFO - Newsstands: 357 -> 537\u001b[0m\n"
     ]
    }
   ],
   "source": [
    "# sjoin nearest newsstands to sidewalk\n",
    "len_before = len(newsstands)\n",
    "newsstands = gpd.sjoin(sidewalk_nyc, newsstands, )\n",
    "logger.info(f\"Newsstands: {len_before} -> {len(newsstands)}\")"
   ]
  },
  {
   "cell_type": "code",
   "execution_count": 28,
   "metadata": {},
   "outputs": [
    {
     "name": "stderr",
     "output_type": "stream",
     "text": [
      "\u001b[34m2024-08-16 16:05:57 - rs-street-furniture - INFO - Parking Meters: 13336 -> 25911\u001b[0m\n"
     ]
    }
   ],
   "source": [
    "# sjoin nearest parking meters to sidewalk\n",
    "len_before = len(parking_meters)\n",
    "parking_meters = gpd.sjoin(sidewalk_nyc, parking_meters, )\n",
    "logger.info(f\"Parking Meters: {len_before} -> {len(parking_meters)}\")"
   ]
  },
  {
   "cell_type": "code",
   "execution_count": 29,
   "metadata": {},
   "outputs": [
    {
     "name": "stderr",
     "output_type": "stream",
     "text": [
      "\u001b[34m2024-08-16 16:05:58 - rs-street-furniture - INFO - Hydrants: 109410 -> 215766\u001b[0m\n"
     ]
    }
   ],
   "source": [
    "# sjoin nearest hydrants to sidewalk\n",
    "len_before = len(hydrants)\n",
    "hydrants = gpd.sjoin(sidewalk_nyc, hydrants, )\n",
    "logger.info(f\"Hydrants: {len_before} -> {len(hydrants)}\")"
   ]
  },
  {
   "cell_type": "code",
   "execution_count": 30,
   "metadata": {},
   "outputs": [
    {
     "name": "stderr",
     "output_type": "stream",
     "text": [
      "\u001b[34m2024-08-16 16:06:02 - rs-street-furniture - INFO - Street Signs: 1071145 -> 845326\u001b[0m\n"
     ]
    }
   ],
   "source": [
    "# sjoin nearest street signs to sidewalk\n",
    "len_before = len(street_signs)\n",
    "street_signs = gpd.sjoin(sidewalk_nyc, street_signs, )\n",
    "logger.info(f\"Street Signs: {len_before} -> {len(street_signs)}\")"
   ]
  },
  {
   "cell_type": "code",
   "execution_count": 31,
   "metadata": {},
   "outputs": [],
   "source": [
    "# sjoin nearest bollards to sidewalk\n",
    "#len_before = len(bollards)\n",
    "#bollards = gpd.sjoin(sidewalk_nyc, bollards )\n",
    "#logger.info(f\"Bollards: {len_before} -> {len(bollards)}\")\n"
   ]
  },
  {
   "cell_type": "code",
   "execution_count": 32,
   "metadata": {},
   "outputs": [
    {
     "name": "stderr",
     "output_type": "stream",
     "text": [
      "\u001b[34m2024-08-16 16:06:02 - rs-street-furniture - INFO - Alarm Call Boxes: 13008 -> 9746\u001b[0m\n"
     ]
    }
   ],
   "source": [
    "# sjoin nearest alarm call boxes to sidewalk\n",
    "len_before = len(alarm_call_boxes)\n",
    "alarm_call_boxes = gpd.sjoin(sidewalk_nyc, alarm_call_boxes, )\n",
    "logger.info(f\"Alarm Call Boxes: {len_before} -> {len(alarm_call_boxes)}\")"
   ]
  },
  {
   "cell_type": "code",
   "execution_count": 33,
   "metadata": {},
   "outputs": [],
   "source": [
    "\n",
    "# now, get number of bus stops, trash cans, linknyc, citybench, bicycle parking shelters, and bicycle racks per sidewalk\n",
    "bus_stop_counts = bus_stop_shelters.groupby('point_index').size().reset_index(name='bus_stop_count').fillna(0)\n",
    "trash_can_counts = trash_cans.groupby('point_index').size().reset_index(name='trash_can_count').fillna(0)\n",
    "linknyc_counts = linknyc.groupby('point_index').size().reset_index(name='linknyc_count').fillna(0)\n",
    "citybench_counts = citybench.groupby('point_index').size().reset_index(name='citybench_count').fillna(0)\n",
    "bicycle_parking_shelter_counts = bicycle_parking_shelters.groupby('point_index').size().reset_index(name='bicycle_parking_shelter_count').fillna(0)\n",
    "bicycle_rack_counts = bicycle_racks.groupby('point_index').size().reset_index(name='bicycle_rack_count').fillna(0)\n",
    "tree_counts = trees.groupby('point_index').size().reset_index(name='tree_count').fillna(0)\n",
    "newsstand_counts = newsstands.groupby('point_index').size().reset_index(name='newsstand_count').fillna(0)\n",
    "parking_meter_counts = parking_meters.groupby('point_index').size().reset_index(name='parking_meter_count').fillna(0)\n",
    "hydrant_counts = hydrants.groupby('point_index').size().reset_index(name='hydrant_count').fillna(0)\n",
    "street_sign_counts = street_signs.groupby('point_index').size().reset_index(name='street_sign_count').fillna(0)\n",
    "#bollard_counts = bollards.groupby('point_index').size().reset_index(name='bollard_count').fillna(0)\n",
    "alarm_call_box_counts = alarm_call_boxes.groupby('point_index').size().reset_index(name='alarm_call_box_count').fillna(0)"
   ]
  },
  {
   "cell_type": "code",
   "execution_count": 34,
   "metadata": {},
   "outputs": [],
   "source": [
    "\n",
    "# merge counts to sidewalk_nyc\n",
    "sidewalk_nyc = sidewalk_nyc.merge(bus_stop_counts, on='point_index', how='left')\n",
    "sidewalk_nyc = sidewalk_nyc.merge(trash_can_counts, on='point_index', how='left')\n",
    "sidewalk_nyc = sidewalk_nyc.merge(linknyc_counts, on='point_index', how='left')\n",
    "sidewalk_nyc = sidewalk_nyc.merge(citybench_counts, on='point_index', how='left')\n",
    "sidewalk_nyc = sidewalk_nyc.merge(bicycle_parking_shelter_counts, on='point_index', how='left')\n",
    "sidewalk_nyc = sidewalk_nyc.merge(bicycle_rack_counts, on='point_index', how='left')\n",
    "sidewalk_nyc = sidewalk_nyc.merge(tree_counts, on='point_index', how='left')\n",
    "sidewalk_nyc = sidewalk_nyc.merge(newsstand_counts, on='point_index', how='left')\n",
    "sidewalk_nyc = sidewalk_nyc.merge(parking_meter_counts, on='point_index', how='left')\n",
    "sidewalk_nyc = sidewalk_nyc.merge(hydrant_counts, on='point_index', how='left')\n",
    "sidewalk_nyc = sidewalk_nyc.merge(street_sign_counts, on='point_index', how='left')\n",
    "#sidewalk_nyc = sidewalk_nyc.merge(bollard_counts, on='point_index', how='left')\n",
    "sidewalk_nyc = sidewalk_nyc.merge(alarm_call_box_counts, on='point_index', how='left')"
   ]
  },
  {
   "cell_type": "code",
   "execution_count": 35,
   "metadata": {},
   "outputs": [],
   "source": [
    "\n",
    "sidewalk_nyc = sidewalk_nyc.fillna(0)"
   ]
  },
  {
   "cell_type": "code",
   "execution_count": 36,
   "metadata": {},
   "outputs": [
    {
     "data": {
      "text/html": [
       "<div>\n",
       "<style scoped>\n",
       "    .dataframe tbody tr th:only-of-type {\n",
       "        vertical-align: middle;\n",
       "    }\n",
       "\n",
       "    .dataframe tbody tr th {\n",
       "        vertical-align: top;\n",
       "    }\n",
       "\n",
       "    .dataframe thead th {\n",
       "        text-align: right;\n",
       "    }\n",
       "</style>\n",
       "<table border=\"1\" class=\"dataframe\">\n",
       "  <thead>\n",
       "    <tr style=\"text-align: right;\">\n",
       "      <th></th>\n",
       "      <th>point_index</th>\n",
       "      <th>SHAPE_Leng</th>\n",
       "      <th>SHAPE_Area</th>\n",
       "      <th>SHAPE_Width</th>\n",
       "      <th>bus_stop_count</th>\n",
       "      <th>trash_can_count</th>\n",
       "      <th>linknyc_count</th>\n",
       "      <th>citybench_count</th>\n",
       "      <th>bicycle_parking_shelter_count</th>\n",
       "      <th>bicycle_rack_count</th>\n",
       "      <th>tree_count</th>\n",
       "      <th>newsstand_count</th>\n",
       "      <th>parking_meter_count</th>\n",
       "      <th>hydrant_count</th>\n",
       "      <th>street_sign_count</th>\n",
       "      <th>alarm_call_box_count</th>\n",
       "    </tr>\n",
       "  </thead>\n",
       "  <tbody>\n",
       "    <tr>\n",
       "      <th>count</th>\n",
       "      <td>2.551208e+06</td>\n",
       "      <td>2.551208e+06</td>\n",
       "      <td>2.551208e+06</td>\n",
       "      <td>2.551208e+06</td>\n",
       "      <td>2.551208e+06</td>\n",
       "      <td>2.551208e+06</td>\n",
       "      <td>2.551208e+06</td>\n",
       "      <td>2.551208e+06</td>\n",
       "      <td>2.551208e+06</td>\n",
       "      <td>2.551208e+06</td>\n",
       "      <td>2.551208e+06</td>\n",
       "      <td>2.551208e+06</td>\n",
       "      <td>2.551208e+06</td>\n",
       "      <td>2.551208e+06</td>\n",
       "      <td>2.551208e+06</td>\n",
       "      <td>2.551208e+06</td>\n",
       "    </tr>\n",
       "    <tr>\n",
       "      <th>mean</th>\n",
       "      <td>1.331674e+10</td>\n",
       "      <td>5.353513e+03</td>\n",
       "      <td>3.053228e+04</td>\n",
       "      <td>5.373540e+00</td>\n",
       "      <td>3.014396e-01</td>\n",
       "      <td>1.105768e+00</td>\n",
       "      <td>6.056127e-01</td>\n",
       "      <td>3.657926e-01</td>\n",
       "      <td>9.144688e-04</td>\n",
       "      <td>2.744538e+00</td>\n",
       "      <td>5.211814e+01</td>\n",
       "      <td>7.574255e-02</td>\n",
       "      <td>8.160091e-01</td>\n",
       "      <td>9.924640e+00</td>\n",
       "      <td>1.049743e+02</td>\n",
       "      <td>2.773611e+00</td>\n",
       "    </tr>\n",
       "    <tr>\n",
       "      <th>std</th>\n",
       "      <td>5.368500e+09</td>\n",
       "      <td>1.268550e+04</td>\n",
       "      <td>8.059608e+04</td>\n",
       "      <td>1.480766e+00</td>\n",
       "      <td>1.198060e+00</td>\n",
       "      <td>4.992232e+00</td>\n",
       "      <td>6.194470e+00</td>\n",
       "      <td>4.152117e+00</td>\n",
       "      <td>4.281586e-02</td>\n",
       "      <td>1.423518e+01</td>\n",
       "      <td>1.305886e+02</td>\n",
       "      <td>8.013718e-01</td>\n",
       "      <td>2.195455e+00</td>\n",
       "      <td>4.154547e+01</td>\n",
       "      <td>1.033184e+03</td>\n",
       "      <td>3.139269e+01</td>\n",
       "    </tr>\n",
       "    <tr>\n",
       "      <th>min</th>\n",
       "      <td>0.000000e+00</td>\n",
       "      <td>1.388815e+01</td>\n",
       "      <td>1.018359e+01</td>\n",
       "      <td>2.710948e-01</td>\n",
       "      <td>0.000000e+00</td>\n",
       "      <td>0.000000e+00</td>\n",
       "      <td>0.000000e+00</td>\n",
       "      <td>0.000000e+00</td>\n",
       "      <td>0.000000e+00</td>\n",
       "      <td>0.000000e+00</td>\n",
       "      <td>0.000000e+00</td>\n",
       "      <td>0.000000e+00</td>\n",
       "      <td>0.000000e+00</td>\n",
       "      <td>0.000000e+00</td>\n",
       "      <td>0.000000e+00</td>\n",
       "      <td>0.000000e+00</td>\n",
       "    </tr>\n",
       "    <tr>\n",
       "      <th>1%</th>\n",
       "      <td>1.380000e+09</td>\n",
       "      <td>2.233946e+02</td>\n",
       "      <td>7.566271e+02</td>\n",
       "      <td>2.257815e+00</td>\n",
       "      <td>0.000000e+00</td>\n",
       "      <td>0.000000e+00</td>\n",
       "      <td>0.000000e+00</td>\n",
       "      <td>0.000000e+00</td>\n",
       "      <td>0.000000e+00</td>\n",
       "      <td>0.000000e+00</td>\n",
       "      <td>0.000000e+00</td>\n",
       "      <td>0.000000e+00</td>\n",
       "      <td>0.000000e+00</td>\n",
       "      <td>0.000000e+00</td>\n",
       "      <td>0.000000e+00</td>\n",
       "      <td>0.000000e+00</td>\n",
       "    </tr>\n",
       "    <tr>\n",
       "      <th>2.5%</th>\n",
       "      <td>1.380001e+09</td>\n",
       "      <td>4.735645e+02</td>\n",
       "      <td>1.814837e+03</td>\n",
       "      <td>2.724753e+00</td>\n",
       "      <td>0.000000e+00</td>\n",
       "      <td>0.000000e+00</td>\n",
       "      <td>0.000000e+00</td>\n",
       "      <td>0.000000e+00</td>\n",
       "      <td>0.000000e+00</td>\n",
       "      <td>0.000000e+00</td>\n",
       "      <td>0.000000e+00</td>\n",
       "      <td>0.000000e+00</td>\n",
       "      <td>0.000000e+00</td>\n",
       "      <td>0.000000e+00</td>\n",
       "      <td>0.000000e+00</td>\n",
       "      <td>0.000000e+00</td>\n",
       "    </tr>\n",
       "    <tr>\n",
       "      <th>5%</th>\n",
       "      <td>3.380000e+09</td>\n",
       "      <td>8.330682e+02</td>\n",
       "      <td>3.479187e+03</td>\n",
       "      <td>3.319015e+00</td>\n",
       "      <td>0.000000e+00</td>\n",
       "      <td>0.000000e+00</td>\n",
       "      <td>0.000000e+00</td>\n",
       "      <td>0.000000e+00</td>\n",
       "      <td>0.000000e+00</td>\n",
       "      <td>0.000000e+00</td>\n",
       "      <td>0.000000e+00</td>\n",
       "      <td>0.000000e+00</td>\n",
       "      <td>0.000000e+00</td>\n",
       "      <td>0.000000e+00</td>\n",
       "      <td>0.000000e+00</td>\n",
       "      <td>0.000000e+00</td>\n",
       "    </tr>\n",
       "    <tr>\n",
       "      <th>10%</th>\n",
       "      <td>5.380001e+09</td>\n",
       "      <td>1.453053e+03</td>\n",
       "      <td>6.537684e+03</td>\n",
       "      <td>3.818261e+00</td>\n",
       "      <td>0.000000e+00</td>\n",
       "      <td>0.000000e+00</td>\n",
       "      <td>0.000000e+00</td>\n",
       "      <td>0.000000e+00</td>\n",
       "      <td>0.000000e+00</td>\n",
       "      <td>0.000000e+00</td>\n",
       "      <td>0.000000e+00</td>\n",
       "      <td>0.000000e+00</td>\n",
       "      <td>0.000000e+00</td>\n",
       "      <td>0.000000e+00</td>\n",
       "      <td>0.000000e+00</td>\n",
       "      <td>0.000000e+00</td>\n",
       "    </tr>\n",
       "    <tr>\n",
       "      <th>25%</th>\n",
       "      <td>9.380001e+09</td>\n",
       "      <td>2.449058e+03</td>\n",
       "      <td>1.202621e+04</td>\n",
       "      <td>4.458703e+00</td>\n",
       "      <td>0.000000e+00</td>\n",
       "      <td>0.000000e+00</td>\n",
       "      <td>0.000000e+00</td>\n",
       "      <td>0.000000e+00</td>\n",
       "      <td>0.000000e+00</td>\n",
       "      <td>0.000000e+00</td>\n",
       "      <td>1.400000e+01</td>\n",
       "      <td>0.000000e+00</td>\n",
       "      <td>0.000000e+00</td>\n",
       "      <td>3.000000e+00</td>\n",
       "      <td>6.000000e+00</td>\n",
       "      <td>0.000000e+00</td>\n",
       "    </tr>\n",
       "    <tr>\n",
       "      <th>50%</th>\n",
       "      <td>1.438000e+10</td>\n",
       "      <td>3.306964e+03</td>\n",
       "      <td>1.699473e+04</td>\n",
       "      <td>5.149090e+00</td>\n",
       "      <td>0.000000e+00</td>\n",
       "      <td>0.000000e+00</td>\n",
       "      <td>0.000000e+00</td>\n",
       "      <td>0.000000e+00</td>\n",
       "      <td>0.000000e+00</td>\n",
       "      <td>0.000000e+00</td>\n",
       "      <td>3.700000e+01</td>\n",
       "      <td>0.000000e+00</td>\n",
       "      <td>0.000000e+00</td>\n",
       "      <td>6.000000e+00</td>\n",
       "      <td>1.900000e+01</td>\n",
       "      <td>0.000000e+00</td>\n",
       "    </tr>\n",
       "    <tr>\n",
       "      <th>75%</th>\n",
       "      <td>1.838000e+10</td>\n",
       "      <td>4.118132e+03</td>\n",
       "      <td>2.358696e+04</td>\n",
       "      <td>6.177234e+00</td>\n",
       "      <td>0.000000e+00</td>\n",
       "      <td>0.000000e+00</td>\n",
       "      <td>0.000000e+00</td>\n",
       "      <td>0.000000e+00</td>\n",
       "      <td>0.000000e+00</td>\n",
       "      <td>0.000000e+00</td>\n",
       "      <td>5.900000e+01</td>\n",
       "      <td>0.000000e+00</td>\n",
       "      <td>0.000000e+00</td>\n",
       "      <td>9.000000e+00</td>\n",
       "      <td>3.500000e+01</td>\n",
       "      <td>0.000000e+00</td>\n",
       "    </tr>\n",
       "    <tr>\n",
       "      <th>90%</th>\n",
       "      <td>1.938000e+10</td>\n",
       "      <td>6.786029e+03</td>\n",
       "      <td>3.970825e+04</td>\n",
       "      <td>7.230711e+00</td>\n",
       "      <td>0.000000e+00</td>\n",
       "      <td>3.000000e+00</td>\n",
       "      <td>0.000000e+00</td>\n",
       "      <td>0.000000e+00</td>\n",
       "      <td>0.000000e+00</td>\n",
       "      <td>6.000000e+00</td>\n",
       "      <td>8.300000e+01</td>\n",
       "      <td>0.000000e+00</td>\n",
       "      <td>3.000000e+00</td>\n",
       "      <td>1.300000e+01</td>\n",
       "      <td>5.300000e+01</td>\n",
       "      <td>1.000000e+00</td>\n",
       "    </tr>\n",
       "    <tr>\n",
       "      <th>95%</th>\n",
       "      <td>2.038000e+10</td>\n",
       "      <td>1.186969e+04</td>\n",
       "      <td>7.265095e+04</td>\n",
       "      <td>7.928344e+00</td>\n",
       "      <td>2.000000e+00</td>\n",
       "      <td>5.000000e+00</td>\n",
       "      <td>0.000000e+00</td>\n",
       "      <td>0.000000e+00</td>\n",
       "      <td>0.000000e+00</td>\n",
       "      <td>1.200000e+01</td>\n",
       "      <td>1.040000e+02</td>\n",
       "      <td>0.000000e+00</td>\n",
       "      <td>6.000000e+00</td>\n",
       "      <td>1.600000e+01</td>\n",
       "      <td>6.700000e+01</td>\n",
       "      <td>2.000000e+00</td>\n",
       "    </tr>\n",
       "    <tr>\n",
       "      <th>97.5%</th>\n",
       "      <td>2.038000e+10</td>\n",
       "      <td>2.331716e+04</td>\n",
       "      <td>1.577023e+05</td>\n",
       "      <td>8.536053e+00</td>\n",
       "      <td>3.000000e+00</td>\n",
       "      <td>7.000000e+00</td>\n",
       "      <td>2.000000e+00</td>\n",
       "      <td>1.000000e+00</td>\n",
       "      <td>0.000000e+00</td>\n",
       "      <td>1.800000e+01</td>\n",
       "      <td>1.460000e+02</td>\n",
       "      <td>0.000000e+00</td>\n",
       "      <td>8.000000e+00</td>\n",
       "      <td>2.000000e+01</td>\n",
       "      <td>8.500000e+01</td>\n",
       "      <td>3.000000e+00</td>\n",
       "    </tr>\n",
       "    <tr>\n",
       "      <th>99%</th>\n",
       "      <td>2.138000e+10</td>\n",
       "      <td>7.384319e+04</td>\n",
       "      <td>4.020508e+05</td>\n",
       "      <td>9.643663e+00</td>\n",
       "      <td>6.000000e+00</td>\n",
       "      <td>1.300000e+01</td>\n",
       "      <td>5.000000e+00</td>\n",
       "      <td>2.000000e+00</td>\n",
       "      <td>0.000000e+00</td>\n",
       "      <td>3.000000e+01</td>\n",
       "      <td>2.940000e+02</td>\n",
       "      <td>2.000000e+00</td>\n",
       "      <td>1.200000e+01</td>\n",
       "      <td>4.000000e+01</td>\n",
       "      <td>1.490000e+02</td>\n",
       "      <td>6.000000e+00</td>\n",
       "    </tr>\n",
       "    <tr>\n",
       "      <th>max</th>\n",
       "      <td>2.138005e+10</td>\n",
       "      <td>1.703262e+05</td>\n",
       "      <td>1.238858e+06</td>\n",
       "      <td>4.021491e+01</td>\n",
       "      <td>1.600000e+01</td>\n",
       "      <td>5.900000e+01</td>\n",
       "      <td>7.900000e+01</td>\n",
       "      <td>5.300000e+01</td>\n",
       "      <td>3.000000e+00</td>\n",
       "      <td>1.740000e+02</td>\n",
       "      <td>1.599000e+03</td>\n",
       "      <td>1.000000e+01</td>\n",
       "      <td>2.400000e+01</td>\n",
       "      <td>5.260000e+02</td>\n",
       "      <td>1.324600e+04</td>\n",
       "      <td>4.020000e+02</td>\n",
       "    </tr>\n",
       "  </tbody>\n",
       "</table>\n",
       "</div>"
      ],
      "text/plain": [
       "        point_index    SHAPE_Leng    SHAPE_Area   SHAPE_Width  bus_stop_count  \\\n",
       "count  2.551208e+06  2.551208e+06  2.551208e+06  2.551208e+06    2.551208e+06   \n",
       "mean   1.331674e+10  5.353513e+03  3.053228e+04  5.373540e+00    3.014396e-01   \n",
       "std    5.368500e+09  1.268550e+04  8.059608e+04  1.480766e+00    1.198060e+00   \n",
       "min    0.000000e+00  1.388815e+01  1.018359e+01  2.710948e-01    0.000000e+00   \n",
       "1%     1.380000e+09  2.233946e+02  7.566271e+02  2.257815e+00    0.000000e+00   \n",
       "2.5%   1.380001e+09  4.735645e+02  1.814837e+03  2.724753e+00    0.000000e+00   \n",
       "5%     3.380000e+09  8.330682e+02  3.479187e+03  3.319015e+00    0.000000e+00   \n",
       "10%    5.380001e+09  1.453053e+03  6.537684e+03  3.818261e+00    0.000000e+00   \n",
       "25%    9.380001e+09  2.449058e+03  1.202621e+04  4.458703e+00    0.000000e+00   \n",
       "50%    1.438000e+10  3.306964e+03  1.699473e+04  5.149090e+00    0.000000e+00   \n",
       "75%    1.838000e+10  4.118132e+03  2.358696e+04  6.177234e+00    0.000000e+00   \n",
       "90%    1.938000e+10  6.786029e+03  3.970825e+04  7.230711e+00    0.000000e+00   \n",
       "95%    2.038000e+10  1.186969e+04  7.265095e+04  7.928344e+00    2.000000e+00   \n",
       "97.5%  2.038000e+10  2.331716e+04  1.577023e+05  8.536053e+00    3.000000e+00   \n",
       "99%    2.138000e+10  7.384319e+04  4.020508e+05  9.643663e+00    6.000000e+00   \n",
       "max    2.138005e+10  1.703262e+05  1.238858e+06  4.021491e+01    1.600000e+01   \n",
       "\n",
       "       trash_can_count  linknyc_count  citybench_count  \\\n",
       "count     2.551208e+06   2.551208e+06     2.551208e+06   \n",
       "mean      1.105768e+00   6.056127e-01     3.657926e-01   \n",
       "std       4.992232e+00   6.194470e+00     4.152117e+00   \n",
       "min       0.000000e+00   0.000000e+00     0.000000e+00   \n",
       "1%        0.000000e+00   0.000000e+00     0.000000e+00   \n",
       "2.5%      0.000000e+00   0.000000e+00     0.000000e+00   \n",
       "5%        0.000000e+00   0.000000e+00     0.000000e+00   \n",
       "10%       0.000000e+00   0.000000e+00     0.000000e+00   \n",
       "25%       0.000000e+00   0.000000e+00     0.000000e+00   \n",
       "50%       0.000000e+00   0.000000e+00     0.000000e+00   \n",
       "75%       0.000000e+00   0.000000e+00     0.000000e+00   \n",
       "90%       3.000000e+00   0.000000e+00     0.000000e+00   \n",
       "95%       5.000000e+00   0.000000e+00     0.000000e+00   \n",
       "97.5%     7.000000e+00   2.000000e+00     1.000000e+00   \n",
       "99%       1.300000e+01   5.000000e+00     2.000000e+00   \n",
       "max       5.900000e+01   7.900000e+01     5.300000e+01   \n",
       "\n",
       "       bicycle_parking_shelter_count  bicycle_rack_count    tree_count  \\\n",
       "count                   2.551208e+06        2.551208e+06  2.551208e+06   \n",
       "mean                    9.144688e-04        2.744538e+00  5.211814e+01   \n",
       "std                     4.281586e-02        1.423518e+01  1.305886e+02   \n",
       "min                     0.000000e+00        0.000000e+00  0.000000e+00   \n",
       "1%                      0.000000e+00        0.000000e+00  0.000000e+00   \n",
       "2.5%                    0.000000e+00        0.000000e+00  0.000000e+00   \n",
       "5%                      0.000000e+00        0.000000e+00  0.000000e+00   \n",
       "10%                     0.000000e+00        0.000000e+00  0.000000e+00   \n",
       "25%                     0.000000e+00        0.000000e+00  1.400000e+01   \n",
       "50%                     0.000000e+00        0.000000e+00  3.700000e+01   \n",
       "75%                     0.000000e+00        0.000000e+00  5.900000e+01   \n",
       "90%                     0.000000e+00        6.000000e+00  8.300000e+01   \n",
       "95%                     0.000000e+00        1.200000e+01  1.040000e+02   \n",
       "97.5%                   0.000000e+00        1.800000e+01  1.460000e+02   \n",
       "99%                     0.000000e+00        3.000000e+01  2.940000e+02   \n",
       "max                     3.000000e+00        1.740000e+02  1.599000e+03   \n",
       "\n",
       "       newsstand_count  parking_meter_count  hydrant_count  street_sign_count  \\\n",
       "count     2.551208e+06         2.551208e+06   2.551208e+06       2.551208e+06   \n",
       "mean      7.574255e-02         8.160091e-01   9.924640e+00       1.049743e+02   \n",
       "std       8.013718e-01         2.195455e+00   4.154547e+01       1.033184e+03   \n",
       "min       0.000000e+00         0.000000e+00   0.000000e+00       0.000000e+00   \n",
       "1%        0.000000e+00         0.000000e+00   0.000000e+00       0.000000e+00   \n",
       "2.5%      0.000000e+00         0.000000e+00   0.000000e+00       0.000000e+00   \n",
       "5%        0.000000e+00         0.000000e+00   0.000000e+00       0.000000e+00   \n",
       "10%       0.000000e+00         0.000000e+00   0.000000e+00       0.000000e+00   \n",
       "25%       0.000000e+00         0.000000e+00   3.000000e+00       6.000000e+00   \n",
       "50%       0.000000e+00         0.000000e+00   6.000000e+00       1.900000e+01   \n",
       "75%       0.000000e+00         0.000000e+00   9.000000e+00       3.500000e+01   \n",
       "90%       0.000000e+00         3.000000e+00   1.300000e+01       5.300000e+01   \n",
       "95%       0.000000e+00         6.000000e+00   1.600000e+01       6.700000e+01   \n",
       "97.5%     0.000000e+00         8.000000e+00   2.000000e+01       8.500000e+01   \n",
       "99%       2.000000e+00         1.200000e+01   4.000000e+01       1.490000e+02   \n",
       "max       1.000000e+01         2.400000e+01   5.260000e+02       1.324600e+04   \n",
       "\n",
       "       alarm_call_box_count  \n",
       "count          2.551208e+06  \n",
       "mean           2.773611e+00  \n",
       "std            3.139269e+01  \n",
       "min            0.000000e+00  \n",
       "1%             0.000000e+00  \n",
       "2.5%           0.000000e+00  \n",
       "5%             0.000000e+00  \n",
       "10%            0.000000e+00  \n",
       "25%            0.000000e+00  \n",
       "50%            0.000000e+00  \n",
       "75%            0.000000e+00  \n",
       "90%            1.000000e+00  \n",
       "95%            2.000000e+00  \n",
       "97.5%          3.000000e+00  \n",
       "99%            6.000000e+00  \n",
       "max            4.020000e+02  "
      ]
     },
     "execution_count": 36,
     "metadata": {},
     "output_type": "execute_result"
    }
   ],
   "source": [
    "sidewalk_nyc.describe([0.01, 0.025, 0.05, 0.1, 0.25, 0.5, 0.75, 0.9, 0.95, 0.975, 0.99])"
   ]
  },
  {
   "cell_type": "code",
   "execution_count": 39,
   "metadata": {},
   "outputs": [],
   "source": [
    "# naive weights based on predicted area of different clutters \n",
    "weights = { \n",
    "    'bus_stop_count': 2,\n",
    "    'trash_can_count': 0.5, \n",
    "    'linknyc_count': 2, \n",
    "    'citybench_count': 1.5,\n",
    "    'bicycle_parking_shelter_count': 2,\n",
    "    'bicycle_rack_count': 1.5,\n",
    "    'tree_count': .15,\n",
    "    'newsstand_count': 3, \n",
    "    'parking_meter_count': .15,\n",
    "    #'scaffolding_permit_count': 2,\n",
    "    'hydrant_count': 0.25,\n",
    "    'street_sign_count': 0.05,\n",
    "    #'bollard_count': 0.05,\n",
    "    'alarm_call_box_count': .15\n",
    "}"
   ]
  },
  {
   "cell_type": "code",
   "execution_count": 40,
   "metadata": {},
   "outputs": [
    {
     "data": {
      "text/plain": [
       "count    2.551208e+06\n",
       "mean     2.334758e+01\n",
       "std      1.304914e+02\n",
       "min      0.000000e+00\n",
       "1%       0.000000e+00\n",
       "2.5%     0.000000e+00\n",
       "5%       1.000000e-01\n",
       "10%      1.000000e+00\n",
       "25%      5.250000e+00\n",
       "50%      1.015000e+01\n",
       "75%      1.640000e+01\n",
       "90%      2.835000e+01\n",
       "95%      3.905000e+01\n",
       "97.5%    5.260000e+01\n",
       "99%      8.415000e+01\n",
       "max      1.673750e+03\n",
       "Name: clutter, dtype: float64"
      ]
     },
     "execution_count": 40,
     "metadata": {},
     "output_type": "execute_result"
    }
   ],
   "source": [
    "\n",
    "# create a 'clutter' metric that is the sum of all street clutter features\n",
    "sidewalk_nyc['clutter'] = 0\n",
    "for feature, weight in weights.items():\n",
    "    sidewalk_nyc['clutter'] += sidewalk_nyc[feature] * weight\n",
    "\n",
    "sidewalk_nyc['clutter'].describe([0.01, 0.025, 0.05, 0.1, 0.25, 0.5, 0.75, 0.9, 0.95, 0.975, 0.99])"
   ]
  },
  {
   "cell_type": "code",
   "execution_count": 42,
   "metadata": {},
   "outputs": [],
   "source": [
    "# Now, weighted clutter by sidewalk width \n",
    "sidewalk_nyc['clutter'] = sidewalk_nyc['clutter'] / sidewalk_nyc['SHAPE_Width']"
   ]
  },
  {
   "cell_type": "code",
   "execution_count": 44,
   "metadata": {},
   "outputs": [],
   "source": [
    "# clamp distribution to 1st and 99th percentile\n",
    "sidewalk_nyc['clutter'] = sidewalk_nyc['clutter'].clip(lower=sidewalk_nyc['clutter'].quantile(0.01), upper=sidewalk_nyc['clutter'].quantile(0.99))"
   ]
  },
  {
   "cell_type": "code",
   "execution_count": 45,
   "metadata": {},
   "outputs": [
    {
     "data": {
      "text/plain": [
       "count    2.551208e+06\n",
       "mean     2.420764e+00\n",
       "std      2.248601e+00\n",
       "min      0.000000e+00\n",
       "1%       0.000000e+00\n",
       "2.5%     0.000000e+00\n",
       "5%       2.229207e-02\n",
       "10%      2.061203e-01\n",
       "25%      1.038298e+00\n",
       "50%      1.953818e+00\n",
       "75%      3.077379e+00\n",
       "90%      4.850562e+00\n",
       "95%      6.514560e+00\n",
       "97.5%    8.611576e+00\n",
       "99%      1.396967e+01\n",
       "max      1.396967e+01\n",
       "Name: clutter, dtype: float64"
      ]
     },
     "execution_count": 45,
     "metadata": {},
     "output_type": "execute_result"
    }
   ],
   "source": [
    "# final describe \n",
    "sidewalk_nyc['clutter'].describe([0.01, 0.025, 0.05, 0.1, 0.25, 0.5, 0.75, 0.9, 0.95, 0.975, 0.99])"
   ]
  },
  {
   "cell_type": "code",
   "execution_count": 47,
   "metadata": {},
   "outputs": [],
   "source": [
    "# map sidewalk and color by clutter \n",
    "fig, ax = plt.subplots(figsize=(20, 20))\n",
    "sidewalk_nyc.plot(column='clutter', ax=ax, legend=True, cmap='cividis', markersize=0.25, legend_kwds={'label': \"Weighted Street Clutter\", 'orientation': 'horizontal', 'shrink': 0.5, 'pad': 0.01})\n",
    "ax.set_axis_off()\n",
    "\n",
    "plt.savefig(\"figures/street_furniture_density.png\", dpi=300, bbox_inches='tight', pad_inches=0)\n",
    "plt.close()"
   ]
  },
  {
   "cell_type": "code",
   "execution_count": 48,
   "metadata": {},
   "outputs": [],
   "source": [
    "# write street furniture density to csv \n",
    "os.makedirs(\"data/processed\", exist_ok=True)\n",
    "sidewalk_nyc.to_csv(\"data/processed/street_furniture_density.csv\", index=False)"
   ]
  }
 ],
 "metadata": {
  "kernelspec": {
   "display_name": "Python 3",
   "language": "python",
   "name": "python3"
  },
  "language_info": {
   "codemirror_mode": {
    "name": "ipython",
    "version": 3
   },
   "file_extension": ".py",
   "mimetype": "text/x-python",
   "name": "python",
   "nbconvert_exporter": "python",
   "pygments_lexer": "ipython3",
   "version": "3.11.9"
  }
 },
 "nbformat": 4,
 "nbformat_minor": 2
}
