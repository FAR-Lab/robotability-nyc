{
 "cells": [
  {
   "cell_type": "code",
   "execution_count": 29,
   "metadata": {},
   "outputs": [],
   "source": [
    "import pandas as pd "
   ]
  },
  {
   "cell_type": "code",
   "execution_count": 30,
   "metadata": {},
   "outputs": [],
   "source": [
    "survey = pd.read_csv('survey_54.csv')"
   ]
  },
  {
   "cell_type": "code",
   "execution_count": 31,
   "metadata": {},
   "outputs": [
    {
     "data": {
      "text/plain": [
       "array(['StartDate', 'EndDate', 'Status', 'IPAddress', 'Progress',\n",
       "       'Duration (in seconds)', 'Finished', 'RecordedDate', 'ResponseId',\n",
       "       'RecipientLastName', 'RecipientFirstName', 'RecipientEmail',\n",
       "       'ExternalReference', 'LocationLatitude', 'LocationLongitude',\n",
       "       'DistributionChannel', 'UserLanguage', 'Q_RecaptchaScore',\n",
       "       'Instruction', 'Q5', 'Q5_5_TEXT', 'Q9', 'Q8', '1', '2', '3',\n",
       "       '303 ', '304', '305', '306', '307', '309', '310', '312', '313',\n",
       "       '314', '315', '317', '318', '320', '321', '322', '323', '331',\n",
       "       '333', '334', '335', '336', '338', '339 ', '340', '341', '346',\n",
       "       '347', '348', '349', '350', '351', '4', '5', '6', '7', '8', '9',\n",
       "       '11', '12', '13', '14', '15', '16', '17', '18', '20', '21', '23',\n",
       "       '24', '25', '26', '27', '28', '29', '30', '31', '32', '33', '34',\n",
       "       '36', '37', '38', '39', '40', '41', '42', '43', '45', '46', '48',\n",
       "       '49', '50', '51', '52', '53', '54', '55', '56', '57', '58', '60',\n",
       "       '61', '62', '63', '64', '65', '66', '67', '69', '70', '72', '73',\n",
       "       '74', '75', '76', '77', '78', '79', '80', '81', '83', '84', '85',\n",
       "       '86', '87', '88', '89', '90', '92', '93', '95', '96', '97', '98',\n",
       "       '99', '100', '101', '102', '103', '105', '106', '107', '108',\n",
       "       '109', '110', '111', '112', '114', '115', '117', '118', '119',\n",
       "       '120', '121', '122', '123', '124', '126', '127', '128', '129',\n",
       "       '130', '131', '132', '133', '135', '136', '138', '139', '140',\n",
       "       '141', '142', '143', '144', '146', '147', '148', '149', '150',\n",
       "       '151', '152', '153', '155', '156', '158', '159', '160', '161',\n",
       "       '162', '163', '165', '166', '167', '168', '169', '170', '171',\n",
       "       '172', '174', '175', '177', '178', '179', '180', '181', '183',\n",
       "       '184', '185', '186', '187', '188', '189', '190', '192', '193',\n",
       "       '195', '196', '197', '198', '200', '201', '202', '203 ', '204',\n",
       "       '205', '206', '207', '209', '210 ', '212', '213', '214', '215',\n",
       "       '232', '233', '234', '235', '236', '237', '238', '240', '241',\n",
       "       '243', '244', '245', '246', '247', '248', '249', '250', '251',\n",
       "       '252', '254', '255', '257', '258', '259', '260', '261', '262',\n",
       "       '263', '264', '265', '267', '268', '270 ', '271', '272', '273',\n",
       "       '274', '275', '276', '277', '279', '280', '282', '283', '284',\n",
       "       '285', '286', '287', '288', '290', '291', '293', '294', '295',\n",
       "       '296', '297', '298', '300', '301', 'Q732', 'Q733'], dtype=object)"
      ]
     },
     "execution_count": 31,
     "metadata": {},
     "output_type": "execute_result"
    }
   ],
   "source": [
    "survey.columns.values"
   ]
  },
  {
   "cell_type": "code",
   "execution_count": 32,
   "metadata": {},
   "outputs": [
    {
     "data": {
      "text/plain": [
       "Q5\n",
       "Robotics in Academia                                                            34\n",
       "Robotics in Industry                                                             8\n",
       "Urban Planning                                                                   3\n",
       "Accessibility                                                                    2\n",
       "Other                                                                            2\n",
       "{\"ImportId\":\"QID5\"}                                                              1\n",
       "Which option more closely describes your current position? - Selected Choice     1\n",
       "Name: count, dtype: int64"
      ]
     },
     "execution_count": 32,
     "metadata": {},
     "output_type": "execute_result"
    }
   ],
   "source": [
    "survey['Q5'].value_counts()"
   ]
  },
  {
   "cell_type": "code",
   "execution_count": 33,
   "metadata": {},
   "outputs": [
    {
     "name": "stdout",
     "output_type": "stream",
     "text": [
      "49\n"
     ]
    },
    {
     "data": {
      "text/plain": [
       "Q5\n",
       "academia          34\n",
       "industry           8\n",
       "urban_planning     3\n",
       "accessibility      2\n",
       "other              2\n",
       "Name: count, dtype: int64"
      ]
     },
     "execution_count": 33,
     "metadata": {},
     "output_type": "execute_result"
    }
   ],
   "source": [
    "valid_options = ['Robotics in Academia', 'Robotics in Industry', 'Urban Planning', 'Accessibility', 'Other']\n",
    "\n",
    "survey = survey[survey['Q5'].isin(valid_options)]\n",
    "print(len(survey))\n",
    "\n",
    "mapping = {\n",
    "    'Robotics in Academia': 'academia', \n",
    "    'Robotics in Industry': 'industry',\n",
    "    'Urban Planning': 'urban_planning',\n",
    "    'Accessibility': 'accessibility',\n",
    "    'Other': 'other'\n",
    "}\n",
    "\n",
    "survey['Q5'] = survey['Q5'].map(mapping)\n",
    "survey['Q5'].value_counts()\n",
    "\n",
    "\n"
   ]
  },
  {
   "cell_type": "code",
   "execution_count": 35,
   "metadata": {},
   "outputs": [],
   "source": [
    "# write the splits to csv based on q5 \n",
    "for option in survey['Q5'].unique():\n",
    "    split = survey[survey['Q5'] == option]\n",
    "    split.to_csv(f'survey_{option}.csv', index=False)\n",
    "\n",
    "# also, write a 'all other' csv that includes other, urban planning, and accessibility\n",
    "other = survey[survey['Q5'].isin(['other', 'urban_planning', 'accessibility'])]\n",
    "other.to_csv('survey_other+.csv', index=False)"
   ]
  },
  {
   "cell_type": "code",
   "execution_count": null,
   "metadata": {},
   "outputs": [],
   "source": []
  }
 ],
 "metadata": {
  "kernelspec": {
   "display_name": "Python 3",
   "language": "python",
   "name": "python3"
  },
  "language_info": {
   "codemirror_mode": {
    "name": "ipython",
    "version": 3
   },
   "file_extension": ".py",
   "mimetype": "text/x-python",
   "name": "python",
   "nbconvert_exporter": "python",
   "pygments_lexer": "ipython3",
   "version": "3.11.9"
  }
 },
 "nbformat": 4,
 "nbformat_minor": 2
}
